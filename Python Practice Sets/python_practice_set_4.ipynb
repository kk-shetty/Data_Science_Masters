{
 "cells": [
  {
   "cell_type": "code",
   "execution_count": 10,
   "metadata": {},
   "outputs": [],
   "source": [
    "''' Q1. \n",
    "Create a class called \"Person\" with properties for \"name\", \"age\", and \"gender\". Create an object of thisclass and print out its properties.\n",
    "'''\n",
    "\n",
    "class person:\n",
    "    def __init__(self, name, age, gender):\n",
    "        self.name = name\n",
    "        self.age = age\n",
    "        self.gender = gender\n",
    "    \n",
    "    def personal_details(self):\n",
    "        print(f\"Name: {self.name}\\nAge: {self.age}\\nGender : {self.gender}\")"
   ]
  },
  {
   "cell_type": "code",
   "execution_count": 11,
   "metadata": {},
   "outputs": [
    {
     "name": "stdout",
     "output_type": "stream",
     "text": [
      "Name: Ranjan\n",
      "Age: 30\n",
      "Gender : Male\n"
     ]
    }
   ],
   "source": [
    "ranjan = person('Ranjan', 30, 'Male')\n",
    "ranjan.personal_details()"
   ]
  },
  {
   "cell_type": "code",
   "execution_count": 13,
   "metadata": {},
   "outputs": [],
   "source": [
    "''' Q2.\n",
    "Write a Python class called \"Rectangle\" with attributes for \"width\" and \"height\". \n",
    "Implement methods to calculate the area and perimeter of the rectangle. \n",
    "Create an instance of this class and use it to print out the rectangle's area and perimeter.\n",
    "'''\n",
    "\n",
    "class rectangle:\n",
    "\n",
    "    def __init__(self, width, height):\n",
    "        self.width = width\n",
    "        self.height = height\n",
    "    \n",
    "    def area(self):\n",
    "        return self.width * self.height\n",
    "    \n",
    "    def perimeter(self):\n",
    "        return 2 * (self.width + self.height)"
   ]
  },
  {
   "cell_type": "code",
   "execution_count": 15,
   "metadata": {},
   "outputs": [
    {
     "name": "stdout",
     "output_type": "stream",
     "text": [
      "Area: 1200\n",
      "Perimeter: 140\n"
     ]
    }
   ],
   "source": [
    "box1 = rectangle(40, 30)\n",
    "print(f\"Area: {box1.area()}\")\n",
    "print(f\"Perimeter: {box1.perimeter()}\")"
   ]
  },
  {
   "cell_type": "code",
   "execution_count": 25,
   "metadata": {},
   "outputs": [],
   "source": [
    "''' Q3.\n",
    "Write a Python class called \"BankAccount\" with attributes for \"balance\" and \"interest_rate\".\n",
    "Implement methods to deposit and withdraw money from the account, as well as to calculate the interest earned on the balance based on the interest rate.\n",
    "Create an instance of this class and use it to test out the implemented methods for deposit, withdrawal, and interest calculation.\n",
    "'''\n",
    "\n",
    "class bank_account:\n",
    "\n",
    "    def __init__(self, balance, interest_rate):\n",
    "        self.__balance = balance\n",
    "        self.__interest_rate = interest_rate\n",
    "    \n",
    "    def deposit(self, amount):\n",
    "        self.__balance += amount\n",
    "        print(f\"Amount deposited sucessfully.\")\n",
    "    \n",
    "    def withdraw(self, amount):\n",
    "        if self.__balance < amount:\n",
    "            print(\"Insufficient balance!\")\n",
    "        else:\n",
    "            self.__balance -= amount\n",
    "            print(\"Amount withdrawn succesfully.\")\n",
    "    \n",
    "    def __interest(self):\n",
    "        return self.__balance * (self.__interest_rate / 100)\n",
    "    \n",
    "    # Only balance method can be accessed directly apart from statement\n",
    "    def balance(self):\n",
    "        return self.__balance\n",
    "    \n",
    "    def statement(self):\n",
    "        print(\"____________________________\")\n",
    "        print(f\"Balance: {self.balance()}\")\n",
    "        print(f\"RoI (%): {self.__interest_rate}\")\n",
    "        print(f\"Interest Earned: {self.__interest()}\")\n",
    "        print(\"____________________________\")"
   ]
  },
  {
   "cell_type": "code",
   "execution_count": 26,
   "metadata": {},
   "outputs": [
    {
     "name": "stdout",
     "output_type": "stream",
     "text": [
      "Amount deposited sucessfully.\n",
      "Insufficient balance!\n",
      "Amount deposited sucessfully.\n",
      "Current Balance: 60000\n",
      "Amount withdrawn succesfully.\n",
      "____________________________\n",
      "Balance: 10000\n",
      "RoI (%): 3.9\n",
      "Interest Earned: 390.0\n",
      "____________________________\n"
     ]
    }
   ],
   "source": [
    "account_1 = bank_account(20000, 3.9)\n",
    "account_1.deposit(10000)\n",
    "account_1.withdraw(50000)\n",
    "account_1.deposit(30000)\n",
    "print(f\"Current Balance: {account_1.balance()}\")\n",
    "account_1.withdraw(50000)\n",
    "account_1.statement()"
   ]
  },
  {
   "cell_type": "code",
   "execution_count": 39,
   "metadata": {},
   "outputs": [],
   "source": [
    "''' Q4.\n",
    "Write a Python class called \"Animal\" with attributes for \"name\" and \"species\". \n",
    "Create a subclass of \"Animal\" called \"Dog\" with additional attributes for \"breed\" and \"owner\". \n",
    "Implement both classes with appropriate methods and constructors to initialise their properties. \n",
    "Create instances of both classes and use them to print out the various properties of the animals and dogs, such as their names, species, breeds, and owners.\n",
    "'''\n",
    "\n",
    "class Animal:\n",
    "\n",
    "    def __init__(self, name, species):\n",
    "        self.name = name\n",
    "        self.species = species\n",
    "    \n",
    "    def info(self):\n",
    "        print(\"\\n-------- ANIMAL --------\")\n",
    "        print(f\"Name: {self.name}\")\n",
    "        print(f\"Species: {self.species}\")\n",
    "        print(\"------------------------\")\n",
    "    \n",
    "    def which_species(self):\n",
    "        return self.species\n",
    "\n",
    "class Dog(Animal):\n",
    "\n",
    "    def __init__(self, name,  breed, owner):\n",
    "        super().__init__(name, 'dog')\n",
    "        self.breed = breed\n",
    "        self.owner = owner\n",
    "    \n",
    "    def info(self):\n",
    "        # return super().info()\n",
    "        print(\"\\n---------- DOG ---------\")\n",
    "        print(f\"Name: {self.name}\")\n",
    "        print(f\"Species: {self.species}\")\n",
    "        print(f\"Breed: {self.breed}\")\n",
    "        print(f\"Owner: {self.owner}\")\n",
    "        print(\"------------------------\")"
   ]
  },
  {
   "cell_type": "code",
   "execution_count": 40,
   "metadata": {},
   "outputs": [
    {
     "name": "stdout",
     "output_type": "stream",
     "text": [
      "Spicies of Danny: horse\n",
      "Spicies of Rocky: dog\n",
      "\n",
      "-------- ANIMAL --------\n",
      "Name: Danny\n",
      "Species: horse\n",
      "------------------------\n",
      "\n",
      "---------- DOG ---------\n",
      "Name: Rocky\n",
      "Species: dog\n",
      "Breed: Labrador\n",
      "Owner: Karthik\n",
      "------------------------\n"
     ]
    }
   ],
   "source": [
    "danny = Animal('Danny', 'horse')\n",
    "rocky = Dog('Rocky', 'Labrador', 'Karthik')\n",
    "\n",
    "print(f\"Spicies of {danny.name}: {danny.which_species()}\")\n",
    "print(f\"Spicies of {rocky.name}: {rocky.which_species()}\")\n",
    "\n",
    "danny.info()\n",
    "rocky.info()"
   ]
  },
  {
   "cell_type": "code",
   "execution_count": 42,
   "metadata": {},
   "outputs": [],
   "source": [
    "''' Q5.\n",
    "Create a class called \"Car\" with properties for \"make\", \"model\", and \"year\". \n",
    "Create a subclass of \"Car\" called \"ElectricCar\" with additional properties for \"battery_size\" and \"range\". \n",
    "Create objects of both classes and print out their properties.\n",
    "'''\n",
    "\n",
    "class Car:\n",
    "\n",
    "    def __init__ (self, make, model, year):\n",
    "        self.make = make\n",
    "        self.model = model\n",
    "        self.year = year\n",
    "\n",
    "    def info(self):\n",
    "        print('\\n-----------------------')\n",
    "        print(f\"Make: {self.make}\")\n",
    "        print(f\"Model: {self.model}\")\n",
    "        print(f\"Year: {self.year}\")\n",
    "        \n",
    "\n",
    "class ElectricCar(Car):\n",
    "\n",
    "    def __init__(self, make, model, year, battery_size, range):\n",
    "        super().__init__(make, model, year)\n",
    "        self.battery_size = battery_size\n",
    "        self.range = range\n",
    "    \n",
    "    def info(self):\n",
    "        super().info()\n",
    "        print(f\"Battery Size: {self.battery_size}\")\n",
    "        print(f\"Range: {self.range} KM\")\n"
   ]
  },
  {
   "cell_type": "code",
   "execution_count": 44,
   "metadata": {},
   "outputs": [
    {
     "name": "stdout",
     "output_type": "stream",
     "text": [
      "\n",
      "-----------------------\n",
      "Make: Tata\n",
      "Model: Altroz\n",
      "Year: 2020\n",
      "\n",
      "-----------------------\n",
      "Make: Tata\n",
      "Model: Nexon EV\n",
      "Year: 2023\n",
      "Battery Size: 10kW\n",
      "Range: 300 KM\n"
     ]
    }
   ],
   "source": [
    "altroz = Car('Tata', 'Altroz', 2020)\n",
    "nexonev = ElectricCar('Tata', 'Nexon EV', 2023, '10kW', 300)\n",
    "\n",
    "altroz.info()\n",
    "nexonev.info()"
   ]
  },
  {
   "cell_type": "code",
   "execution_count": 49,
   "metadata": {},
   "outputs": [],
   "source": [
    "''' Q6.\n",
    "Create a class called \"Student\" with properties for \"name\" and \"id\". \n",
    "Create a subclass of \"Student\" called \"GraduateStudent\" with additional properties for \"advisor\" and \"research_area\". \n",
    "Create objects of both classes and print out their properties.\n",
    "'''\n",
    "\n",
    "class Student:\n",
    "\n",
    "    def __init__ (self, name, id):\n",
    "        self.name = name\n",
    "        self.id = id\n",
    "\n",
    "    def info(self):\n",
    "        print('\\n-----------------------')\n",
    "        print(f\"Name: {self.name}\")\n",
    "        print(f\"ID: {self.id}\")\n",
    "        \n",
    "\n",
    "class GraduateStudent(Student):\n",
    "\n",
    "    def __init__(self, name, id, advisor, research_area):\n",
    "        super().__init__(name, id)\n",
    "        self.advisor = advisor\n",
    "        self.research_area = research_area\n",
    "    \n",
    "    def info(self):\n",
    "        super().info()\n",
    "        print(f\"Advisor: {self.advisor}\")\n",
    "        print(f\"Research Area: {self.research_area}\")"
   ]
  },
  {
   "cell_type": "code",
   "execution_count": 50,
   "metadata": {},
   "outputs": [
    {
     "name": "stdout",
     "output_type": "stream",
     "text": [
      "\n",
      "-----------------------\n",
      "Name: Rakesh\n",
      "ID: 001\n",
      "\n",
      "-----------------------\n",
      "Name: Vimal\n",
      "ID: 002\n",
      "Advisor: Prof. Raj\n",
      "Research Area: Data Science\n"
     ]
    }
   ],
   "source": [
    "sid_001 = Student('Rakesh', '001')\n",
    "sid_002 = GraduateStudent('Vimal', '002', 'Prof. Raj', 'Data Science')\n",
    "\n",
    "sid_001.info()\n",
    "sid_002.info()"
   ]
  },
  {
   "cell_type": "code",
   "execution_count": 5,
   "metadata": {},
   "outputs": [],
   "source": [
    "''' Q7.\n",
    "Create a class called \"Shape\" with methods to calculate the area and perimeter of the shape. \n",
    "Create subclasses of \"Shape\" for \"Rectangle\", \"Circle\", and \"Triangle\" with their own methods for calculating area and perimeter. \n",
    "Create objects of each class and print out their area and perimeter.\n",
    "'''\n",
    "import math\n",
    "\n",
    "class Shape:\n",
    "\n",
    "    def __init__(self):\n",
    "        pass\n",
    "\n",
    "    def shape():\n",
    "        pass\n",
    "\n",
    "class Rectangle(Shape):\n",
    "\n",
    "    def __init__(self, width, height):\n",
    "        self.width = width\n",
    "        self.height = height\n",
    "    \n",
    "    def area(self):\n",
    "        return self.width * self.height\n",
    "    \n",
    "    def perieter(self):\n",
    "        return 2 * (self.width + self.height)\n",
    "\n",
    "class Circle(Shape):\n",
    "\n",
    "    def __init__(self, radius):\n",
    "        self.radius = radius\n",
    "    \n",
    "    def area(self):\n",
    "        return math.pi * (self.radius ** 2)\n",
    "    \n",
    "    def perieter(self):\n",
    "        return 2 * math.pi * self.radius\n",
    "\n",
    "\n",
    "class Triangle(Shape):\n",
    "\n",
    "    def __init__(self, base, height, side_left, side_right):\n",
    "        self.base = base\n",
    "        self.height = height\n",
    "        self.side_left = side_left\n",
    "        self.side_right = side_right\n",
    "    \n",
    "    def area(self):\n",
    "        return (self.base * self.height) / 2\n",
    "    \n",
    "    def perieter(self):\n",
    "        return self.base + self.side_left + self.side_right\n"
   ]
  },
  {
   "cell_type": "code",
   "execution_count": 6,
   "metadata": {},
   "outputs": [
    {
     "name": "stdout",
     "output_type": "stream",
     "text": [
      "Rectangle\n",
      "Area: 40 ^2cm, Permiter : 28 cm\n",
      "Circle\n",
      "Area: 314.1592653589793 ^2cm, Permiter : 62.83185307179586 cm\n",
      "Triangle\n",
      "Area: 62.400000000000006 ^2cm, Permiter : 36 cm\n"
     ]
    }
   ],
   "source": [
    "shape1 = Rectangle(10, 4)\n",
    "shape2 = Circle(10)\n",
    "shape3 = Triangle(12, 10.4, 12, 12)\n",
    "\n",
    "print('Rectangle')\n",
    "print(f'Area: {shape1.area()} ^2cm, Permiter : {shape1.perieter()} cm')\n",
    "print('Circle')\n",
    "print(f'Area: {shape2.area()} ^2cm, Permiter : {shape2.perieter()} cm')\n",
    "print('Triangle')\n",
    "print(f'Area: {shape3.area()} ^2cm, Permiter : {shape3.perieter()} cm')"
   ]
  },
  {
   "cell_type": "code",
   "execution_count": 7,
   "metadata": {},
   "outputs": [],
   "source": [
    "''' Q8.\n",
    "Create a class called \"Employee\" with properties for \"name\", \"id\", and \"salary\". \n",
    "Add methods to give the employee a raise and to calculate their annual salary. \n",
    "Create objects of this class and test out the methods.\n",
    "'''\n",
    "\n",
    "class Employee:\n",
    "\n",
    "    def __init__(self, name, id, salary):\n",
    "        self.name = name\n",
    "        self.id = id\n",
    "        self.__salary = salary\n",
    "    \n",
    "    def give_raise(self, hike_percent):\n",
    "        hike = (hike_percent / 100) * self.__salary\n",
    "        self.__salary += hike\n",
    "    \n",
    "    def info(self):\n",
    "        return (self.name, self.id, self.__salary)"
   ]
  },
  {
   "cell_type": "code",
   "execution_count": 8,
   "metadata": {},
   "outputs": [
    {
     "name": "stdout",
     "output_type": "stream",
     "text": [
      "('Karim', 'XYZ0324', 1000000)\n",
      "('Karim', 'XYZ0324', 1200000.0)\n"
     ]
    }
   ],
   "source": [
    "emp1 = Employee('Karim', 'XYZ0324', 1000000)\n",
    "print(emp1.info())\n",
    "emp1.give_raise(20)\n",
    "print(emp1.info())"
   ]
  },
  {
   "cell_type": "code",
   "execution_count": 9,
   "metadata": {},
   "outputs": [],
   "source": [
    "''' Q9.\n",
    "Create a class called \"Book\" with properties for \"title\", \"author\", and \"publisher\".\n",
    "Create a subclass of \"Book\" called \"Ebook\" with additional properties for \"file_format\" and \"file_size\". \n",
    "Create objects of both classes and print out their properties.\n",
    "'''\n",
    "\n",
    "class Book:\n",
    "\n",
    "    def __init__(self, title, author, publisher, type = \"Paper Back\"):\n",
    "        self.title = title\n",
    "        self.author = author\n",
    "        self.publisher = publisher\n",
    "        self.type = type\n",
    "    \n",
    "    def info(self):\n",
    "        print(f\"Title: {self.title}\")\n",
    "        print(f\"Author: {self.title}\")\n",
    "        print(f\"Publisher: {self.title}\")\n",
    "        print(f\"Type: {self.type}\")\n",
    "    \n",
    "class Ebook(Book):\n",
    "\n",
    "    def __init__(self, title, author, publisher, file_format, file_size):\n",
    "        super().__init__(title, author, publisher, type=\"e-Book\")\n",
    "        self.file_format = file_format\n",
    "        self.file_size = file_size\n",
    "    \n",
    "    def info(self):\n",
    "        super().info()\n",
    "        print(f\"Format: {self.file_format}\")\n",
    "        print(f\"Size: {self.file_size}\")\n",
    "        "
   ]
  },
  {
   "cell_type": "code",
   "execution_count": 10,
   "metadata": {},
   "outputs": [
    {
     "name": "stdout",
     "output_type": "stream",
     "text": [
      "Title: Random Book\n",
      "Author: Random Book\n",
      "Publisher: Random Book\n",
      "Type: Paper Back\n",
      "Title: Other Title\n",
      "Author: Other Title\n",
      "Publisher: Other Title\n",
      "Type: e-Book\n",
      "Format: pdf\n",
      "Size: 7 mb\n"
     ]
    }
   ],
   "source": [
    "book1 = Book(\"Random Book\", \"XYZ Author\", \"Some Publisher\")\n",
    "book2 = Ebook(\"Other Title\", \"Not Me\", \"ABC Publications\", \"pdf\", \"7 mb\")\n",
    "book1.info()\n",
    "book2.info()"
   ]
  },
  {
   "cell_type": "code",
   "execution_count": 11,
   "metadata": {},
   "outputs": [],
   "source": [
    "''' Q10.\n",
    "Create a class called \"Bank\" with properties for \"name\" and \"accounts\". \n",
    "Add methods to create new accounts, deposit and withdraw money from accounts, and to calculate the total balance of all accounts.\n",
    "Create an object of this class and test out the methods.\n",
    "'''\n",
    "\n",
    "class Bank:\n",
    "\n",
    "    def __init__(self, name, accounts = {}):\n",
    "        # Accounts will be stored a nested disctionary\n",
    "        self.name = name\n",
    "        self.__accounts = accounts\n",
    "    \n",
    "    def open_account(self, name, acc_no, opening_balance):\n",
    "        account = {\n",
    "            'Name' : name,\n",
    "            'Acc. Number' : acc_no,\n",
    "            'Balance' : opening_balance\n",
    "        }\n",
    "        self.__accounts[acc_no] = account\n",
    "        return True\n",
    "\n",
    "    def deposit(self, acc_no, amount):\n",
    "        self.__accounts[acc_no]['Balance'] += amount\n",
    "        return True\n",
    "    \n",
    "    def withdraw(self, acc_no, amount):\n",
    "        if self.__accounts[acc_no]['Balance'] > amount:\n",
    "            self.__accounts[acc_no]['Balance'] -= amount\n",
    "            return True\n",
    "        else:\n",
    "            return False\n",
    "    \n",
    "    def all_balance(self):\n",
    "        balance = 0\n",
    "        for account in self.__accounts.values():\n",
    "            balance += account['Balance']\n",
    "        return balance\n",
    "    "
   ]
  },
  {
   "cell_type": "code",
   "execution_count": 13,
   "metadata": {},
   "outputs": [
    {
     "name": "stdout",
     "output_type": "stream",
     "text": [
      "Amount Deposited Sucessfully\n",
      "Amount Deposited Sucessfully\n",
      "Amount Deposited Sucessfully\n",
      "Insufficient Balance\n",
      "Amount Withdrawn Succesfully\n",
      "Total Balance : 11000\n"
     ]
    }
   ],
   "source": [
    "# Create an onject of Bank class\n",
    "bank1 = Bank(\"Your Bank\")\n",
    "\n",
    "# Create some accounts\n",
    "bank1.open_account('Rob', 'C001', 5000)\n",
    "bank1.open_account('Tim', 'C002', 1000)\n",
    "\n",
    "# lets do some transaction\n",
    "\n",
    "if bank1.deposit('C001', 2000):\n",
    "    print(\"Amount Deposited Sucessfully\")\n",
    "if bank1.deposit('C002', 6000):\n",
    "    print(\"Amount Deposited Sucessfully\")\n",
    "if bank1.deposit('C001', 1000):\n",
    "    print(\"Amount Deposited Sucessfully\")\n",
    "if bank1.withdraw('C001', 10000):\n",
    "    print(\"Amount Withdrawn Succesfully\")\n",
    "else:\n",
    "    print('Insufficient Balance')\n",
    "if bank1.withdraw('C002', 4000):\n",
    "    print(\"Amount Withdrawn Succesfully\")\n",
    "else:\n",
    "    print('Insufficient Balance')\n",
    "\n",
    "print(f\"Total Balance : {bank1.all_balance()}\")\n",
    "\n"
   ]
  },
  {
   "cell_type": "code",
   "execution_count": null,
   "metadata": {},
   "outputs": [],
   "source": []
  }
 ],
 "metadata": {
  "kernelspec": {
   "display_name": "Python 3",
   "language": "python",
   "name": "python3"
  },
  "language_info": {
   "codemirror_mode": {
    "name": "ipython",
    "version": 3
   },
   "file_extension": ".py",
   "mimetype": "text/x-python",
   "name": "python",
   "nbconvert_exporter": "python",
   "pygments_lexer": "ipython3",
   "version": "3.11.4"
  },
  "orig_nbformat": 4
 },
 "nbformat": 4,
 "nbformat_minor": 2
}
