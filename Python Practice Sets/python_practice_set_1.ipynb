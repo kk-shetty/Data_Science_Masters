{
 "cells": [
  {
   "cell_type": "code",
   "execution_count": 1,
   "metadata": {},
   "outputs": [
    {
     "name": "stdout",
     "output_type": "stream",
     "text": [
      "11\n"
     ]
    }
   ],
   "source": [
    "''' Q1.\n",
    "Write a Python program that defines a function called \"add_numbers\" that takes two arguments (i.e., numbers) and returns their sum.\n",
    "Within the function, add the two numbers together and return the result using the return statement. \n",
    "Call the function with the values 5 and 6, and print out the returned result.\n",
    "This will result in the addition of 5 and 6, with the output of the program being the sum of these two numbers.\n",
    "'''\n",
    "\n",
    "def add_numbers(number_1, number_2):\n",
    "    return number_1 + number_2\n",
    "\n",
    "result = add_numbers(5,6)\n",
    "print(result)"
   ]
  },
  {
   "cell_type": "code",
   "execution_count": 3,
   "metadata": {},
   "outputs": [
    {
     "name": "stdout",
     "output_type": "stream",
     "text": [
      "5.458937625582473\n"
     ]
    }
   ],
   "source": [
    "''' Q2.\n",
    "Write a Python program that calculates the square root of a given number using a built-in function.\n",
    "Specifically, the program should take an integer or float input from the user, calculate its square root using the 'sqrt()' function from the 'math' module, and print out the result to the user.\n",
    "As an example, calculate the square root of the number 625 using this program, which should output the value of 25.\n",
    "'''\n",
    "import math\n",
    "\n",
    "def sqr_root(number):\n",
    "    return math.sqrt(number)\n",
    "\n",
    "result = sqr_root(29.8)\n",
    "print(result)\n"
   ]
  },
  {
   "cell_type": "code",
   "execution_count": 8,
   "metadata": {},
   "outputs": [],
   "source": [
    "''' Q3.\n",
    "Write a program that prints all prime numbers between 0 to 50.\n",
    "'''\n",
    "\n",
    "def is_prime(number):\n",
    "    divider = 2\n",
    "\n",
    "    while divider <= math.sqrt(number):\n",
    "        if number % divider == 0:\n",
    "            return False\n",
    "        divider += 1\n",
    "    \n",
    "    return True"
   ]
  },
  {
   "cell_type": "code",
   "execution_count": 10,
   "metadata": {},
   "outputs": [
    {
     "name": "stdout",
     "output_type": "stream",
     "text": [
      "[2, 3, 5, 7, 11, 13, 17, 19, 23, 29, 31, 37, 41, 43, 47]\n"
     ]
    }
   ],
   "source": [
    "primes = [number for number in range(2,51) if is_prime(number)] # We are considering from 2 since 0 and 1 are not considered as prime numbers\n",
    "print(primes)    "
   ]
  },
  {
   "cell_type": "code",
   "execution_count": 13,
   "metadata": {},
   "outputs": [
    {
     "name": "stdout",
     "output_type": "stream",
     "text": [
      "Original values:\n",
      "a : 5, b : 8, c : 9\n",
      "Swapped values:\n",
      "a : 9, b : 5, c : 8\n"
     ]
    }
   ],
   "source": [
    "''' Q4.\n",
    "How can we swap the values of three variables (let's say a, b, and c) without using a fourth variable?\n",
    "For example, if we have a=5, b=8, and c=9, how can we obtain a=9, b=5, and c=8? \n",
    "The challenge is to perform this operation without using an additional variable to store any of the values during theswapping process.\n",
    "'''\n",
    "\n",
    "a = 5\n",
    "b = 8\n",
    "c = 9\n",
    "\n",
    "print(f\"Original values:\\na : {a}, b : {b}, c : {c}\")\n",
    "\n",
    "# Swapping the values\n",
    "a, b, c = c, a, b\n",
    "print(f\"Swapped values:\\na : {a}, b : {b}, c : {c}\")"
   ]
  },
  {
   "cell_type": "code",
   "execution_count": 18,
   "metadata": {},
   "outputs": [
    {
     "name": "stdout",
     "output_type": "stream",
     "text": [
      "-9.6 is Negative (-)\n"
     ]
    }
   ],
   "source": [
    "''' Q5.\n",
    "Can you write a program that determines the nature of a given number (in this case, 87) as being positive, negative, or zero? \n",
    "The program should be designed to take the number as input and perform the necessary calculations to determine \n",
    "if the number is positive (i.e., greater than zero), negative (i.e., less than zero), or zero (i.e., equal to zero).\n",
    "The output of the program should indicate which of these three categories the given number falls into.\n",
    "'''\n",
    "\n",
    "number = float(input(\"Please enter a number: \"))\n",
    "category = ''\n",
    "if number > 0 :\n",
    "    category = 'Positive (+)'\n",
    "elif number < 0 :\n",
    "    category = 'Negative (-)'\n",
    "else :\n",
    "    category = 'Zero (0)'\n",
    "\n",
    "print(f\"{number} is {category}\")\n"
   ]
  },
  {
   "cell_type": "code",
   "execution_count": 19,
   "metadata": {},
   "outputs": [
    {
     "name": "stdout",
     "output_type": "stream",
     "text": [
      "13 is Odd\n"
     ]
    }
   ],
   "source": [
    "''' Q6.\n",
    "How can you create a program that determines whether a given number (in this case, 98) is even or odd?\n",
    "The program should be designed to take the number as input and perform the necessary calculations to determine whether it is divisible by two.\n",
    "If the number is divisible by two without leaving a remainder, it is an even number, and if there is a remainder, it is an odd number.\n",
    "The output of the program should indicate whether the given number is even or odd.\n",
    "'''\n",
    "\n",
    "number = int(input(\"Please enter a number: \"))\n",
    "category = ''\n",
    "if number % 2 == 0 :\n",
    "    category = 'Even'\n",
    "else :\n",
    "    category = 'Odd'\n",
    "\n",
    "print(f\"{number} is {category}\")"
   ]
  },
  {
   "cell_type": "code",
   "execution_count": 23,
   "metadata": {},
   "outputs": [
    {
     "name": "stdout",
     "output_type": "stream",
     "text": [
      "Sum of digits of 76543 is 25\n"
     ]
    }
   ],
   "source": [
    "''' Q7.\n",
    "Write a program for sum of digits.the digits are 76543 and the output should be 25.\n",
    "'''\n",
    "\n",
    "number = input(\"Please enter a number: \")\n",
    "\n",
    "sum_of_digits = sum([int(digit) for digit in number])\n",
    "\n",
    "print(f\"Sum of digits of {int(number)} is {sum_of_digits}\")\n",
    "\n"
   ]
  },
  {
   "cell_type": "code",
   "execution_count": 27,
   "metadata": {},
   "outputs": [
    {
     "name": "stdout",
     "output_type": "stream",
     "text": [
      "Reverse of 5436 is 6345\n"
     ]
    }
   ],
   "source": [
    "''' Q8.\n",
    "Write a program for reversing the given number 5436 and the output should be 6345.\n",
    "'''\n",
    "\n",
    "number = input(\"Please enter a number: \")\n",
    "\n",
    "reverse = ''.join([digit for digit in number][::-1])\n",
    "\n",
    "reversed_number = int(reverse)\n",
    "\n",
    "print(f\"Reverse of {int(number)} is {reversed_number}\")\n"
   ]
  },
  {
   "cell_type": "code",
   "execution_count": 48,
   "metadata": {},
   "outputs": [],
   "source": [
    "'''Q9.\n",
    "Write a program to check if a given number 371 is an Armstrong number?\n",
    "An Armstrong number is one whose sum of digits raised to the power three equals the number itself\n",
    "'''\n",
    "\n",
    "def is_Armstrong(number):\n",
    "    sum_of_cubes = 0\n",
    "    number_of_digits = len(str(number))\n",
    "    original_number = number\n",
    "    while number > 0:\n",
    "        sum_of_cubes += (number % 10)**number_of_digits\n",
    "        # print(number % 10, (number % 10)**number_of_digits, sum_of_cubes)\n",
    "        number = number // 10\n",
    "    # print(original_number, sum_of_cubes)\n",
    "    return sum_of_cubes == original_number"
   ]
  },
  {
   "cell_type": "code",
   "execution_count": 49,
   "metadata": {},
   "outputs": [
    {
     "name": "stdout",
     "output_type": "stream",
     "text": [
      "371 is an Armstrong number\n"
     ]
    }
   ],
   "source": [
    "number = int(input(\"Please enter a number: \"))\n",
    "\n",
    "if is_Armstrong(number):\n",
    "    print(f\"{number} is an Armstrong number\")\n",
    "else:\n",
    "    print(f\"{number} is not an Armstrong number\")"
   ]
  },
  {
   "cell_type": "code",
   "execution_count": 50,
   "metadata": {},
   "outputs": [
    {
     "data": {
      "text/plain": [
       "[0, 1, 2, 3, 4, 5, 6, 7, 8, 9, 153, 370, 371, 407, 1634, 8208, 9474]"
      ]
     },
     "execution_count": 50,
     "metadata": {},
     "output_type": "execute_result"
    }
   ],
   "source": [
    "[x for x in range (10000) if is_Armstrong(x)]"
   ]
  },
  {
   "cell_type": "code",
   "execution_count": 51,
   "metadata": {},
   "outputs": [],
   "source": [
    "''' Q10.\n",
    "Write a program to check if a given number is leap year\n",
    "'''\n",
    "\n",
    "def is_leap_year(year):\n",
    "    if number % 400 == 0:\n",
    "        return True\n",
    "    elif number % 4 == 0 and number % 100 != 0:\n",
    "        return True\n",
    "    else:\n",
    "        return False\n"
   ]
  },
  {
   "cell_type": "code",
   "execution_count": 55,
   "metadata": {},
   "outputs": [
    {
     "name": "stdout",
     "output_type": "stream",
     "text": [
      "2024 is a leap year\n"
     ]
    }
   ],
   "source": [
    "number = int(input(\"Please enter an year: \"))\n",
    "\n",
    "if is_leap_year(number):\n",
    "    print(f\"{number} is a leap year\")\n",
    "else:\n",
    "    print(f\"{number} is a not a leap year\")"
   ]
  },
  {
   "cell_type": "code",
   "execution_count": null,
   "metadata": {},
   "outputs": [],
   "source": []
  }
 ],
 "metadata": {
  "kernelspec": {
   "display_name": "Python 3",
   "language": "python",
   "name": "python3"
  },
  "language_info": {
   "codemirror_mode": {
    "name": "ipython",
    "version": 3
   },
   "file_extension": ".py",
   "mimetype": "text/x-python",
   "name": "python",
   "nbconvert_exporter": "python",
   "pygments_lexer": "ipython3",
   "version": "3.11.4"
  },
  "orig_nbformat": 4
 },
 "nbformat": 4,
 "nbformat_minor": 2
}
