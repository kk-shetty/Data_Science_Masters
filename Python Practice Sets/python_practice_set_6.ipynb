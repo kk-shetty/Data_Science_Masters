{
 "cells": [
  {
   "cell_type": "code",
   "execution_count": 1,
   "metadata": {},
   "outputs": [
    {
     "name": "stdout",
     "output_type": "stream",
     "text": [
      "0\n",
      "2\n",
      "4\n",
      "6\n",
      "8\n",
      "10\n",
      "12\n",
      "14\n",
      "16\n",
      "18\n"
     ]
    }
   ],
   "source": [
    "''' Q1.\n",
    "Write a programthat prints first 10 even numbers using a for loop\n",
    "'''\n",
    "\n",
    "for i in range(0, 10*2, 2):\n",
    "    print(i)"
   ]
  },
  {
   "cell_type": "code",
   "execution_count": 5,
   "metadata": {},
   "outputs": [
    {
     "name": "stdout",
     "output_type": "stream",
     "text": [
      "olleh\n",
      "doog\n",
      "gninrom\n",
      "rurulagneb\n"
     ]
    }
   ],
   "source": [
    "''' Q2.\n",
    "Write a program that takes a list of strings and prints out each string in reverse order using a for loop.\n",
    "'''\n",
    "\n",
    "ls = ['hello', 'good', 'morning', 'bengalurur']\n",
    "\n",
    "for string in ls:\n",
    "    print(string[::-1])"
   ]
  },
  {
   "cell_type": "code",
   "execution_count": 6,
   "metadata": {},
   "outputs": [
    {
     "name": "stdout",
     "output_type": "stream",
     "text": [
      "5 X 1 = 5\n",
      "5 X 2 = 10\n",
      "5 X 3 = 15\n",
      "5 X 4 = 20\n",
      "5 X 5 = 25\n",
      "5 X 6 = 30\n",
      "5 X 7 = 35\n",
      "5 X 8 = 40\n",
      "5 X 9 = 45\n",
      "5 X 10 = 50\n"
     ]
    }
   ],
   "source": [
    "''' Q3.\n",
    "Write a program that prints the multiplication table of a given number using a for loop.\n",
    "'''\n",
    "\n",
    "number = int(input(\"Enter a number: \"))\n",
    "\n",
    "for i in range(1, 11):\n",
    "    print(f\"{number} X {i} = {number*i}\")"
   ]
  },
  {
   "cell_type": "code",
   "execution_count": 11,
   "metadata": {},
   "outputs": [
    {
     "name": "stdout",
     "output_type": "stream",
     "text": [
      "18 + 54 + 43 + 95 + 73 + 29 + 54 + 68 + 63 + 29 = 526\n"
     ]
    }
   ],
   "source": [
    "''' Q4.\n",
    "Write a program that takes a list of integers as input and returns the sum of all the numbers in the list using a for loop.\n",
    "'''\n",
    "\n",
    "inp = input('Enter list of INTEGERs to sum up seperated by space: ')\n",
    "inp_nums = [int(num) for num in inp.split(' ')]\n",
    "print(f\"{inp.replace(' ', ' + ')} = {sum(inp_nums)}\")"
   ]
  },
  {
   "cell_type": "code",
   "execution_count": 13,
   "metadata": {},
   "outputs": [],
   "source": [
    "''' Q5.\n",
    "Write a program that prompts the user for a positive integer and then prints out all the prime numbers up to that number using a for loop.\n",
    "'''\n",
    "\n",
    "import math\n",
    "\n",
    "def is_prime(num):\n",
    "    if num < 2:\n",
    "        return False\n",
    "    elif num == 2:\n",
    "        return True\n",
    "    else:\n",
    "        div = 2\n",
    "        while div <= math.sqrt(num):\n",
    "            if num % div == 0:\n",
    "                return False\n",
    "            div += 1\n",
    "        return True\n"
   ]
  },
  {
   "cell_type": "code",
   "execution_count": 14,
   "metadata": {},
   "outputs": [
    {
     "name": "stdout",
     "output_type": "stream",
     "text": [
      "2\n",
      "3\n",
      "5\n",
      "7\n",
      "11\n",
      "13\n",
      "17\n",
      "19\n",
      "23\n",
      "29\n",
      "31\n",
      "37\n",
      "41\n",
      "43\n",
      "47\n",
      "53\n",
      "59\n",
      "61\n",
      "67\n",
      "71\n",
      "73\n",
      "79\n",
      "83\n",
      "89\n",
      "97\n"
     ]
    }
   ],
   "source": [
    "inp = int(input(\"Enter a positive number to generate list of prime numbers: \"))\n",
    "primes = [x for x in range(inp + 1) if is_prime(x)]\n",
    "for num in primes:\n",
    "    print(num)"
   ]
  },
  {
   "cell_type": "code",
   "execution_count": 16,
   "metadata": {},
   "outputs": [
    {
     "name": "stdout",
     "output_type": "stream",
     "text": [
      "Try Again\n",
      "Try Again\n",
      "Try Again\n",
      "Logged in succesfully\n"
     ]
    }
   ],
   "source": [
    "''' Q6.\n",
    "Write a program that prompts the user to enter a password until the correct password is entered using a while loop.\n",
    "'''\n",
    "\n",
    "secret_password = 'password123'\n",
    "\n",
    "while True:\n",
    "    entered_password = input(\"Please enter the password: \")\n",
    "    if entered_password == secret_password:\n",
    "        print(\"Logged in succesfully\")\n",
    "        break\n",
    "    print(\"Try Again\")"
   ]
  },
  {
   "cell_type": "code",
   "execution_count": 18,
   "metadata": {},
   "outputs": [
    {
     "name": "stdout",
     "output_type": "stream",
     "text": [
      "olleh\n",
      "doog\n",
      "gninrom\n",
      "rurulagneb\n"
     ]
    }
   ],
   "source": [
    "''' Q7.\n",
    "Write a program that takes a list of strings and prints out each string in reverse order using a while loop.\n",
    "'''\n",
    "\n",
    "ls = ['hello', 'good', 'morning', 'bengalurur']\n",
    "\n",
    "index = 0\n",
    "while index < len(ls):\n",
    "    print(ls[index][::-1])\n",
    "    index += 1"
   ]
  },
  {
   "cell_type": "code",
   "execution_count": 20,
   "metadata": {},
   "outputs": [],
   "source": [
    "''' Q8.\n",
    "Write a program that prompts the user to enter a positive integer and then prints out all the Fibonacci numbers up to that number using a while loop.\n",
    "'''\n",
    "\n",
    "def fib(num):\n",
    "    if num < 2:\n",
    "        return num\n",
    "    else:\n",
    "        return fib(num-1) + fib(num-2)\n"
   ]
  },
  {
   "cell_type": "code",
   "execution_count": 22,
   "metadata": {},
   "outputs": [
    {
     "name": "stdout",
     "output_type": "stream",
     "text": [
      "0 1 1 2 3 5 8 13 21 34 55 89 144 233 377 610 987 "
     ]
    }
   ],
   "source": [
    "# To generate Fibonacci numbers up to that number\n",
    "inp = int(input(\"Enter a positive integer to generate fibonacci numbers till there: \"))\n",
    "fib_nums = []\n",
    "base = 0\n",
    "while True:\n",
    "    fibonacci = fib(base)\n",
    "    if fibonacci > inp:\n",
    "        break\n",
    "    else:\n",
    "        fib_nums.append(fibonacci)\n",
    "        base += 1\n",
    "for fib_num in fib_nums:\n",
    "    print(fib_num, end=' ')\n",
    "\n"
   ]
  },
  {
   "cell_type": "code",
   "execution_count": 23,
   "metadata": {},
   "outputs": [
    {
     "name": "stdout",
     "output_type": "stream",
     "text": [
      "2 * 5 * 6 * 2 * 4 = 480\n"
     ]
    }
   ],
   "source": [
    "''' Q9.\n",
    "Write a program that takes a list of integers as input and returns the product of all the numbers in the list using a while loop.\n",
    "'''\n",
    "\n",
    "inp = input('Enter list of INTEGERs seperated by space: ')\n",
    "inp_nums = [int(num) for num in inp.split(' ')]\n",
    "\n",
    "prod = 1\n",
    "for num in inp_nums:\n",
    "    prod *= num\n",
    "print(f\"{inp.replace(' ', ' * ')} = {prod}\")"
   ]
  },
  {
   "cell_type": "code",
   "execution_count": 25,
   "metadata": {},
   "outputs": [
    {
     "name": "stdout",
     "output_type": "stream",
     "text": [
      "20! = 2432902008176640000\n"
     ]
    }
   ],
   "source": [
    "''' Q10.\n",
    "Write a program that prompts the user to enter a positive integer and then prints out the factorial of that number using a while loop.\n",
    "'''\n",
    "\n",
    "inp = int(input(\"Input as positive integer to find it's factorial: \"))\n",
    "factorial = 1\n",
    "num = 1\n",
    "while num <= inp:\n",
    "    factorial *= num\n",
    "    num += 1\n",
    "\n",
    "print(f\"{inp}! = {factorial}\")"
   ]
  },
  {
   "cell_type": "code",
   "execution_count": null,
   "metadata": {},
   "outputs": [],
   "source": []
  }
 ],
 "metadata": {
  "kernelspec": {
   "display_name": "Python 3",
   "language": "python",
   "name": "python3"
  },
  "language_info": {
   "codemirror_mode": {
    "name": "ipython",
    "version": 3
   },
   "file_extension": ".py",
   "mimetype": "text/x-python",
   "name": "python",
   "nbconvert_exporter": "python",
   "pygments_lexer": "ipython3",
   "version": "3.11.4"
  },
  "orig_nbformat": 4
 },
 "nbformat": 4,
 "nbformat_minor": 2
}
