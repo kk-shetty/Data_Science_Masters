{
 "cells": [
  {
   "cell_type": "code",
   "execution_count": 1,
   "metadata": {},
   "outputs": [],
   "source": [
    "''' Q1.\n",
    "Write a program that spawns two threads. \n",
    "One thread should print even numbers between 0 and 10, and the other thread should print odd numbers between 1 and 9.\n",
    "'''\n",
    "\n",
    "import threading\n",
    "\n",
    "def print_nums(type):\n",
    "    if type == 'odd':\n",
    "        rem = 1\n",
    "    elif type == 'even':\n",
    "        rem = 0\n",
    "    else:\n",
    "        print(\"Invalid argument\")\n",
    "        return\n",
    "    \n",
    "    for num in range(11):\n",
    "        if num % 2 == rem:\n",
    "            print(f\"{type} : {num}\")\n",
    "    "
   ]
  },
  {
   "cell_type": "code",
   "execution_count": 2,
   "metadata": {},
   "outputs": [
    {
     "name": "stdout",
     "output_type": "stream",
     "text": [
      "odd : 1\n",
      "odd : 3\n",
      "odd : 5\n",
      "odd : 7\n",
      "odd : 9\n",
      "even : 0\n",
      "even : 2\n",
      "even : 4\n",
      "even : 6\n",
      "even : 8\n",
      "even : 10\n"
     ]
    }
   ],
   "source": [
    "# print_nums('even')\n",
    "threads = [threading.Thread(target = print_nums, args = (i,)) for i in ['odd','even']]\n",
    "for thread in threads:\n",
    "    thread.start()\n",
    "\n",
    "for thread in threads:\n",
    "    thread.join()"
   ]
  },
  {
   "cell_type": "code",
   "execution_count": 3,
   "metadata": {},
   "outputs": [],
   "source": [
    "''' Q2.\n",
    "Write a program that generates a list of random numbers and sorts them using multithreading.\n",
    "Use two threads to sort the first half and the second half of the list in parallel.\n",
    "'''\n",
    "import random\n",
    "\n",
    "def sort_list(arr):\n",
    "    arr.sort()\n",
    "    return arr"
   ]
  },
  {
   "cell_type": "code",
   "execution_count": 4,
   "metadata": {},
   "outputs": [
    {
     "name": "stdout",
     "output_type": "stream",
     "text": [
      "Original list:  [24460, 27916, 71105, 64053, 51995, 81301, 65700, 5212, 40780, 55359, 11160, 27686, 79002, 46543, 50482, 49704, 5755, 9278, 3233, 36628]\n",
      "Semi Sorted list:  [5212, 24460, 27916, 40780, 51995, 55359, 64053, 65700, 71105, 81301]  |  [3233, 5755, 9278, 11160, 27686, 36628, 46543, 49704, 50482, 79002]\n"
     ]
    }
   ],
   "source": [
    "size = 20\n",
    "random_numbers = [random.randrange(10, 100000) for i in range(size)]\n",
    "print(\"Original list: \", random_numbers)\n",
    "mid = size // 2\n",
    "\n",
    "left = random_numbers[:mid]\n",
    "right = random_numbers[mid:]\n",
    "\n",
    "left_thread = threading.Thread(target=sort_list, args=(left,))\n",
    "right_thread = threading.Thread(target=sort_list, args=(right,))\n",
    "\n",
    "left_thread.start()\n",
    "right_thread.start()\n",
    "\n",
    "left_thread.join()\n",
    "right_thread.join()\n",
    "\n",
    "print(\"Semi Sorted list: \", left, \" | \", right)"
   ]
  },
  {
   "cell_type": "code",
   "execution_count": 5,
   "metadata": {},
   "outputs": [
    {
     "name": "stdout",
     "output_type": "stream",
     "text": [
      "Original list:  [63393, 57074, 75335, 58919, 55436, 94304, 99795, 91214, 86421, 51099, 50939, 18532, 88924, 91973, 45305, 43881, 91338, 42574, 35850, 18360]\n",
      "[51099, 55436, 57074, 58919, 63393, 75335, 86421, 91214, 94304, 99795]  |  [18360, 18532, 35850, 42574, 43881, 45305, 50939, 88924, 91338, 91973]\n"
     ]
    }
   ],
   "source": [
    "size = 20\n",
    "random_numbers = [random.randrange(10, 100000) for i in range(size)]\n",
    "print(\"Original list: \", random_numbers)\n",
    "mid = size // 2\n",
    "\n",
    "left = random_numbers[:mid]\n",
    "right = random_numbers[mid:]\n",
    "\n",
    "threads = [threading.Thread(target=sort_list, args=(arr,)) for arr in [left, right]]\n",
    "for thread in threads:\n",
    "    thread.start()\n",
    "\n",
    "print(left, \" | \", right)\n"
   ]
  },
  {
   "cell_type": "code",
   "execution_count": 6,
   "metadata": {},
   "outputs": [],
   "source": [
    "''' Q3.\n",
    "Write a program that simulates a bank account transaction. \n",
    "The program should create two threads, one for a deposit and one for a withdrawal. \n",
    "The deposit thread should add 100 to the account,and the withdrawal thread should withdraw 50 from the account. \n",
    "Run the program for 10 iterations.\n",
    "'''\n",
    "\n",
    "class Account:\n",
    "    def __init__(self, acc_num, balance=0):\n",
    "        self.account_number = acc_num\n",
    "        self.account_balance = balance\n",
    "    \n",
    "    def deposit(self, amount):\n",
    "        self.account_balance += amount\n",
    "        print(f\"₹{amount} credited to your account : {self.account_number}.\")\n",
    "    \n",
    "    def withdraw(self, amount):\n",
    "        if self.account_balance >= amount:\n",
    "            self.account_balance -= amount \n",
    "            print(f\"₹{amount} debited from you account : {self.account_number}.\")\n",
    "        else:\n",
    "            print(\"Transaction failed - nsufficient fund.\")"
   ]
  },
  {
   "cell_type": "code",
   "execution_count": 7,
   "metadata": {},
   "outputs": [
    {
     "name": "stdout",
     "output_type": "stream",
     "text": [
      "₹100 credited to your account : 620091202307150811.\n",
      "₹100 credited to your account : 620091202307150811.\n",
      "₹100 credited to your account : 620091202307150811.\n",
      "₹100 credited to your account : 620091202307150811.\n",
      "₹100 credited to your account : 620091202307150811.\n",
      "₹100 credited to your account : 620091202307150811.\n",
      "₹100 credited to your account : 620091202307150811.\n",
      "₹100 credited to your account : 620091202307150811.\n",
      "₹100 credited to your account : 620091202307150811.\n",
      "₹100 credited to your account : 620091202307150811.\n",
      "₹50 debited from you account : 620091202307150811.\n",
      "₹50 debited from you account : 620091202307150811.\n",
      "₹50 debited from you account : 620091202307150811.\n",
      "₹50 debited from you account : 620091202307150811.\n",
      "₹50 debited from you account : 620091202307150811.\n",
      "₹50 debited from you account : 620091202307150811.\n",
      "₹50 debited from you account : 620091202307150811.\n",
      "₹50 debited from you account : 620091202307150811.\n",
      "₹50 debited from you account : 620091202307150811.\n",
      "₹50 debited from you account : 620091202307150811.\n"
     ]
    }
   ],
   "source": [
    "def function_repeater(func, arg, iterations):\n",
    "    for i in range(iterations):\n",
    "        func(arg)\n",
    "\n",
    "acc1 = Account('620091202307150811')\n",
    "\n",
    "deposit_thread = threading.Thread(target=function_repeater, args=(acc1.deposit, 100, 10))\n",
    "withdraw_thread = threading.Thread(target=function_repeater, args=(acc1.withdraw, 50, 10))\n",
    "\n",
    "deposit_thread.start()\n",
    "withdraw_thread.start()\n",
    "\n",
    "deposit_thread.join()\n",
    "withdraw_thread.join()"
   ]
  },
  {
   "cell_type": "code",
   "execution_count": 8,
   "metadata": {},
   "outputs": [],
   "source": [
    "''' Q4.\n",
    "Write a Python program that creates a thread to print out the current date and time every 5 seconds.\n",
    "The program should continue running until the user presses the 'q' key.\n",
    "'''\n",
    "\n",
    "from datetime import datetime\n",
    "import time\n",
    "\n",
    "def show_datetime(stop_event):\n",
    "    while not stop_event.is_set():\n",
    "        now = datetime.now().strftime(\"%Y-%m-%d %H:%M:%S\")\n",
    "        print(now, \" - press 'q' to stop\")\n",
    "        time.sleep(5)\n",
    "\n",
    "def check_user_input(stop_event):\n",
    "    while not stop_event.is_set():\n",
    "        user_input = input()\n",
    "        if user_input.lower() == 'q':\n",
    "            stop_event.set()"
   ]
  },
  {
   "cell_type": "code",
   "execution_count": 9,
   "metadata": {},
   "outputs": [
    {
     "name": "stdout",
     "output_type": "stream",
     "text": [
      "2023-07-17 06:05:08  - press 'q' to stop\n",
      "2023-07-17 06:05:13  - press 'q' to stop\n"
     ]
    }
   ],
   "source": [
    "stop_event = threading.Event()\n",
    "\n",
    "dispaly_thread = threading.Thread(target=show_datetime, args=(stop_event,))\n",
    "dispaly_thread.start()\n",
    "input_thread = threading.Thread(target=check_user_input, args=(stop_event,))\n",
    "input_thread.start()\n",
    "\n",
    "input_thread.join()\n",
    "dispaly_thread.join()"
   ]
  },
  {
   "cell_type": "code",
   "execution_count": 13,
   "metadata": {},
   "outputs": [
    {
     "name": "stdout",
     "output_type": "stream",
     "text": [
      "1\n",
      "1\n",
      "2\n",
      "2\n",
      "3\n",
      "3\n",
      "4\n",
      "4\n",
      "5\n",
      "5\n",
      "6\n",
      "6\n",
      "7\n",
      "7\n",
      "8\n",
      "8\n",
      "9\n",
      "9\n",
      "10\n",
      "10\n"
     ]
    }
   ],
   "source": [
    "''' Q5.\n",
    "Write a Python program that creates two threads. Each thread should print out the numbers from 1 to 10. \n",
    "The two threads should run concurrently and print out the numbers in an interleaved fashion.\n",
    "'''\n",
    "\n",
    "def print_numbers(start, end):\n",
    "    for i in range(start, end+1):\n",
    "        time.sleep(0.001)\n",
    "        print(i)\n",
    "\n",
    "thread1 = threading.Thread(target=print_numbers, args=(1,10))\n",
    "thread2 = threading.Thread(target=print_numbers, args=(1,10))\n",
    "\n",
    "thread1.start()\n",
    "thread2.start()\n",
    "\n",
    "thread1.join()\n",
    "thread2.join()"
   ]
  },
  {
   "cell_type": "code",
   "execution_count": 15,
   "metadata": {},
   "outputs": [
    {
     "name": "stdout",
     "output_type": "stream",
     "text": [
      "30\n",
      "80\n"
     ]
    }
   ],
   "source": [
    "''' Q6.\n",
    "Write a Python program to create a shared variable between two threads and increment its value in each thread.\n",
    "'''\n",
    "\n",
    "shared_var = 10\n",
    "lock_var = threading.Lock()\n",
    "\n",
    "def update_shred_var(num):\n",
    "    global shared_var\n",
    "    with lock_var:\n",
    "        shared_var += num\n",
    "        print(shared_var)\n",
    "\n",
    "thread1 = threading.Thread(target=update_shred_var, args= (20,))\n",
    "thread2 = threading.Thread(target=update_shred_var, args= (50,))\n",
    "\n",
    "thread1.start()\n",
    "thread2.start()\n",
    "\n",
    "thread1.join()\n",
    "thread2.join()"
   ]
  },
  {
   "cell_type": "code",
   "execution_count": 21,
   "metadata": {},
   "outputs": [
    {
     "name": "stdout",
     "output_type": "stream",
     "text": [
      "5 ...\n"
     ]
    },
    {
     "name": "stdout",
     "output_type": "stream",
     "text": [
      "4 ...\n",
      "3 ...\n"
     ]
    }
   ],
   "source": [
    "''' Q7.\n",
    "Here's a Python program that creates a thread to count down from 5 to 0 and prints \"Blastoff!\" when the count reaches 0:\n",
    "'''\n",
    "\n",
    "def countdown(start, end = 0):\n",
    "    for i in range(start, end, -1):\n",
    "        print(f\"{i} ...\")\n",
    "        time.sleep(1)\n",
    "    print(\"Blastoff!\")\n",
    "\n",
    "thread = threading.Thread(target=countdown, args= (5,0))\n",
    "thread.start()"
   ]
  },
  {
   "cell_type": "code",
   "execution_count": 25,
   "metadata": {},
   "outputs": [
    {
     "name": "stdout",
     "output_type": "stream",
     "text": [
      "0 1 1 2 3 5 8 13 21 34 55 89 144 233 377 610 987 1597 2584 4181 6765 "
     ]
    }
   ],
   "source": [
    "''' Q8.\n",
    "Write a program that creates a thread to print the Fibonacci sequence up to a certain number n. \n",
    "The main thread should prompt the user for the value of n.\n",
    "'''\n",
    "\n",
    "def fib(n):\n",
    "    a, b = 0, 1\n",
    "    while a <= n:\n",
    "        print(a, end = ' ')\n",
    "        a, b = b, a + b\n",
    "\n",
    "n = int(input(\"Enter a number: \"))\n",
    "thread = threading.Thread(target=fib, args=(n,))\n",
    "thread.start()"
   ]
  },
  {
   "cell_type": "code",
   "execution_count": 28,
   "metadata": {},
   "outputs": [
    {
     "name": "stdout",
     "output_type": "stream",
     "text": [
      "Starting value of shared_var : 0\n",
      "FInal value of shared_var : -12\n"
     ]
    }
   ],
   "source": [
    "''' Q9.\n",
    "Write a program that creates two threads to add and subtract numbers from a shared variable. \n",
    "The shared variable should start at 0, and each thread should perform 10 iterations of adding or subtracting a random integer between 1 and 10. \n",
    "The program should print the final value of the shared variable.\n",
    "'''\n",
    "\n",
    "shared_var = 0\n",
    "lock_var = threading.Lock()\n",
    "\n",
    "def add():\n",
    "    global shared_var\n",
    "    for i in range(10):\n",
    "        with lock_var:\n",
    "            shared_var += random.randrange(1,10)\n",
    "        time.sleep(0.001)\n",
    "\n",
    "def subtract():\n",
    "    global shared_var\n",
    "    for i in range(10):\n",
    "        with lock_var:\n",
    "            shared_var -= random.randrange(1,10)\n",
    "        time.sleep(0.001)\n",
    "\n",
    "print(f\"Starting value of shared_var : {shared_var}\")\n",
    "\n",
    "addition_thread = threading.Thread(target=add)\n",
    "subtract_thread = threading.Thread(target=subtract)\n",
    "\n",
    "addition_thread.start()\n",
    "subtract_thread.start()\n",
    "\n",
    "addition_thread.join()\n",
    "subtract_thread.join()\n",
    "\n",
    "print(f\"FInal value of shared_var : {shared_var}\")"
   ]
  },
  {
   "cell_type": "code",
   "execution_count": 30,
   "metadata": {},
   "outputs": [
    {
     "name": "stdout",
     "output_type": "stream",
     "text": [
      "The sum of the numbers from 1 to 100 is: 5050\n"
     ]
    }
   ],
   "source": [
    "''' Q10.\n",
    "Write a program that creates a thread to calculate the sum of the numbers from 1 to 100 and prints the result.\n",
    "'''\n",
    "\n",
    "def cum_sum(start, end):\n",
    "    sum = 0\n",
    "    for i in range(start, end+1):\n",
    "        sum += i\n",
    "    print(f\"The sum of the numbers from 1 to 100 is: {sum}\")\n",
    "\n",
    "thread = threading.Thread(target=cum_sum, args=(1,100))\n",
    "thread.start()\n",
    "thread.join()"
   ]
  },
  {
   "cell_type": "code",
   "execution_count": null,
   "metadata": {},
   "outputs": [],
   "source": []
  }
 ],
 "metadata": {
  "kernelspec": {
   "display_name": "Python 3",
   "language": "python",
   "name": "python3"
  },
  "language_info": {
   "codemirror_mode": {
    "name": "ipython",
    "version": 3
   },
   "file_extension": ".py",
   "mimetype": "text/x-python",
   "name": "python",
   "nbconvert_exporter": "python",
   "pygments_lexer": "ipython3",
   "version": "3.11.4"
  },
  "orig_nbformat": 4
 },
 "nbformat": 4,
 "nbformat_minor": 2
}
