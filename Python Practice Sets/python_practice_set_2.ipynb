{
 "cells": [
  {
   "cell_type": "code",
   "execution_count": 11,
   "metadata": {},
   "outputs": [
    {
     "name": "stdout",
     "output_type": "stream",
     "text": [
      "[2, 3, 4, 5, 6, 7]\n",
      "[2, 3, 4, 5, 6, 7, 'mango']\n",
      "[2, 3, 4, 5, 6, 7, 'mango', 'banana', 'grapes', 'orange']\n",
      "[2, 3, 4, 5, 'apple', 6, 7, 'mango', 'banana', 'grapes', 'orange']\n",
      "[2, 3, 4, 5, 'apple', 6, 7, 'mango', 'banana', 'grapes']\n"
     ]
    }
   ],
   "source": [
    "''' Q1. \n",
    "Create a list in python using the followings: 2,3,4,5,6,7 with variable 'a'\n",
    "Add 'mango' to the above list\n",
    "Also add 'banana', 'grapes' & 'orange' in the list\n",
    "insert apple in the 5th position of a variable 'a'\n",
    "Remove last item from the list\n",
    "'''\n",
    "\n",
    "a = [2,3,4,5,6,7]\n",
    "print(a)\n",
    "a.append('mango')\n",
    "print(a)\n",
    "# Lets append the individual items of a list usig extend\n",
    "a.extend(['banana', 'grapes', 'orange']) \n",
    "print(a)\n",
    "# To append at 5th postion use index 4\n",
    "a.insert(4, 'apple')\n",
    "print(a)\n",
    "# Use pop to remove last element from list\n",
    "a.pop()\n",
    "print(a)"
   ]
  },
  {
   "cell_type": "code",
   "execution_count": 13,
   "metadata": {},
   "outputs": [
    {
     "name": "stdout",
     "output_type": "stream",
     "text": [
      "[2, 3, 4]\n"
     ]
    }
   ],
   "source": [
    "''' Q2.\n",
    "L = [1,2,3,4,5,6,7]\n",
    "Using the above list slice from 1:4\n",
    "'''\n",
    "L = [1,2,3,4,5,6,7]\n",
    "extract = L[1:4]\n",
    "print(extract)"
   ]
  },
  {
   "cell_type": "code",
   "execution_count": 15,
   "metadata": {},
   "outputs": [
    {
     "name": "stdout",
     "output_type": "stream",
     "text": [
      "[3, 8, 6, 5, 4]\n"
     ]
    }
   ],
   "source": [
    "''' Q3. \n",
    "Reverse the order of given string L = [4,5,6,8,3] Without using reverse() function.\n",
    "'''\n",
    "\n",
    "L = [4,5,6,8,3]\n",
    "L.reverse()\n",
    "print(L)"
   ]
  },
  {
   "cell_type": "code",
   "execution_count": 16,
   "metadata": {},
   "outputs": [
    {
     "name": "stdout",
     "output_type": "stream",
     "text": [
      "[4, 16, 49, 9, 36, 64]\n"
     ]
    }
   ],
   "source": [
    "''' Q4.\n",
    "Use list comprehension to square the given list L=[2,4,7,3,6,8]\n",
    "'''\n",
    "\n",
    "L=[2,4,7,3,6,8]\n",
    "\n",
    "L_sqr = [num**2 for num in L]\n",
    "print(L_sqr)"
   ]
  },
  {
   "cell_type": "code",
   "execution_count": 19,
   "metadata": {},
   "outputs": [
    {
     "name": "stdout",
     "output_type": "stream",
     "text": [
      "20\n"
     ]
    }
   ],
   "source": [
    "''' Q5. \n",
    "Create a function that takes in a tuple of integers and returns the sum of the integers. Test the\n",
    "function with a tuple of your choice.\n",
    "'''\n",
    "\n",
    "def tuple_sum(tup):\n",
    "    return sum(tup)\n",
    "\n",
    "t1 = (2,3,4,5,6)\n",
    "print(tuple_sum(t1))"
   ]
  },
  {
   "cell_type": "code",
   "execution_count": 21,
   "metadata": {},
   "outputs": [
    {
     "name": "stdout",
     "output_type": "stream",
     "text": [
      "{'Jackfruit', 'Banana', 'Mango', 'Dragon Fruit', 'Kiwi'}\n"
     ]
    }
   ],
   "source": [
    "''' Q6. \n",
    "Create two sets of your favourite fruits, and use the union() method to combine them into a single set.\n",
    "Print the resulting set to the console.\n",
    "'''\n",
    "\n",
    "fruits_local = {'Mango', 'Banana', 'Jackfruit'}\n",
    "fruits_global = {'Kiwi', 'Dragon Fruit'}\n",
    "\n",
    "all_favorites = fruits_local.union(fruits_global)\n",
    "print(all_favorites)"
   ]
  },
  {
   "cell_type": "code",
   "execution_count": 22,
   "metadata": {},
   "outputs": [
    {
     "name": "stdout",
     "output_type": "stream",
     "text": [
      "{'sit', 'smell', 'call', 'good', 'morning'}\n"
     ]
    }
   ],
   "source": [
    "''' Q7.\n",
    "Create a set of random words, and use the add() method to add a new word to the set. \n",
    "Print the resulting set to the console.\n",
    "'''\n",
    "\n",
    "random_words = {'good', 'smell', 'sit', 'call'}\n",
    "# Adding new words to the set\n",
    "random_words.add('morning')\n",
    "\n",
    "print(random_words)"
   ]
  },
  {
   "cell_type": "code",
   "execution_count": 24,
   "metadata": {},
   "outputs": [
    {
     "name": "stdout",
     "output_type": "stream",
     "text": [
      "{'horse', 'dog', 'tiger', 'cow'}\n"
     ]
    }
   ],
   "source": [
    "''' Q8.\n",
    "Create a set of your favourite animals, and use the remove() method to remove one animal from the\n",
    "set. Print the resulting set to the console.\n",
    "'''\n",
    "\n",
    "my_fav_animals = {'cow', 'horse', 'dog', 'tiger', 'cat'}\n",
    "\n",
    "# Remove an item from list\n",
    "my_fav_animals.remove('cat')\n",
    "\n",
    "print(my_fav_animals)"
   ]
  },
  {
   "cell_type": "code",
   "execution_count": 30,
   "metadata": {},
   "outputs": [
    {
     "name": "stdout",
     "output_type": "stream",
     "text": [
      "[('To Kill a Mockingbird', 'The Shawshank Redemption'), ('1984', 'The Godfather'), ('Pride and Prejudice', 'The Dark Knight')]\n"
     ]
    }
   ],
   "source": [
    "''' Q9.\n",
    "favorite_books = {\"1984\", \"To Kill a Mockingbird\", \"Pride and Prejudice\"}\n",
    "favorite_movies = [\"The Shawshank Redemption\", \"The Godfather\", \"The Dark Knight\"]\n",
    "Use the zip() function to combine the book set and movie list into a list of tuples representing book/ movie pairs. \n",
    "Print the resulting list\n",
    "'''\n",
    "\n",
    "favorite_books = {\"1984\", \"To Kill a Mockingbird\", \"Pride and Prejudice\"}\n",
    "favorite_movies = [\"The Shawshank Redemption\", \"The Godfather\", \"The Dark Knight\"]\n",
    "\n",
    "# zip books and movies into list of tuples\n",
    "favorite_pairs = list(zip(favorite_books, favorite_movies))\n",
    "\n",
    "print(favorite_pairs)\n"
   ]
  },
  {
   "cell_type": "code",
   "execution_count": 33,
   "metadata": {},
   "outputs": [],
   "source": [
    "''' Q10.\n",
    "Write a Python program to find the difference between consecutive numbers in a list.\n",
    "'''\n",
    "\n",
    "def diff_list(num_list):\n",
    "    # Return empty list if less than 2 numbers\n",
    "    if len(num_list) < 2:\n",
    "        return []\n",
    "    \n",
    "    diffs = []\n",
    "    for i in range(len(num_list)-1):\n",
    "        diffs.append(abs(num_list[i]-num_list[i+1]))\n",
    "    \n",
    "    return diffs"
   ]
  },
  {
   "cell_type": "code",
   "execution_count": 34,
   "metadata": {},
   "outputs": [
    {
     "name": "stdout",
     "output_type": "stream",
     "text": [
      "[64, 13, 57, 44, 5, 57, 32]\n"
     ]
    }
   ],
   "source": [
    "l1 = [98,34,21,78,34,29,86,54]\n",
    "print(diff_list(l1))"
   ]
  },
  {
   "cell_type": "code",
   "execution_count": null,
   "metadata": {},
   "outputs": [],
   "source": []
  }
 ],
 "metadata": {
  "kernelspec": {
   "display_name": "Python 3",
   "language": "python",
   "name": "python3"
  },
  "language_info": {
   "codemirror_mode": {
    "name": "ipython",
    "version": 3
   },
   "file_extension": ".py",
   "mimetype": "text/x-python",
   "name": "python",
   "nbconvert_exporter": "python",
   "pygments_lexer": "ipython3",
   "version": "3.11.4"
  },
  "orig_nbformat": 4
 },
 "nbformat": 4,
 "nbformat_minor": 2
}
