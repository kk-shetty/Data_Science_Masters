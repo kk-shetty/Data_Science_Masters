{
 "cells": [
  {
   "cell_type": "code",
   "execution_count": 2,
   "metadata": {},
   "outputs": [
    {
     "name": "stdout",
     "output_type": "stream",
     "text": [
      "Price of banana: 1.25\n"
     ]
    }
   ],
   "source": [
    "''' Q1.\n",
    "Create a dictionary called fruits with the following key-value pairs:\n",
    "\"apple\": 0.75\n",
    "\"banana\": 1.25\n",
    "\"orange\": 0.90\n",
    "Then, print out the price of a banana.\n",
    "'''\n",
    "\n",
    "fruits_price = {\n",
    "    \"apple\": 0.75,\n",
    "    \"banana\": 1.25,\n",
    "    \"orange\": 0.90\n",
    "}\n",
    "\n",
    "print(f\"Price of banana: {fruits_price['banana']}\")"
   ]
  },
  {
   "cell_type": "code",
   "execution_count": 5,
   "metadata": {},
   "outputs": [
    {
     "name": "stdout",
     "output_type": "stream",
     "text": [
      "Age of Charlie: 35\n"
     ]
    }
   ],
   "source": [
    "''' Q2.\n",
    "Create an empty dictionary called ages. Add the following key-value pairs to the dictionary:\n",
    "\"Alice\": 30\n",
    "\"Bob\": 25\n",
    "\"Charlie\": 35\n",
    "Then, print out the age of Charlie.\n",
    "'''\n",
    "\n",
    "ages = {}\n",
    "# ages = dict(zip(['Alice', 'Bob', 'Charlie'], [30, 25, 35]))\n",
    "\n",
    "ages[\"alice\"] = 30\n",
    "ages[\"Bob\"] = 25\n",
    "ages[\"Charlie\"] = 35\n",
    "\n",
    "print(f\"Age of Charlie: {ages['Charlie']}\")"
   ]
  },
  {
   "cell_type": "code",
   "execution_count": 14,
   "metadata": {},
   "outputs": [
    {
     "name": "stdout",
     "output_type": "stream",
     "text": [
      "{'hey': 2, 'this': 1, 'is': 1, 'a': 1, 'sample': 1, '': 1, 'again': 1}\n"
     ]
    }
   ],
   "source": [
    "''' Q3.\n",
    "Write a function called word_count(text) that takes a string as input and returns a dictionary where\n",
    "each key is a word in the text and its value is the number of times that word appears in the text. For\n",
    "example, word_count(\"hello world hello\") should return {\"hello\": 2, \"world\": 1}.\n",
    "'''\n",
    "\n",
    "def word_count(text):\n",
    "    words = text.split(\" \")\n",
    "\n",
    "    count = {}\n",
    "    for word in words:\n",
    "        word = word.replace('.', '').replace(',', '')\n",
    "        if word in count.keys():\n",
    "            count[word] += 1\n",
    "        else:\n",
    "            count[word] = 1\n",
    "    return count\n",
    "\n",
    "\n",
    "print(word_count(\"hey this is a sample , hey again\"))"
   ]
  },
  {
   "cell_type": "code",
   "execution_count": 23,
   "metadata": {},
   "outputs": [
    {
     "name": "stdout",
     "output_type": "stream",
     "text": [
      "Rock : Name was not found\n"
     ]
    }
   ],
   "source": [
    "''' Q4.\n",
    "Create a dictionary called phone_book with the following key-value pairs:\n",
    "\"Alice\": \"555-1234\"\n",
    "\"Bob\": \"555-5678\"\n",
    "\"Charlie\": \"555-9012\"\n",
    "Then, prompt the user to enter a name and print out the corresponding phone number. If the name is not\n",
    "in the phone book, print out a message saying that the name was not found.\n",
    "'''\n",
    "global phone_book\n",
    "phone_book = {\n",
    "    \"Alice\": \"555-1234\",\n",
    "    \"Bob\": \"555-5678\",\n",
    "    \"Charlie\": \"555-9012\"\n",
    "}\n",
    "\n",
    "def phone_number(name):\n",
    "    if name in phone_book.keys():\n",
    "        return phone_book[name]\n",
    "    else:\n",
    "        return \"Name was not found\"\n",
    "\n",
    "search_name = input(\"Enter the name of person to search for phone number: \")\n",
    "phone_number = phone_number(search_name.capitalize())\n",
    "print(f\"{search_name.capitalize()} : {phone_number}\")\n"
   ]
  },
  {
   "cell_type": "code",
   "execution_count": 30,
   "metadata": {},
   "outputs": [
    {
     "name": "stdout",
     "output_type": "stream",
     "text": [
      "Number should be between 1 and 10\n"
     ]
    }
   ],
   "source": [
    "''' Q5.\n",
    "Write a program that prompts the user to enter a number between 1 and 10. If the number is less than 5, print out \"Too low!\", otherwise print out \"Too high!\".\n",
    "'''\n",
    "try:\n",
    "    number = int(input(\"Enter a number between 1 and 10: \"))\n",
    "    if number > 10 or number < 1:\n",
    "        raise ValueError('Number should be between 1 and 10')\n",
    "except TypeError as e:\n",
    "    print(\"Please enter number in digits\")\n",
    "except ValueError as e:\n",
    "    print(e)\n",
    "else:\n",
    "    if number < 5:\n",
    "        print(\"Too low!\")\n",
    "    else:\n",
    "        print(\"Too high!\") "
   ]
  },
  {
   "cell_type": "code",
   "execution_count": 28,
   "metadata": {},
   "outputs": [
    {
     "name": "stdout",
     "output_type": "stream",
     "text": [
      "Access denied\n"
     ]
    }
   ],
   "source": [
    "''' Q6.\n",
    "Write a program that prompts the user to enter a password. If the password is \"password123\", print out \"Access granted\", otherwise print out \"Access denied\".\n",
    "'''\n",
    "\n",
    "password = input(\"Please enter the password: \")\n",
    "if password == \"password123\":\n",
    "    print(\"Access Granted\")\n",
    "else:\n",
    "    print(\"Access denied\")"
   ]
  },
  {
   "cell_type": "code",
   "execution_count": 33,
   "metadata": {},
   "outputs": [
    {
     "name": "stdout",
     "output_type": "stream",
     "text": [
      "invalid number - enter a positive integer\n"
     ]
    }
   ],
   "source": [
    "''' Q7.\n",
    "Write a program that prompts the user to enter a positive integer. Then, use a loop to print out all the odd numbers from 1 to that integer.\n",
    "'''\n",
    "\n",
    "try:\n",
    "    num = int(input(\"Enter a positive integer: \"))\n",
    "    if num < 1 :\n",
    "        raise ValueError('invalid number - enter a positive integer')\n",
    "except TypeError as e:\n",
    "    print(e)\n",
    "except ValueError as e:\n",
    "    print(e)\n",
    "else:\n",
    "    for i in range(1, num, 2):\n",
    "        print(i)"
   ]
  },
  {
   "cell_type": "code",
   "execution_count": 45,
   "metadata": {},
   "outputs": [
    {
     "name": "stdout",
     "output_type": "stream",
     "text": [
      "Too low!\n"
     ]
    }
   ],
   "source": [
    "''' Q8.\n",
    "Write a program that generates a random number between 1 and 100 and then prompts the user toguess the number. \n",
    "If the user's guess is too low, print out \"Too low!\", if the guess is too high, print out \"Too high!\", and if the guess is correct, print out \"You win!\".\n",
    "'''\n",
    "import random\n",
    "\n",
    "lucky_number = random.randint(1,100)\n",
    "\n",
    "try:\n",
    "    number = int(input(\"Guess a number between 1 and 100: \"))\n",
    "    if number > 100 or number < 1:\n",
    "        raise ValueError('Number should be between 1 and 100')\n",
    "except TypeError as e:\n",
    "    print(\"Please enter number in digits\")\n",
    "except ValueError as e:\n",
    "    print(e)\n",
    "else:\n",
    "    if number == lucky_number:\n",
    "        print(\"You Win!\")\n",
    "    elif number < lucky_number:\n",
    "        print(\"Too low!\")\n",
    "    else:\n",
    "        print(\"Too high!\") \n"
   ]
  },
  {
   "cell_type": "code",
   "execution_count": 48,
   "metadata": {},
   "outputs": [
    {
     "name": "stdout",
     "output_type": "stream",
     "text": [
      "Try Again. 2 attempts left\n",
      "Try Again. 1 attempts left\n",
      "You win!\n"
     ]
    }
   ],
   "source": [
    "''' Q9.\n",
    "Write a program that generates a random number between 1 and 10 and then prompts the user toguess the number. \n",
    "The user has three attempts to guess the number. \n",
    "If the user guesses correctly withinthree attempts, print out \"You win!\", otherwise print out \"You lose!\".\n",
    "'''\n",
    "lucky_number = random.randint(1,10)\n",
    "attempt = 0\n",
    "\n",
    "while attempt < 3:\n",
    "    try:\n",
    "        number = int(input(\"Guess a number between 1 and 10: \"))\n",
    "        if number > 10 or number < 1:\n",
    "            raise ValueError('Number should be between 1 and 10')\n",
    "    except TypeError as e:\n",
    "        print(\"Please enter number in digits\")\n",
    "    except ValueError as e:\n",
    "        print(e)\n",
    "    else:\n",
    "        if number == lucky_number:\n",
    "            break\n",
    "        else:\n",
    "            attempt += 1\n",
    "            print(f\"Try Again. {3 - attempt} attempts left\")\n",
    "\n",
    "if attempt < 3:\n",
    "    print(\"You win!\")\n",
    "else:\n",
    "    print(\"You lose!\")\n",
    "    \n"
   ]
  },
  {
   "cell_type": "code",
   "execution_count": 51,
   "metadata": {},
   "outputs": [
    {
     "name": "stdout",
     "output_type": "stream",
     "text": [
      "Please enter your actual age\n"
     ]
    }
   ],
   "source": [
    "''' Q10.\n",
    "Write a program that prompts the user to enter their age and then prints out whether they are a child (age 0-12), a teenager (age 13-19), an adult (age 20-59), or a senior (age 60+)\n",
    "'''\n",
    "\n",
    "try:\n",
    "    age = int(input(\"Please enter your age: \"))\n",
    "    if age < 0 or age > 200:\n",
    "        raise ValueError('Please enter your actual age')\n",
    "except ValueError as e:\n",
    "    print(e)\n",
    "except TypeError as e:\n",
    "    print(\"Please enter your age in numbers\")\n",
    "else:\n",
    "    if age <= 12:\n",
    "        print(\"Child\")\n",
    "    elif age <= 19:\n",
    "        print(\"Teenager\")\n",
    "    elif age <= 59:\n",
    "        print(\"Adult\")\n",
    "    else:\n",
    "        print(\"Senior Citizen\")\n",
    "    \n"
   ]
  }
 ],
 "metadata": {
  "kernelspec": {
   "display_name": "Python 3",
   "language": "python",
   "name": "python3"
  },
  "language_info": {
   "codemirror_mode": {
    "name": "ipython",
    "version": 3
   },
   "file_extension": ".py",
   "mimetype": "text/x-python",
   "name": "python",
   "nbconvert_exporter": "python",
   "pygments_lexer": "ipython3",
   "version": "3.11.4"
  },
  "orig_nbformat": 4
 },
 "nbformat": 4,
 "nbformat_minor": 2
}
