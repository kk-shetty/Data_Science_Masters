{
 "cells": [
  {
   "cell_type": "markdown",
   "id": "09275c2e-e127-4258-952b-2cc7a0ea1db0",
   "metadata": {},
   "source": [
    "#### Q1. Create a python program to sort the given list of tuples based on integer value using a lambda function. \n",
    "\n",
    "`[('Sachin Tendulkar', 34357), ('Ricky Ponting', 27483), ('Jack Kallis', 25534), ('Virat Kohli', 24936)]`"
   ]
  },
  {
   "cell_type": "code",
   "execution_count": 5,
   "id": "503219e2-56b8-41e4-9163-0cfd89c3519b",
   "metadata": {},
   "outputs": [
    {
     "name": "stdout",
     "output_type": "stream",
     "text": [
      "[('Virat Kohli', 24936), ('Jack Kallis', 25534), ('Ricky Ponting', 27483), ('Sachin Tendulkar', 34357)]\n"
     ]
    }
   ],
   "source": [
    "tup_list = [('Sachin Tendulkar', 34357), ('Ricky Ponting', 27483), ('Jack Kallis', 25534), ('Virat Kohli', 24936)]\n",
    "\n",
    "sorted_list = sorted(tup_list, key = lambda x : x[1])\n",
    "print(sorted_list)\n"
   ]
  },
  {
   "cell_type": "markdown",
   "id": "86efb5b9-122e-41f3-9b31-4f81fa94dfe1",
   "metadata": {},
   "source": [
    "___"
   ]
  },
  {
   "cell_type": "markdown",
   "id": "6ff1843a-681d-4e5d-9c14-c68f8275b1e2",
   "metadata": {
    "tags": []
   },
   "source": [
    "#### Q2. Write a Python Program to find the squares of all the numbers in the given list of integers using lambda and map functions.\n",
    "\n",
    "`[1, 2, 3, 4, 5, 6, 7, 8, 9, 10]`"
   ]
  },
  {
   "cell_type": "code",
   "execution_count": 6,
   "id": "fbddc4aa-72ed-45a7-9271-b089478c3540",
   "metadata": {},
   "outputs": [
    {
     "name": "stdout",
     "output_type": "stream",
     "text": [
      "[1, 4, 9, 16, 25, 36, 49, 64, 81, 100]\n"
     ]
    }
   ],
   "source": [
    "numbers = [1, 2, 3, 4, 5, 6, 7, 8, 9, 10]\n",
    "squred_numbers = list(map(lambda x : x**2, numbers))\n",
    "print(squred_numbers)"
   ]
  },
  {
   "cell_type": "markdown",
   "id": "d7a0eb44-c0eb-4837-8df4-66e067d1df18",
   "metadata": {},
   "source": [
    "___"
   ]
  },
  {
   "cell_type": "markdown",
   "id": "d2aea157-8044-415e-be0d-04e476a6e019",
   "metadata": {},
   "source": [
    "#### Q3. Write a python program to convert the given list of integers into a tuple of strings. Use map and lambda functions\n",
    "\n",
    "Given String: `[1, 2, 3, 4, 5, 6, 7, 8, 9, 10]`\n",
    "\n",
    "Expected output: `('1', '2', '3', '4', '5', '6', '7', '8', '9', '10')`"
   ]
  },
  {
   "cell_type": "code",
   "execution_count": 7,
   "id": "dcdd4385-0ec0-4e6a-a4ed-10f454019d40",
   "metadata": {},
   "outputs": [
    {
     "name": "stdout",
     "output_type": "stream",
     "text": [
      "('1', '2', '3', '4', '5', '6', '7', '8', '9', '10')\n"
     ]
    }
   ],
   "source": [
    "int_list = [1, 2, 3, 4, 5, 6, 7, 8, 9, 10]\n",
    "str_tup = tuple(map(lambda x : str(x), int_list))\n",
    "print(str_tup)"
   ]
  },
  {
   "cell_type": "markdown",
   "id": "bc7a3659-9710-4300-bbe8-002b44b68d72",
   "metadata": {},
   "source": [
    "___"
   ]
  },
  {
   "cell_type": "markdown",
   "id": "14296581-c0f0-444f-82db-887079076513",
   "metadata": {},
   "source": [
    "#### Q4. Write a python program using reduce function to compute the product of a list containing numbers from 1 to 25."
   ]
  },
  {
   "cell_type": "code",
   "execution_count": 11,
   "id": "9ce862e0-26b2-4b51-97a7-fb82abcf9573",
   "metadata": {},
   "outputs": [
    {
     "name": "stdout",
     "output_type": "stream",
     "text": [
      "15511210043330985984000000\n"
     ]
    }
   ],
   "source": [
    "from functools import reduce\n",
    "\n",
    "num_list = [x for x in range(1,26)]\n",
    "product = reduce(lambda x,y : x*y, num_list)\n",
    "print(product)"
   ]
  },
  {
   "cell_type": "markdown",
   "id": "18be3009-20ea-40fe-92aa-f5f5f2ddc020",
   "metadata": {},
   "source": [
    "___"
   ]
  },
  {
   "cell_type": "markdown",
   "id": "b33040d0-ceb1-4152-bf68-cedec457ad78",
   "metadata": {},
   "source": [
    "#### Q5. Write a python program to filter the numbers in a given list that are divisible by 2 and 3 using the filter function.\n",
    "\n",
    "`[2, 3, 6, 9, 27, 60, 90, 120, 55, 46]`"
   ]
  },
  {
   "cell_type": "code",
   "execution_count": 14,
   "id": "2d8474d8-597f-417a-895f-2bf34453cfd1",
   "metadata": {},
   "outputs": [
    {
     "name": "stdout",
     "output_type": "stream",
     "text": [
      "[6, 60, 90, 120]\n"
     ]
    }
   ],
   "source": [
    "nums = [2, 3, 6, 9, 27, 60, 90, 120, 55, 46]\n",
    "div_by_2and3 = filter(lambda x : x%2 == 0 and x%3 == 0, nums)\n",
    "print(list(div_by_2and3))"
   ]
  },
  {
   "cell_type": "markdown",
   "id": "e0a8d04b-f262-4e03-be98-03744c4a60f3",
   "metadata": {},
   "source": [
    "___"
   ]
  },
  {
   "cell_type": "markdown",
   "id": "b206b13b-8446-441d-a065-88479c39c26d",
   "metadata": {},
   "source": [
    "#### Q6. Write a python program to find palindromes in the given list of strings using lambda and filter function.\n",
    "\n",
    "`['python', 'php', 'aba', 'radar', 'level']`"
   ]
  },
  {
   "cell_type": "code",
   "execution_count": 18,
   "id": "395836d3-b276-4c09-a356-db8e29834ea2",
   "metadata": {},
   "outputs": [
    {
     "name": "stdout",
     "output_type": "stream",
     "text": [
      "['php', 'aba', 'radar', 'level']\n"
     ]
    }
   ],
   "source": [
    "strings = ['python', 'php', 'aba', 'radar', 'level']\n",
    "paliandromes = list(filter(lambda x : x == x[::-1], strings))\n",
    "print(paliandromes)"
   ]
  },
  {
   "cell_type": "markdown",
   "id": "1cdd6113-6508-48fb-b4c0-5e98278ff656",
   "metadata": {},
   "source": [
    "___"
   ]
  }
 ],
 "metadata": {
  "kernelspec": {
   "display_name": "Python 3 (ipykernel)",
   "language": "python",
   "name": "python3"
  },
  "language_info": {
   "codemirror_mode": {
    "name": "ipython",
    "version": 3
   },
   "file_extension": ".py",
   "mimetype": "text/x-python",
   "name": "python",
   "nbconvert_exporter": "python",
   "pygments_lexer": "ipython3",
   "version": "3.10.8"
  }
 },
 "nbformat": 4,
 "nbformat_minor": 5
}
