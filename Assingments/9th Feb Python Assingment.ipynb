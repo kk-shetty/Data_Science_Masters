{
 "cells": [
  {
   "cell_type": "markdown",
   "id": "60fc9a66-63f8-44d9-b70a-9afe6f9f9818",
   "metadata": {},
   "source": [
    "#### Q1. Create a vehicle class with an init method having instance variables as name_of_vehicle, max_speed and average_of_vehicle."
   ]
  },
  {
   "cell_type": "code",
   "execution_count": 16,
   "id": "8f133db5-0e3b-4590-81c8-e6d5a341deda",
   "metadata": {},
   "outputs": [],
   "source": [
    "class vehicle:\n",
    "    \n",
    "    def __init__(self, name_of_vehicle, max_speed, average_of_vehicle):\n",
    "        self.name_of_vehicle = name_of_vehicle\n",
    "        self.max_speed = max_speed\n",
    "        self.average_of_vehicle = average_of_vehicle"
   ]
  },
  {
   "cell_type": "markdown",
   "id": "d4fdeed0-cfc6-4547-848e-77a36f2d3491",
   "metadata": {},
   "source": [
    "___"
   ]
  },
  {
   "cell_type": "markdown",
   "id": "8841c903-1405-4dc4-ab28-72656d26b23c",
   "metadata": {},
   "source": [
    "#### Q2. Create a child class car from the vehicle class created in Que 1, which will inherit the vehicle class. Create a method named seating_capacity which takes capacity as an argument and returns the name of the vehicle and its seating capacity."
   ]
  },
  {
   "cell_type": "code",
   "execution_count": 17,
   "id": "b3df0f31-87c4-46c6-ad46-e648ab985374",
   "metadata": {},
   "outputs": [],
   "source": [
    "class car(vehicle):\n",
    "    def seeting_capacity(self, capacity):\n",
    "        return (self.name_of_vehicle, capacity)"
   ]
  },
  {
   "cell_type": "code",
   "execution_count": 18,
   "id": "70470e68-9777-41b6-bea7-38c24a255728",
   "metadata": {},
   "outputs": [],
   "source": [
    "mycar = car('Tata Altroz', 140, 18.5)"
   ]
  },
  {
   "cell_type": "code",
   "execution_count": 21,
   "id": "c2e3c857-63fc-4197-bb86-a253caa564d7",
   "metadata": {},
   "outputs": [
    {
     "name": "stdout",
     "output_type": "stream",
     "text": [
      "Tata Altroz has seeting capcity of 5\n"
     ]
    }
   ],
   "source": [
    "name, capacity = mycar.seeting_capacity(5)\n",
    "print(f\"{name} has seeting capcity of {capacity}\")"
   ]
  },
  {
   "cell_type": "markdown",
   "id": "09c82637-e7ad-4340-bfec-2a235085cdd2",
   "metadata": {},
   "source": [
    "___"
   ]
  },
  {
   "cell_type": "markdown",
   "id": "2401c7f5-1ed5-463e-a849-66d3e2e753cd",
   "metadata": {},
   "source": [
    "#### Q3. What is multiple inheritance? Write a python code to demonstrate multiple inheritance."
   ]
  },
  {
   "cell_type": "markdown",
   "id": "1a7c4f35-5443-4e2a-8147-2f01e133535f",
   "metadata": {},
   "source": [
    "Multiple inheritance is a feature in object-oriented programming where a class can inherit attributes and methods from multiple parent classes. This allows a child class to inherit and combine the characteristics and behaviors of multiple parent classes."
   ]
  },
  {
   "cell_type": "code",
   "execution_count": null,
   "id": "d2d3a0d5-b387-4c9b-8c2b-4e911e070ff5",
   "metadata": {},
   "outputs": [
    {
     "name": "stdout",
     "output_type": "stream",
     "text": [
      "Minny\n",
      "Pulpy\n",
      "I can Swim!!\n",
      "I can Swim!!\n",
      "I can walk!!\n"
     ]
    }
   ],
   "source": [
    "# Example\n",
    "\n",
    "\n",
    "class animal:\n",
    "    def __init__(self, name):\n",
    "        self.name = name\n",
    "\n",
    "class aquatic:\n",
    "    def swim(self):\n",
    "        print('I can Swim!!')\n",
    "\n",
    "class terrestrial :\n",
    "    def walk(self):\n",
    "        print('I can walk!!')\n",
    "        \n",
    "# Fish inherits from animals and aquatic    \n",
    "class fish(animal, aquatic):\n",
    "    def hello(self):\n",
    "        print(\"I'm a fish..\")\n",
    "        \n",
    "# frog inherits from animals, aquatic and terrestrial\n",
    "class frog(animal, aquatic, terrestrial):\n",
    "    def hello(self):\n",
    "        print(\"I'm a frog..\")\n",
    "    \n",
    "# Creating an instance of objects fish and frog\n",
    "myfish = fish(\"Minny\")\n",
    "myfrog = frog(\"Pulpy\")\n",
    "\n",
    "\n",
    "# Accessing attributes from animal class\n",
    "print(myfish.name)\n",
    "print(myfrog.name)\n",
    "\n",
    "# Accessing method from aquatic class\n",
    "myfish.swim()\n",
    "myfrog.swim()\n",
    "\n",
    "# Accessing method from terrestrial class\n",
    "myfrog.walk()"
   ]
  },
  {
   "cell_type": "markdown",
   "id": "e3b0af31-b82f-4951-acfe-0c880a4be16b",
   "metadata": {},
   "source": [
    "___"
   ]
  },
  {
   "cell_type": "markdown",
   "id": "3572dd18-10aa-4749-80bc-83dd45abebb8",
   "metadata": {},
   "source": [
    "#### Q4. What are getter and setter in python? Create a class and create a getter and a setter method in this class."
   ]
  },
  {
   "cell_type": "markdown",
   "id": "82fe01f5-2db4-4e08-9e7e-29673cfbb8b5",
   "metadata": {},
   "source": [
    "##### In python getter and setter are special methods used to access and modify provate variables of a class whoich are not directly accessible."
   ]
  },
  {
   "cell_type": "code",
   "execution_count": 1,
   "id": "94f51269-f2fb-437e-af38-cfe7a8d8135f",
   "metadata": {},
   "outputs": [],
   "source": [
    "#Example\n",
    "\n",
    "class mug:\n",
    "    \n",
    "    def __init__(self, size, color, material):\n",
    "        self.size = size\n",
    "        self.color = color\n",
    "        self.__material = material # Private variable\n",
    "    \n",
    "    # getter method\n",
    "    @property\n",
    "    def material(self):\n",
    "        return self.__material\n",
    "    \n",
    "    # A setter method\n",
    "    @material.setter\n",
    "    def material(self, new_material):\n",
    "        self.__material = new_material"
   ]
  },
  {
   "cell_type": "code",
   "execution_count": 5,
   "id": "42d51243-1602-48f4-92a0-e3ed5b8b5887",
   "metadata": {},
   "outputs": [
    {
     "name": "stdout",
     "output_type": "stream",
     "text": [
      "paper\n",
      "plastic\n"
     ]
    }
   ],
   "source": [
    "# Creating an instance of the class\n",
    "ccd1 = mug('small', 'white', 'paper')\n",
    "\n",
    "# Accessing private variable material\n",
    "print(ccd1.material)\n",
    "\n",
    "# Updating private variable material\n",
    "ccd1.material = 'plastic'\n",
    "\n",
    "# Checking if update is reflected\n",
    "print(ccd1.material)"
   ]
  },
  {
   "cell_type": "markdown",
   "id": "0f34d114-65b1-4222-ae8c-7505eff55ba8",
   "metadata": {},
   "source": [
    "___"
   ]
  },
  {
   "cell_type": "markdown",
   "id": "abaafd9d-4a78-4b8e-a7db-3dc3eaac3404",
   "metadata": {},
   "source": [
    "#### Q5.What is method overriding in python? Write a python code to demonstrate method overriding."
   ]
  },
  {
   "cell_type": "markdown",
   "id": "f39b3804-c4a0-40de-950b-10f803263db0",
   "metadata": {},
   "source": [
    "In python, method overriding is a concept where a sub class can override the specific implementation of a method that is already provided by it's superclass or parent calss.\n",
    "When a method in a subclass has the same name, same parameters or signature and same return type(or sub-type) as a method in its super-class, then the method in the subclass is said to override the method in the super-class."
   ]
  },
  {
   "cell_type": "code",
   "execution_count": 7,
   "id": "f1897517-39f1-40b6-99cd-7c38653e2c99",
   "metadata": {},
   "outputs": [
    {
     "name": "stdout",
     "output_type": "stream",
     "text": [
      "Hello ...!!\n",
      "Hello ...!!\n",
      "Value of parent object : P001\n",
      "Value of child object : C001\n"
     ]
    }
   ],
   "source": [
    "# Example of method overriding\n",
    "\n",
    "class parent:\n",
    "    \n",
    "    def __init__(self, value):\n",
    "        self.value = value\n",
    "    \n",
    "    def greet(self):\n",
    "        print(\"Hello ...!!\")\n",
    "    \n",
    "    def show_value(self):\n",
    "        print(f'Value of parent object : {self.value}')\n",
    "\n",
    "# Class child inherits class parent        \n",
    "class child(parent):\n",
    "    \n",
    "    def __init__(self, value):\n",
    "        self.value = value\n",
    "    \n",
    "    # Childs show_value method overrides parents show_value() method\n",
    "    def show_value(self):\n",
    "        print(f'Value of child object : {self.value}')\n",
    "\n",
    "obj_p = parent('P001')\n",
    "obj_c = child('C001')\n",
    "\n",
    "# Child class doesn't override greet() method of parent class\n",
    "obj_p.greet()\n",
    "obj_c.greet()\n",
    "\n",
    "# Child class overrides show_value() class of parent object\n",
    "obj_p.show_value()\n",
    "obj_c.show_value()\n",
    "\n",
    "\n"
   ]
  },
  {
   "cell_type": "markdown",
   "id": "214203da-4c9b-4b41-bc7e-d094b70455a8",
   "metadata": {},
   "source": [
    "___"
   ]
  },
  {
   "cell_type": "code",
   "execution_count": null,
   "id": "8a317e39-2b22-44a6-b4fe-71b843330bd0",
   "metadata": {},
   "outputs": [],
   "source": []
  }
 ],
 "metadata": {
  "kernelspec": {
   "display_name": "Python 3 (ipykernel)",
   "language": "python",
   "name": "python3"
  },
  "language_info": {
   "codemirror_mode": {
    "name": "ipython",
    "version": 3
   },
   "file_extension": ".py",
   "mimetype": "text/x-python",
   "name": "python",
   "nbconvert_exporter": "python",
   "pygments_lexer": "ipython3",
   "version": "3.10.8"
  }
 },
 "nbformat": 4,
 "nbformat_minor": 5
}
