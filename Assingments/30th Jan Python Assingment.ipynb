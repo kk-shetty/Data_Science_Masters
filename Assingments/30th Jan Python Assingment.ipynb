{
 "cells": [
  {
   "cell_type": "markdown",
   "id": "0b944fdc-5917-4cdc-b0c8-9da6676bbcc4",
   "metadata": {},
   "source": [
    "##### 1. Write a program to accept percentage from the user and display the grade according to the following criteria: \n",
    "\n",
    "| Marks | Grade |\n",
    "| ----------- | ----------- |\n",
    "| >90 | A |\n",
    "| >80 and <=90 | B |\n",
    "| >=60 and <=80 | C |\n",
    "| below 60 | D |"
   ]
  },
  {
   "cell_type": "code",
   "execution_count": 2,
   "id": "5be29937-5d2f-4ab9-9704-3317e11dbe5c",
   "metadata": {},
   "outputs": [
    {
     "name": "stdin",
     "output_type": "stream",
     "text": [
      "Please enter your percentage (0 to 100):  66\n"
     ]
    },
    {
     "name": "stdout",
     "output_type": "stream",
     "text": [
      "Your Grade is : C\n"
     ]
    }
   ],
   "source": [
    "## Accept percentage from user\n",
    "percentage = int(input(\"Please enter your percentage (0 to 100): \"))\n",
    "\n",
    "## If-elif-else to determine Grade\n",
    "if percentage > 90:\n",
    "    grade = 'A'\n",
    "elif percentage <= 90 and percentage > 80:\n",
    "    grade = 'B'\n",
    "elif percentage <= 80 and percentage >= 60:\n",
    "    grade = 'C'\n",
    "else:\n",
    "    grade = 'D'\n",
    "\n",
    "## Print the grade\n",
    "print(\"Your Grade is : {}\".format(grade))"
   ]
  },
  {
   "cell_type": "markdown",
   "id": "a3014782-00bf-406f-8c51-4c808eef9949",
   "metadata": {},
   "source": [
    "##### 2. Write a program to accept the cost price of a bike and display the road tax to be paid according to the following criteria:\n",
    "\n",
    "| Tax | Cost Price(in Rs) |\n",
    "| ----------- | ----------- |\n",
    "| 15% | > 100000 |\n",
    "| 10% | >50000 and <= 100000 |\n",
    "| 5% | <= 50000 |"
   ]
  },
  {
   "cell_type": "code",
   "execution_count": 3,
   "id": "f67b8ddc-54ce-4878-828a-71d2d0b2f27f",
   "metadata": {},
   "outputs": [
    {
     "name": "stdin",
     "output_type": "stream",
     "text": [
      "Please enter cost of your Bike (in Rs):  120000\n"
     ]
    },
    {
     "name": "stdout",
     "output_type": "stream",
     "text": [
      "Your road tax will be 15%\n",
      "Total tax =  Rs. 18000.0\n",
      "Total on-road cost =  Rs. 138000.0\n"
     ]
    }
   ],
   "source": [
    "## Accept cost price from user\n",
    "bike_cost = int(input(\"Please enter cost of your Bike (in Rs): \"))\n",
    "\n",
    "## If-elif-else to determine Grade\n",
    "if bike_cost > 1_00_000:\n",
    "    tax = 15\n",
    "elif bike_cost <= 1_00_000 and bike_cost > 50_000:\n",
    "    tax = 10\n",
    "else:\n",
    "    tax = 5\n",
    "\n",
    "## Print the grade\n",
    "print(\"Your road tax will be {}%\".format(tax))\n",
    "print(\"Total tax =  Rs. {}\".format(bike_cost * (tax/100)))\n",
    "print(\"Total on-road cost =  Rs. {}\".format(bike_cost * (1 + (tax/100))))"
   ]
  },
  {
   "cell_type": "markdown",
   "id": "1b7a9b0f-3723-4104-abcd-91aa96a1a633",
   "metadata": {},
   "source": [
    "##### 3. Accept any city from the user and display monuments of that city.\n",
    "\n",
    "| City | Monument |\n",
    "| ----------- | ----------- |\n",
    "| Delhi | Red Fort |\n",
    "| Agra | Taj Mahal |\n",
    "| Jaipur | Jal Mahal |"
   ]
  },
  {
   "cell_type": "code",
   "execution_count": 6,
   "id": "624b502a-e3c0-4aac-9930-050e91831109",
   "metadata": {},
   "outputs": [
    {
     "name": "stdin",
     "output_type": "stream",
     "text": [
      "Please enter cost of your Bike (in Rs):  delhi\n"
     ]
    },
    {
     "name": "stdout",
     "output_type": "stream",
     "text": [
      "Delhi has Red Fort\n"
     ]
    }
   ],
   "source": [
    "## Accept City name from user\n",
    "city = input(\"Please enter cost of your Bike (in Rs): \").title()\n",
    "\n",
    "## If-elif-else to determine Grade\n",
    "if city == 'Delhi':\n",
    "    monument = 'Red Fort'\n",
    "elif city == 'Agra':\n",
    "    monument = 'Taj Mahal'\n",
    "elif city == 'Jaipur':\n",
    "    monument = 'Jal Mahal'\n",
    "else:\n",
    "    monument = '<N/A>'\n",
    "\n",
    "## Print the grade\n",
    "print(\"{} has {}\".format(city, monument))"
   ]
  },
  {
   "cell_type": "markdown",
   "id": "ec7deae9-db78-4cde-9f43-a6eb09c11ecd",
   "metadata": {},
   "source": [
    "##### 4. Check how many times a given number can be divided by 3 before it is less than or equal to 10."
   ]
  },
  {
   "cell_type": "code",
   "execution_count": 9,
   "id": "30c2c45f-f932-4cc2-bbd6-2715c24fda94",
   "metadata": {},
   "outputs": [
    {
     "name": "stdin",
     "output_type": "stream",
     "text": [
      "Please enter a valid number:  100\n"
     ]
    },
    {
     "name": "stdout",
     "output_type": "stream",
     "text": [
      "100 can be divided 3 times by 3 before it becomes less than or equal to 10\n"
     ]
    }
   ],
   "source": [
    "## Accept number from user\n",
    "input_number = int(input(\"Please enter a valid number: \"))\n",
    "\n",
    "count = 0\n",
    "number = input_number\n",
    "\n",
    "while number > 10:\n",
    "    count+=1\n",
    "    number = number/3\n",
    "\n",
    "print(\"{} can be divided {} times by 3 before it becomes less than or equal to 10\".format(input_number, count))"
   ]
  },
  {
   "cell_type": "markdown",
   "id": "6f394129-c498-4ef9-82bf-d1aa2a9517c6",
   "metadata": {},
   "source": [
    "##### 5. Why and When to Use while Loop in Python? give a detailed description with example"
   ]
  },
  {
   "cell_type": "markdown",
   "id": "e71c5811-92f9-46ac-89e3-6b1111da03c2",
   "metadata": {},
   "source": [
    ">We can use a while loop whenever you need to repeatedly execute a block of code as long as a certain condition is true. This type of loop is particularly useful when you don't know beforehand how many times you'll need to repeat the code, as it allows you to keep looping until a specific condition is met.\n",
    ">Here's a real-life example where a while loop would be the best choice:\n",
    ">\n",
    ">Imagine you're building a guessing game, where the player has to guess a randomly generated number. You can use a while loop to keep prompting the player for a guess until they get the right answer. Here's a simple implementation of this example:\n",
    ">```\n",
    ">    target = 876 #Any random number\n",
    ">    guess = None\n",
    ">    \n",
    ">    while guess != target:\n",
    ">        guess = int(input(\"Enter a guess: \"))\n",
    ">        if guess < target:\n",
    ">            print(\"Too low!\")\n",
    ">        elif guess > target:\n",
    ">            print(\"Too high!\")\n",
    ">    \n",
    ">    print(\"You got it!\")\n",
    ">```\n",
    "> \n",
    ">In this example, the while loop continues to run until the player's guess matches the target number. It's not possible to implement this example with a for loop, as you don't know in advance how many iterations will be required. The while loop provides a flexible and intuitive way to keep the game going until the player wins."
   ]
  },
  {
   "cell_type": "markdown",
   "id": "2e5610d7-bf7c-4914-a05e-0f7bd7c5e4c1",
   "metadata": {},
   "source": [
    "##### 6. Use nested while loop to print 3 different pattern."
   ]
  },
  {
   "cell_type": "code",
   "execution_count": 5,
   "id": "f86553de-cb9e-4db8-9065-9ac4eebf44f5",
   "metadata": {},
   "outputs": [
    {
     "name": "stdout",
     "output_type": "stream",
     "text": [
      "1. Equilateral Triangle\n",
      "\n",
      "    *\n",
      "   ***\n",
      "  *****\n",
      " *******\n",
      "*********"
     ]
    }
   ],
   "source": [
    "#Equilateral Triangle of base 9\n",
    "print('1. Equilateral Triangle')\n",
    "\n",
    "start = 1\n",
    "pointer = start\n",
    "base = 9\n",
    "\n",
    "while pointer <= base:\n",
    "    print('\\r')\n",
    "    margin = (base - pointer)//2\n",
    "    stars = pointer\n",
    "    while margin > 0:\n",
    "        print(' ', end = '')\n",
    "        margin-=1\n",
    "    while stars > 0:\n",
    "        print('*', end = '')\n",
    "        stars-=1\n",
    "    pointer+=2"
   ]
  },
  {
   "cell_type": "code",
   "execution_count": 6,
   "id": "cb2bd643-c4e4-4206-90a2-95c587512294",
   "metadata": {},
   "outputs": [
    {
     "name": "stdout",
     "output_type": "stream",
     "text": [
      "2. Equilateral Triangle\n",
      "\n",
      "   *\n",
      "  ***\n",
      " *****\n",
      "*******\n",
      " *****\n",
      "  ***\n",
      "   *"
     ]
    }
   ],
   "source": [
    "#Diamond of width 7\n",
    "print('2. Equilateral Triangle')\n",
    "\n",
    "start = 1\n",
    "pointer = start\n",
    "base = 7\n",
    "\n",
    "while pointer <= base:\n",
    "    print('\\r')\n",
    "    margin = (base - pointer)//2\n",
    "    stars = pointer\n",
    "    while margin > 0:\n",
    "        print(' ', end = '')\n",
    "        margin-=1\n",
    "    while stars > 0:\n",
    "        print('*', end = '')\n",
    "        stars-=1\n",
    "    pointer+=2\n",
    "    \n",
    "#Reset pointer\n",
    "pointer = base - 2\n",
    "\n",
    "while pointer >= start:\n",
    "    print('\\r')\n",
    "    margin = (base - pointer)//2\n",
    "    stars = pointer\n",
    "    while margin > 0:\n",
    "        print(' ', end = '')\n",
    "        margin-=1\n",
    "    while stars > 0:\n",
    "        print('*', end = '')\n",
    "        stars-=1\n",
    "    pointer-=2\n",
    "\n",
    "#print(\"\\nPointer : {}\\nBase : {}\\nStart : {}\".format(pointer, base,start))"
   ]
  },
  {
   "cell_type": "code",
   "execution_count": 7,
   "id": "8076a4d9-63b5-490d-978b-9dfc577f18e9",
   "metadata": {},
   "outputs": [
    {
     "name": "stdout",
     "output_type": "stream",
     "text": [
      "3. Rhombus of size 7X5\n",
      "\n",
      "    **********\n",
      "   **********\n",
      "  **********\n",
      " **********\n",
      "**********"
     ]
    }
   ],
   "source": [
    "#Rhombus of size 10X5\n",
    "print('3. Rhombus of size 7X5')\n",
    "\n",
    "width = 10\n",
    "height = 5\n",
    "\n",
    "while height > 0:\n",
    "    print('\\r')\n",
    "    margin = height-1\n",
    "    stars = width\n",
    "    while margin > 0:\n",
    "        print(' ', end = '')\n",
    "        margin-=1\n",
    "    while stars > 0:\n",
    "        print('*', end = '')\n",
    "        stars-=1\n",
    "    height-=1"
   ]
  },
  {
   "cell_type": "markdown",
   "id": "1626ea22-73e8-4058-9a5e-00e3ed413e4b",
   "metadata": {},
   "source": [
    "##### 7. Reverse a while loop to display numbers from 10 to 1."
   ]
  },
  {
   "cell_type": "code",
   "execution_count": 8,
   "id": "6b6b3bd2-dfb8-4eb1-92b3-2b5a4be6f76d",
   "metadata": {},
   "outputs": [
    {
     "name": "stdout",
     "output_type": "stream",
     "text": [
      "10\n",
      "9\n",
      "8\n",
      "7\n",
      "6\n",
      "5\n",
      "4\n",
      "3\n",
      "2\n",
      "1\n"
     ]
    }
   ],
   "source": [
    "number = 10\n",
    "\n",
    "while number > 0:\n",
    "    print(number)\n",
    "    number-=1"
   ]
  },
  {
   "cell_type": "markdown",
   "id": "d81e4ea9-91ff-45f4-a91a-373d43a4462f",
   "metadata": {},
   "source": [
    "##### 8. Reverse a ~while~ **for** loop to display numbers from 10 to 1"
   ]
  },
  {
   "cell_type": "code",
   "execution_count": 9,
   "id": "9787ddb7-344d-46ae-9a4a-d8452b32d6b2",
   "metadata": {},
   "outputs": [
    {
     "name": "stdout",
     "output_type": "stream",
     "text": [
      "10\n",
      "9\n",
      "8\n",
      "7\n",
      "6\n",
      "5\n",
      "4\n",
      "3\n",
      "2\n",
      "1\n"
     ]
    }
   ],
   "source": [
    "for number in range(10, 0, -1):\n",
    "    print(number)"
   ]
  },
  {
   "cell_type": "code",
   "execution_count": null,
   "id": "668054e5-634f-47a9-89bc-50b0d495dfe4",
   "metadata": {},
   "outputs": [],
   "source": []
  }
 ],
 "metadata": {
  "kernelspec": {
   "display_name": "Python 3 (ipykernel)",
   "language": "python",
   "name": "python3"
  },
  "language_info": {
   "codemirror_mode": {
    "name": "ipython",
    "version": 3
   },
   "file_extension": ".py",
   "mimetype": "text/x-python",
   "name": "python",
   "nbconvert_exporter": "python",
   "pygments_lexer": "ipython3",
   "version": "3.10.8"
  }
 },
 "nbformat": 4,
 "nbformat_minor": 5
}
