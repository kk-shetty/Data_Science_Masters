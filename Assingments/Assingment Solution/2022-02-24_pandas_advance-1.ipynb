{
 "cells": [
  {
   "cell_type": "markdown",
   "id": "aa67d9b2-c4c9-46f7-9980-fb9ac080b427",
   "metadata": {},
   "source": [
    "#### Q1. List any five functions of the pandas library with execution."
   ]
  },
  {
   "cell_type": "code",
   "execution_count": 1,
   "id": "08cc56a1-6629-4583-8652-1aa180eb0836",
   "metadata": {},
   "outputs": [],
   "source": [
    "import pandas as pd"
   ]
  },
  {
   "cell_type": "code",
   "execution_count": 2,
   "id": "36299ad7-bc88-43f8-bc05-295270b8a80a",
   "metadata": {},
   "outputs": [],
   "source": [
    "#1 : The read_csv() function\n",
    "df = pd.read_csv(\"data_files/detailed_result.csv\")"
   ]
  },
  {
   "cell_type": "code",
   "execution_count": 3,
   "id": "4b76a0e8-150c-401c-a23e-fc7e4b47739a",
   "metadata": {},
   "outputs": [
    {
     "data": {
      "text/html": [
       "<div>\n",
       "<style scoped>\n",
       "    .dataframe tbody tr th:only-of-type {\n",
       "        vertical-align: middle;\n",
       "    }\n",
       "\n",
       "    .dataframe tbody tr th {\n",
       "        vertical-align: top;\n",
       "    }\n",
       "\n",
       "    .dataframe thead th {\n",
       "        text-align: right;\n",
       "    }\n",
       "</style>\n",
       "<table border=\"1\" class=\"dataframe\">\n",
       "  <thead>\n",
       "    <tr style=\"text-align: right;\">\n",
       "      <th></th>\n",
       "      <th>District</th>\n",
       "      <th>Constituency No.</th>\n",
       "      <th>Constituency Name</th>\n",
       "      <th>Winner Candidate</th>\n",
       "      <th>Winner Party</th>\n",
       "      <th>Winner Votes</th>\n",
       "      <th>Winner %</th>\n",
       "      <th>Runner Up Candidate</th>\n",
       "      <th>Runner Up Party</th>\n",
       "      <th>Runner Up Votes</th>\n",
       "      <th>Runner Up %</th>\n",
       "      <th>Margin</th>\n",
       "    </tr>\n",
       "  </thead>\n",
       "  <tbody>\n",
       "    <tr>\n",
       "      <th>0</th>\n",
       "      <td>Belagavi</td>\n",
       "      <td>1</td>\n",
       "      <td>Nippani</td>\n",
       "      <td>Shashikala Jolle</td>\n",
       "      <td>BJP</td>\n",
       "      <td>73348.0</td>\n",
       "      <td>39.14</td>\n",
       "      <td>Uttam Raosaheb Patil</td>\n",
       "      <td>NCP</td>\n",
       "      <td>66056</td>\n",
       "      <td>35.25</td>\n",
       "      <td>7292</td>\n",
       "    </tr>\n",
       "    <tr>\n",
       "      <th>1</th>\n",
       "      <td>Belagavi</td>\n",
       "      <td>2</td>\n",
       "      <td>Chikkodi-Sadalga</td>\n",
       "      <td>Ganesh Hukkeri</td>\n",
       "      <td>INC</td>\n",
       "      <td>128349.0</td>\n",
       "      <td>69.82</td>\n",
       "      <td>Ramesh Katti</td>\n",
       "      <td>BJP</td>\n",
       "      <td>49840</td>\n",
       "      <td>27.11</td>\n",
       "      <td>78509</td>\n",
       "    </tr>\n",
       "    <tr>\n",
       "      <th>2</th>\n",
       "      <td>Belagavi</td>\n",
       "      <td>3</td>\n",
       "      <td>Athani</td>\n",
       "      <td>Laxman Savadi</td>\n",
       "      <td>INC</td>\n",
       "      <td>131404.0</td>\n",
       "      <td>68.34</td>\n",
       "      <td>Mahesh Kumathalli</td>\n",
       "      <td>BJP</td>\n",
       "      <td>55282</td>\n",
       "      <td>28.75</td>\n",
       "      <td>76122</td>\n",
       "    </tr>\n",
       "  </tbody>\n",
       "</table>\n",
       "</div>"
      ],
      "text/plain": [
       "   District  Constituency No. Constituency Name  Winner Candidate  \\\n",
       "0  Belagavi                 1           Nippani  Shashikala Jolle   \n",
       "1  Belagavi                 2  Chikkodi-Sadalga    Ganesh Hukkeri   \n",
       "2  Belagavi                 3            Athani     Laxman Savadi   \n",
       "\n",
       "  Winner Party  Winner Votes  Winner %   Runner Up Candidate Runner Up Party  \\\n",
       "0          BJP       73348.0     39.14  Uttam Raosaheb Patil             NCP   \n",
       "1          INC      128349.0     69.82          Ramesh Katti             BJP   \n",
       "2          INC      131404.0     68.34     Mahesh Kumathalli             BJP   \n",
       "\n",
       "   Runner Up Votes  Runner Up %  Margin  \n",
       "0            66056        35.25    7292  \n",
       "1            49840        27.11   78509  \n",
       "2            55282        28.75   76122  "
      ]
     },
     "execution_count": 3,
     "metadata": {},
     "output_type": "execute_result"
    }
   ],
   "source": [
    "#2 : The head() function to display first n rows (by default 5) of a dataframe\n",
    "df.head(3)"
   ]
  },
  {
   "cell_type": "code",
   "execution_count": 4,
   "id": "f25fbd3d-2686-4722-a0a6-ca5b14ea4428",
   "metadata": {},
   "outputs": [
    {
     "data": {
      "text/html": [
       "<div>\n",
       "<style scoped>\n",
       "    .dataframe tbody tr th:only-of-type {\n",
       "        vertical-align: middle;\n",
       "    }\n",
       "\n",
       "    .dataframe tbody tr th {\n",
       "        vertical-align: top;\n",
       "    }\n",
       "\n",
       "    .dataframe thead th {\n",
       "        text-align: right;\n",
       "    }\n",
       "</style>\n",
       "<table border=\"1\" class=\"dataframe\">\n",
       "  <thead>\n",
       "    <tr style=\"text-align: right;\">\n",
       "      <th></th>\n",
       "      <th>Constituency No.</th>\n",
       "      <th>Winner Votes</th>\n",
       "      <th>Winner %</th>\n",
       "      <th>Runner Up Votes</th>\n",
       "      <th>Runner Up %</th>\n",
       "      <th>Margin</th>\n",
       "    </tr>\n",
       "  </thead>\n",
       "  <tbody>\n",
       "    <tr>\n",
       "      <th>count</th>\n",
       "      <td>224.000000</td>\n",
       "      <td>224.000000</td>\n",
       "      <td>224.000000</td>\n",
       "      <td>224.000000</td>\n",
       "      <td>224.000000</td>\n",
       "      <td>224.000000</td>\n",
       "    </tr>\n",
       "    <tr>\n",
       "      <th>mean</th>\n",
       "      <td>112.500000</td>\n",
       "      <td>86177.926174</td>\n",
       "      <td>49.559464</td>\n",
       "      <td>65535.334821</td>\n",
       "      <td>37.547098</td>\n",
       "      <td>20979.535714</td>\n",
       "    </tr>\n",
       "    <tr>\n",
       "      <th>std</th>\n",
       "      <td>64.807407</td>\n",
       "      <td>21869.826428</td>\n",
       "      <td>7.517976</td>\n",
       "      <td>17701.285185</td>\n",
       "      <td>6.964289</td>\n",
       "      <td>17872.183975</td>\n",
       "    </tr>\n",
       "    <tr>\n",
       "      <th>min</th>\n",
       "      <td>1.000000</td>\n",
       "      <td>95.463000</td>\n",
       "      <td>29.400000</td>\n",
       "      <td>20631.000000</td>\n",
       "      <td>11.080000</td>\n",
       "      <td>16.000000</td>\n",
       "    </tr>\n",
       "    <tr>\n",
       "      <th>25%</th>\n",
       "      <td>56.750000</td>\n",
       "      <td>73311.000000</td>\n",
       "      <td>45.110000</td>\n",
       "      <td>54130.750000</td>\n",
       "      <td>32.312500</td>\n",
       "      <td>7842.500000</td>\n",
       "    </tr>\n",
       "    <tr>\n",
       "      <th>50%</th>\n",
       "      <td>112.500000</td>\n",
       "      <td>84412.500000</td>\n",
       "      <td>49.585000</td>\n",
       "      <td>64380.000000</td>\n",
       "      <td>38.415000</td>\n",
       "      <td>15968.500000</td>\n",
       "    </tr>\n",
       "    <tr>\n",
       "      <th>75%</th>\n",
       "      <td>168.250000</td>\n",
       "      <td>94654.000000</td>\n",
       "      <td>53.837500</td>\n",
       "      <td>74074.750000</td>\n",
       "      <td>43.607500</td>\n",
       "      <td>30774.500000</td>\n",
       "    </tr>\n",
       "    <tr>\n",
       "      <th>max</th>\n",
       "      <td>224.000000</td>\n",
       "      <td>196220.000000</td>\n",
       "      <td>74.580000</td>\n",
       "      <td>154031.000000</td>\n",
       "      <td>47.850000</td>\n",
       "      <td>122392.000000</td>\n",
       "    </tr>\n",
       "  </tbody>\n",
       "</table>\n",
       "</div>"
      ],
      "text/plain": [
       "       Constituency No.   Winner Votes    Winner %  Runner Up Votes  \\\n",
       "count        224.000000     224.000000  224.000000       224.000000   \n",
       "mean         112.500000   86177.926174   49.559464     65535.334821   \n",
       "std           64.807407   21869.826428    7.517976     17701.285185   \n",
       "min            1.000000      95.463000   29.400000     20631.000000   \n",
       "25%           56.750000   73311.000000   45.110000     54130.750000   \n",
       "50%          112.500000   84412.500000   49.585000     64380.000000   \n",
       "75%          168.250000   94654.000000   53.837500     74074.750000   \n",
       "max          224.000000  196220.000000   74.580000    154031.000000   \n",
       "\n",
       "       Runner Up %         Margin  \n",
       "count   224.000000     224.000000  \n",
       "mean     37.547098   20979.535714  \n",
       "std       6.964289   17872.183975  \n",
       "min      11.080000      16.000000  \n",
       "25%      32.312500    7842.500000  \n",
       "50%      38.415000   15968.500000  \n",
       "75%      43.607500   30774.500000  \n",
       "max      47.850000  122392.000000  "
      ]
     },
     "execution_count": 4,
     "metadata": {},
     "output_type": "execute_result"
    }
   ],
   "source": [
    "#3 : The describe() function which provides the key statistical data about the numerical columns of the data frame\n",
    "df.describe()"
   ]
  },
  {
   "cell_type": "code",
   "execution_count": 5,
   "id": "bf95b7ac-6ac6-4750-bb59-0aca2c8078c9",
   "metadata": {},
   "outputs": [
    {
     "data": {
      "text/plain": [
       "['BJP', 'INC', 'INC', 'INC', 'INC', ..., 'INC', 'JD(S)', 'INC', 'INC', 'INC']\n",
       "Length: 224\n",
       "Categories (6, object): ['BJP', 'INC', 'Ind', 'JD(S)', 'KRPP', 'SKP']"
      ]
     },
     "execution_count": 5,
     "metadata": {},
     "output_type": "execute_result"
    }
   ],
   "source": [
    "#4 : the Categorical() functions - It gives key analytics about a Column (series) \n",
    "pd.Categorical(df['Winner Party'])"
   ]
  },
  {
   "cell_type": "code",
   "execution_count": 6,
   "id": "b4057d5c-50d4-4b93-96b7-63613871f562",
   "metadata": {},
   "outputs": [
    {
     "data": {
      "text/plain": [
       "(224, 12)"
      ]
     },
     "execution_count": 6,
     "metadata": {},
     "output_type": "execute_result"
    }
   ],
   "source": [
    "#5 : The shape() function give the returns the shape of the datafram in Row X Columns\n",
    "df.shape"
   ]
  },
  {
   "cell_type": "markdown",
   "id": "f4422dbf-aad7-4ed9-b8af-80473f05c3f3",
   "metadata": {},
   "source": [
    "___"
   ]
  },
  {
   "cell_type": "markdown",
   "id": "0dd19b29-e48c-4082-96e2-1490f0632ebc",
   "metadata": {},
   "source": [
    "#### Q2. Given a Pandas DataFrame df with columns 'A', 'B', and 'C', write a Python function to re-index the DataFrame with a new index that starts from 1 and increments by 2 for each row."
   ]
  },
  {
   "cell_type": "code",
   "execution_count": 7,
   "id": "d42863b4-a0c9-464b-aef9-0ee698073020",
   "metadata": {},
   "outputs": [
    {
     "data": {
      "text/html": [
       "<div>\n",
       "<style scoped>\n",
       "    .dataframe tbody tr th:only-of-type {\n",
       "        vertical-align: middle;\n",
       "    }\n",
       "\n",
       "    .dataframe tbody tr th {\n",
       "        vertical-align: top;\n",
       "    }\n",
       "\n",
       "    .dataframe thead th {\n",
       "        text-align: right;\n",
       "    }\n",
       "</style>\n",
       "<table border=\"1\" class=\"dataframe\">\n",
       "  <thead>\n",
       "    <tr style=\"text-align: right;\">\n",
       "      <th></th>\n",
       "      <th>A</th>\n",
       "      <th>B</th>\n",
       "      <th>C</th>\n",
       "    </tr>\n",
       "  </thead>\n",
       "  <tbody>\n",
       "    <tr>\n",
       "      <th>0</th>\n",
       "      <td>A</td>\n",
       "      <td>12</td>\n",
       "      <td>0.4</td>\n",
       "    </tr>\n",
       "    <tr>\n",
       "      <th>1</th>\n",
       "      <td>B</td>\n",
       "      <td>43</td>\n",
       "      <td>0.3</td>\n",
       "    </tr>\n",
       "    <tr>\n",
       "      <th>2</th>\n",
       "      <td>C</td>\n",
       "      <td>18</td>\n",
       "      <td>0.8</td>\n",
       "    </tr>\n",
       "    <tr>\n",
       "      <th>3</th>\n",
       "      <td>D</td>\n",
       "      <td>93</td>\n",
       "      <td>0.9</td>\n",
       "    </tr>\n",
       "    <tr>\n",
       "      <th>4</th>\n",
       "      <td>E</td>\n",
       "      <td>23</td>\n",
       "      <td>0.4</td>\n",
       "    </tr>\n",
       "  </tbody>\n",
       "</table>\n",
       "</div>"
      ],
      "text/plain": [
       "   A   B    C\n",
       "0  A  12  0.4\n",
       "1  B  43  0.3\n",
       "2  C  18  0.8\n",
       "3  D  93  0.9\n",
       "4  E  23  0.4"
      ]
     },
     "execution_count": 7,
     "metadata": {},
     "output_type": "execute_result"
    }
   ],
   "source": [
    "A = ['A', 'B', 'C', 'D', 'E']\n",
    "B = [12,43,18,93,23]\n",
    "C = [0.4, 0.3, 0.8, 0.9, 0.4]\n",
    "\n",
    "df = pd.DataFrame({'A' : A, 'B' : B, 'C' : C})\n",
    "df"
   ]
  },
  {
   "cell_type": "code",
   "execution_count": 8,
   "id": "eb72d9e7-3677-4c78-b6f8-c781e3d3c35a",
   "metadata": {},
   "outputs": [
    {
     "data": {
      "text/plain": [
       "RangeIndex(start=0, stop=5, step=1)"
      ]
     },
     "execution_count": 8,
     "metadata": {},
     "output_type": "execute_result"
    }
   ],
   "source": [
    "df.index"
   ]
  },
  {
   "cell_type": "code",
   "execution_count": 9,
   "id": "4d760d41-8880-482a-9f45-db94124f765e",
   "metadata": {},
   "outputs": [
    {
     "data": {
      "text/html": [
       "<div>\n",
       "<style scoped>\n",
       "    .dataframe tbody tr th:only-of-type {\n",
       "        vertical-align: middle;\n",
       "    }\n",
       "\n",
       "    .dataframe tbody tr th {\n",
       "        vertical-align: top;\n",
       "    }\n",
       "\n",
       "    .dataframe thead th {\n",
       "        text-align: right;\n",
       "    }\n",
       "</style>\n",
       "<table border=\"1\" class=\"dataframe\">\n",
       "  <thead>\n",
       "    <tr style=\"text-align: right;\">\n",
       "      <th></th>\n",
       "      <th>A</th>\n",
       "      <th>B</th>\n",
       "      <th>C</th>\n",
       "    </tr>\n",
       "  </thead>\n",
       "  <tbody>\n",
       "    <tr>\n",
       "      <th>1</th>\n",
       "      <td>A</td>\n",
       "      <td>12</td>\n",
       "      <td>0.4</td>\n",
       "    </tr>\n",
       "    <tr>\n",
       "      <th>3</th>\n",
       "      <td>B</td>\n",
       "      <td>43</td>\n",
       "      <td>0.3</td>\n",
       "    </tr>\n",
       "    <tr>\n",
       "      <th>5</th>\n",
       "      <td>C</td>\n",
       "      <td>18</td>\n",
       "      <td>0.8</td>\n",
       "    </tr>\n",
       "    <tr>\n",
       "      <th>7</th>\n",
       "      <td>D</td>\n",
       "      <td>93</td>\n",
       "      <td>0.9</td>\n",
       "    </tr>\n",
       "    <tr>\n",
       "      <th>9</th>\n",
       "      <td>E</td>\n",
       "      <td>23</td>\n",
       "      <td>0.4</td>\n",
       "    </tr>\n",
       "  </tbody>\n",
       "</table>\n",
       "</div>"
      ],
      "text/plain": [
       "   A   B    C\n",
       "1  A  12  0.4\n",
       "3  B  43  0.3\n",
       "5  C  18  0.8\n",
       "7  D  93  0.9\n",
       "9  E  23  0.4"
      ]
     },
     "execution_count": 9,
     "metadata": {},
     "output_type": "execute_result"
    }
   ],
   "source": [
    "new_index = pd.RangeIndex(start=1, stop=len(df)*2, step=2)\n",
    "df.index = new_index\n",
    "df"
   ]
  },
  {
   "cell_type": "markdown",
   "id": "bba43411-0f2d-4186-be6c-0dd15ffd60a9",
   "metadata": {},
   "source": [
    "___"
   ]
  },
  {
   "cell_type": "markdown",
   "id": "b65ce3a6-0061-4078-bcb9-468e0218d873",
   "metadata": {},
   "source": [
    "#### Q3. You have a Pandas DataFrame df with a column named 'Values'. Write a Python function that iterates over the DataFrame and calculates the sum of the first three values in the 'Values' column. The function should print the sum to the console.\n",
    "#### For example, if the 'Values' column of df contains the values [10, 20, 30, 40, 50], your function should\n",
    "#### calculate and print the sum of the first three values, which is 60."
   ]
  },
  {
   "cell_type": "code",
   "execution_count": 10,
   "id": "7404834f-ffd7-423c-9f3f-11e7c2872ed3",
   "metadata": {},
   "outputs": [],
   "source": [
    "def sum_first_n(series, n):\n",
    "    sum = 0\n",
    "    for num in series[0:n]:\n",
    "        sum += num\n",
    "    return sum"
   ]
  },
  {
   "cell_type": "code",
   "execution_count": 11,
   "id": "a582a16e-bff5-4923-860c-59992f91abe3",
   "metadata": {},
   "outputs": [
    {
     "name": "stdout",
     "output_type": "stream",
     "text": [
      "60\n"
     ]
    }
   ],
   "source": [
    "df = pd.DataFrame({'Values' : [10, 20, 30, 40, 50]})\n",
    "\n",
    "result = sum_first_n(df['Values'],3)\n",
    "print(result)"
   ]
  },
  {
   "cell_type": "markdown",
   "id": "80a9d225-ff10-4a8f-993a-e28e59e90210",
   "metadata": {},
   "source": [
    "___"
   ]
  },
  {
   "cell_type": "markdown",
   "id": "dcf094cc-71f3-48c8-932a-4a441f25dc43",
   "metadata": {},
   "source": [
    "#### Q4. Given a Pandas DataFrame df with a column 'Text', write a Python function to create a new column 'Word_Count' that contains the number of words in each row of the 'Text' column."
   ]
  },
  {
   "cell_type": "code",
   "execution_count": 12,
   "id": "f8e23a70-55aa-4dae-91b0-68c11eaf61ed",
   "metadata": {},
   "outputs": [],
   "source": [
    "def word_count(text_col):\n",
    "    word_count = [len(x.split(\" \")) for x in text_col]\n",
    "    return word_count"
   ]
  },
  {
   "cell_type": "code",
   "execution_count": 13,
   "id": "317339fc-0250-4aed-a77b-df5d40c66fc3",
   "metadata": {},
   "outputs": [
    {
     "data": {
      "text/html": [
       "<div>\n",
       "<style scoped>\n",
       "    .dataframe tbody tr th:only-of-type {\n",
       "        vertical-align: middle;\n",
       "    }\n",
       "\n",
       "    .dataframe tbody tr th {\n",
       "        vertical-align: top;\n",
       "    }\n",
       "\n",
       "    .dataframe thead th {\n",
       "        text-align: right;\n",
       "    }\n",
       "</style>\n",
       "<table border=\"1\" class=\"dataframe\">\n",
       "  <thead>\n",
       "    <tr style=\"text-align: right;\">\n",
       "      <th></th>\n",
       "      <th>Text</th>\n",
       "      <th>Word Count</th>\n",
       "    </tr>\n",
       "  </thead>\n",
       "  <tbody>\n",
       "    <tr>\n",
       "      <th>0</th>\n",
       "      <td>Twinkle Twinkle Little Start</td>\n",
       "      <td>4</td>\n",
       "    </tr>\n",
       "    <tr>\n",
       "      <th>1</th>\n",
       "      <td>Roses are red, sky is blue</td>\n",
       "      <td>6</td>\n",
       "    </tr>\n",
       "    <tr>\n",
       "      <th>2</th>\n",
       "      <td>When life gives you, lemons</td>\n",
       "      <td>5</td>\n",
       "    </tr>\n",
       "    <tr>\n",
       "      <th>3</th>\n",
       "      <td>Art of leaving</td>\n",
       "      <td>3</td>\n",
       "    </tr>\n",
       "  </tbody>\n",
       "</table>\n",
       "</div>"
      ],
      "text/plain": [
       "                           Text  Word Count\n",
       "0  Twinkle Twinkle Little Start           4\n",
       "1    Roses are red, sky is blue           6\n",
       "2   When life gives you, lemons           5\n",
       "3                Art of leaving           3"
      ]
     },
     "execution_count": 13,
     "metadata": {},
     "output_type": "execute_result"
    }
   ],
   "source": [
    "df = pd.DataFrame({'Text' : ['Twinkle Twinkle Little Start', 'Roses are red, sky is blue', 'When life gives you, lemons', 'Art of leaving']})\n",
    "df.head()\n",
    "df['Word Count'] = word_count(df['Text'])\n",
    "df.head()"
   ]
  },
  {
   "cell_type": "markdown",
   "id": "7457ea5a-4592-47f8-9f91-50aecaa6ece5",
   "metadata": {},
   "source": [
    "___"
   ]
  },
  {
   "cell_type": "markdown",
   "id": "44147c77-eb5d-4b8c-8fd3-75282db22c11",
   "metadata": {},
   "source": [
    "#### Q5. How are DataFrame.size() and DataFrame.shape() different?"
   ]
  },
  {
   "cell_type": "markdown",
   "id": "ba98d9f3-de1a-483f-a44a-adee0719fe50",
   "metadata": {},
   "source": [
    "`size()` and `shape()` are both methods used to obtain information about the dimensions of a DataFrame or a Series. However, they provide different types of information:\n",
    "\n",
    "1. `size()` returns the total number of elements in a DataFrame or a Series.\n",
    "2. `size()` eturns a tuple that represents the dimensions of a DataFrame or a Series. \n",
    "    * For DataFrame it will return `(number of rows, number of columns)`.\n",
    "    * For Series it will return `(number of rows,)`, indicating that it has only one dimension (a single column)."
   ]
  },
  {
   "cell_type": "markdown",
   "id": "d0b2d0f5-c60f-4000-bec5-4c43de0ff3bc",
   "metadata": {},
   "source": [
    "---"
   ]
  },
  {
   "cell_type": "markdown",
   "id": "6e363bb4-6907-4e11-9a68-568ab6bc192c",
   "metadata": {},
   "source": [
    "#### Q6. Which function of pandas do we use to read an excel file?"
   ]
  },
  {
   "cell_type": "markdown",
   "id": "838075c2-be55-4f15-966b-5ec3205c53bd",
   "metadata": {},
   "source": [
    "To read an *Excel file* in pandas, we can use the `read_excel()` function. This function allows us to read the contents of an Excel file and create a DataFrame from it.\n",
    "The `read_excel()` function has many optional parameters that we can use to customize the import process, such as specifying sheet names, skipping rows, selecting specific columns, etc. "
   ]
  },
  {
   "cell_type": "markdown",
   "id": "93871b51-b363-4fda-8579-324dbdf02729",
   "metadata": {},
   "source": [
    "___"
   ]
  },
  {
   "cell_type": "markdown",
   "id": "c47f6297-db07-4308-94de-93f18f040b73",
   "metadata": {},
   "source": [
    "#### Q7. You have a Pandas DataFrame df that contains a column named 'Email' that contains email addresses in the format 'username@domain.com'. Write a Python function that creates a new column 'Username' in df that contains only the username part of each email address.\n",
    "#### The username is the part of the email address that appears before the '@' symbol. For example, if the email address is 'john.doe@example.com', the 'Username' column should contain 'john.doe'. Your function should extract the username from each email address and store it in the new 'Username' column."
   ]
  },
  {
   "cell_type": "code",
   "execution_count": 14,
   "id": "4a3abbfd-cf79-4984-b0f4-452227886b14",
   "metadata": {},
   "outputs": [],
   "source": [
    "def extract_username(df):\n",
    "    user_name = [x.split(\"@\")[0] for x in df['Email']]\n",
    "    df['Username'] = user_name"
   ]
  },
  {
   "cell_type": "code",
   "execution_count": 15,
   "id": "26b414c9-d1b2-40ce-91fd-ea811f284141",
   "metadata": {},
   "outputs": [
    {
     "data": {
      "text/html": [
       "<div>\n",
       "<style scoped>\n",
       "    .dataframe tbody tr th:only-of-type {\n",
       "        vertical-align: middle;\n",
       "    }\n",
       "\n",
       "    .dataframe tbody tr th {\n",
       "        vertical-align: top;\n",
       "    }\n",
       "\n",
       "    .dataframe thead th {\n",
       "        text-align: right;\n",
       "    }\n",
       "</style>\n",
       "<table border=\"1\" class=\"dataframe\">\n",
       "  <thead>\n",
       "    <tr style=\"text-align: right;\">\n",
       "      <th></th>\n",
       "      <th>Email</th>\n",
       "    </tr>\n",
       "  </thead>\n",
       "  <tbody>\n",
       "    <tr>\n",
       "      <th>0</th>\n",
       "      <td>kkshetty@india.com</td>\n",
       "    </tr>\n",
       "    <tr>\n",
       "      <th>1</th>\n",
       "      <td>info@pwskills.app</td>\n",
       "    </tr>\n",
       "    <tr>\n",
       "      <th>2</th>\n",
       "      <td>random_user@test.in</td>\n",
       "    </tr>\n",
       "    <tr>\n",
       "      <th>3</th>\n",
       "      <td>simple.email@email.com</td>\n",
       "    </tr>\n",
       "  </tbody>\n",
       "</table>\n",
       "</div>"
      ],
      "text/plain": [
       "                    Email\n",
       "0      kkshetty@india.com\n",
       "1       info@pwskills.app\n",
       "2     random_user@test.in\n",
       "3  simple.email@email.com"
      ]
     },
     "execution_count": 15,
     "metadata": {},
     "output_type": "execute_result"
    }
   ],
   "source": [
    "email_ids = ['kkshetty@india.com', 'info@pwskills.app', 'random_user@test.in', 'simple.email@email.com']\n",
    "df = pd.DataFrame(email_ids, columns=['Email'])\n",
    "df"
   ]
  },
  {
   "cell_type": "code",
   "execution_count": 16,
   "id": "98e98e03-d70d-46c0-9973-b52fcb78941a",
   "metadata": {},
   "outputs": [
    {
     "data": {
      "text/html": [
       "<div>\n",
       "<style scoped>\n",
       "    .dataframe tbody tr th:only-of-type {\n",
       "        vertical-align: middle;\n",
       "    }\n",
       "\n",
       "    .dataframe tbody tr th {\n",
       "        vertical-align: top;\n",
       "    }\n",
       "\n",
       "    .dataframe thead th {\n",
       "        text-align: right;\n",
       "    }\n",
       "</style>\n",
       "<table border=\"1\" class=\"dataframe\">\n",
       "  <thead>\n",
       "    <tr style=\"text-align: right;\">\n",
       "      <th></th>\n",
       "      <th>Email</th>\n",
       "      <th>Username</th>\n",
       "    </tr>\n",
       "  </thead>\n",
       "  <tbody>\n",
       "    <tr>\n",
       "      <th>0</th>\n",
       "      <td>kkshetty@india.com</td>\n",
       "      <td>kkshetty</td>\n",
       "    </tr>\n",
       "    <tr>\n",
       "      <th>1</th>\n",
       "      <td>info@pwskills.app</td>\n",
       "      <td>info</td>\n",
       "    </tr>\n",
       "    <tr>\n",
       "      <th>2</th>\n",
       "      <td>random_user@test.in</td>\n",
       "      <td>random_user</td>\n",
       "    </tr>\n",
       "    <tr>\n",
       "      <th>3</th>\n",
       "      <td>simple.email@email.com</td>\n",
       "      <td>simple.email</td>\n",
       "    </tr>\n",
       "  </tbody>\n",
       "</table>\n",
       "</div>"
      ],
      "text/plain": [
       "                    Email      Username\n",
       "0      kkshetty@india.com      kkshetty\n",
       "1       info@pwskills.app          info\n",
       "2     random_user@test.in   random_user\n",
       "3  simple.email@email.com  simple.email"
      ]
     },
     "execution_count": 16,
     "metadata": {},
     "output_type": "execute_result"
    }
   ],
   "source": [
    "# Updates the df in place.\n",
    "extract_username(df)\n",
    "df"
   ]
  },
  {
   "cell_type": "markdown",
   "id": "3b9de26b-6939-4742-9722-373b0a1724f6",
   "metadata": {},
   "source": [
    "___"
   ]
  },
  {
   "cell_type": "markdown",
   "id": "4130d675-aebc-48a8-a8c9-fef33964102d",
   "metadata": {},
   "source": [
    "#### Q8. You have a Pandas DataFrame df with columns 'A', 'B', and 'C'. Write a Python function that selects all rows where the value in column 'A' is greater than 5 and the value in column 'B' is less than 10. The function should return a new DataFrame that contains only the selected rows.\n",
    "#### For example, if df contains the following values:\n",
    "####   A B C\n",
    "#### 0 3 5 1\n",
    "#### 1 8 2 7\n",
    "#### 2 6 9 4\n",
    "#### 3 2 3 5\n",
    "#### 4 9 1 2\n",
    "#### Your function should select the following rows: \n",
    "####   A B C\n",
    "#### 1 8 2 7\n",
    "#### 4 9 1 2\n",
    "#### The function should return a new DataFrame that contains only the selected rows."
   ]
  },
  {
   "cell_type": "code",
   "execution_count": 17,
   "id": "e69f2b0f-659b-44a5-934d-b858271853d5",
   "metadata": {},
   "outputs": [],
   "source": [
    "def filter_rows(df):\n",
    "    df_filtered = df[(df['A'] > 5) & (df['B'] < 10)]\n",
    "    return df_filtered\n",
    "    "
   ]
  },
  {
   "cell_type": "code",
   "execution_count": 18,
   "id": "5539d2ce-a6be-4bd9-aac6-2fdec15354c5",
   "metadata": {},
   "outputs": [
    {
     "data": {
      "text/html": [
       "<div>\n",
       "<style scoped>\n",
       "    .dataframe tbody tr th:only-of-type {\n",
       "        vertical-align: middle;\n",
       "    }\n",
       "\n",
       "    .dataframe tbody tr th {\n",
       "        vertical-align: top;\n",
       "    }\n",
       "\n",
       "    .dataframe thead th {\n",
       "        text-align: right;\n",
       "    }\n",
       "</style>\n",
       "<table border=\"1\" class=\"dataframe\">\n",
       "  <thead>\n",
       "    <tr style=\"text-align: right;\">\n",
       "      <th></th>\n",
       "      <th>A</th>\n",
       "      <th>B</th>\n",
       "      <th>C</th>\n",
       "    </tr>\n",
       "  </thead>\n",
       "  <tbody>\n",
       "    <tr>\n",
       "      <th>0</th>\n",
       "      <td>3</td>\n",
       "      <td>5</td>\n",
       "      <td>1</td>\n",
       "    </tr>\n",
       "    <tr>\n",
       "      <th>1</th>\n",
       "      <td>8</td>\n",
       "      <td>2</td>\n",
       "      <td>7</td>\n",
       "    </tr>\n",
       "    <tr>\n",
       "      <th>2</th>\n",
       "      <td>6</td>\n",
       "      <td>9</td>\n",
       "      <td>4</td>\n",
       "    </tr>\n",
       "    <tr>\n",
       "      <th>3</th>\n",
       "      <td>2</td>\n",
       "      <td>3</td>\n",
       "      <td>5</td>\n",
       "    </tr>\n",
       "    <tr>\n",
       "      <th>4</th>\n",
       "      <td>9</td>\n",
       "      <td>1</td>\n",
       "      <td>2</td>\n",
       "    </tr>\n",
       "  </tbody>\n",
       "</table>\n",
       "</div>"
      ],
      "text/plain": [
       "   A  B  C\n",
       "0  3  5  1\n",
       "1  8  2  7\n",
       "2  6  9  4\n",
       "3  2  3  5\n",
       "4  9  1  2"
      ]
     },
     "execution_count": 18,
     "metadata": {},
     "output_type": "execute_result"
    }
   ],
   "source": [
    "df = pd.DataFrame({\n",
    "    'A' : [3, 8, 6, 2, 9],\n",
    "    'B' : [5, 2, 9, 3, 1],\n",
    "    'C' : [1, 7, 4, 5, 2]\n",
    "})\n",
    "df"
   ]
  },
  {
   "cell_type": "code",
   "execution_count": 19,
   "id": "e4f91a98-2c5c-460d-9142-42d9374cb953",
   "metadata": {},
   "outputs": [
    {
     "data": {
      "text/html": [
       "<div>\n",
       "<style scoped>\n",
       "    .dataframe tbody tr th:only-of-type {\n",
       "        vertical-align: middle;\n",
       "    }\n",
       "\n",
       "    .dataframe tbody tr th {\n",
       "        vertical-align: top;\n",
       "    }\n",
       "\n",
       "    .dataframe thead th {\n",
       "        text-align: right;\n",
       "    }\n",
       "</style>\n",
       "<table border=\"1\" class=\"dataframe\">\n",
       "  <thead>\n",
       "    <tr style=\"text-align: right;\">\n",
       "      <th></th>\n",
       "      <th>A</th>\n",
       "      <th>B</th>\n",
       "      <th>C</th>\n",
       "    </tr>\n",
       "  </thead>\n",
       "  <tbody>\n",
       "    <tr>\n",
       "      <th>1</th>\n",
       "      <td>8</td>\n",
       "      <td>2</td>\n",
       "      <td>7</td>\n",
       "    </tr>\n",
       "    <tr>\n",
       "      <th>2</th>\n",
       "      <td>6</td>\n",
       "      <td>9</td>\n",
       "      <td>4</td>\n",
       "    </tr>\n",
       "    <tr>\n",
       "      <th>4</th>\n",
       "      <td>9</td>\n",
       "      <td>1</td>\n",
       "      <td>2</td>\n",
       "    </tr>\n",
       "  </tbody>\n",
       "</table>\n",
       "</div>"
      ],
      "text/plain": [
       "   A  B  C\n",
       "1  8  2  7\n",
       "2  6  9  4\n",
       "4  9  1  2"
      ]
     },
     "execution_count": 19,
     "metadata": {},
     "output_type": "execute_result"
    }
   ],
   "source": [
    "new_df = filter_rows(df)\n",
    "new_df"
   ]
  },
  {
   "cell_type": "markdown",
   "id": "cb122c27-35e7-4c74-8275-36db918d0579",
   "metadata": {},
   "source": [
    "___"
   ]
  },
  {
   "cell_type": "markdown",
   "id": "a3d5dedc-b5a0-4cc4-9a7c-292c735ee258",
   "metadata": {},
   "source": [
    "#### Q9. Given a Pandas DataFrame df with a column 'Values', write a Python function to calculate the mean, median, and standard deviation of the values in the 'Values' column."
   ]
  },
  {
   "cell_type": "code",
   "execution_count": 20,
   "id": "3c193a13-0f08-41d3-9574-085c684d6cdd",
   "metadata": {},
   "outputs": [],
   "source": [
    "def calculate_stats(series):\n",
    "    mean = series.mean()\n",
    "    median = series.median()\n",
    "    std_dev = series.std()\n",
    "    \n",
    "    return(mean, median, std_dev)"
   ]
  },
  {
   "cell_type": "code",
   "execution_count": 21,
   "id": "75762df1-5b99-4ea0-9b39-cce4238b387e",
   "metadata": {},
   "outputs": [
    {
     "name": "stdout",
     "output_type": "stream",
     "text": [
      "Mean : 22.0\n",
      "Median : 7.0\n",
      "Standard Deviation : 27.956315128349008\n"
     ]
    }
   ],
   "source": [
    "my_values = pd.DataFrame({\n",
    "    'Values' : [2,18,3,76,4,2,3,1,8,7,56,43,23,7,2,56,3,90,14]\n",
    "})\n",
    "\n",
    "mean, median, std_dev = calculate_stats(my_values['Values'])\n",
    "print(f\"Mean : {mean}\")\n",
    "print(f\"Median : {median}\")\n",
    "print(f\"Standard Deviation : {std_dev}\")"
   ]
  },
  {
   "cell_type": "markdown",
   "id": "423c6ac1-7fc0-4e0d-bbd7-4c09391e9b05",
   "metadata": {},
   "source": [
    "___"
   ]
  },
  {
   "cell_type": "markdown",
   "id": "ab8f7d30-9aa3-4d76-9e6c-6ec4601cdd36",
   "metadata": {},
   "source": [
    "#### Q10. Given a Pandas DataFrame df with a column 'Sales' and a column 'Date', write a Python function to create a new column 'MovingAverage' that contains the moving average of the sales for the past 7 days for each row in the DataFrame. The moving average should be calculated using a window of size 7 and should include the current day."
   ]
  },
  {
   "cell_type": "code",
   "execution_count": 22,
   "id": "cd8b5138-b26d-4121-a8cd-e8a645e93b70",
   "metadata": {},
   "outputs": [],
   "source": [
    "def moving_average(series, window,**kwargs):\n",
    "    if 'min_periods' in kwargs:\n",
    "        ma_series = series.rolling(window, min_periods = kwargs['min_periods']).mean()\n",
    "    else:\n",
    "        ma_series = series.rolling(window).mean()\n",
    "    return ma_series"
   ]
  },
  {
   "cell_type": "code",
   "execution_count": 23,
   "id": "11eadd42-5dd3-4fe2-99a1-cd42d76706c7",
   "metadata": {},
   "outputs": [
    {
     "name": "stdout",
     "output_type": "stream",
     "text": [
      "          Date   Sales\n",
      "0  01-Jan-2023  185386\n",
      "1  02-Jan-2023   64188\n",
      "2  03-Jan-2023   30751\n",
      "3  04-Jan-2023   23190\n",
      "4  05-Jan-2023   72664\n"
     ]
    },
    {
     "data": {
      "text/html": [
       "<div>\n",
       "<style scoped>\n",
       "    .dataframe tbody tr th:only-of-type {\n",
       "        vertical-align: middle;\n",
       "    }\n",
       "\n",
       "    .dataframe tbody tr th {\n",
       "        vertical-align: top;\n",
       "    }\n",
       "\n",
       "    .dataframe thead th {\n",
       "        text-align: right;\n",
       "    }\n",
       "</style>\n",
       "<table border=\"1\" class=\"dataframe\">\n",
       "  <thead>\n",
       "    <tr style=\"text-align: right;\">\n",
       "      <th></th>\n",
       "      <th>Date</th>\n",
       "      <th>Sales</th>\n",
       "      <th>MovingAverage</th>\n",
       "    </tr>\n",
       "  </thead>\n",
       "  <tbody>\n",
       "    <tr>\n",
       "      <th>0</th>\n",
       "      <td>01-Jan-2023</td>\n",
       "      <td>185386</td>\n",
       "      <td>185386.000000</td>\n",
       "    </tr>\n",
       "    <tr>\n",
       "      <th>1</th>\n",
       "      <td>02-Jan-2023</td>\n",
       "      <td>64188</td>\n",
       "      <td>124787.000000</td>\n",
       "    </tr>\n",
       "    <tr>\n",
       "      <th>2</th>\n",
       "      <td>03-Jan-2023</td>\n",
       "      <td>30751</td>\n",
       "      <td>93441.666667</td>\n",
       "    </tr>\n",
       "    <tr>\n",
       "      <th>3</th>\n",
       "      <td>04-Jan-2023</td>\n",
       "      <td>23190</td>\n",
       "      <td>75878.750000</td>\n",
       "    </tr>\n",
       "    <tr>\n",
       "      <th>4</th>\n",
       "      <td>05-Jan-2023</td>\n",
       "      <td>72664</td>\n",
       "      <td>75235.800000</td>\n",
       "    </tr>\n",
       "    <tr>\n",
       "      <th>5</th>\n",
       "      <td>06-Jan-2023</td>\n",
       "      <td>75283</td>\n",
       "      <td>75243.666667</td>\n",
       "    </tr>\n",
       "    <tr>\n",
       "      <th>6</th>\n",
       "      <td>07-Jan-2023</td>\n",
       "      <td>117166</td>\n",
       "      <td>81232.571429</td>\n",
       "    </tr>\n",
       "    <tr>\n",
       "      <th>7</th>\n",
       "      <td>08-Jan-2023</td>\n",
       "      <td>102393</td>\n",
       "      <td>69376.428571</td>\n",
       "    </tr>\n",
       "    <tr>\n",
       "      <th>8</th>\n",
       "      <td>09-Jan-2023</td>\n",
       "      <td>98429</td>\n",
       "      <td>74268.000000</td>\n",
       "    </tr>\n",
       "    <tr>\n",
       "      <th>9</th>\n",
       "      <td>10-Jan-2023</td>\n",
       "      <td>188081</td>\n",
       "      <td>96743.714286</td>\n",
       "    </tr>\n",
       "  </tbody>\n",
       "</table>\n",
       "</div>"
      ],
      "text/plain": [
       "          Date   Sales  MovingAverage\n",
       "0  01-Jan-2023  185386  185386.000000\n",
       "1  02-Jan-2023   64188  124787.000000\n",
       "2  03-Jan-2023   30751   93441.666667\n",
       "3  04-Jan-2023   23190   75878.750000\n",
       "4  05-Jan-2023   72664   75235.800000\n",
       "5  06-Jan-2023   75283   75243.666667\n",
       "6  07-Jan-2023  117166   81232.571429\n",
       "7  08-Jan-2023  102393   69376.428571\n",
       "8  09-Jan-2023   98429   74268.000000\n",
       "9  10-Jan-2023  188081   96743.714286"
      ]
     },
     "execution_count": 23,
     "metadata": {},
     "output_type": "execute_result"
    }
   ],
   "source": [
    "sales_data = pd.read_csv(\"data_files/monthly_sales.csv\")\n",
    "print(sales_data.head())\n",
    "\n",
    "''' To calculate moving average I'm suing rolling() function and setting the min_periods = 1 to start the moving average from day 1 itself. \n",
    "If not provided the moving average will be calculated from day 7\n",
    "'''\n",
    "sales_data['MovingAverage'] = moving_average(sales_data.Sales, 7, min_periods=1)\n",
    "sales_data.head(10)"
   ]
  },
  {
   "cell_type": "markdown",
   "id": "4f786705-250e-4efb-957b-211a41e44827",
   "metadata": {},
   "source": [
    "___"
   ]
  },
  {
   "cell_type": "markdown",
   "id": "77690e93-7774-4704-baa7-eb39b0b787a7",
   "metadata": {},
   "source": [
    "#### Q11. You have a Pandas DataFrame df with a column 'Date'. Write a Python function that creates a new column 'Weekday' in the DataFrame. The 'Weekday' column should contain the weekday name (e.g. Monday, Tuesday) corresponding to each date in the 'Date' column.\n",
    "#### For example, if df contains the following values:\n",
    "####   Date\n",
    "#### 0 2023-01-01\n",
    "#### 1 2023-01-02\n",
    "#### 2 2023-01-03\n",
    "#### 3 2023-01-04\n",
    "#### 4 2023-01-05\n",
    "#### Your function should create the following DataFrame:\n",
    "####   Date       Weekday\n",
    "#### 0 2023-01-01 Sunday\n",
    "#### 1 2023-01-02 Monday\n",
    "#### 2 2023-01-03 Tuesday\n",
    "#### 3 2023-01-04 Wednesday\n",
    "#### 4 2023-01-05 Thursday\n",
    "#### The function should return the modified DataFrame."
   ]
  },
  {
   "cell_type": "code",
   "execution_count": 24,
   "id": "6e626372-ec55-4093-8755-773e584447e8",
   "metadata": {},
   "outputs": [
    {
     "name": "stdout",
     "output_type": "stream",
     "text": [
      "<class 'pandas.core.frame.DataFrame'>\n",
      "RangeIndex: 188 entries, 0 to 187\n",
      "Data columns (total 3 columns):\n",
      " #   Column         Non-Null Count  Dtype  \n",
      "---  ------         --------------  -----  \n",
      " 0   Date           188 non-null    object \n",
      " 1   Sales          188 non-null    int64  \n",
      " 2   MovingAverage  188 non-null    float64\n",
      "dtypes: float64(1), int64(1), object(1)\n",
      "memory usage: 4.5+ KB\n"
     ]
    }
   ],
   "source": [
    "sales_data.info()"
   ]
  },
  {
   "cell_type": "code",
   "execution_count": 25,
   "id": "d4609b1b-a8a5-4802-bfbf-fb9bf193aee3",
   "metadata": {},
   "outputs": [
    {
     "name": "stdout",
     "output_type": "stream",
     "text": [
      "<class 'pandas.core.frame.DataFrame'>\n",
      "RangeIndex: 188 entries, 0 to 187\n",
      "Data columns (total 3 columns):\n",
      " #   Column         Non-Null Count  Dtype         \n",
      "---  ------         --------------  -----         \n",
      " 0   Date           188 non-null    datetime64[ns]\n",
      " 1   Sales          188 non-null    int64         \n",
      " 2   MovingAverage  188 non-null    float64       \n",
      "dtypes: datetime64[ns](1), float64(1), int64(1)\n",
      "memory usage: 4.5 KB\n"
     ]
    }
   ],
   "source": [
    "# I will first convert my Date column to date format\n",
    "sales_data.Date = pd.to_datetime(sales_data.Date)\n",
    "sales_data.info()"
   ]
  },
  {
   "cell_type": "code",
   "execution_count": 26,
   "id": "e978918a-3379-47a0-870b-cc3639f52050",
   "metadata": {},
   "outputs": [
    {
     "data": {
      "text/html": [
       "<div>\n",
       "<style scoped>\n",
       "    .dataframe tbody tr th:only-of-type {\n",
       "        vertical-align: middle;\n",
       "    }\n",
       "\n",
       "    .dataframe tbody tr th {\n",
       "        vertical-align: top;\n",
       "    }\n",
       "\n",
       "    .dataframe thead th {\n",
       "        text-align: right;\n",
       "    }\n",
       "</style>\n",
       "<table border=\"1\" class=\"dataframe\">\n",
       "  <thead>\n",
       "    <tr style=\"text-align: right;\">\n",
       "      <th></th>\n",
       "      <th>Date</th>\n",
       "      <th>Sales</th>\n",
       "      <th>MovingAverage</th>\n",
       "      <th>Weekday</th>\n",
       "    </tr>\n",
       "  </thead>\n",
       "  <tbody>\n",
       "    <tr>\n",
       "      <th>0</th>\n",
       "      <td>2023-01-01</td>\n",
       "      <td>185386</td>\n",
       "      <td>185386.000000</td>\n",
       "      <td>Sunday</td>\n",
       "    </tr>\n",
       "    <tr>\n",
       "      <th>1</th>\n",
       "      <td>2023-01-02</td>\n",
       "      <td>64188</td>\n",
       "      <td>124787.000000</td>\n",
       "      <td>Monday</td>\n",
       "    </tr>\n",
       "    <tr>\n",
       "      <th>2</th>\n",
       "      <td>2023-01-03</td>\n",
       "      <td>30751</td>\n",
       "      <td>93441.666667</td>\n",
       "      <td>Tuesday</td>\n",
       "    </tr>\n",
       "    <tr>\n",
       "      <th>3</th>\n",
       "      <td>2023-01-04</td>\n",
       "      <td>23190</td>\n",
       "      <td>75878.750000</td>\n",
       "      <td>Wednesday</td>\n",
       "    </tr>\n",
       "    <tr>\n",
       "      <th>4</th>\n",
       "      <td>2023-01-05</td>\n",
       "      <td>72664</td>\n",
       "      <td>75235.800000</td>\n",
       "      <td>Thursday</td>\n",
       "    </tr>\n",
       "    <tr>\n",
       "      <th>...</th>\n",
       "      <td>...</td>\n",
       "      <td>...</td>\n",
       "      <td>...</td>\n",
       "      <td>...</td>\n",
       "    </tr>\n",
       "    <tr>\n",
       "      <th>183</th>\n",
       "      <td>2023-07-03</td>\n",
       "      <td>78075</td>\n",
       "      <td>100315.428571</td>\n",
       "      <td>Monday</td>\n",
       "    </tr>\n",
       "    <tr>\n",
       "      <th>184</th>\n",
       "      <td>2023-07-04</td>\n",
       "      <td>168146</td>\n",
       "      <td>106020.000000</td>\n",
       "      <td>Tuesday</td>\n",
       "    </tr>\n",
       "    <tr>\n",
       "      <th>185</th>\n",
       "      <td>2023-07-05</td>\n",
       "      <td>126944</td>\n",
       "      <td>119195.142857</td>\n",
       "      <td>Wednesday</td>\n",
       "    </tr>\n",
       "    <tr>\n",
       "      <th>186</th>\n",
       "      <td>2023-07-06</td>\n",
       "      <td>71480</td>\n",
       "      <td>108031.714286</td>\n",
       "      <td>Thursday</td>\n",
       "    </tr>\n",
       "    <tr>\n",
       "      <th>187</th>\n",
       "      <td>2023-07-07</td>\n",
       "      <td>51143</td>\n",
       "      <td>105859.857143</td>\n",
       "      <td>Friday</td>\n",
       "    </tr>\n",
       "  </tbody>\n",
       "</table>\n",
       "<p>188 rows × 4 columns</p>\n",
       "</div>"
      ],
      "text/plain": [
       "          Date   Sales  MovingAverage    Weekday\n",
       "0   2023-01-01  185386  185386.000000     Sunday\n",
       "1   2023-01-02   64188  124787.000000     Monday\n",
       "2   2023-01-03   30751   93441.666667    Tuesday\n",
       "3   2023-01-04   23190   75878.750000  Wednesday\n",
       "4   2023-01-05   72664   75235.800000   Thursday\n",
       "..         ...     ...            ...        ...\n",
       "183 2023-07-03   78075  100315.428571     Monday\n",
       "184 2023-07-04  168146  106020.000000    Tuesday\n",
       "185 2023-07-05  126944  119195.142857  Wednesday\n",
       "186 2023-07-06   71480  108031.714286   Thursday\n",
       "187 2023-07-07   51143  105859.857143     Friday\n",
       "\n",
       "[188 rows x 4 columns]"
      ]
     },
     "execution_count": 26,
     "metadata": {},
     "output_type": "execute_result"
    }
   ],
   "source": [
    "sales_data['Weekday'] = sales_data['Date'].dt.day_name()\n",
    "sales_data"
   ]
  },
  {
   "cell_type": "markdown",
   "id": "63c9f4e0-2d52-4478-9d1c-43a2ec32c544",
   "metadata": {},
   "source": [
    "___"
   ]
  },
  {
   "cell_type": "markdown",
   "id": "e40bb27c-8ec0-4cf0-a7ec-ade7051ff9a1",
   "metadata": {},
   "source": [
    "#### Q12. Given a Pandas DataFrame df with a column 'Date' that contains timestamps, write a Python function to select all rows where the date is between '2023-01-01' and '2023-01-31'."
   ]
  },
  {
   "cell_type": "code",
   "execution_count": 36,
   "id": "ef346595-7ea0-4ee5-843c-124c37529f55",
   "metadata": {},
   "outputs": [
    {
     "data": {
      "text/html": [
       "<div>\n",
       "<style scoped>\n",
       "    .dataframe tbody tr th:only-of-type {\n",
       "        vertical-align: middle;\n",
       "    }\n",
       "\n",
       "    .dataframe tbody tr th {\n",
       "        vertical-align: top;\n",
       "    }\n",
       "\n",
       "    .dataframe thead th {\n",
       "        text-align: right;\n",
       "    }\n",
       "</style>\n",
       "<table border=\"1\" class=\"dataframe\">\n",
       "  <thead>\n",
       "    <tr style=\"text-align: right;\">\n",
       "      <th></th>\n",
       "      <th>Date</th>\n",
       "    </tr>\n",
       "  </thead>\n",
       "  <tbody>\n",
       "    <tr>\n",
       "      <th>0</th>\n",
       "      <td>2023-01-27 11:21:03</td>\n",
       "    </tr>\n",
       "    <tr>\n",
       "      <th>3</th>\n",
       "      <td>2023-01-18 15:49:23</td>\n",
       "    </tr>\n",
       "    <tr>\n",
       "      <th>4</th>\n",
       "      <td>2023-01-09 18:47:12</td>\n",
       "    </tr>\n",
       "    <tr>\n",
       "      <th>5</th>\n",
       "      <td>2023-01-23 10:06:47</td>\n",
       "    </tr>\n",
       "    <tr>\n",
       "      <th>7</th>\n",
       "      <td>2023-01-26 13:47:34</td>\n",
       "    </tr>\n",
       "  </tbody>\n",
       "</table>\n",
       "</div>"
      ],
      "text/plain": [
       "                 Date\n",
       "0 2023-01-27 11:21:03\n",
       "3 2023-01-18 15:49:23\n",
       "4 2023-01-09 18:47:12\n",
       "5 2023-01-23 10:06:47\n",
       "7 2023-01-26 13:47:34"
      ]
     },
     "execution_count": 36,
     "metadata": {},
     "output_type": "execute_result"
    }
   ],
   "source": [
    "my_timestamps = pd.DataFrame({'Date' : ['2023-01-27 11:21:03', '2023-02-02 20:31:55', '2023-02-21 02:34:37', '2023-01-18 15:49:23', '2023-01-09 18:47:12', '2023-01-23 10:06:47', '2023-02-15 22:52:10', '2023-01-26 13:47:34', '2023-02-27 06:01:02', '2023-02-17 04:11:55']})\n",
    "\n",
    "# Convert the date from type object to datetime format\n",
    "my_timestamps.Date = pd.to_datetime(my_timestamps.Date)\n",
    "\n",
    "#Filter the required rowa\n",
    "my_timestamps[(my_timestamps.Date >= pd.to_datetime('2023-01-01')) & (my_timestamps.Date <= pd.to_datetime('2023-01-31'))]"
   ]
  },
  {
   "cell_type": "markdown",
   "id": "852164f2-d4c0-450b-8cff-f4295c5d8749",
   "metadata": {},
   "source": [
    "___"
   ]
  },
  {
   "cell_type": "markdown",
   "id": "a34edd5b-fea9-4322-8001-1faab1758377",
   "metadata": {},
   "source": [
    "#### Q13. To use the basic functions of pandas, what is the first and foremost necessary library that needs to be imported?"
   ]
  },
  {
   "cell_type": "markdown",
   "id": "4ff40879-aae5-4c03-8d09-21d0c84b35c0",
   "metadata": {},
   "source": [
    "The first and foremost necessary library that needs to be imported to use the basic functions of pandas is **pandas** itself. \n",
    "\n",
    "```\n",
    "import pandas as pd\n",
    "```"
   ]
  },
  {
   "cell_type": "markdown",
   "id": "b59259b8-9aa9-4ae9-a369-101cd948230c",
   "metadata": {},
   "source": [
    "---"
   ]
  }
 ],
 "metadata": {
  "kernelspec": {
   "display_name": "Python 3 (ipykernel)",
   "language": "python",
   "name": "python3"
  },
  "language_info": {
   "codemirror_mode": {
    "name": "ipython",
    "version": 3
   },
   "file_extension": ".py",
   "mimetype": "text/x-python",
   "name": "python",
   "nbconvert_exporter": "python",
   "pygments_lexer": "ipython3",
   "version": "3.10.8"
  }
 },
 "nbformat": 4,
 "nbformat_minor": 5
}
