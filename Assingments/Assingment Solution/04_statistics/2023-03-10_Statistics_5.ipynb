{
 "cells": [
  {
   "cell_type": "markdown",
   "metadata": {},
   "source": [
    "#### Q1: What is Estimation Statistics? Explain point estimate and interval estimate.\n",
    "**Estimate** is a specified observed numerical value used to estimate an unknown population parameter.\n",
    "\n",
    "**Estimation Statistics** is the process of statitical analysis on finding the *Estimate* and there by making the conclusion about unknown population oparameter.\n",
    "\t\n",
    "*\t**Point Estimate**: Single numerical value used to estimate an unknown population paremeter.\n",
    "\t\n",
    "*\t**Interval Estimate** : Range of values used to estimate an unknown population parameter.\n",
    "___\n"
   ]
  },
  {
   "cell_type": "markdown",
   "metadata": {},
   "source": [
    "#### Q2. Write a Python function to estimate the population mean using a sample mean and standard deviation."
   ]
  },
  {
   "cell_type": "code",
   "execution_count": 58,
   "metadata": {},
   "outputs": [],
   "source": [
    "# To estimate the population mean first lets define the confidence interval to be 95%\n",
    "\n",
    "import math\n",
    "\n",
    "def estimate_population_mean(sample_mean, population_stddev, sample_size):\n",
    "    \"\"\"Estimates the population mean using a sample mean and standard deviation.\n",
    "\n",
    "    Args:\n",
    "        sample_mean: The sample mean.\n",
    "        population_stddev: The population standard deviation.\n",
    "        sample_size: The sample size.\n",
    "\n",
    "    Returns:\n",
    "        The estimated population mean.\n",
    "    \"\"\"\n",
    "\n",
    "    # Calculate the standard error\n",
    "    standard_error = population_stddev / math.sqrt(sample_size)\n",
    "\n",
    "    # Calculate margin of error (for a desired confidence level)\n",
    "    # For a 95% confidence level, use the critical z-score of 1.96\n",
    "    z_score = 1.96\n",
    "    margin_of_error = z_score * standard_error\n",
    "    \n",
    "    # Calculate confidence interval\n",
    "    lower_bound = sample_mean - margin_of_error\n",
    "    upper_bound = sample_mean + margin_of_error\n",
    "    \n",
    "    return {\n",
    "        \"estimated_mean\": sample_mean,\n",
    "        \"margin_of_error\": margin_of_error,\n",
    "        \"confidence_interval\": (lower_bound, upper_bound)\n",
    "    }"
   ]
  },
  {
   "cell_type": "code",
   "execution_count": 59,
   "metadata": {},
   "outputs": [
    {
     "name": "stdout",
     "output_type": "stream",
     "text": [
      "Estimated Population Mean: 169.5\n",
      "Margin of Error: 35.72944487071176\n",
      "Confidence Interval: (133.77055512928825, 205.22944487071175)\n"
     ]
    }
   ],
   "source": [
    "\n",
    "# Example usage\n",
    "sample_mean = 169.5\n",
    "sample_size = 36\n",
    "population_stddev = 3.9\n",
    "\n",
    "result = estimate_population_mean(sample_mean, sample_size, population_stddev)\n",
    "print(\"Estimated Population Mean:\", result[\"estimated_mean\"])\n",
    "print(\"Margin of Error:\", result[\"margin_of_error\"])\n",
    "print(\"Confidence Interval:\", result[\"confidence_interval\"])"
   ]
  },
  {
   "cell_type": "markdown",
   "metadata": {},
   "source": [
    "___\n",
    "#### Q3: What is Hypothesis testing? Why is it used? State the importance of Hypothesis testing.\n",
    "\n",
    "* **Hypothesis testing** is a fundamental statistical method used to make decisions about a population parameter based on sample data.\n",
    "\n",
    "* Hypothesis testing is used to make decisions and draw conclusions based on data, helping us determine if our assumptions about populations are supported by evidence.\n",
    "\n",
    "* Hypothesis testing is important because it provides a systematic method to evaluate ideas using data, enabling us to make informed decisions and draw reliable conclusions\n",
    "___\n"
   ]
  },
  {
   "cell_type": "markdown",
   "metadata": {},
   "source": [
    "#### Q4. Create a hypothesis that states whether the average weight of male college students is greater than the average weight of female college students.\n",
    "\n",
    "In hypothesis testing, the null hypothesis (H0) typically represents the default or status quo assumption that there is no significant difference, no effect, or no change. The alternative hypothesis (Ha) represents the claim or hypothesis we are trying to support with evidence.\n",
    "\n",
    "So, we can define our NUll Hypothesis and Altrernative Hypothesis as below:\n",
    "\n",
    "1. **Null Hypothesis (H0)**: The average weight of male college students is equal to or less than the average weight of female college students. i.e. `μ_male ≤ μ_female`\n",
    "\n",
    "2. **Alternative Hypothesis (Ha)**: The average weight of male college students is greater than the average weight of female college students. i.e. `μ_male> μ_female`\n",
    "\n",
    "___\n"
   ]
  },
  {
   "cell_type": "markdown",
   "metadata": {},
   "source": [
    "#### Q5. Write a Python script to conduct a hypothesis test on the difference between two population means, given a sample from each population."
   ]
  },
  {
   "cell_type": "code",
   "execution_count": 60,
   "metadata": {},
   "outputs": [
    {
     "name": "stdout",
     "output_type": "stream",
     "text": [
      "Fail to reject the null hypothesis: There is no significant difference between population means.\n",
      "p-value: 0.5013037459077059\n"
     ]
    }
   ],
   "source": [
    "import numpy as np\n",
    "from scipy import stats\n",
    "\n",
    "def calculate_p_value(sample1, sample2):\n",
    "    \"\"\"Function to calculate the P-Value of the difference between means of two sample\n",
    "    \"\"\"\n",
    "    # Calculate sample statistics\n",
    "    mean_1 = np.mean(sample_1)\n",
    "    mean_2 = np.mean(sample_2)\n",
    "    std_dev_1 = np.std(sample_1, ddof=1)  # Using Bessel's correction\n",
    "    std_dev_2 = np.std(sample_2, ddof=1)\n",
    "\n",
    "    # Sample sizes\n",
    "    n1 = len(sample_1)\n",
    "    n2 = len(sample_2)\n",
    "\n",
    "    # Calculate t-statistics\n",
    "    t_statistic = (mean_1 - mean_2) / np.sqrt((std_dev_1**2 / n1) + (std_dev_2**2 / n2))\n",
    "\n",
    "    # Degree of freedom\n",
    "    df = n1 + n2 -2\n",
    "\n",
    "    # Calculate the p-value (two-tailed test)\n",
    "    p_value = 2 * (1 - stats.t.cdf(abs(t_statistic), df))\n",
    "\n",
    "    return p_value\n",
    "\n",
    "# Sample data for two population\n",
    "sample_1 = np.random.random(10)*100\n",
    "sample_2 = np.random.random(10)*100\n",
    "\n",
    "# Significance level\n",
    "alpha = 0.05\n",
    "\n",
    "p_value = calculate_p_value(sample_1, sample_2)\n",
    "\n",
    "# Compare the p-value to the significance level\n",
    "if p_value < alpha:\n",
    "    print(\"Reject the null hypothesis: There is a significant difference between population means.\")\n",
    "else:\n",
    "    print(\"Fail to reject the null hypothesis: There is no significant difference between population means.\")\n",
    "\n",
    "print(f\"p-value: {p_value}\")"
   ]
  },
  {
   "cell_type": "markdown",
   "metadata": {},
   "source": [
    "___\n",
    "#### Q6: What is a null and alternative hypothesis? Give some examples.\n",
    "**Null Hypothesis (H0):**\n",
    "The null hypothesis is a statement of no effect, no difference, or no relationship. It assumes that any observed differences or effects are due to random chance and not because of any specific cause or relationship. In statistical testing, we start by assuming the null hypothesis is true and then gather evidence to see if we can reject it.\n",
    "\n",
    "* *Example 1*: (Coin Toss): H0: The coin is fair (probability of heads is 0.5).\n",
    "* *Example 2*: (Medical Trial): H0: The new drug is no different from the placebo in treating the disease.\n",
    "\n",
    "**Alternative Hypothesis (Ha or H1):**\n",
    "The alternative hypothesis is the opposite of the null hypothesis. It states that there is a specific effect, difference, or relationship in the population. It's what we're trying to find evidence for when conducting a statistical test.\n",
    "\n",
    "* *Example 1*: (Coin Toss): Ha: The coin is not fair (probability of heads is not 0.5).\n",
    "* *Example 2*: (Medical Trial): Ha: The new drug is more effective than the placebo in treating the disease.\n",
    "___\n"
   ]
  },
  {
   "cell_type": "markdown",
   "metadata": {},
   "source": [
    "#### Q7: Write down the steps involved in hypothesis testing.\n",
    "Below are the steps involved in *Hypothesis Testing*:\n",
    "1. Define null hypothesis (H0) - The assumption that we are beginning with\n",
    "2. Define alternative hypothesis (H1) - The alternative conclusiion if the null hypothesis is rejected\n",
    "3. Perform statistical analysis/experiments\n",
    "4. Conclusion - accept/reject null hypothesis\n",
    "___\n"
   ]
  },
  {
   "cell_type": "markdown",
   "metadata": {},
   "source": [
    "#### Q8. Define p-value and explain its significance in hypothesis testing.\n",
    "**P-value** is a number calculated from statistical test that describes how likely we are to have found a particular set of observation if the null hypothesis were true.\n",
    "* The p-value is a key tool in hypothesis testing that helps us make informed decisions about whether to reject or fail to reject the null hypothesis based on the observed data. \n",
    "* It provides a way to quantify the strength of evidence against the null hypothesis and guides us in drawing conclusions about the significance of our findings.\n",
    "* A small p-value (typically below a chosen significance level, often denoted as `α`) indicates that the observed results are unlikely to have occurred by chance under the assumption of the null hypothesis.\n",
    "* In hypothesis testing, if the p-value is less than the chosen significance level (α), we often reject the null hypothesis in favor of the alternative hypothesis. This indicates that the observed results are statistically significant and likely not due to chance.\n",
    "* A large p-value suggests that the observed results could have plausibly occurred due to random chance alone, and there isn't strong evidence against the null hypothesis.\n",
    "* If the p-value is greater than α, we fail to reject the null hypothesis. This suggests that the observed results are not statistically significant, and we do not have enough evidence to conclude that the null hypothesis is false.\n",
    "___\n"
   ]
  },
  {
   "cell_type": "markdown",
   "metadata": {},
   "source": [
    "#### Q9. Generate a Student's t-distribution plot using Python's matplotlib library, with the degrees of freedom parameter set to 10."
   ]
  },
  {
   "cell_type": "code",
   "execution_count": 61,
   "metadata": {},
   "outputs": [
    {
     "data": {
      "image/png": "[encoded data removed]",
      "text/plain": [
       "<Figure size 640x480 with 1 Axes>"
      ]
     },
     "metadata": {},
     "output_type": "display_data"
    }
   ],
   "source": [
    "import numpy as np\n",
    "import matplotlib.pyplot as plt\n",
    "from scipy.stats import t\n",
    "\n",
    "# Degrees of freedom\n",
    "df = 10\n",
    "\n",
    "# Generate x values for the plot\n",
    "x = np.linspace(-4, 4, 500)  # Adjust the range based on your preference\n",
    "\n",
    "# Calculate the corresponding y values using the t-distribution\n",
    "y = t.pdf(x, df)\n",
    "\n",
    "# Create the plot\n",
    "plt.plot(x, y, label=f\"t-distribution (df = {df})\")\n",
    "plt.title(\"Student's t-Distribution\")\n",
    "plt.xlabel(\"x\")\n",
    "plt.ylabel(\"Probability Density\")\n",
    "plt.legend()\n",
    "plt.grid()\n",
    "plt.show()"
   ]
  },
  {
   "cell_type": "markdown",
   "metadata": {},
   "source": [
    "___\n",
    "#### Q10. Write a Python program to calculate the two-sample t-test for independent samples, given two random samples of equal size and a null hypothesis that the population means are equal."
   ]
  },
  {
   "cell_type": "code",
   "execution_count": 62,
   "metadata": {},
   "outputs": [
    {
     "name": "stdout",
     "output_type": "stream",
     "text": [
      "Sample 1: [8.52810469 5.80031442 6.95747597 9.4817864  8.73511598 3.04544424\n",
      " 6.90017684 4.69728558 4.7935623  5.821197   5.28808714 7.90854701\n",
      " 6.52207545 5.24335003 5.88772647 5.66734865 7.98815815 4.58968347\n",
      " 5.6261354  3.29180852]\n",
      "Sample 2: [ 0.39402037  6.80723719  7.2288724   4.01566996 10.03950925  2.59126865\n",
      "  5.59151703  5.1256323   8.56555843  8.43871754  5.80989485  6.25632504\n",
      "  3.7244285   1.53840706  4.8041757   5.81269794  7.96058136  7.9047597\n",
      "  4.72534637  4.8953945 ]\n",
      "Null Hypothesis: Population means are equal\n",
      "t-statistic: 0.8069838329549098\n",
      "p-value: 0.438447777548713\n",
      "Fail to reject the null hypothesis: Population means are equal.\n"
     ]
    }
   ],
   "source": [
    "import numpy as np\n",
    "from scipy.stats import t\n",
    "\n",
    "def two_sample_t_test(sample_1, sample_2, alpha):\n",
    "    \"\"\" Method to calculate the two-sample t-test for independent samples, given two random samples of equal size\n",
    "    \"\"\"\n",
    "\n",
    "    null_hypothesis = \"Population means are equal\"\n",
    "\n",
    "    mean_1 = np.mean(sample_1)\n",
    "    mean_2 = np.mean(sample_2)\n",
    "    std_1 = np.std(sample_1)\n",
    "    std_2 = np.std(sample_2)\n",
    "    n1 = len(sample_1)\n",
    "    n2 = len(sample_2)\n",
    "\n",
    "    # Calculate t statistic\n",
    "    t_statistic = (mean_1 - mean_2) / np.sqrt(((std_1**2)/ n1) + ((std_2**2)/ n2))\n",
    "\n",
    "    # Calculate the p-value (two-tailed test)\n",
    "    p_value = 2 * (1 - t.cdf(abs(t_statistic), df))\n",
    "\n",
    "    if p_value < alpha:\n",
    "        result = \"Reject the null hypothesis: Population means are not equal.\"\n",
    "    else:\n",
    "        result = \"Fail to reject the null hypothesis: Population means are equal.\"\n",
    "\n",
    "    # Print the results\n",
    "    print(\"Sample 1:\", sample_1)\n",
    "    print(\"Sample 2:\", sample_2)\n",
    "    print(\"Null Hypothesis:\", null_hypothesis)\n",
    "    print(\"t-statistic:\", t_statistic)\n",
    "    print(\"p-value:\", p_value)\n",
    "    print(result)\n",
    "\n",
    "# Sample Usage\n",
    "\n",
    "# Generate two random samples of equal size\n",
    "sample_size = 20\n",
    "np.random.seed(0)  # For reproducibility\n",
    "sample_1 = np.random.normal(5, 2, sample_size)\n",
    "sample_2 = np.random.normal(5.5, 2, sample_size)\n",
    "\n",
    "# Set significance value - alpha\n",
    "alpha = 0.05\n",
    "\n",
    "# Perform two sample t-test.0\n",
    "two_sample_t_test(sample_1, sample_2, alpha)"
   ]
  },
  {
   "cell_type": "markdown",
   "metadata": {},
   "source": [
    "___\n",
    "#### Q11: What is Student’s t distribution? When to use the t-Distribution.\n",
    "* The **Student's t-distribution**, often referred to simply as the *t-distribution*, is a probability distribution used in statistics. \n",
    "* It is a mathematical function that describes the distribution of a random variable when the sample size is small and the population standard deviation is unknown. \n",
    "* The t-distribution is similar in shape to the normal distribution (bell curve), but its tails are thicker, which accounts for the increased uncertainty that arises when working with small samples.\n",
    "* The t-distribution is particularly useful when conducting hypothesis tests or constructing confidence intervals for population parameters (usually the mean) based on sample data. It helps when:\n",
    "    *   **Small Sample Sizes**: The t-distribution is especially relevant when the sample size is small (typically n < 30). In such cases, the t-distribution provides more accurate results than the normal distribution, which assumes larger sample sizes.\n",
    "    *   **Unknown Population Standard Deviation**: If the population standard deviation is unknown and has to be estimated from the sample data, the t-distribution is used. When the population standard deviation is known, the normal distribution can be used.\n",
    "___"
   ]
  },
  {
   "cell_type": "markdown",
   "metadata": {},
   "source": [
    "#### Q12: What is t-statistic? State the formula for t-statistic.\n",
    "* The **t-statistic** (also known as the *t-value*) is a numerical measure used in hypothesis testing to assess the difference between sample means and determine whether this difference is statistically significant. It's a standardized measurement that takes into account the sample size, sample means, and sample standard deviations.\n",
    "\n",
    "* The formula for calculating the t-statistic for a two-sample t-test (assuming equal variances) is:\n",
    "\n",
    "    $$ t = \\frac{\\bar{X}_1 - \\bar{X}_2}{\\sqrt{\\frac{s^2}{n_1} + \\frac{s^2}{n_2}}} $$\n",
    "\n",
    "* The t-statistic essentially tells you how many standard errors the difference between the sample means is away from the expected difference under the null hypothesis. A larger absolute t-value suggests a larger difference between the sample means relative to the variability within the groups.\n",
    "\n",
    "To make a decision about the null hypothesis, we need compare the calculated t-statistic to a critical value from the t-distribution or calculate a p-value associated with the t-statistic. If the t-statistic is large and the associated p-value is small, it indicates that the observed difference between the sample means is unlikely to have occurred by random chance alone, and you may reject the null hypothesis.\n",
    "___"
   ]
  },
  {
   "cell_type": "markdown",
   "metadata": {},
   "source": [
    "#### Q13. A coffee shop owner wants to estimate the average daily revenue for their shop. They take a random sample of 50 days and find the sample mean revenue to be $500 with a standard deviation of $50. Estimate the population mean revenue with a 95% confidence interval.\n",
    "* **Known Parameters**:\n",
    "    * Sample size (n) = 50\n",
    "    * Sample Mean (x̄) = 500\n",
    "    * Sample standard deviation (s) = 50\n",
    "    * Confidence Interval = 95% => α = 0.05\n",
    "\n",
    "1. **Calculate standard error**:\n",
    "$$ SE = \\frac{s}{\\sqrt{n}} $$\n",
    "$$ SE = \\frac{50}{\\sqrt{50}} $$\n",
    "$$ SE = 7.07106781187 $$\n",
    "\n",
    "2. **Margin of Error**: The margin of error (*E*) for a proportion is calculated with a critical *t-value* and the *standard error*:\n",
    "$$ E = t_{{\\frac{α}2}(df)}.\\frac{s}{\\sqrt{n}} $$\n",
    "$$ [df = n-1 = 49] $$\n",
    "$$ E = t_{{\\frac{0.05}2}(49)}.(7.07106781187) $$\n",
    "$$ [Critical\\ t-value = t_{{\\frac{0.05}2}(49)} = 2.0096] $$\n",
    "$$ E =  2.0096 * 7.07106781187 $$\n",
    "$$ E = 14.2100178747 $$\n",
    "\n",
    "3. **Calculate the Confidence Interval**: The lower and upper bounds of the confidence interval are found by subtracting and adding the margin of error (*E*) from the point estimate (x̄).\n",
    "\n",
    "* Lower bound:\n",
    "    $$ \\bar{x} - E = 500 - 14.2100178747 ≈ 485.79 $$\n",
    "* Upper bound:\n",
    "    $$ \\bar{x} + E = 500 + 14.2100178747 ≈ 514.21 $$\n",
    "* The confidence interval:\n",
    "    $$ [485.79, 514.21] $$\n",
    "\n",
    "4. **Conclusion**:\n",
    "    ```\n",
    "    The 95% confidence interval for the mean daily revenue of the coffee shop is between $485.79 and $514.21\n",
    "    ```\n",
    "___\n"
   ]
  },
  {
   "cell_type": "markdown",
   "metadata": {},
   "source": [
    "#### Q14. A researcher hypothesizes that a new drug will decrease blood pressure by 10 mmHg. They conduct a clinical trial with 100 patients and find that the sample mean decrease in blood pressure is 8 mmHg with a standard deviation of 3 mmHg. Test the hypothesis with a significance level of 0.05.\n",
    "\n",
    "1. **Step 1: Formulate Hypotheses:**\n",
    "*   *Null Hypothesis (H0)*: New drug does not decrease blood pressure by 10 mmHg. In other words, mean decrease in blood pressure is equal to 0 mmHg (μ=0)\n",
    "*   *Alternate Hypothesis (H1)*: Mean decrease in blood pressure is greater than 0 mmHg (μ>0)\n",
    "\n",
    "2. **Significance level** =  0.05 (We will reject the null hypothesis if the probability of experiment is greater than significance value)\n",
    "\n",
    "3. **Degree of Freedom**: `df = n-1 = 100-1 = 99`\n",
    "\n",
    "4. **Calculate the test statistic**: The test statistic is the t-statistic, which is calculated as follows:\n",
    "$$ t = \\frac{(x - μ)}{\\frac{s}{\\sqrt{n}}} $$\n",
    "\n",
    "    Where:\n",
    "        x = Sample mean decrease in blood pressure = 8\n",
    "        μ = Hypothetical population mean decrease in blood pressure = 0\n",
    "        s = sample standard deviation = 3\n",
    "        n = sample size = 100\n",
    "$$ t = \\frac{(8 - 0)}{\\frac{3}{\\sqrt{100}}} ≈ 26.67 $$\n",
    "\n",
    "4. **Critical t-value**: Calculate the critical t-value for one-tailed test (upper-tail) = `1.6603`\n",
    "\n",
    "5. **Conclusion**:\n",
    "\n",
    "`Since t-statistic (26.67) > critical t-value (1.6603) we can reject the null hypothesis ot 0.05 significance or at 95% confidence.`\n",
    "\n",
    "_\n"
   ]
  },
  {
   "cell_type": "markdown",
   "metadata": {},
   "source": [
    "#### Q15. An electronics company produces a certain type of product with a mean weight of 5 pounds and a standard deviation of 0.5 pounds. A random sample of 25 products is taken, and the sample mean weight is found to be 4.8 pounds. Test the hypothesis that the true mean weight of the products is less than 5 pounds with a significance level of 0.01.\n",
    "\n",
    "`Intution: To test the the hypothesis that the true mean weight of the products is less than 5 pounds with a significance level of 0.01 means to test if the 99% of the time, the true mean weight will be less than 5 pounds.`\n",
    "\n",
    "1. **Formulate Hypothesis**:\n",
    "*   **Null Hypothesis (H0)**: Mean weight of product is 5 pounds (μ = 5)\n",
    "*   **Alternate Hypothesis (H1)**: Mean weight of the product is less than 5 pounds (μ < 5)\n",
    "\n",
    "2. **Decision Boundary**: Corresponding Z value for the area under curve ≈ 0.01 is `-2.33`. If the Z-score of the sample is less than Z-score of 0.01 significance, we will reject the Null Hypothesis. If the Z-score of the sample is less than the Critical Value based on significance we have considered, it means that the if the null hypothesis were to be true the results observed in the sample are extrmely less likely to occur. So, we can conclude that since this is very less likely, but the sample has occured actually we can reject the nukll hypothesis.\n",
    "\n",
    "3. **Z-Score**: Calculate the z-score of the sample.\n",
    "    Given that:\n",
    "    * μ = 5\n",
    "    * σ = 0.5\n",
    "    * n = 25\n",
    "    * x̄ = 4.8\n",
    "    * α = 0.01\n",
    "\n",
    "4. **Degree of Freedom**: `df = n-1 = 24`\n",
    "\n",
    "5. **Calculate Test Statistic**: Calculate the z-statistic using the formula: (Here we are using Z static since we have population standard devialtion)\n",
    "$$ Z = \\frac{(x - μ)}{σ} $$\n",
    "$$ Z = \\frac{(4.8 - 5)}{0.5} $$\n",
    "$$ Z = -0.4 $$\n",
    "\n",
    "6. **Make a Decision**: \n",
    "* `Since Test statistic, -0.4 is higher than the Critical value, -2.33, we fail to reject the null hypothesis`\n",
    "___"
   ]
  },
  {
   "cell_type": "markdown",
   "metadata": {},
   "source": [
    "#### Q16. Two groups of students are given different study materials to prepare for a test. The first group (n1 = 30) has a mean score of 80 with a standard deviation of 10, and the second group (n2 = 40) has a mean score of 75 with a standard deviation of 8. Test the hypothesis that the population means for the two groups are equal with a significance level of 0.01.\n",
    "\n",
    "1. **Formulate Hypothesis**:\n",
    "    * **Null Hypothesis (H0)**: Population mean of the two groups are equal, i.e. (μ1 = μ2)\n",
    "    * **Alternate Hypothesis (H1)**: Puplulation mean of the two groups are not equal, i.e. (μ1 != μ2)\n",
    "    * (We can test this with the help of 2 Sample t-test)\n",
    "\n",
    "2. **Find Test Static**:\n",
    "    Given that:\n",
    "    $$ n_1 = 30,\\ \\bar{x}_1 = 80,\\ s_1 = 10 $$\n",
    "    $$ n_2 = 40,\\ \\bar{x}_2 = 75,\\ s_2 = 8 $$\n",
    "    $$ α = 0.01 $$\n",
    "3. **Calculate Test Static (t)**:\n",
    "    $$ t = \\frac{\\bar{x}_1 - \\bar{x}_1}{\\sqrt{\\frac{s_1^2}{n_1} + \\frac{s_2^2}{n_2}}} $$\n",
    "    $$ t ≈ 2.25 $$\n",
    "4. **Degree of freedom (df)**: Since the sample size are different, we need to use below formula to caalculate defree of freedom:\n",
    "    $$ df = \\frac{({\\frac{s_1^2}{n_1}}+{\\frac{s_2^2}{n_2}})^2}{{\\frac{(\\frac{s_1^2}{n_1})^2}{n_1-1}}+{\\frac{(\\frac{s_2^2}{n_2})^2}{n_2-1}}} $$\n",
    "    $$ df ≈ 54.23 $$\n",
    "5. **Calculate Critical Value**: Critical value for α = 0.01 (two tailed test) = (-2.00468403,  2.00468403). \n",
    "6. **Conclusion**: Since *Test Static* `2.25` is higher than the upper *Critical Value* `2.0` **we can reject the Null Hypothesis (H0)**\n",
    "\n",
    "___"
   ]
  }
 ],
 "metadata": {
  "kernelspec": {
   "display_name": "Python 3",
   "language": "python",
   "name": "python3"
  },
  "language_info": {
   "codemirror_mode": {
    "name": "ipython",
    "version": 3
   },
   "file_extension": ".py",
   "mimetype": "text/x-python",
   "name": "python",
   "nbconvert_exporter": "python",
   "pygments_lexer": "ipython3",
   "version": "3.11.4"
  },
  "orig_nbformat": 4
 },
 "nbformat": 4,
 "nbformat_minor": 2
}
