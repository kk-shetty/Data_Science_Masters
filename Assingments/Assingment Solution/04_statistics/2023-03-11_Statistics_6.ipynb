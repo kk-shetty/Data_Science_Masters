{
 "cells": [
  {
   "cell_type": "markdown",
   "metadata": {},
   "source": [
    "##### Q1: What is the difference between a t-test and a z-test? Provide an example scenario where you would use each type of test.\n",
    "> Both t-tests and z-tests are statistical tests used to make inferences about population parameters based on sample data. However, they are used in different situations and have certain differences:\n",
    "> |z-test|t-test|\n",
    "> |:-----|:-----|\n",
    "> |z-test is used when the population standard deviation (or variance) is known. This is often not the case since population standard deviation is rarely known.|t-test is used when the population standard deviation is not known and needs to be estimated based on the sampole data. This is commonly nused since sample standard deviation or variance is easily available than population paremeters.|\n",
    "> |Z-test is used for large sample size (n > 30) since the distribution of the sample mean approaches normal distrivution as per central limit theorem.|t-test is used for smaller sample size. This is designed to work with t-distribution which has heavier tails compared to standard normal distribution and accounts for the uncertainity introduced by estimating the population variance from the sample.|\n",
    ">|*Example Scenario*: Imagine you are working for a fast-food chain, and you want to know if the average time it takes to serve a customer at your main branch is significantly different from the industry average. The industry standard for serving a customer is 3 minutes.|*Example Scenario*: Suppose you are a researcher conducting an experiment to compare the effectiveness of two different drugs in reducing blood pressure. You have a sample of 25 individuals who have been randomly assigned to receive either Drug A or Drug B. You measure their blood pressure after a certain period of time and want to determine if there is a significant difference in the mean blood pressure reduction between the two drugs.|"
   ]
  },
  {
   "cell_type": "markdown",
   "metadata": {},
   "source": [
    "##### Q2: Differentiate between one-tailed and two-tailed tests.\n",
    ">One-tailed and two-tailed tests are concepts used in hypothesis testing to determine the directionality of the statistical relationship we are investigating. They refer to the regions in a probability distribution where we are interested in observing significant differences.\n",
    ">|one-tailed test|two-tailed test|\n",
    ">|:--------------|:--------------|\n",
    ">|In one-tailed test we are interested in observing significance difference in any one direction, either greather tha or less than.|In two-tailed test we are interested in observing signifcance difference in any of directions|\n",
    ">|This type of test is used to test the hypothesis when we want to test the direction of the effect. For example when we want to test if the effect o9f a new drug will be better or worse than the current treatment|This type of test is used when we want to test for any difference in the result without making a specific directional hypothesis.|\n",
    ">The critical region for a one-tailed test is always on one side of the distribution curve, either left (for \"less than\" test) or right (for \"greater than\" test)|The critical region for the two-tailsed test will be spli equally on both side of the curve.|\n",
    ">|This type of test generally has greater power to detect effects in the specified direction, but it may miss effects in the opposite direction.|While a two-tailed test is more conservative and can capture effects in both directions, it might have less power to detect effects compared to a one-tailed test if you have a clear hypothesis about the direction."
   ]
  },
  {
   "cell_type": "markdown",
   "metadata": {},
   "source": [
    "##### Q3: Explain the concept of Type 1 and Type 2 errors in hypothesis testing. Provide an example scenario for each type of error.\n",
    ">**Type 1 Error (False Positive)**:\n",
    ">* A Type 1 error occurs when you reject a null hypothesis that is actually true. In other words, you conclude that there is a significant effect when, in reality, there is no effect.\n",
    ">* The probability of making a Type 1 error is denoted as the significance level (α) of the test. Common significance levels are 0.05 and 0.01.\n",
    ">* *Example Scenario*:\n",
    ">   * Imagine a pharmaceutical company is testing a new drug to determine if it's effective in reducing cholesterol levels. The null hypothesis (H0) states that the drug has no effect on cholesterol levels. The alternative hypothesis (H1) states that the drug does reduce cholesterol levels.\n",
    ">   * If the researchers conduct a statistical test and reject the null hypothesis based on the data, but in reality, the drug has no effect on cholesterol levels, they have committed a Type 1 error.\n",
    ">\n",
    ">**Type 2 Error (False Negative)**:\n",
    ">* A Type 2 error occurs when you fail to reject a null hypothesis that is actually false. In other words, you conclude that there is no significant effect when, in reality, there is an effect.\n",
    ">* The probability of making a Type 2 error is denoted as β. The complement of β (1 - β) is known as the power of the test, which is the probability of correctly rejecting a false null hypothesis.\n",
    ">* *Example Scenario*:\n",
    ">    * Continuing with the pharmaceutical example, suppose the researchers fail to reject the null hypothesis and conclude that the new drug does not reduce cholesterol levels. However, in reality, the drug does have an effect on cholesterol levels.\n",
    ">    * In this case, the researchers have committed a Type 2 error. This might happen if the sample size was too small, the effect size was small, or if the statistical test lacked the power to detect the effect."
   ]
  },
  {
   "cell_type": "markdown",
   "metadata": {},
   "source": [
    "##### Q4: Explain Bayes's theorem with an example.\n",
    ">**Bayes's Theorem**: It describes how to update the probability of a hypothesis based on new evidence or information. \n",
    ">the theorem is expressed as follows:\n",
    ">$$ P(A|B) = \\frac{P(B|A)*P(A)}{P(B)} $$\n",
    ">Where:\n",
    ">   * is the probability of hypothesis A given evidence B.\n",
    ">   * is the probability of evidence B given hypothesis A.\n",
    ">   * is the prior probability of hypothesis A.\n",
    ">   * is the probability of evidence B.\n",
    ">\n",
    ">In other words, Bayes's Theorem helps us update our beliefs (prior probabilities) about a hypothesis based on new information (evidence).\n",
    ">\n",
    ">**Example - Email Spam Filtering**:\n",
    ">\n",
    ">Suppose you're developing an email spam filter. You have collected data on thousands of emails, both spam and legitimate, and you want to use Bayes's Theorem to determine the probability that an email is spam given certain keywords are present in the email.\n",
    ">\n",
    ">Let's define the following:\n",
    ">* S: The event that an email is spam.\n",
    ">* K: The event that certain keywords are present in the email.\n",
    ">* We want to find P(S|K) - the probablity that an email is spam given that it contains certain keywords.\n",
    ">* We have below informations:\n",
    ">   * P(S) = proportion of spam emails in our dataset (prior probability of an email being spam).\n",
    ">   * P(K|S) = proportion of spam emails containing the keywords (Probability of the keywords being present in a spam email).\n",
    ">   * P(-S) (Probability of an email being legitimate) = 1-P(S).\n",
    ">   * P(K|-S) = Proportion of legitimate emails containing the keywords (Probability of the keywords being present in a legitimate email).\n",
    ">* Calculate P(K) as : `P(K) = P(K|S)*P(S) + P(K|-S)*P(-S)`\n",
    ">* Plug these values into Bayes's Theorem to find P(S|K) as:\n",
    ">$$P(S|K) = \\frac{P(K|S)(S)}{P(K)} $$"
   ]
  },
  {
   "cell_type": "markdown",
   "metadata": {},
   "source": [
    "##### Q5: What is a confidence interval? How to calculate the confidence interval, explain with an example.\n",
    ">* **Confidence Interval** is a range of values that are used to estimate the true value of a population parametere, such as mean and poportion based on a sample of data. In other words confidence interval gives a range within which we are reasonably confident that the true population parameter lies.\n",
    ">* Confidence interval is calculated with below formula:\n",
    ">   * Confidence Interval = Sample Statistic ± Margin of Error\n",
    ">   * Margin of Error = Critical Statistics * Standard Error\n",
    ">   * Standard Error = sample standard deviation / root(sample size)\n",
    ">* *Example*: Suppose you have collected a sample of test scores from a class of 40 students and you want to estimate the mean test score for the entire class along with a 95% confidence interval. Mean score of sample is 85 with a standard deviation of 10.\n",
    ">   * Given that:\n",
    ">       * sample size (n) = 40\n",
    ">       * sample mean (xˉ) = 85\n",
    ">       * sample standard deviation (s) = 10\n",
    ">       * confidence interval = 95%\n",
    ">   1. Standard error of sample mean:\n",
    ">       * SE = 10 / root(40)\n",
    ">       * SE = 1.58\n",
    ">   2. Calculate Critical Statistics for 95% confidence interval:\n",
    ">       * For normal distribution, the corresponding z-score for 95% confidence (two-tailed) interval is approx. 1.96.\n",
    ">   3. Calculate MArgin of Error:\n",
    ">       * MoE = 1.96 * 1.58 ≈ 3.0968\n",
    ">   4. Find Confidence Interval of population parameter:\n",
    ">       * Lower bound = 85 - 3.0968 ≈ 81.9\n",
    ">       * Upper bound = 85 + 3.0968 ≈ 88.1\n",
    ">   5. Interpret the result:\n",
    ">       * `The 95% confidence interval for the mean test score is approximately (81.9, 88.1). This means that you are 95% confident that the true mean test score for the entire class falls within this interval.`\n",
    "\n"
   ]
  },
  {
   "cell_type": "markdown",
   "metadata": {},
   "source": [
    "##### Q6. Use Bayes' Theorem to calculate the probability of an event occurring given prior knowledge of the event's probability and new evidence. Provide a sample problem and solution.\n",
    ">**Sample Problem: Medical Test Accuracy**:\n",
    ">* Suppose there's a medical test to detect a rare disease. The disease affects 1 in 1000 people. The test has a false positive rate of 3% (it indicates the disease when a person doesn't have it) and a true positive rate of 98% (it correctly identifies the disease in those who have it). You want to calculate the probability that a person actually has the disease given that they tested positive.\n",
    ">* Given:\n",
    ">   1. Prior probability of having a disease -> P(D) = 0.001 (1 in 1000)\n",
    ">   2. False positive rate -> P(+|-D) = 0.03 (3%)\n",
    ">   3. True positive rate -> P(+|D) = 0.98 (98%)\n",
    ">* To calculate:\n",
    ">   * Probability of having disease given a positive test result P(D|+)\n",
    ">* Solution:\n",
    ">   * Apply base theorem as below:\n",
    ">   $$ P(D|+) = \\frac{P(+|D)*P(D)}{P(+)} $$\n",
    ">   * Where:\n",
    ">       1. P(+|D) -> Probability of testing positive when the person actually has the disease = 0.98\n",
    ">       2. P(D) -> Probability of having the disease = 0.001\n",
    ">       3. P(+) -> Probability of testing postitive\n",
    ">   * To calculate P(+), we can consider two scenarios:\n",
    ">       1. Testing positive when the person has the disease = P(+|D) * P(D)\n",
    ">       2. Testing positive when the person don't the disease = P(+|-D) * P(-D)\n",
    ">       - P(+) = P(+|D) * P(D) + P(+|-D) * P(-D)\n",
    ">       - P(+) = (0.98 * 0.001) + (0.03 * (1 - 0.001))\n",
    ">       - P(+) = 0.03095\n",
    ">   * P(+|D) = (0.98 * 0.001) / (0.03095)\n",
    ">* Probability of actually having a disease given that the person has tested positive = 0.03166 ≈ 3.1%"
   ]
  },
  {
   "cell_type": "markdown",
   "metadata": {},
   "source": [
    "##### Q7. Calculate the 95% confidence interval for a sample of data with a mean of 50 and a standard deviation of 5. Interpret the results.\n",
    ">* Given:\n",
    ">   * sample mean (x̄) = 50\n",
    ">   * sample standard deviation (s) = 5\n",
    ">   * Critical value corresponding to 95% confidence in normal distribution is approximately 1.96 (for two-tailed testing)\n",
    ">   * sample size (n) is not provided and is assumed to be 30 for illustration\n",
    ">* Margin of Error (E) = Critical Value * (Standard Deviation / root(sample size)) = 1.96 * (5 / root(30)) ≈ 1.789\n",
    ">* Confidence Interval:\n",
    ">   * Lower bound = 50 - 1.789 ≈ 48.21\n",
    ">   * Upper bound = 50 + 1.789 ≈ 51.79\n",
    ">* **Interpretation of Results**: The 95% confidence interval for the population mean is approximately (48.21, 51.79). In other words, we are 95% confident that the true population mean lies within this interval."
   ]
  },
  {
   "cell_type": "markdown",
   "metadata": {},
   "source": [
    "##### Q8. What is the margin of error in a confidence interval? How does sample size affect the margin of error? Provide an example of a scenario where a larger sample size would result in a smaller margin of error.\n",
    ">* **Margin of Error** in a confidence interval is the measure of how much a sample estimate might deviate from the true population parameter.\n",
    ">* It represents a range within which the true population parameter likely to fall, given the sample data set and certain level of confidence.\n",
    ">* Margin of error is calculated as:\n",
    ">$$ E = Critical\\ Value * Standard\\ Error $$\n",
    ">$$ where:\\ Standard\\ Error = \\frac{Standard\\ Deviation}{\\sqrt{Sample\\ Size}} $$\n",
    ">* Since Standard Error is inversly propotional to sample size, `margin of error will decrease as the sample size increases.`\n",
    ">* *Example*:\n",
    ">   * Imagine a scenario where are surveying to get public approval rating of a Govt at 99% confidence interval.\n",
    ">       1. In first survey you collected opinion from 100 people with mean approval rating of 60% and standard deviation of 8.\n",
    ">       2. In Second survey you collected opinion from 1000 people with mean approval rating of same 60% and standard deviation of 12.\n",
    ">   * *Case 1*: Here the margin of error will be approximatly ±2.064. i.e with 99% confidence we can conclude that the actual population approval rating will be in the range (57.936, 62.064)\n",
    ">   * *Case 2*: Here the margin of error will be approximatly ±0.9790. i.e with 99% confidence we can conclude that the actual population approval rating will be in the range (59.0209, 60.9790)\n",
    ">   * In the above example, we have seen that a large sample size will reduce the margin of error considerably."
   ]
  },
  {
   "cell_type": "markdown",
   "metadata": {},
   "source": [
    "##### Q9. Calculate the z-score for a data point with a value of 75, a population mean of 70, and a population standard deviation of 5. Interpret the results.\n",
    ">* The Z-score is a measure of how many standard deviations a data point is away from the mean of a population. It helps you understand how unusual or typical a specific data point is within the context of the population's distribution.\n",
    ">* To calculate Z-score for a data point (x) given the population mean (μ) and standard deviation (σ), we can use the standardization formula:\n",
    ">$$ Z = \\frac{x - μ}{σ} $$\n",
    ">$$ Z = \\frac{75 - 70}{5} $$\n",
    ">$$ Z = 1 $$\n",
    ">* This implies that the data point 75 is at 1 standard deviation to the right of population mean."
   ]
  },
  {
   "cell_type": "markdown",
   "metadata": {},
   "source": [
    "##### Q10. In a study of the effectiveness of a new weight loss drug, a sample of 50 participants lost an average of 6 pounds with a standard deviation of 2.5 pounds. Conduct a hypothesis test to determine if the drug is significantly effective at a 95% confidence level using a t-test.\n",
    ">1. **Formulate Hypothesis**:\n",
    ">   - **Null Hypothesis (H0)** - Weight loss drug is not significantly effective, i.e. (μ = 0)\n",
    ">   - **Alternate Hypothesis (H1)** - Weight loss drug is significantly effective, i.e. (μ > 0)\n",
    ">2. **Given Data**:\n",
    ">   - Sample size (n) = 50\n",
    ">   - Sample mean (x̄) = 6\n",
    ">   - Sample standard deviation (s) = 2.5\n",
    ">   - Confidence Interval = 95%, i.e. α = 0.05\n",
    ">3. **Critical Value at 0.005 significance**\n",
    ">   - critical value = 1.6765\n",
    ">4. **Calculate test static**:\n",
    ">   - $$ t = \\frac{x̄ - μ}{\\frac{s}{\\sqrt{n}}} $$\n",
    ">   - $$ =>\\ t = \\frac{6}{\\frac{2.5}{\\sqrt{50}}} $$\n",
    ">   - $$ => t = 16.97 $$\n",
    ">5. **Conclusion**:\n",
    ">   - Since our test statistic 16.97 is higher than the critical value 1.67, we can reject the null hypothesis, i.e. at 95% confidence we can conclude that the new weight loss drug has significant impact."
   ]
  },
  {
   "cell_type": "markdown",
   "metadata": {},
   "source": [
    "##### Q11. In a survey of 500 people, 65% reported being satisfied with their current job. Calculate the 95% confidence interval for the true proportion of people who are satisfied with their job.\n",
    ">* Confidence Interval = Sample mean ± Margin of Error\n",
    ">* Margin of Error (E) = Critical Value (Z) * Standard Error\n",
    ">* Critical Value (Z) at 95% confidence interval (α = 0.025 for two-tailed test) = 1.96\n",
    ">* Standard Error (SE) for proportion is calculated as:\n",
    ">* $$ => SE = \\sqrt{\\frac{p*(1-p)}{n}} $$\n",
    ">* SE = 0.0213\n",
    ">* E = 1.96 * 0.0213\n",
    ">* E = 0.0417\n",
    ">* Lowerbound = 0.65 - 0.0417 = 0.6083\n",
    ">* Upperbound = 0.65 + 0.0417 = 0.6917\n",
    ">* **`Confidence interval for true proportion of people who are satisfied with their job is (60.83%, 69.17%)`**"
   ]
  },
  {
   "cell_type": "markdown",
   "metadata": {},
   "source": [
    "##### Q12. A researcher is testing the effectiveness of two different teaching methods on student performance. Sample A has a mean score of 85 with a standard deviation of 6, while sample B has a mean score of 82 with a standard deviation of 5. Conduct a hypothesis test to determine if the two teaching methods have a significant difference in student performance using a t-test with a significance level of 0.01.\n",
    ">1. **Formulate Hypothesis**:\n",
    ">   - **Null Hypothesis (H0)** - There is no significance difference in the student's performance, i.e. μA = μB\n",
    ">   - **Alternate Hypothesis H(1)** - There is significance difference in the student'sm performance, i.e. μA ≠ μB\n",
    ">2. **Calculate test staitic (t) and degree of freedom**:\n",
    ">* $$ t = \\frac{\\bar{x}_A - \\bar{x}_B}{\\sqrt{\\frac{s_A^2}{n_A} + \\frac{s_B^2}{n_B}}} = \\frac{85 - 82}{\\sqrt{\\frac{6^2}{30} + \\frac{5^2}{30}}} = 2.1038 $$\n",
    ">* $$ df = n_A + n_B - 2 = 58 $$\n",
    ">3. **Crtitical Value at 0.01 (two tailed) significance level**:\n",
    ">   - Critical value for a two tailed t-test at significance 0.01:\n",
    ">   - $$ Z_{\\frac{α}{2}df} = Z_{\\frac{0.01}{2}58} = 2.6632 $$\n",
    ">4. **Conclusion**:\n",
    ">   - **`Since test static - 2.1038 is less than the crtitical value 2.6632, we fail to reject the null hypothesis at 99% confidence interval`**"
   ]
  },
  {
   "cell_type": "markdown",
   "metadata": {},
   "source": [
    "##### Q13. A population has a mean of 60 and a standard deviation of 8. A sample of 50 observations has a mean of 65. Calculate the 90% confidence interval for the true population mean.\n",
    ">1. **Given:**\n",
    ">   - Population mean (μ) = 60\n",
    ">   - Population standard deviation (σ) = 8\n",
    ">   - Sample mean (x) = 65\n",
    ">   - Sample size (n) = 50\n",
    ">   - Confidence interval = 90% => α = 0.1\n",
    ">2. **Margin of Error (E)**:\n",
    ">   - $$ E = Z_{\\frac{α}{2}} * \\frac{σ}{\\sqrt{n}} = Z_{0.05} * \\frac{8}{\\sqrt{50}} = 2.58 * \\frac{8}{\\sqrt{50}} = 2.9189 $$\n",
    ">3. **Interval for truw population mean**:\n",
    ">   - Lower bound = 65 - 2.9189 = 62.0811\n",
    ">   - Upper bound = 65 + 2.9189 = 67.9189\n",
    ">\n",
    ">**`Therefore, we can be 90% confident that the true population mean is between 62.0811 and 67.9189`**"
   ]
  },
  {
   "cell_type": "markdown",
   "metadata": {},
   "source": [
    "##### Q14. In a study of the effects of caffeine on reaction time, a sample of 30 participants had an average reaction time of 0.25 seconds with a standard deviation of 0.05 seconds. Conduct a hypothesis test to determine if the caffeine has a significant effect on reaction time at a 90% confidence level using a t-test.\n",
    ">1. **Formulate Hypothesis**:\n",
    ">   - **Null Hypothesis (H0)** - Caffeine doesn't have a significant effect on reaction time, i.e. μ = 0\n",
    ">   - **Alternate Hypothesis H(1)** - Caffeine does have a significant effect on reaction time, i.e. μ > 0\n",
    ">2. **Calculate test staitic (t) and degree of freedom**:\n",
    ">* $$ t = \\frac{x̄ - μ}{\\frac{s}{\\sqrt{n}}} = \\frac{0.25}{\\frac{0.05}{\\sqrt{30}}} = 27.38 $$\n",
    ">* $$ df = n - 1 = 29 $$\n",
    ">3. **Crtitical Value at 0.1 (two tailed) significance level**:\n",
    ">   - Critical value for a two tailed t-test at significance 0.01:\n",
    ">   - $$ Z_{\\frac{α}{2}df} = Z_{\\frac{0.1}{2}28} = 1.6991 $$\n",
    ">4. **Conclusion**:\n",
    ">   - **`Since test static 27.38 is higher than the crtitical value 1.6991, we reject the null hypothesis at 90% confidence interval`**"
   ]
  }
 ],
 "metadata": {
  "kernelspec": {
   "display_name": "Python 3",
   "language": "python",
   "name": "python3"
  },
  "language_info": {
   "codemirror_mode": {
    "name": "ipython",
    "version": 3
   },
   "file_extension": ".py",
   "mimetype": "text/x-python",
   "name": "python",
   "nbconvert_exporter": "python",
   "pygments_lexer": "ipython3",
   "version": "3.11.4"
  },
  "orig_nbformat": 4
 },
 "nbformat": 4,
 "nbformat_minor": 2
}
