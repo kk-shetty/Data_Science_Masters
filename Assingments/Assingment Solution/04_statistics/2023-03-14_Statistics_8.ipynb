{
 "cells": [
  {
   "cell_type": "markdown",
   "metadata": {},
   "source": [
    "##### Write a Python function that takes in two arrays of data and calculates the F-value for a variance ratio test. The function should return the F-value and the corresponding p-value for the test."
   ]
  },
  {
   "cell_type": "code",
   "execution_count": 104,
   "metadata": {},
   "outputs": [],
   "source": [
    "import numpy as np\n",
    "from scipy import stats\n",
    "\n",
    "## Function for variance ratio test\n",
    "def test_variance(sample_1, sample_2):\n",
    "\n",
    "    # Calculate variance\n",
    "    var1 = np.var(sample_1, ddof=1)\n",
    "    var2 = np.var(sample_2, ddof=1)\n",
    "\n",
    "    # Calculate f value\n",
    "    f_value = var1 / var2\n",
    "\n",
    "    # Degree of Freedom\n",
    "    df1 = len(sample_1) - 1\n",
    "    df2 = len(sample_1) - 1\n",
    "\n",
    "    # Calculate p value (Probability)\n",
    "    p_value = stats.f.cdf(f_value, df1, df2)\n",
    "\n",
    "    return(f_value, p_value)"
   ]
  },
  {
   "cell_type": "code",
   "execution_count": 105,
   "metadata": {},
   "outputs": [
    {
     "name": "stdout",
     "output_type": "stream",
     "text": [
      "Ration of variance = 1.2719361856417695\n",
      "Probability of observing this ratio if population variance are similar is 0.6973460013711861\n"
     ]
    }
   ],
   "source": [
    "## Sample usgae:\n",
    "\n",
    "class_a_height = np.random.randint(110, 150, 20)\n",
    "class_b_height = np.random.randint(110, 150, 20)\n",
    "\n",
    "f_value, p_value = test_variance(class_a_height, class_b_height)\n",
    "print(f\"Ration of variance = {f_value}\")\n",
    "print(f\"Probability of observing this ratio if population variance are similar is {p_value}\")"
   ]
  },
  {
   "cell_type": "markdown",
   "metadata": {},
   "source": [
    "##### Q2. Given a significance level of 0.05 and the degrees of freedom for the numerator and denominator of an F-distribution, write a Python function that returns the critical F-value for a two-tailed test."
   ]
  },
  {
   "cell_type": "code",
   "execution_count": 106,
   "metadata": {},
   "outputs": [],
   "source": [
    "def two_tailed_f_value(alpha, dfn, dfd):\n",
    "    f_value = stats.f.ppf(q=(1 - alpha/2), dfn=dfn, dfd=dfd)\n",
    "    return f_value"
   ]
  },
  {
   "cell_type": "code",
   "execution_count": 107,
   "metadata": {},
   "outputs": [
    {
     "name": "stdout",
     "output_type": "stream",
     "text": [
      "Critical f-value for two tailed test at 0.05 significance is 2.291176179061679\n"
     ]
    }
   ],
   "source": [
    "# Example Usage:\n",
    "numerator_dof = 18\n",
    "denom_dof = 27\n",
    "significance = 0.05\n",
    "\n",
    "critical_value = two_tailed_f_value(significance, numerator_dof, denom_dof)\n",
    "print(f\"Critical f-value for two tailed test at {significance} significance is {critical_value}\")"
   ]
  },
  {
   "cell_type": "markdown",
   "metadata": {},
   "source": [
    "##### Q3. Write a Python program that generates random samples from two normal distributions with known variances and uses an F-test to determine if the variances are equal. The program should output the F- value, degrees of freedom, and p-value for the test."
   ]
  },
  {
   "cell_type": "code",
   "execution_count": 108,
   "metadata": {},
   "outputs": [
    {
     "name": "stdout",
     "output_type": "stream",
     "text": [
      "f-value: 0.2220926844219334\n",
      "Degree of freedom: 29, 29\n",
      "p_value: 5.916543421415453e-05\n"
     ]
    }
   ],
   "source": [
    "# Parameters\n",
    "sample_size = 30\n",
    "variance1 = 9  # Variance for the first distribution\n",
    "variance2 = 16  # Variance for the second distribution\n",
    "mean1 = 30  # Mean for the first distribution\n",
    "mean2 = 34  # Mean for the second distribution\n",
    "\n",
    "# Generate sample from the distribution\n",
    "sample1 = np.random.normal(mean1, np.sqrt(variance1), sample_size)\n",
    "sample2 = np.random.normal(mean2, np.sqrt(variance2), sample_size)\n",
    "\n",
    "# Calculate f_value\n",
    "f_value = np.var(sample1, ddof=1) / np.var(sample2, ddof=1)\n",
    "\n",
    "# Degree of Freedom\n",
    "dfn = dfd = sample_size - 1\n",
    "# Calculate P value\n",
    "p_value = stats.f.cdf(f_value, dfn, dfd)\n",
    "\n",
    "# Print results\n",
    "print(f\"f-value: {f_value}\")\n",
    "print(f\"Degree of freedom: {dfn}, {dfd}\")\n",
    "print(f\"p_value: {p_value}\")"
   ]
  },
  {
   "cell_type": "markdown",
   "metadata": {},
   "source": [
    "##### Q4.The variances of two populations are known to be 10 and 15. A sample of 12 observations is taken from each population. Conduct an F-test at the 5% significance level to determine if the variances are significantly different."
   ]
  },
  {
   "cell_type": "code",
   "execution_count": 109,
   "metadata": {},
   "outputs": [
    {
     "name": "stdout",
     "output_type": "stream",
     "text": [
      "F Statistic: 0.6666666666666666\n",
      "Critical F Value: 2.8179304699530863\n",
      "P value: 0.00966174106632722\n",
      "Fail to reject the null hypothesis. Variances are not significantly different.\n"
     ]
    }
   ],
   "source": [
    "## Given\n",
    "var1 = 10\n",
    "var2 = 15\n",
    "sample_size_1 = 12\n",
    "sample_size_2 = 12\n",
    "dfn = sample_size_1 - 1\n",
    "dfd = sample_size_2 - 1\n",
    "alpha = 0.05\n",
    "\n",
    "# Calculate f_value\n",
    "f_statistic = var1 / var2\n",
    "\n",
    "# Calculate P value\n",
    "p_value = stats.f.cdf(f_value, dfn, dfd)\n",
    "\n",
    "# Calculate critical value\n",
    "critical_f_value = stats.f.ppf(q=1-alpha, dfn = dfn, dfd = dfd)\n",
    "\n",
    "# Print key results\n",
    "print(f\"F Statistic: {f_statistic}\")\n",
    "print(f\"Critical F Value: {critical_f_value}\")\n",
    "print(f\"P value: {p_value}\")\n",
    "\n",
    "if f_statistic > critical_f_value:\n",
    "    print(\"Reject the null hypothesis. Variances are significantly different.\")\n",
    "else:\n",
    "    print(\"Fail to reject the null hypothesis. Variances are not significantly different.\")\n"
   ]
  },
  {
   "cell_type": "markdown",
   "metadata": {},
   "source": [
    "##### Q5. A manufacturer claims that the variance of the diameter of a certain product is 0.005. A sample of 25 products is taken, and the sample variance is found to be 0.006. Conduct an F-test at the 1% significance level to determine if the claim is justified."
   ]
  },
  {
   "cell_type": "code",
   "execution_count": 110,
   "metadata": {},
   "outputs": [
    {
     "name": "stdout",
     "output_type": "stream",
     "text": [
      "F Statistic: 0.8333333333333334\n",
      "Critical F Value: 2.659072104348157\n",
      "Fail to reject the claim. Population variance is 0.05\n"
     ]
    }
   ],
   "source": [
    "## Given\n",
    "var1 = 0.005\n",
    "var2 = 0.006\n",
    "sample_size = 25\n",
    "df2 = sample_size - 1\n",
    "significance = 0.01\n",
    "\n",
    "# Assume degree of freedom for population based on sample\n",
    "df1 = sample_size - 1\n",
    "\n",
    "# Calculating f statistic\n",
    "f_statistic = var1 / var2\n",
    "\n",
    "# Calculate critical f value for 0.01 significance\n",
    "critical_f = stats.f.ppf(q = 1 - significance, dfn = df1, dfd = df2)\n",
    "\n",
    "# Print key results\n",
    "print(f\"F Statistic: {f_statistic}\")\n",
    "print(f\"Critical F Value: {critical_f}\")\n",
    "\n",
    "if f_statistic > critical_f:\n",
    "    print(\"Reject claim. Population variance is not 0.005\")\n",
    "else:\n",
    "    print(\"Fail to reject the claim. Population variance is 0.05\")"
   ]
  },
  {
   "cell_type": "markdown",
   "metadata": {},
   "source": [
    "##### Q6. Write a Python function that takes in the degrees of freedom for the numerator and denominator of an F-distribution and calculates the mean and variance of the distribution. The function should return the mean and variance as a tuple."
   ]
  },
  {
   "cell_type": "markdown",
   "metadata": {},
   "source": [
    "* **The F distribution has the following properties**:\n",
    "\n",
    "    1. The mean of the distribution is equal to:\n",
    "    $$ mean = \\frac{df_2}{df_2 - 2}\\ [for\\ df_2 > 2] $$\n",
    "    2. The variance is equal to:\n",
    "    $$ variance = \\frac{2*df_2^2*(df_1 + df_2 - 2)}{df_1*(df_2 - 2)^2*(df_2 - 4)}\\ [for\\ df_2 > 4]\n",
    "    "
   ]
  },
  {
   "cell_type": "code",
   "execution_count": 111,
   "metadata": {},
   "outputs": [],
   "source": [
    "# Function to approximate mean and variance from degree of freedom\n",
    "def get_mean_and_var(dfn, dfd):\n",
    "    #Check if degree of freedom of denominator is above 4 to calculate Variance\n",
    "\n",
    "    if dfd <= 4:\n",
    "        raise ValueError(\"Degrees of freedom for denominator (dfd) must be greater than 4.\")\n",
    "    \n",
    "    mean = dfd / (dfd - 2)\n",
    "    var = (2 * dfd**2 * (dfn + dfd - 2)) / (dfn * (dfd - 2)**2 * (dfd - 4))\n",
    "\n",
    "    return (mean, var)"
   ]
  },
  {
   "cell_type": "code",
   "execution_count": 112,
   "metadata": {},
   "outputs": [
    {
     "name": "stdout",
     "output_type": "stream",
     "text": [
      "distribution mean : 1.6666666666666667\n",
      "distribution variance : 6.432748538011696\n"
     ]
    }
   ],
   "source": [
    "# Sample usage:\n",
    "df_numerator = 19\n",
    "df_denominator = 5\n",
    "\n",
    "try:\n",
    "    mean, var = get_mean_and_var(df_numerator, df_denominator)\n",
    "except ValueError as e:\n",
    "    print(e)\n",
    "else:\n",
    "    print(f\"distribution mean : {mean}\")\n",
    "    print(f\"distribution variance : {var}\")"
   ]
  },
  {
   "cell_type": "markdown",
   "metadata": {},
   "source": [
    "##### Q7. A random sample of 10 measurements is taken from a normal population with unknown variance. The sample variance is found to be 25. Another random sample of 15 measurements is taken from another normal population with unknown variance, and the sample variance is found to be 20. Conduct an F-test at the 10% significance level to determine if the variances are significantly different."
   ]
  },
  {
   "cell_type": "code",
   "execution_count": 113,
   "metadata": {},
   "outputs": [
    {
     "name": "stdout",
     "output_type": "stream",
     "text": [
      "F Statistic: 0.8333333333333334\n",
      "Critical F Value: 2.121954566976902\n",
      "Fail to reject the hypothesis - variance are not significantly different\n"
     ]
    }
   ],
   "source": [
    "## Hypothesis:\n",
    "# H0 - Varience are not significantly different\n",
    "# H1 - Variance are significantly different\n",
    "\n",
    "## Given \n",
    "sample_size_1 = 10\n",
    "sample_size_2 = 15\n",
    "var_1 = 25\n",
    "var_2 = 20\n",
    "significance = 0.1\n",
    "\n",
    "# Calculate f statistic\n",
    "f_statistic = var1 / var2\n",
    "\n",
    "# Calculate degree of freedom\n",
    "df1 = sample_size_1 - 1\n",
    "df2 = sample_size_2 - 1\n",
    "\n",
    "# Calculate critical value\n",
    "critical_f = stats.f.ppf(q= 1 - significance, dfn = df1, dfd = df2)\n",
    "\n",
    "# print results\n",
    "print(f\"F Statistic: {f_statistic}\")\n",
    "print(f\"Critical F Value: {critical_f}\")\n",
    "\n",
    "if f_statistic > critical_f:\n",
    "    print(\"Reject the hypothesis - variance are significantly different\")\n",
    "else:\n",
    "    print(\"Fail to reject the hypothesis - variance are not significantly different\")\n"
   ]
  },
  {
   "cell_type": "markdown",
   "metadata": {},
   "source": [
    "#### Q8. The following data represent the waiting times in minutes at two different restaurants on a Saturday night: Restaurant A: 24, 25, 28, 23, 22, 20, 27; Restaurant B: 31, 33, 35, 30, 32, 36. Conduct an F-test at the 5% significance level to determine if the variances are significantly different."
   ]
  },
  {
   "cell_type": "code",
   "execution_count": 114,
   "metadata": {},
   "outputs": [
    {
     "name": "stdout",
     "output_type": "stream",
     "text": [
      "F Statistic: 1.496767651159843\n",
      "Critical F Value: 4.950288068694318\n",
      "Fail to reject the hypothesis - variance are not significantly different\n"
     ]
    }
   ],
   "source": [
    "## Hypothesis:\n",
    "# H0 - Varience are not significantly different\n",
    "# H1 - Variance are significantly different\n",
    "\n",
    "## Given \n",
    "wait_time_A = np.array([24, 25, 28, 23, 22, 20, 27])\n",
    "wait_time_B = np.array([31, 33, 35, 30, 32, 36])\n",
    "significance = 0.05\n",
    "\n",
    "# Calculate variance\n",
    "var_A = np.var(wait_time_A)\n",
    "var_B = np.var(wait_time_B)\n",
    "\n",
    "# Calculate f statistic\n",
    "f_statistic = var_A / var_B\n",
    "\n",
    "# Calculate degree of freedom\n",
    "df_A = len(wait_time_A) - 1\n",
    "df_B = len(wait_time_B) - 1\n",
    "\n",
    "# calculate critical f value\n",
    "critical_f = stats.f.ppf(q = 1 - significance, dfn = df_A, dfd = df_B)\n",
    "\n",
    "# print results\n",
    "print(f\"F Statistic: {f_statistic}\")\n",
    "print(f\"Critical F Value: {critical_f}\")\n",
    "\n",
    "if f_statistic > critical_f:\n",
    "    print(\"Reject the hypothesis - variance are significantly different\")\n",
    "else:\n",
    "    print(\"Fail to reject the hypothesis - variance are not significantly different\")"
   ]
  },
  {
   "cell_type": "markdown",
   "metadata": {},
   "source": [
    "##### Q9. The following data represent the test scores of two groups of students: Group A: 80, 85, 90, 92, 87, 83; Group B: 75, 78, 82, 79, 81, 84. Conduct an F-test at the 1% significance level to determine if the variances are significantly different."
   ]
  },
  {
   "cell_type": "code",
   "execution_count": 115,
   "metadata": {},
   "outputs": [
    {
     "name": "stdout",
     "output_type": "stream",
     "text": [
      "F Statistic: 1.9442622950819677\n",
      "Critical F Value: 10.967020650907992\n",
      "Fail to reject the hypothesis - variance are not significantly different\n"
     ]
    }
   ],
   "source": [
    "## Hypothesis\n",
    "# H0 - Variance are not different\n",
    "# H1 - Variance are significantly different\n",
    "\n",
    "## Given\n",
    "score_A = np.array([80, 85, 90, 92, 87, 83])\n",
    "score_B = np.array([75, 78, 82, 79, 81, 84])\n",
    "significance = 0.01\n",
    "\n",
    "# Calculate variance\n",
    "var_A = np.var(score_A)\n",
    "var_B = np.var(score_B)\n",
    "\n",
    "# Calculate f statistic\n",
    "f_statistic = var_A / var_B\n",
    "\n",
    "# Calculate degree of freedom\n",
    "df_A = len(score_A) - 1\n",
    "df_B = len(score_B) - 1\n",
    "\n",
    "# calculate critical f value\n",
    "critical_f = stats.f.ppf(q = 1 - significance, dfn = df_A, dfd = df_B)\n",
    "\n",
    "# print results\n",
    "print(f\"F Statistic: {f_statistic}\")\n",
    "print(f\"Critical F Value: {critical_f}\")\n",
    "\n",
    "if f_statistic > critical_f:\n",
    "    print(\"Reject the hypothesis - variance are significantly different\")\n",
    "else:\n",
    "    print(\"Fail to reject the hypothesis - variance are not significantly different\")"
   ]
  }
 ],
 "metadata": {
  "kernelspec": {
   "display_name": "Python 3",
   "language": "python",
   "name": "python3"
  },
  "language_info": {
   "codemirror_mode": {
    "name": "ipython",
    "version": 3
   },
   "file_extension": ".py",
   "mimetype": "text/x-python",
   "name": "python",
   "nbconvert_exporter": "python",
   "pygments_lexer": "ipython3",
   "version": "3.11.4"
  },
  "orig_nbformat": 4
 },
 "nbformat": 4,
 "nbformat_minor": 2
}
