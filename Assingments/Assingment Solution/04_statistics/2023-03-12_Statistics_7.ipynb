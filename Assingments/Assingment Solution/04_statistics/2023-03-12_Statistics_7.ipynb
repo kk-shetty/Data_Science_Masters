{
 "cells": [
  {
   "cell_type": "markdown",
   "metadata": {},
   "source": [
    "##### Q1. Calculate the 95% confidence interval for a sample of data with a mean of 50 and a standard deviation of 5 using Python. Interpret the results."
   ]
  },
  {
   "cell_type": "code",
   "execution_count": 108,
   "metadata": {},
   "outputs": [
    {
     "name": "stdout",
     "output_type": "stream",
     "text": [
      "95% confiidence interval for true population is - (48.210805856282846, 51.789194143717154)\n"
     ]
    }
   ],
   "source": [
    "import numpy as np\n",
    "import scipy.stats as stat\n",
    "\n",
    "## Given\n",
    "sample_mean = 50\n",
    "sample_std = 5\n",
    "alpha = 0.05\n",
    "\n",
    "## Assumption\n",
    "sample_size = 30\n",
    "\n",
    "## Calculate Z score for two-tailed 95% confidence interval (0.025, 0.975)\n",
    "z = stat.norm.ppf(1 - (alpha/2))\n",
    "\n",
    "## Calculate margin of error\n",
    "margin_of_error = z * (sample_std / np.sqrt(sample_size))\n",
    "\n",
    "## Calculate upper and lower limits\n",
    "lower_limit = sample_mean - margin_of_error\n",
    "upper_limit = sample_mean + margin_of_error\n",
    "\n",
    "##Result Interpretation\n",
    "print(f'95% confiidence interval for true population is - {(lower_limit, upper_limit)}')"
   ]
  },
  {
   "cell_type": "markdown",
   "metadata": {},
   "source": [
    "##### Q2. Conduct a chi-square goodness of fit test to determine if the distribution of colors of M&Ms in a bag matches the expected distribution of 20% blue, 20% orange, 20% green, 10% yellow, 10% red, and 20% brown. Use Python to perform the test with a significance level of 0.05."
   ]
  },
  {
   "cell_type": "code",
   "execution_count": 109,
   "metadata": {},
   "outputs": [
    {
     "name": "stdout",
     "output_type": "stream",
     "text": [
      "ChiSquare Test Static = 11.5\n",
      "Critical Value = 11.070497693516351\n",
      "Reject the Null Hypothesis H(0) at 0.05 significance. The distribution of colors of M&Ms in a bag matches the expected distribution\n"
     ]
    }
   ],
   "source": [
    "## Given \n",
    "expected_proportion = [0.2, 0.2, 0.2, 0.1, 0.1, 0.2]\n",
    "\n",
    "## Observed (Assumption)\n",
    "# observed_data = [6, 7, 5, 2, 5, 5,]\n",
    "observed_data = [9, 2, 7, 2, 7, 3,]\n",
    "expected_data = [x * sum(observed_data) for x in expected_proportion]\n",
    "\n",
    "## Chi Square goodness of fit\n",
    "chisqure_test_static, p_value = stat.chisquare(observed_data, expected_data)\n",
    "print(f\"ChiSquare Test Static = {chisqure_test_static}\")\n",
    "\n",
    "significance = 0.05\n",
    "dof = len(expected_proportion) - 1\n",
    "\n",
    "## Calculate critical value as:\n",
    "critical_value = stat.chi2.ppf((1-significance), dof)\n",
    "print(f\"Critical Value = {critical_value}\")\n",
    "\n",
    "if chisqure_test_static > critical_value:\n",
    "    print(f\"Reject the Null Hypothesis H(0) at {significance} significance. The distribution of colors of M&Ms in a bag matches the expected distribution\")\n",
    "else:\n",
    "    print(f\"Fail to reject the Null Hypothesis H(0) at {significance} significance. The distribution of colors of M&Ms in a bag doesn't matches the expected distribution\")"
   ]
  },
  {
   "cell_type": "markdown",
   "metadata": {},
   "source": [
    "##### Q3. Use Python to calculate the chi-square statistic and p-value for a contingency table with the following data:\n",
    "|  |Group A|Group B|\n",
    "|:-|:-------:|:-------:|\n",
    "|Outcome 1|20|15|\n",
    "|Outcome 2|10|25|\n",
    "|Outcome 3|15|20|\n",
    "##### Interpret the results of the test."
   ]
  },
  {
   "cell_type": "code",
   "execution_count": 110,
   "metadata": {},
   "outputs": [
    {
     "name": "stdout",
     "output_type": "stream",
     "text": [
      "Chi-Square Statistic: 5.833333333333334\n",
      "P-value: 0.05411376622282158\n",
      "Degrees of Freedom: 2\n",
      "Expected Frequencies:\n",
      " [[15. 20.]\n",
      " [15. 20.]\n",
      " [15. 20.]]\n"
     ]
    }
   ],
   "source": [
    "# Given contingency table\n",
    "contingency_table = np.array([[20, 15],\n",
    "                              [10, 25],\n",
    "                              [15, 20]])\n",
    "\n",
    "# Perform the Chi-Square test for independence\n",
    "chi2, p, dof, expected = stat.chi2_contingency(contingency_table)\n",
    "\n",
    "# Print the results\n",
    "print(\"Chi-Square Statistic:\", chi2)\n",
    "print(\"P-value:\", p)\n",
    "print(\"Degrees of Freedom:\", dof)\n",
    "print(\"Expected Frequencies:\\n\", expected)\n"
   ]
  },
  {
   "cell_type": "markdown",
   "metadata": {},
   "source": [
    "* **Interpretation**:\n",
    "    1. **Expected Freaquencies**: These are the values that would be expected in each cell of the table if there was no association between the variables. In this case, all the expected frequencies are the same: 15 for the first column and 20 for the second column.\n",
    "    2. **Chi-Square Statistic**: The chi-square statistic value (5.83) indicates that there is some difference between the observed and expected frequencies in the contingency table. However, the magnitude of this difference might not be strong enough to conclude a significant association between the variables.\n",
    "    3. **P-Value**: The p-value (0.054) is slightly above the common significance level of 0.05. This suggests that the observed association between the two variables (Group and Outcome) in the contingency table may not be statistically significant at the conventional 0.05 level. \n",
    "___"
   ]
  },
  {
   "cell_type": "markdown",
   "metadata": {},
   "source": [
    "##### Q4. A study of the prevalence of smoking in a population of 500 individuals found that 60 individuals smoked. Use Python to calculate the 95% confidence interval for the true proportion of individuals in the population who smoke."
   ]
  },
  {
   "cell_type": "code",
   "execution_count": 111,
   "metadata": {},
   "outputs": [
    {
     "name": "stdout",
     "output_type": "stream",
     "text": [
      "The 95% confidence interval for the true proportion of individuals in the population who smoke is:\n",
      "[0.09151638887130707, 0.1484836111286929]\n"
     ]
    }
   ],
   "source": [
    "## Given\n",
    "sample_size = 500\n",
    "number_of_smokers = 60\n",
    "alpha = 0.05 # Since confidence interval is 95%\n",
    "\n",
    "## Lets call proportion of smokers as p\n",
    "p = number_of_smokers / sample_size\n",
    "\n",
    "## Calculate critical value (Z-score) for tw-tailed test at 0.05 significance\n",
    "critical_value = stat.norm.ppf(1 - (alpha / 2))\n",
    "\n",
    "## Calculate standard error of proportion\n",
    "standard_error = np.sqrt((p * (1 - p)) / sample_size)\n",
    "\n",
    "## Calculatre Margin of error as critical value * standard error\n",
    "margin_of_error = critical_value * standard_error\n",
    "\n",
    "## Calculate lower and upper limit of the interval\n",
    "lower_limit = p - margin_of_error\n",
    "upper_limit = p + margin_of_error\n",
    "\n",
    "print(f\"The 95% confidence interval for the true proportion of individuals in the population who smoke is:\\n[{lower_limit}, {upper_limit}]\")"
   ]
  },
  {
   "cell_type": "code",
   "execution_count": 112,
   "metadata": {},
   "outputs": [
    {
     "name": "stdout",
     "output_type": "stream",
     "text": [
      "(46.0, 75.0)\n"
     ]
    }
   ],
   "source": [
    "## Option 2 using stats binom.interval function:\n",
    "confidence_interval = stat.binom.interval(1 - alpha, n=sample_size, p=number_of_smokers / sample_size)\n",
    "print(confidence_interval)"
   ]
  },
  {
   "cell_type": "markdown",
   "metadata": {},
   "source": [
    "##### Q5. Calculate the 90% confidence interval for a sample of data with a mean of 75 and a standard deviation of 12 using Python. Interpret the results."
   ]
  },
  {
   "cell_type": "code",
   "execution_count": 113,
   "metadata": {},
   "outputs": [],
   "source": [
    "## Given\n",
    "sample_mean = 75\n",
    "sample_std = 12\n",
    "confidence = 0.9\n",
    "significance = 1 - confidence\n",
    "\n",
    "## Assume sample size to be 30\n",
    "sample_size = 30"
   ]
  },
  {
   "cell_type": "code",
   "execution_count": 114,
   "metadata": {},
   "outputs": [
    {
     "name": "stdout",
     "output_type": "stream",
     "text": [
      " 90% confidence interval from sample mean and std : [71.39630625889797, 78.60369374110203]\n"
     ]
    }
   ],
   "source": [
    "## Method 1 - Calculate by formula\n",
    "\n",
    "# 1. Critical Value\n",
    "critical_value = stat.norm.ppf(1 - (significance/2))\n",
    "\n",
    "# 2. Standard Error\n",
    "standard_error = sample_std / np.sqrt(sample_size)\n",
    "\n",
    "# 3. Margin of Error \n",
    "margin_of_error = critical_value * standard_error\n",
    "\n",
    "# 4. Calculate lower and upper limit\n",
    "lower_limit = sample_mean - margin_of_error\n",
    "upper_limit = sample_mean + margin_of_error\n",
    "\n",
    "print(f\" 90% confidence interval from sample mean and std : [{lower_limit}, {upper_limit}]\")\n"
   ]
  },
  {
   "cell_type": "code",
   "execution_count": 115,
   "metadata": {},
   "outputs": [
    {
     "name": "stdout",
     "output_type": "stream",
     "text": [
      " 90% confidence interval from sample mean and std : [71.39630625889797, 78.60369374110203]\n"
     ]
    }
   ],
   "source": [
    "## Method 2 - stat.norm.interval function\n",
    "lower_limit, upper_limit = stat.norm.interval(1 - 0.1, loc=sample_mean, scale=sample_std/np.sqrt(sample_size))\n",
    "print(f\" 90% confidence interval from sample mean and std : [{lower_limit}, {upper_limit}]\")"
   ]
  },
  {
   "cell_type": "markdown",
   "metadata": {},
   "source": [
    "* **Interpretation**: \n",
    "    - At 90% confidence the true mean of the population will be within 71.39 and 78.60.\n",
    "    - If we draw multiple sample from the population 90% of the time the mean will be in this range.\n",
    "___"
   ]
  },
  {
   "cell_type": "markdown",
   "metadata": {},
   "source": [
    "##### Q6. Use Python to plot the chi-square distribution with 10 degrees of freedom. Label the axes and shade the area corresponding to a chi-square statistic of 15."
   ]
  },
  {
   "cell_type": "code",
   "execution_count": 116,
   "metadata": {},
   "outputs": [
    {
     "data": {
      "image/png": "[encoded data removed]",
      "text/plain": [
       "<Figure size 800x600 with 1 Axes>"
      ]
     },
     "metadata": {},
     "output_type": "display_data"
    }
   ],
   "source": [
    "import matplotlib.pyplot as plt\n",
    "\n",
    "# set degree of freedom\n",
    "dof = 10\n",
    "\n",
    "# Create a range of chi-square values\n",
    "x = np.linspace(0, 30, 500)\n",
    "\n",
    "# Calculate chi-square probability density function\n",
    "chi_square_pdf = stat.chi2.pdf(x, dof)\n",
    "# chi_square_pdf_2 = stat.chi2.pdf(x, 5)\n",
    "\n",
    "# Create the plot\n",
    "plt.figure(figsize=(8,6))\n",
    "plt.plot(x, chi_square_pdf, label=f\"Chi-Square Distribution (dof = {dof})\")\n",
    "# plt.plot(x, chi_square_pdf_2, label=f\"Chi-Square Distribution (dof = 5)\")\n",
    "\n",
    "# Shade the are corresponding to the chi-square statistic of 15\n",
    "x_fill = np.linspace(15, 30, 500)\n",
    "plt.fill_between(x_fill, stat.chi2.pdf(x_fill, dof), color='blue', alpha=0.3, label='Area for chi^2 = 15')\n",
    "\n",
    "# Label the axes and legends\n",
    "plt.xlabel(\"Chi-Square value\")\n",
    "plt.ylabel(\"Probability Density\")\n",
    "plt.title(\"Chi-Square Distribution\")\n",
    "plt.legend()\n",
    "\n",
    "# Show plot\n",
    "plt.grid()\n",
    "plt.show()"
   ]
  },
  {
   "cell_type": "markdown",
   "metadata": {},
   "source": [
    "##### Q7. A random sample of 1000 people was asked if they preferred Coke or Pepsi. Of the sample, 520 preferred Coke. Calculate a 99% confidence interval for the true proportion of people in the population who prefer Coke."
   ]
  },
  {
   "cell_type": "code",
   "execution_count": 117,
   "metadata": {},
   "outputs": [
    {
     "name": "stdout",
     "output_type": "stream",
     "text": [
      "99% Confidence interval for tru population proportion of people who prefer coke : [479.0, 561.0]\n"
     ]
    }
   ],
   "source": [
    "# Given\n",
    "sample_size = 1000\n",
    "preferred_coke = 520\n",
    "confidence = 0.99\n",
    "alpha = 1 - confidence\n",
    "\n",
    "# Calculate the tru proportion interval with binom interval function\n",
    "lower_limit, upper_limit = stat.binom.interval(1 - alpha, n=sample_size, p=preferred_coke / sample_size)\n",
    "print(f\"99% Confidence interval for tru population proportion of people who prefer coke : [{lower_limit}, {upper_limit}]\")"
   ]
  },
  {
   "cell_type": "markdown",
   "metadata": {},
   "source": [
    "##### Q8. A researcher hypothesizes that a coin is biased towards tails. They flip the coin 100 times and observe 45 tails. Conduct a chi-square goodness of fit test to determine if the observed frequencies match the expected frequencies of a fair coin. Use a significance level of 0.05."
   ]
  },
  {
   "cell_type": "code",
   "execution_count": 118,
   "metadata": {},
   "outputs": [
    {
     "name": "stdout",
     "output_type": "stream",
     "text": [
      "Chi-Square Statistic: 1.0\n",
      "P-value: 0.31731050786291115\n",
      "Critical value: 3.841458820694124\n"
     ]
    }
   ],
   "source": [
    "# GIVEN\n",
    "sample_size = 100\n",
    "observed_tails = 45\n",
    "observed_heads = sample_size - observed_tails\n",
    "expected_heads = expected_tails = sample_size / 2\n",
    "significance = 0.05\n",
    "df = 1\n",
    "\n",
    "chisquare_test, p_value = stat.chisquare([observed_tails, observed_heads], [expected_heads, expected_tails])\n",
    "\n",
    "critical_value = stat.chi2.ppf(1-significance, df)\n",
    "\n",
    "# Print the results\n",
    "print(\"Chi-Square Statistic:\", chisquare_test)\n",
    "print(\"P-value:\", p_value)\n",
    "print(\"Critical value:\", critical_value)"
   ]
  },
  {
   "cell_type": "markdown",
   "metadata": {},
   "source": [
    "* **Interpretation**: Since our Chi-Square Statistic is less than the Critical value\n",
    "    - The chi-square goodness of fit test does not provide strong evidence to reject the null hypothesis that the coin is fair.\n",
    "    - The p-value suggests that the observed distribution of outcomes (tails and heads) is reasonably consistent with what would be expected for a fair coin.\n",
    "___"
   ]
  },
  {
   "cell_type": "markdown",
   "metadata": {},
   "source": [
    "##### Q9. A study was conducted to determine if there is an association between smoking status (smoker or non-smoker) and lung cancer diagnosis (yes or no). The results are shown in the contingency table below. Conduct a chi-square test for independence to determine if there is a significant association between smoking status and lung cancer diagnosis. Use a significance level of 0.05.\n",
    "||Lung Cancer : Yes|Lung Cancer : No|\n",
    "|:-|:-------------:|:--------------:|\n",
    "|Smoker|60|140|\n",
    "|Non Smoker|30|170|"
   ]
  },
  {
   "cell_type": "code",
   "execution_count": 119,
   "metadata": {},
   "outputs": [
    {
     "name": "stdout",
     "output_type": "stream",
     "text": [
      "Chi-Square Statistic: 12.057347670250895\n",
      "P-value: 0.0005158863863703744\n",
      "Degrees of Freedom: 1\n",
      "Expected Frequencies:\n",
      " [[ 45. 155.]\n",
      " [ 45. 155.]]\n"
     ]
    }
   ],
   "source": [
    "# Given contingency table\n",
    "contingency_table = np.array([[60, 140],\n",
    "                              [30, 170]])\n",
    "\n",
    "# Perform the Chi-Square test for independence\n",
    "chi2, p, dof, expected = stat.chi2_contingency(contingency_table)\n",
    "\n",
    "# Print the results\n",
    "print(\"Chi-Square Statistic:\", chi2)\n",
    "print(\"P-value:\", p)\n",
    "print(\"Degrees of Freedom:\", dof)\n",
    "print(\"Expected Frequencies:\\n\", expected)"
   ]
  },
  {
   "cell_type": "markdown",
   "metadata": {},
   "source": [
    "* **Interpretation**:\n",
    "    1. **Expected Freaquencies**: These are the values that would be expected in each cell of the table if there was no association between smoking status and lung cancer diagnosis. \n",
    "    2. **Chi-Square Statistic**: The calculated Chi-Square statistic (12.06) indicates a considerable difference between the observed frequencies and the expected frequencies under the assumption of independence.\n",
    "    3. **P-Value**: The very small p-value (0.00052) suggests strong evidence against the null hypothesis. In other words, the observed association between smoking status and lung cancer diagnosis is unlikely to have occurred by chance, and there is a significant association between these two variables.\n",
    "___"
   ]
  },
  {
   "cell_type": "markdown",
   "metadata": {},
   "source": [
    "##### Q10. A study was conducted to determine if the proportion of people who prefer milk chocolate, dark chocolate, or white chocolate is different in the U.S. versus the U.K. A random sample of 500 people from the U.S. and a random sample of 500 people from the U.K. were surveyed. The results are shown in the contingency table below. Conduct a chi-square test for independence to determine if there is a significant association between chocolate preference and country of origin. Use a significance level of 0.01.\n",
    "||Milk Chocolate|Dark Chocolate|White Chocolate|\n",
    "|:-|:-------------:|:--------------:|\n",
    "|U.S.|200|150|150|\n",
    "|U.K.|225|175|100|"
   ]
  },
  {
   "cell_type": "code",
   "execution_count": 120,
   "metadata": {},
   "outputs": [
    {
     "name": "stdout",
     "output_type": "stream",
     "text": [
      "Chi-Square Statistic: 13.393665158371041\n",
      "P-value: 0.0012348168997745918\n",
      "end=The observed p-value is very less if the hypothesis is true suggesting that this is unlikely to have occurred by chance, and there is a significant association between these two variables.\n"
     ]
    }
   ],
   "source": [
    "# Given contingency table\n",
    "contingency_table = np.array([[200, 150, 150],\n",
    "                              [225, 175, 100]])\n",
    "\n",
    "# Perform the Chi-Square test for independence\n",
    "chi2, p, dof, expected = stat.chi2_contingency(contingency_table)\n",
    "\n",
    "# Print the results\n",
    "print(\"Chi-Square Statistic:\", chi2)\n",
    "print(\"P-value:\", p)\n",
    "\n",
    "if (p < 0.01):\n",
    "    print(\"\"\"end=The observed p-value is very less if the hypothesis is true suggesting that this is unlikely to have occurred by chance, and there is a significant association between these two variables.\"\"\")\n",
    "else:\n",
    "    print(\"There is no significant association between the two parameters.\")"
   ]
  },
  {
   "cell_type": "markdown",
   "metadata": {},
   "source": [
    "##### Q11. A random sample of 30 people was selected from a population with an unknown mean and standard deviation. The sample mean was found to be 72 and the sample standard deviation was found to be 10. Conduct a hypothesis test to determine if the population mean is significantly different from 70. Use a significance level of 0.05."
   ]
  },
  {
   "cell_type": "code",
   "execution_count": 121,
   "metadata": {},
   "outputs": [
    {
     "name": "stdout",
     "output_type": "stream",
     "text": [
      "Fail to reject the null hypothesis. There is no significant difference from 70.\n"
     ]
    }
   ],
   "source": [
    "## Given\n",
    "sample_mean = 72\n",
    "sample_std = 10\n",
    "sample_size = 30\n",
    "hypothetical_population_mean = 70\n",
    "alpha = 0.05\n",
    "dof = sample_size - 1\n",
    "\n",
    "t_statistic = (sample_mean - hypothetical_population_mean) / (sample_std / np.sqrt(sample_size))\n",
    "\n",
    "critical_t_value = stat.t.ppf(1 - alpha / 2, df=dof)\n",
    "\n",
    "if abs(t_statistic) > critical_t_value:\n",
    "    print(\"Reject the null hypothesis. The population mean is significantly different from 70.\")\n",
    "else:\n",
    "    print(\"Fail to reject the null hypothesis. There is no significant difference from 70.\")"
   ]
  }
 ],
 "metadata": {
  "kernelspec": {
   "display_name": "Python 3",
   "language": "python",
   "name": "python3"
  },
  "language_info": {
   "codemirror_mode": {
    "name": "ipython",
    "version": 3
   },
   "file_extension": ".py",
   "mimetype": "text/x-python",
   "name": "python",
   "nbconvert_exporter": "python",
   "pygments_lexer": "ipython3",
   "version": "3.11.4"
  },
  "orig_nbformat": 4
 },
 "nbformat": 4,
 "nbformat_minor": 2
}
