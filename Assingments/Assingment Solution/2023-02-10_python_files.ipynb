{
 "cells": [
  {
   "cell_type": "markdown",
   "id": "f7386766-378c-4860-8d6f-345d088e246c",
   "metadata": {},
   "source": [
    "#### Q1. Which function is used to open a file? What are the different modes of opening a file? Explain each mode of file opening."
   ]
  },
  {
   "cell_type": "markdown",
   "id": "d710f8c2-c5e3-447b-b349-ebce7478ec2f",
   "metadata": {},
   "source": [
    "`open()` function is used to open a file.\n",
    "\n",
    "A file can be opend using below modes:\n",
    "\n",
    "| Mode | Description |\n",
    "|:-----|:------------|\n",
    "| 'r' | open for reading (default) |\n",
    "| 'w' | open for writing, truncating the file first |\n",
    "| 'x' | create a new file and open it for writing |\n",
    "| 'a' | open for writing, appending to the end of the file if it exists |\n",
    "| 'b' | binary mode |\n",
    "| 't' | text mode (default) |\n",
    "| '+' | open a disk file for updating (reading and writing) |"
   ]
  },
  {
   "cell_type": "markdown",
   "id": "ec1e59e4-882c-45da-bfb2-ff75cbf6f304",
   "metadata": {},
   "source": [
    "___"
   ]
  },
  {
   "cell_type": "markdown",
   "id": "e44a1c5b-9763-4add-a783-dd97d14aabc3",
   "metadata": {},
   "source": [
    "#### Q2. Why close() function is used? Why is it important to close a file?"
   ]
  },
  {
   "cell_type": "markdown",
   "id": "648fed23-34b3-4c0f-80fa-be6c281edd81",
   "metadata": {},
   "source": [
    "In Python, the `close()` function is used to close a file object that was opened using the `open()` function or any other file-opening method\n",
    "\n",
    "It is important to close a file in Python for several reasons:\n",
    "\n",
    "1. **Resource Management**: When you open a file in Python, system resources such as file descriptors are allocated by the operating system. These resources are limited, and if we don't close the file properly, we may end up exhausting the available resources. By closing the file, we release these system resources, making them available for other processes or operations.\n",
    "\n",
    "2. **Data Integrity**: Python uses buffered I/O operations, which means that when you write data to a file, it may be initially stored in a buffer in memory rather than immediately written to the disk. Closing the file ensures that any remaining data in the buffer is flushed and written to the disk. If we don't close the file and the program terminates unexpectedly, the buffered data may be lost, leading to incomplete or corrupted files.\n",
    "\n",
    "3. **File Locking**: In some cases, opening a file in Python may acquire a file lock, preventing other processes or threads from accessing or modifying the file while it is open. If we don't close the file properly, the lock may persist, causing potential issues for other programs that need to work with the file. Closing the file releases the lock, allowing other processes to access it."
   ]
  },
  {
   "cell_type": "markdown",
   "id": "57fab897-d887-4d3d-b664-2e187f49b95d",
   "metadata": {},
   "source": [
    "___"
   ]
  },
  {
   "cell_type": "markdown",
   "id": "90c354db-e7d3-4987-9315-0b3b71c62f49",
   "metadata": {},
   "source": [
    "#### Q3. Write a python program to create a text file. Write ‘I want to become a Data Scientist’ in that file. Then close the file. Open this file and read the content of the file."
   ]
  },
  {
   "cell_type": "code",
   "execution_count": 12,
   "id": "dac79034-b4d3-4147-99a1-6f0fba6af247",
   "metadata": {},
   "outputs": [
    {
     "name": "stdout",
     "output_type": "stream",
     "text": [
      "I want to become a Data Scientist\n"
     ]
    }
   ],
   "source": [
    "# Creating the file\n",
    "with open(\"new_file.txt\", \"w\") as file:\n",
    "    # Writing into the file\n",
    "    file.write(\"I want to become a Data Scientist\")\n",
    "    file.close()\n",
    "\n",
    "# Opening a file to read\n",
    "with open(\"new_file.txt\", \"r\") as file:\n",
    "    # Reading from the file\n",
    "    data = file.read()\n",
    "    print(data)"
   ]
  },
  {
   "cell_type": "markdown",
   "id": "6a80ef1f-0656-4aac-a98b-b5959817ba7a",
   "metadata": {},
   "source": [
    "___"
   ]
  },
  {
   "cell_type": "markdown",
   "id": "1dbba628-0e6a-4c61-bb84-fb04a90c6c9a",
   "metadata": {},
   "source": [
    "#### Q4. Explain the following with python code: read(), readline() and readlines()."
   ]
  },
  {
   "cell_type": "markdown",
   "id": "e6698f63-6316-4fa0-813f-2fc31de7125f",
   "metadata": {},
   "source": [
    "`read()` method is used to read the content of a file as a string. It read and returns entire content of the file from current pointer to the end of file."
   ]
  },
  {
   "cell_type": "code",
   "execution_count": 13,
   "id": "45172cca-218a-4a27-9c3a-583f9b946fdd",
   "metadata": {},
   "outputs": [
    {
     "name": "stdout",
     "output_type": "stream",
     "text": [
      "This is a sample text file which contains multiple lines. This is line #1.\n",
      "This is the second line of the file.\n",
      "And so this is the third line.\n",
      "There is nothing special about me either, as I'm just another line but also end of file :).\n"
     ]
    }
   ],
   "source": [
    "# Example\n",
    "with open(\"sample.txt\", \"r\") as file:\n",
    "    content = file.read()\n",
    "    print(content)\n",
    "    file.close()\n"
   ]
  },
  {
   "cell_type": "markdown",
   "id": "f27fdadc-04ea-4aee-8085-8b58260f8f4a",
   "metadata": {},
   "source": [
    "`readline()` method is used to read a simgle line from a file. It reads and returns a string that contains the characters from the current position of the file pointer until it encounters a newline character ('\\n') or reaches the end of the file."
   ]
  },
  {
   "cell_type": "code",
   "execution_count": 14,
   "id": "72f28b2a-a72b-4f11-b42c-1038b257be62",
   "metadata": {},
   "outputs": [
    {
     "name": "stdout",
     "output_type": "stream",
     "text": [
      "This is a sample text file which contains multiple lines. This is line #1.\n",
      "\n",
      "This is the second line of the file.\n",
      "\n"
     ]
    }
   ],
   "source": [
    "# Example\n",
    "\n",
    "with open(\"sample.txt\", \"r\") as file:\n",
    "    line1 = file.readline() # Read one line from the file\n",
    "    print(line1)\n",
    "    line2 = file.readline() # Reads next line from the file\n",
    "    print(line2)\n",
    "    file.close()"
   ]
  },
  {
   "cell_type": "markdown",
   "id": "484cfd57-1069-4e4a-93e5-0b278d72f345",
   "metadata": {},
   "source": [
    "`readlines()` method is used to read all the lines from a file and and return as a list of strings. Each string in the list represents a line from the file, including the newline character ('\\n')."
   ]
  },
  {
   "cell_type": "code",
   "execution_count": 15,
   "id": "7206ee1b-128e-4d3e-93a8-cff51c7f2452",
   "metadata": {},
   "outputs": [
    {
     "name": "stdout",
     "output_type": "stream",
     "text": [
      "['This is a sample text file which contains multiple lines. This is line #1.\\n', 'This is the second line of the file.\\n', 'And so this is the third line.\\n', \"There is nothing special about me either, as I'm just another line but also end of file :).\"]\n",
      "\n",
      "\n",
      "This is a sample text file which contains multiple lines. This is line #1.\n",
      "\n",
      "This is the second line of the file.\n",
      "\n",
      "And so this is the third line.\n",
      "\n",
      "There is nothing special about me either, as I'm just another line but also end of file :).\n"
     ]
    }
   ],
   "source": [
    "# Example\n",
    "\n",
    "with open(\"sample.txt\", \"r\") as file:\n",
    "    contents = file.readlines()\n",
    "    print(contents) # this will be list object\n",
    "    # Lets dispaly the contents line by line \n",
    "    print(\"\\n\")\n",
    "    for lines in contents:\n",
    "        print(lines)\n",
    "    file.close()"
   ]
  },
  {
   "cell_type": "markdown",
   "id": "1c9f2947-ba85-4df7-a8f3-a5937d410e6f",
   "metadata": {},
   "source": [
    "___"
   ]
  },
  {
   "cell_type": "markdown",
   "id": "c82c99ea-4101-4ebf-a0cf-5087d5572a8c",
   "metadata": {},
   "source": [
    "#### Q5. Explain why `with` statement is used with `open()`. What is the advantage of using `with` statement and `open()` together?"
   ]
  },
  {
   "cell_type": "markdown",
   "id": "6823d194-53ab-4982-87ab-4e11c45bc35c",
   "metadata": {},
   "source": [
    "The `with` statement in Python is used in conjunction with the `open()` function to provide a convenient and reliable way of working with files by providing an exclusive block to work on files.\n",
    "The advantage of using the `with` statement with `open()` is that it automatically takes care of closing the file, even if an exception occurs."
   ]
  },
  {
   "cell_type": "markdown",
   "id": "72845d5f-eb7c-4d0f-b8b9-6f27eb6f6666",
   "metadata": {},
   "source": [
    "___"
   ]
  },
  {
   "cell_type": "markdown",
   "id": "66cfaf17-9b55-4081-890e-bc3fa37b1330",
   "metadata": {},
   "source": [
    "#### Q6. Explain the write() and writelines() functions. Give a suitable example."
   ]
  },
  {
   "cell_type": "markdown",
   "id": "9ff09b08-1520-4475-9aef-dd4896a88e9b",
   "metadata": {},
   "source": [
    "`write()`: The `write()` function is used to write a string of data to a file. It appends the specified string at the current position of the file pointer. If the file does not exist, it creates a new file. If the file already exists, the existing content is overwritten. However, if the file is opened with mode 'a' - then it will append the content at current file poiunter."
   ]
  },
  {
   "cell_type": "code",
   "execution_count": 23,
   "id": "c691c8b7-99e4-4c52-8353-f44b6450b0e2",
   "metadata": {},
   "outputs": [
    {
     "name": "stdout",
     "output_type": "stream",
     "text": [
      "Writing first line into a new filer\n",
      "\n",
      "\n",
      "Ooops... I just overwrite my past content\n",
      "\n",
      "\n",
      "Ooops... I just overwrite my past content\n",
      "This time I appended to my previous content :)\n"
     ]
    }
   ],
   "source": [
    "# Example\n",
    "\n",
    "def write_to_file(file, text, mode):\n",
    "    with open(file, mode) as file:\n",
    "        file.write(text)\n",
    "        file.close()\n",
    "\n",
    "def read_from_file(file):\n",
    "    with open(file, \"r\") as file:\n",
    "        content = file.read()\n",
    "        print(content)\n",
    "        file.close()\n",
    "\n",
    "write_to_file(\"new_file_2.txt\", \"Writing first line into a new filer\", \"w\")\n",
    "read_from_file(\"new_file_2.txt\")\n",
    "print(\"\\n\")\n",
    "write_to_file(\"new_file_2.txt\", \"Ooops... I just overwrite my past content\", \"w\")\n",
    "read_from_file(\"new_file_2.txt\")\n",
    "print(\"\\n\")\n",
    "write_to_file(\"new_file_2.txt\", \"\\nThis time I appended to my previous content :)\", \"a\")\n",
    "read_from_file(\"new_file_2.txt\")"
   ]
  },
  {
   "cell_type": "markdown",
   "id": "715c0abb-cc44-4151-8ac9-4e5ea394f5d1",
   "metadata": {},
   "source": [
    "`writelines()`: The `writelines()` function is used to write a list of strings to a file. Each string in the list represents a line of text. It does not add any newline characters ('\\n') between the lines. Like write(), it appends the lines at the current position of the file pointer."
   ]
  },
  {
   "cell_type": "code",
   "execution_count": 33,
   "id": "9b738058-0474-4c1d-aa18-0026d4fac97b",
   "metadata": {},
   "outputs": [
    {
     "name": "stdout",
     "output_type": "stream",
     "text": [
      "These are some random lines. These will be printed in same line, since I haven't sperated the items by '\\n'\n",
      "\n",
      "\n",
      "These are some random lines. These will be printed in same line, since I haven't sperated the items by '\\n'\n",
      "These are some random lines.\n",
      "These will be written in new line.\n",
      "As I have sperated the items by '\\n'\n"
     ]
    }
   ],
   "source": [
    "# Example\n",
    "\n",
    "def writelines_to_file(file, lines, mode):\n",
    "    with open(file, mode) as file:\n",
    "        file.writelines(lines)\n",
    "        file.close()\n",
    "\n",
    "lines1 = [\"These are some random lines.\", \" These will be printed in same line\", \", since I haven't sperated the items by '\\\\n'\"]\n",
    "writelines_to_file(\"new_file_3.txt\", lines1, \"w\")\n",
    "read_from_file(\"new_file_3.txt\")\n",
    "print(\"\\n\")\n",
    "\n",
    "lines2 = [\"\\nThese are some random lines.\\n\", \"These will be written in new line.\\n\", \"As I have sperated the items by '\\\\n'\"]\n",
    "writelines_to_file(\"new_file_3.txt\", lines2, \"a\")\n",
    "read_from_file(\"new_file_3.txt\")\n"
   ]
  },
  {
   "cell_type": "markdown",
   "id": "9cff80e2-f694-4aaf-964f-66d6991574a8",
   "metadata": {},
   "source": [
    "___"
   ]
  }
 ],
 "metadata": {
  "kernelspec": {
   "display_name": "Python 3.8.10 64-bit",
   "language": "python",
   "name": "python3"
  },
  "language_info": {
   "codemirror_mode": {
    "name": "ipython",
    "version": 3
   },
   "file_extension": ".py",
   "mimetype": "text/x-python",
   "name": "python",
   "nbconvert_exporter": "python",
   "pygments_lexer": "ipython3",
   "version": "3.8.10"
  },
  "vscode": {
   "interpreter": {
    "hash": "e7370f93d1d0cde622a1f8e1c04877d8463912d04d973331ad4851f04de6915a"
   }
  }
 },
 "nbformat": 4,
 "nbformat_minor": 5
}
