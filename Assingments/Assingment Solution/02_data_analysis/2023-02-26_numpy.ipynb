{
 "cells": [
  {
   "cell_type": "markdown",
   "metadata": {},
   "source": [
    "#### Consider the below code to answer further questions:"
   ]
  },
  {
   "cell_type": "code",
   "execution_count": 39,
   "metadata": {},
   "outputs": [],
   "source": [
    "import numpy as np\n",
    "list_ = [ '1' , '2' , '3' , '4' , '5' ]\n",
    "array_list = np.array(object = list_)"
   ]
  },
  {
   "cell_type": "markdown",
   "metadata": {},
   "source": [
    "\n",
    "#### Q1. Is there any difference in the data type of variables list_ and array_list? If there is then write a code to print the data types of both the variables."
   ]
  },
  {
   "cell_type": "code",
   "execution_count": 40,
   "metadata": {},
   "outputs": [
    {
     "name": "stdout",
     "output_type": "stream",
     "text": [
      "Data type of list_ : <class 'list'>\n",
      "Data type of array_list : <class 'numpy.ndarray'>\n"
     ]
    }
   ],
   "source": [
    "print(f\"Data type of list_ : {type(list_)}\")\n",
    "print(f\"Data type of array_list : {type(array_list)}\")"
   ]
  },
  {
   "cell_type": "markdown",
   "metadata": {},
   "source": [
    "___"
   ]
  },
  {
   "cell_type": "markdown",
   "metadata": {},
   "source": [
    "#### Q2. Write a code to print the data type of each and every element of both the variables list_ and arra_list."
   ]
  },
  {
   "cell_type": "code",
   "execution_count": 41,
   "metadata": {},
   "outputs": [
    {
     "name": "stdout",
     "output_type": "stream",
     "text": [
      "'list_' elements and their data type:\n",
      "1 : <class 'str'>\n",
      "2 : <class 'str'>\n",
      "3 : <class 'str'>\n",
      "4 : <class 'str'>\n",
      "5 : <class 'str'>\n"
     ]
    }
   ],
   "source": [
    "# Data type of each element of list_\n",
    "print(\"'list_' elements and their data type:\")\n",
    "for element in list_:\n",
    "    print(f\"{element} : {type(element)}\")"
   ]
  },
  {
   "cell_type": "code",
   "execution_count": 42,
   "metadata": {},
   "outputs": [
    {
     "name": "stdout",
     "output_type": "stream",
     "text": [
      "'array_list' elements and their data type:\n",
      "1 : <class 'numpy.str_'>\n",
      "2 : <class 'numpy.str_'>\n",
      "3 : <class 'numpy.str_'>\n",
      "4 : <class 'numpy.str_'>\n",
      "5 : <class 'numpy.str_'>\n"
     ]
    }
   ],
   "source": [
    "# Data type of each element of array_list\n",
    "print(\"'array_list' elements and their data type:\")\n",
    "for i in range(len(array_list)):\n",
    "    print(f\"{array_list[i]} : {type(array_list[i])}\")"
   ]
  },
  {
   "cell_type": "markdown",
   "metadata": {},
   "source": [
    "___"
   ]
  },
  {
   "cell_type": "markdown",
   "metadata": {},
   "source": [
    "#### Q3. Considering the following changes in the variable, array_list:"
   ]
  },
  {
   "cell_type": "code",
   "execution_count": 43,
   "metadata": {},
   "outputs": [],
   "source": [
    "array_list = np.array(object = list_, dtype = int)"
   ]
  },
  {
   "cell_type": "markdown",
   "metadata": {},
   "source": [
    "#### Will there be any difference in the data type of the elements present in both the variables, list_ and arra_list? If so then print the data types of each and every element present in both the variables, list_ and arra_list.\n",
    "\n",
    "There will be difference in the elements present in **array_list**. In the original code, the data type of each elements in array_list was `'numpy.str_'` and now it would be changed to `'numpy.int64'`"
   ]
  },
  {
   "cell_type": "code",
   "execution_count": 44,
   "metadata": {},
   "outputs": [
    {
     "name": "stdout",
     "output_type": "stream",
     "text": [
      "'list_' elements and their data type:\n",
      "1 : <class 'str'>\n",
      "2 : <class 'str'>\n",
      "3 : <class 'str'>\n",
      "4 : <class 'str'>\n",
      "5 : <class 'str'>\n",
      "'array_list' elements and their data type:\n",
      "1 : <class 'numpy.int64'>\n",
      "2 : <class 'numpy.int64'>\n",
      "3 : <class 'numpy.int64'>\n",
      "4 : <class 'numpy.int64'>\n",
      "5 : <class 'numpy.int64'>\n"
     ]
    }
   ],
   "source": [
    "# Data type of each element of list_\n",
    "print(\"'list_' elements and their data type:\")\n",
    "for element in list_:\n",
    "    print(f\"{element} : {type(element)}\")\n",
    "\n",
    "# Data type of each element of array_list\n",
    "print(\"'array_list' elements and their data type:\")\n",
    "for i in range(len(array_list)):\n",
    "    print(f\"{array_list[i]} : {type(array_list[i])}\")\n"
   ]
  },
  {
   "cell_type": "markdown",
   "metadata": {},
   "source": [
    "___"
   ]
  },
  {
   "cell_type": "markdown",
   "metadata": {},
   "source": [
    "#### Consider the below code to answer further questions:"
   ]
  },
  {
   "cell_type": "code",
   "execution_count": 45,
   "metadata": {},
   "outputs": [],
   "source": [
    "import numpy as np\n",
    "num_list = [ [ 1 , 2 , 3 ] , [ 4 , 5 , 6 ] ]\n",
    "num_array = np.array(object = num_list)"
   ]
  },
  {
   "cell_type": "markdown",
   "metadata": {},
   "source": [
    "#### Q4. Write a code to find the following characteristics of variable, num_array:\n",
    "* (i) shape\n",
    "* (ii) size"
   ]
  },
  {
   "cell_type": "code",
   "execution_count": 46,
   "metadata": {},
   "outputs": [
    {
     "name": "stdout",
     "output_type": "stream",
     "text": [
      "Shape of 'num_array' is : 2 rows X 3 columns\n",
      "Shape of 'num_array' is : 6\n"
     ]
    }
   ],
   "source": [
    "# shape gives us the shape of the array in number of rows and columns\n",
    "rows, cols = num_array.shape\n",
    "print(f\"Shape of 'num_array' is : {rows} rows X {cols} columns\")\n",
    "\n",
    "# size gives us the number of elements in the array. It's usually the product of numbers in shape\n",
    "arr_size = num_array.size\n",
    "print(f\"Shape of 'num_array' is : {arr_size}\")"
   ]
  },
  {
   "cell_type": "markdown",
   "metadata": {},
   "source": [
    "___"
   ]
  },
  {
   "cell_type": "markdown",
   "metadata": {},
   "source": [
    "#### Q5. Write a code to create numpy array of 3*3 matrix containing zeros only, using a numpy array creation function."
   ]
  },
  {
   "cell_type": "code",
   "execution_count": 47,
   "metadata": {},
   "outputs": [
    {
     "name": "stdout",
     "output_type": "stream",
     "text": [
      "A numpy array of 3*3 caontaining only zeroes:\n",
      "[[0. 0. 0.]\n",
      " [0. 0. 0.]\n",
      " [0. 0. 0.]]\n",
      "Another numpy array of 3*3 caontaining only zeroes:\n",
      "[[0 0 0]\n",
      " [0 0 0]\n",
      " [0 0 0]]\n"
     ]
    }
   ],
   "source": [
    "# A simple way to create numpy array of 3*3 caontaining only zeroes would be to use NumPy zeros method and specify the shape.\n",
    "\n",
    "zeros_array = np.zeros((3,3))\n",
    "print(f\"A numpy array of 3*3 caontaining only zeroes:\\n{zeros_array}\")\n",
    "\n",
    "# We can also create this passing a list of same size.\n",
    "list_ = [[0,0,0],[0,0,0],[0,0,0]]\n",
    "zeros_arr2 = np.array(list_)\n",
    "print(f\"Another numpy array of 3*3 caontaining only zeroes:\\n{zeros_arr2}\")\n"
   ]
  },
  {
   "cell_type": "markdown",
   "metadata": {},
   "source": [
    "___"
   ]
  },
  {
   "cell_type": "markdown",
   "metadata": {},
   "source": [
    "#### Q6. Create an identity matrix of shape (5,5) using numpy functions?"
   ]
  },
  {
   "cell_type": "code",
   "execution_count": 48,
   "metadata": {},
   "outputs": [
    {
     "name": "stdout",
     "output_type": "stream",
     "text": [
      "[[1. 0. 0. 0. 0.]\n",
      " [0. 1. 0. 0. 0.]\n",
      " [0. 0. 1. 0. 0.]\n",
      " [0. 0. 0. 1. 0.]\n",
      " [0. 0. 0. 0. 1.]]\n"
     ]
    }
   ],
   "source": [
    "# To create an identity matrix we can use NumPy function eye.\n",
    "eye_matrix = np.eye(5)\n",
    "print(eye_matrix)"
   ]
  },
  {
   "cell_type": "markdown",
   "metadata": {},
   "source": [
    "___"
   ]
  }
 ],
 "metadata": {
  "kernelspec": {
   "display_name": "Python 3",
   "language": "python",
   "name": "python3"
  },
  "language_info": {
   "codemirror_mode": {
    "name": "ipython",
    "version": 3
   },
   "file_extension": ".py",
   "mimetype": "text/x-python",
   "name": "python",
   "nbconvert_exporter": "python",
   "pygments_lexer": "ipython3",
   "version": "3.11.4"
  },
  "orig_nbformat": 4
 },
 "nbformat": 4,
 "nbformat_minor": 2
}
