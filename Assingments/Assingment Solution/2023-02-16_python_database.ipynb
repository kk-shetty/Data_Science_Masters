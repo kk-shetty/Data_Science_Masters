{
 "cells": [
  {
   "cell_type": "markdown",
   "metadata": {},
   "source": [
    "#### <span style=\"color:magenta\">Q1. What is a database? Differentiate between SQL and NoSQL databases.</span>\n",
    "\n",
    "A database is an organized collection of data that is stored and managed in a structured manner to facilitate efficient retrieval, modification, and analysis of that data. Databases are commonly used in various applications and systems to store and handle large amounts of information.\n",
    "SQL (Structured Query Language) and NoSQL (Not only SQL) are two different types of database management systems, each with its own characteristics and use cases. Here's a brief differentiation between the two:\n",
    "\n",
    "|**SQL**|**NoSQL**|\n",
    "|:------|:--------|\n",
    "|SQL databases are based on a structured, tabular model consisting of tables with predefined schemas. Each table contains rows and columns, where rows represent individual records, and columns represent attributes or fields.|NoSQL databases offer a flexible, schema-less model that allows for dynamic and unstructured data. They are designed to handle large amounts of varied data types, such as documents, key-value pairs, graphs, or columnar data.|\n",
    "|SQL databases enforce a rigid schema, meaning that the structure and types of data are predefined. Relationships between tables can be established using primary and foreign keys.|NoSQL databases are designed for scalability and high performance. They can easily distribute data across multiple servers and handle large data volumes and high traffic loads.|\n",
    "|SQL databases use SQL as the standard language for querying and managing data. SQL provides a declarative approach, where you specify what data you want and let the database engine figure out how to retrieve it.|NoSQL databases often use non-SQL languages for querying, such as JavaScript, JSON-like query languages, or even simple key-value retrieval.|\n",
    "|SQL databases typically adhere to ACID (Atomicity, Consistency, Isolation, Durability) properties, which ensure transactional consistency and reliability.|NoSQL databases may sacrifice ACID compliance to achieve better scalability and performance. They often prioritize eventual consistency, where data changes are propagated to all replicas over time.|"
   ]
  },
  {
   "cell_type": "markdown",
   "metadata": {},
   "source": [
    "#### <span style=\"color:magenta\">Q2. What is DDL? Explain why CREATE, DROP, ALTER, and TRUNCATE are used with an example.</span>\n",
    "\n",
    "DDL stands for **Data Definition Language**. It is a subset of SQL used to define and manage the structure of a database and its objects, such as tables, views, indexes, and constraints. DDL statements are responsible for creating, modifying, and deleting database objects.\n",
    "\n",
    "1. `CREATE`: The CREATE statement is used to create new database objects, such as tables, views, indexes, or even entire databases.\n",
    "```sql\n",
    "CREATE TABLE employees (\n",
    "    id INT PRIMARY KEY,\n",
    "    name VARCHAR(100),\n",
    "    age INT,\n",
    "    department VARCHAR(50)\n",
    ");\n",
    "```\n",
    "\n",
    "2. `DROP`: The DROP statement is used to delete existing database objects, such as tables, views, or indexes. It permanently removes the object and its associated data.\n",
    "```sql\n",
    "DROP TABLE employees;\n",
    "```\n",
    "\n",
    "3. `ALTER`: The ALTER statement is used to modify the structure of an existing database object, such as adding or removing columns, modifying constraints, or renaming objects.\n",
    "```sql\n",
    "ALTER TABLE employees\n",
    "ADD COLUMN email VARCHAR(100);\n",
    "```\n",
    "\n",
    "4. `TRUNCATE`: The TRUNCATE statement is used to quickly delete all data from a table, while keeping the table structure intact. It is faster than using the DELETE statement to remove all rows.\n",
    "```sql\n",
    "TRUNCATE TABLE employees;\n",
    "```\n",
    "\n"
   ]
  },
  {
   "cell_type": "markdown",
   "metadata": {},
   "source": [
    "#### <span style=\"color:magenta\">Q3. What is DML? Explain INSERT, UPDATE, and DELETE with an example.</span>\n",
    "\n",
    "DML stands for **Data Manipulation Language**. It is a subset of SQL used to manipulate or modify data within a database. DML statements are responsible for inserting, updating, and deleting data from database tables.\n",
    "\n",
    "1. `INSERT`: The INSERT statement is used to add new records or rows into a table.\n",
    "```sql\n",
    "INSERT INTO employees (id, name, age, department)\n",
    "VALUES (1, 'John Doe', 30, 'Sales');\n",
    "```\n",
    "\n",
    "2. `UPDATE`: The UPDATE statement is used to modify existing data within a table.\n",
    "```sql\n",
    "UPDATE employees\n",
    "SET department = 'Marketing'\n",
    "WHERE id = 1;\n",
    "```\n",
    "\n",
    "3. `DELETE`: The DELETE statement is used to remove one or more records from a table.\n",
    "```sql\n",
    "DELETE FROM employees\n",
    "WHERE id = 1;\n",
    "```\n"
   ]
  },
  {
   "cell_type": "markdown",
   "metadata": {},
   "source": [
    "#### <span style=\"color:magenta\">Q4. What is DQL? Explain SELECT with an example.</span>\n",
    "\n",
    "DQL stands for Data Query Language. It is a subset of SQL used to retrieve and query data from a database. DQL focuses on querying the database to extract specific information based on specified criteria.\n",
    "The primary DQL statement is the SELECT statement, which allows you to retrieve data from one or more tables based on certain conditions.\n",
    "\n",
    "`SELECT`: The SELECT statement is used to retrieve data from a database table or tables. It allows you to specify the columns you want to retrieve and apply various conditions to filter the data.\n",
    "```sql\n",
    "SELECT id, name, age\n",
    "FROM employees\n",
    "WHERE department = 'Sales'\n",
    "ORDER BY age DESC;\n",
    "\n",
    "```"
   ]
  },
  {
   "cell_type": "markdown",
   "metadata": {},
   "source": [
    "#### <span style=\"color:magenta\">Q5. Explain Primary Key and Foreign Key.</span>\n",
    "\n",
    "`Primary Key`: A primary key is a unique identifier for each row in a table. It ensures that there are no duplicate values in the primary key column(s) and is crucial for identifying and retrieving specific records.\n",
    "\n",
    "`Foreign Key`: A foreign key establishes a link between two tables, referencing the primary key of another table. It maintains referential integrity by ensuring that the values in the foreign key column(s) correspond to existing values in the referenced primary key column(s). Foreign keys help define relationships between tables and maintain consistency in the database."
   ]
  },
  {
   "cell_type": "markdown",
   "metadata": {},
   "source": [
    "#### <span style=\"color:magenta\">Q6. Write a python code to connect MySQL to python. Explain the cursor() and execute() method.</span>\n",
    "\n",
    "Below is an example python code to connect MySQL to Python. We import the `mysql.connector module`, which provides the necessary functionality to connect to a MySQL database from Python. We establish a connection by providing the appropriate host, username, password, and database name.\n",
    "\n",
    "```sql\n",
    "import mysql.connector\n",
    "\n",
    "# Establishing a connection to the MySQL database\n",
    "cnx = mysql.connector.connect(\n",
    "    host=\"localhost\",\n",
    "    user=\"your_username\",\n",
    "    password=\"your_password\",\n",
    "    database=\"your_database\"\n",
    ")\n",
    "\n",
    "# Creating a cursor object to execute SQL queries\n",
    "cursor = cnx.cursor()\n",
    "\n",
    "# Executing a SQL query\n",
    "query = \"SELECT * FROM employees\"\n",
    "cursor.execute(query)\n",
    "\n",
    "# Fetching all rows from the result set\n",
    "rows = cursor.fetchall()\n",
    "\n",
    "# Displaying the results\n",
    "for row in rows:\n",
    "    print(row)\n",
    "\n",
    "# Closing the cursor and the connection\n",
    "cursor.close()\n",
    "cnx.close()\n",
    "```\n",
    "\n",
    "`cursor()`: The cursor() method creates a cursor object, which allows us to execute SQL queries and fetch the results. The cursor acts as a handle to interact with the database.\n",
    "`execute()`: The execute() method is used to execute SQL queries. In the example, we execute a SELECT query to retrieve all rows from the \"employees\" table. The query is passed as an argument to the execute() method."
   ]
  },
  {
   "cell_type": "markdown",
   "metadata": {},
   "source": [
    "#### <span style=\"color:magenta\">Q7. Give the order of execution of SQL clauses in an SQL query.</span>\n",
    "\n",
    "In a typical SQL query, the clauses are executed in the following order:\n",
    "\n",
    "1. FROM: The FROM clause specifies the tables from which the data will be retrieved.\n",
    "\n",
    "2. JOIN: If multiple tables are involved in the query and there are JOIN conditions specified, the JOIN clause is executed to combine the relevant rows from different tables based on the specified join conditions.\n",
    "\n",
    "3. WHERE: The WHERE clause is used to filter the rows based on specified conditions. It is executed after the JOIN clause to further narrow down the result set.\n",
    "\n",
    "4. GROUP BY: If the query includes a GROUP BY clause, the rows are grouped based on the specified columns.\n",
    "\n",
    "5. HAVING: The HAVING clause is used to filter the grouped rows based on specified conditions.\n",
    "\n",
    "6. SELECT: The SELECT clause specifies the columns to be included in the result set. It is executed after the previous clauses have determined the appropriate rows.\n",
    "\n",
    "7. DISTINCT: If the query includes the DISTINCT keyword, duplicate rows are removed from the result set.\n",
    "\n",
    "8. ORDER BY: The ORDER BY clause is used to sort the result set based on specified columns.\n",
    "\n",
    "9. LIMIT/OFFSET: If the query includes a LIMIT or OFFSET clause, the result set is limited to a specific number of rows or starting from a specific row."
   ]
  }
 ],
 "metadata": {
  "kernelspec": {
   "display_name": "Python 3.8.10 64-bit",
   "language": "python",
   "name": "python3"
  },
  "language_info": {
   "name": "python",
   "version": "3.8.10"
  },
  "orig_nbformat": 4,
  "vscode": {
   "interpreter": {
    "hash": "e7370f93d1d0cde622a1f8e1c04877d8463912d04d973331ad4851f04de6915a"
   }
  }
 },
 "nbformat": 4,
 "nbformat_minor": 2
}
