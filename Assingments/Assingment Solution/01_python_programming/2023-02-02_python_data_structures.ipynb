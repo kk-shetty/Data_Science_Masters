{
 "cells": [
  {
   "cell_type": "markdown",
   "id": "9b296c61-6433-4a5f-afbc-3f4078b5cfd9",
   "metadata": {},
   "source": [
    "#### 1. What are the characteristics of the tuples? Is tuple immutable?"
   ]
  },
  {
   "cell_type": "markdown",
   "id": "d401235d-b863-415e-82f1-7c216eaecc1c",
   "metadata": {},
   "source": [
    "Characteristics of tuple:\n",
    "1. tuple is fixed length\n",
    "2. tuple is immutable\n",
    "3. Elements of a tuple can be access with indexing\n",
    "4. If an object inside a tuple is mutable, such a s list, we can modify that in place\n",
    "5. tuples can be concatenated using '+' operator \n",
    "\n",
    "Tuple is not mutabable. While the object stored in a tuple may be mutable themselves. once the tuple is created it's not possibvle to modify which object is stored in each slot."
   ]
  },
  {
   "cell_type": "markdown",
   "id": "865b5783-a19d-4638-9572-9d7ca38437f1",
   "metadata": {},
   "source": [
    "____"
   ]
  },
  {
   "cell_type": "markdown",
   "id": "23bd4381-6b03-406f-8712-571c32fadddd",
   "metadata": {},
   "source": [
    "#### 2. What are the two tuple methods in python? Give an example of each method. Give a reason why tuples have only two in-built methods as compared to Lists."
   ]
  },
  {
   "cell_type": "markdown",
   "id": "c0553d47-1c86-4675-b4bf-a1bb8ae89c00",
   "metadata": {},
   "source": [
    "Two methods of tuple are \n",
    "1. index - Gives the first index of an elemenmt inside tuple\n",
    "\n"
   ]
  },
  {
   "cell_type": "code",
   "execution_count": 2,
   "id": "c7495cba-546f-4600-8406-436fc81fea3c",
   "metadata": {},
   "outputs": [
    {
     "data": {
      "text/plain": [
       "0"
      ]
     },
     "execution_count": 2,
     "metadata": {},
     "output_type": "execute_result"
    }
   ],
   "source": [
    "#Exapmle \n",
    "tup1 = (1, [2021,2022,2024], 2930, 1, 2, 3)\n",
    "tup1.index(1) #it will return the first index i.e. 0"
   ]
  },
  {
   "cell_type": "code",
   "execution_count": 4,
   "id": "553e8c73-73de-4eba-baee-980cc969de7f",
   "metadata": {},
   "outputs": [
    {
     "ename": "ValueError",
     "evalue": "tuple.index(x): x not in tuple",
     "output_type": "error",
     "traceback": [
      "\u001b[0;31m---------------------------------------------------------------------------\u001b[0m",
      "\u001b[0;31mValueError\u001b[0m                                Traceback (most recent call last)",
      "Cell \u001b[0;32mIn[4], line 1\u001b[0m\n\u001b[0;32m----> 1\u001b[0m \u001b[43mtup1\u001b[49m\u001b[38;5;241;43m.\u001b[39;49m\u001b[43mindex\u001b[49m\u001b[43m(\u001b[49m\u001b[38;5;241;43m7\u001b[39;49m\u001b[43m)\u001b[49m \u001b[38;5;66;03m# Value Error will be thrown when the value is not found\u001b[39;00m\n",
      "\u001b[0;31mValueError\u001b[0m: tuple.index(x): x not in tuple"
     ]
    }
   ],
   "source": [
    "tup1.index(7) # Value Error will be thrown when the value is not found"
   ]
  },
  {
   "cell_type": "markdown",
   "id": "ee30b478-dbd9-43b7-a2eb-94b4f3828f7e",
   "metadata": {},
   "source": [
    "2. count - Counts the number of occurance of a value"
   ]
  },
  {
   "cell_type": "markdown",
   "id": "90455ee0-b1f6-45e2-820e-670c3e163706",
   "metadata": {},
   "source": [
    "#Example \n",
    "tup1.count(1)"
   ]
  },
  {
   "cell_type": "code",
   "execution_count": 6,
   "id": "269e7e98-fe62-4e8b-a436-5d1a0a3bb181",
   "metadata": {},
   "outputs": [
    {
     "data": {
      "text/plain": [
       "0"
      ]
     },
     "execution_count": 6,
     "metadata": {},
     "output_type": "execute_result"
    }
   ],
   "source": [
    "tup1.count(5)"
   ]
  },
  {
   "cell_type": "markdown",
   "id": "8a31bc19-e4f6-4e09-b9e7-fe71bf070927",
   "metadata": {},
   "source": [
    "Since the size and content of a tuple cannot be modified, there are only two in-built methods on tuples."
   ]
  },
  {
   "cell_type": "markdown",
   "id": "56dfd1f2-d015-4d7d-9d55-b8ca36849efc",
   "metadata": {},
   "source": [
    "____"
   ]
  },
  {
   "cell_type": "markdown",
   "id": "7856a0ab-5768-49e7-9c3d-9bb93d01a60e",
   "metadata": {},
   "source": [
    "#### 3. Which collection datatypes in python do not allow duplicate items? Write a code using a set to remove duplicates from the given list.\n",
    "List = [1, 1, 1, 2, 1, 3, 1, 4, 2, 1, 2, 2, 2, 3, 2, 4, 3, 1, 3, 2, 3, 3, 3, 4, 4, 1, 4, 2, 4, 3, 4, 4]"
   ]
  },
  {
   "cell_type": "markdown",
   "id": "387be7f1-a88b-43ad-920e-570fb3337fe1",
   "metadata": {},
   "source": [
    "SET collection do not allow duplicate items."
   ]
  },
  {
   "cell_type": "code",
   "execution_count": 20,
   "id": "6a1b2db0-864f-4b27-8a28-1219ac42163e",
   "metadata": {},
   "outputs": [],
   "source": [
    "list1 = [1, 1, 1, 2, 1, 3, 1, 4, 2, 1, 2, 2, 2, 3, 2, 4, 3, 1, 3, 2, 3, 3, 3, 4, 4, 1, 4, 2, 4, 3, 4, 4]"
   ]
  },
  {
   "cell_type": "code",
   "execution_count": 21,
   "id": "e4c5358a-b69a-455c-9589-9f3ba0f15423",
   "metadata": {},
   "outputs": [
    {
     "name": "stdout",
     "output_type": "stream",
     "text": [
      "[1, 1, 1, 2, 1, 3, 1, 4, 2, 1, 2, 2, 2, 3, 2, 4, 3, 1, 3, 2, 3, 3, 3, 4, 4, 1, 4, 2, 4, 3, 4, 4]\n"
     ]
    }
   ],
   "source": [
    "print(list1)"
   ]
  },
  {
   "cell_type": "code",
   "execution_count": 23,
   "id": "94b0302b-eacc-4179-a8a0-ae53b5093485",
   "metadata": {},
   "outputs": [],
   "source": [
    "list2 = set(list1)"
   ]
  },
  {
   "cell_type": "code",
   "execution_count": 24,
   "id": "b52a6051-dd86-45eb-8faa-e3f601ea7f50",
   "metadata": {},
   "outputs": [
    {
     "data": {
      "text/plain": [
       "{1, 2, 3, 4}"
      ]
     },
     "execution_count": 24,
     "metadata": {},
     "output_type": "execute_result"
    }
   ],
   "source": [
    "list2"
   ]
  },
  {
   "cell_type": "markdown",
   "id": "f4a4f91f-91f6-422f-b9c6-b04fa6d14542",
   "metadata": {},
   "source": [
    "____"
   ]
  },
  {
   "cell_type": "markdown",
   "id": "d626ad51-9db1-4686-9201-61037b4fa512",
   "metadata": {},
   "source": [
    "#### 4. Explain the difference between the union() and update() methods for a set. Give an example of each method."
   ]
  },
  {
   "cell_type": "code",
   "execution_count": 25,
   "id": "11894841-8829-4988-9146-419f9da46287",
   "metadata": {},
   "outputs": [],
   "source": [
    "set1 = (6,8,9)"
   ]
  },
  {
   "cell_type": "markdown",
   "id": "5be540f2-6faa-4ec2-b942-67e457cae78c",
   "metadata": {},
   "source": [
    "Both **set.update()** and **set.union()** perform the union operation. However, set.update() adds all missing elements to the set on which it is called whereas set.union() creates a new set. Consequently, the return value of set.update() is None (with side effects) and the return value of set.union() is a set (without side effects)."
   ]
  },
  {
   "cell_type": "code",
   "execution_count": 31,
   "id": "5b061728-6abb-488e-8c4f-cd02cfbf4a56",
   "metadata": {},
   "outputs": [
    {
     "name": "stdout",
     "output_type": "stream",
     "text": [
      "None\n",
      "{1, 2, 3, 5, 7, 9, 11, 13, 15, 17, 19, 21, 23, 25}\n"
     ]
    }
   ],
   "source": [
    "# Example - set.update()\n",
    "\n",
    "set1 = {1, 2, 3, 5, 7, 11, 13, 17, 19, 23}\n",
    "set2 = {1, 3, 5, 7, 9, 11, 13, 15, 17, 19, 21, 23, 25}\n",
    "print(set1.update(set2))\n",
    "print(set1)"
   ]
  },
  {
   "cell_type": "code",
   "execution_count": 32,
   "id": "b2294599-079e-4caa-871c-aaffaa951db3",
   "metadata": {},
   "outputs": [
    {
     "name": "stdout",
     "output_type": "stream",
     "text": [
      "{1, 2, 3, 5, 7, 9, 11, 13, 15, 17, 19, 21, 23, 25}\n",
      "{1, 2, 3, 5, 7, 11, 13, 17, 19, 23}\n"
     ]
    }
   ],
   "source": [
    "# Example - set.union()\n",
    "\n",
    "set1 = {1, 2, 3, 5, 7, 11, 13, 17, 19, 23}\n",
    "set2 = {1, 3, 5, 7, 9, 11, 13, 15, 17, 19, 21, 23, 25}\n",
    "print(set1.union(set2))\n",
    "print(set1)"
   ]
  },
  {
   "cell_type": "markdown",
   "id": "3f520321-0336-432d-974b-3aee07525916",
   "metadata": {},
   "source": [
    "***"
   ]
  },
  {
   "cell_type": "markdown",
   "id": "29f7b3f9-b1dc-4c6e-960a-94cb665702c2",
   "metadata": {},
   "source": [
    "#### 5. What is a dictionary? Give an example. Also, state whether a dictionary is ordered or unordered."
   ]
  },
  {
   "cell_type": "markdown",
   "id": "2ee78f47-6ec9-4299-a071-31b6af170fbb",
   "metadata": {},
   "source": [
    "Dictionary is a flexibly sized key-value pairs, where key and value are python objects. A more common name for it is hash map or associative array."
   ]
  },
  {
   "cell_type": "code",
   "execution_count": 34,
   "id": "cb2a4bbc-b0e8-46b1-97a9-f00a9fcf6e75",
   "metadata": {},
   "outputs": [
    {
     "name": "stdout",
     "output_type": "stream",
     "text": [
      "{}\n",
      "{'a': 'some value', 2: ['some', 'list'], 'three': 3}\n"
     ]
    }
   ],
   "source": [
    "#Example\n",
    "\n",
    "empty_dict = {}\n",
    "print(empty_dict)\n",
    "d1 = {'a': 'some value', 2: ['some', 'list'], 'three':3}\n",
    "print(d1)"
   ]
  },
  {
   "cell_type": "markdown",
   "id": "ca13ab01-63f2-4857-930c-fa81364fc2fa",
   "metadata": {},
   "source": [
    "##### Dictionary is unordered as it's a associative, i.e. the value of a dictionary can be access only with it's key."
   ]
  },
  {
   "cell_type": "markdown",
   "id": "a62cd2cb-ce39-4c29-afb5-580817b5066b",
   "metadata": {},
   "source": [
    "____"
   ]
  },
  {
   "cell_type": "markdown",
   "id": "d77c5d67-39a6-4621-a52e-61277db2b2d8",
   "metadata": {},
   "source": [
    "#### 6. Can we create a nested dictionary? If so, please give an example by creating a simple one-level nested dictionary."
   ]
  },
  {
   "cell_type": "markdown",
   "id": "13ea2a4f-0ccb-442a-a951-7501f67f9cfe",
   "metadata": {},
   "source": [
    "##### Yes, we can create a nested dictionary."
   ]
  },
  {
   "cell_type": "code",
   "execution_count": 40,
   "id": "40e6c03f-74ca-4b11-a9f9-d9cc6f29244b",
   "metadata": {},
   "outputs": [
    {
     "name": "stdout",
     "output_type": "stream",
     "text": [
      "{'id': 'std01', 'name': 'Some Name', 'dob': '13-JUN-2003', 'marks': {'sub1': 90, 'sub2': 87, 'sub3': 89}}\n"
     ]
    }
   ],
   "source": [
    "# Example:\n",
    "\n",
    "marks = {'sub1' : 90, 'sub2' : 87, 'sub3' : 89}\n",
    "\n",
    "student1 = {'id' : 'std01', 'name' : 'Some Name', 'dob' : '13-JUN-2003', 'marks' :  marks}\n",
    "print(student1)"
   ]
  },
  {
   "cell_type": "markdown",
   "id": "451983b9-dfcf-4b99-b0f2-43750b4753c5",
   "metadata": {},
   "source": [
    "____"
   ]
  },
  {
   "cell_type": "markdown",
   "id": "a631addc-5166-4e6e-a7f9-1b1085649be8",
   "metadata": {},
   "source": [
    "#### 7. Using setdefault() method, create key named topics in the given dictionary and also add the value of the key as this list ['Python', 'Machine Learning’, 'Deep Learning']\n",
    "\n",
    "#### dict1 = {'language' : 'Python', 'course': 'Data Science Masters'}"
   ]
  },
  {
   "cell_type": "markdown",
   "id": "c4919e60-0d3c-43cb-af9d-a3154b3214d3",
   "metadata": {},
   "source": [
    "The setdefault() method checks if the key 'topics' exists in the dictionary. If it doesn't, it adds the key with the specified default value, which in this case is the list ['Python', 'Machine Learning', 'Deep Learning']. If the key already exists, it doesn't modify the value."
   ]
  },
  {
   "cell_type": "code",
   "execution_count": 1,
   "id": "6eebf78a-258e-447a-8f3a-8015d273fe52",
   "metadata": {},
   "outputs": [
    {
     "name": "stdout",
     "output_type": "stream",
     "text": [
      "{'language': 'Python', 'course': 'Data Science Masters', 'topics': ['Python', 'Machine Learning', 'Deep Learning']}\n"
     ]
    }
   ],
   "source": [
    "dict1 = {'language': 'Python', 'course': 'Data Science Masters'}\n",
    "dict1.setdefault('topics', ['Python', 'Machine Learning', 'Deep Learning'])\n",
    "\n",
    "print(dict1)"
   ]
  },
  {
   "cell_type": "markdown",
   "id": "1b3e78ff-9618-46be-b24a-67b2cde4619c",
   "metadata": {},
   "source": [
    "____"
   ]
  },
  {
   "cell_type": "markdown",
   "id": "8e90fd29-5975-4fe9-8824-74b994d8fd40",
   "metadata": {},
   "source": [
    "#### 8. What are the three view objects in dictionaries? Use the three in-built methods in python to display these three view objects for the given dictionary. \n",
    "\n",
    "*dict1 = {'Sport': 'Cricket' , 'Teams': ['India', 'Australia', 'England', 'South Africa', 'Sri Lanka', 'New Zealand']}*"
   ]
  },
  {
   "cell_type": "markdown",
   "id": "4c226282-c541-469d-bfcc-3f214c069ef3",
   "metadata": {},
   "source": [
    "In Python dictionaries, there are three view objects that provide different views of the dictionary's keys, values, or key-value pairs. These view objects are:\n",
    "\n",
    "1. dict_keys: It represents a dynamic view of the dictionary's keys. Any changes made to the dictionary are reflected in this view, and vice versa. You can iterate over dict_keys or convert it to other iterable types (e.g., list) if needed.\n",
    "\n",
    "2. dict_values: It represents a dynamic view of the dictionary's values. Similar to dict_keys, any changes made to the dictionary are reflected in this view, and vice versa. It can be iterated over or converted to other iterable types.\n",
    "\n",
    "3. dict_items: It represents a dynamic view of the dictionary's key-value pairs as tuples. Like the previous two view objects, it reflects any changes made to the dictionary, and vice versa. It can be iterated over or converted to other iterable types.\n",
    "\n",
    "These view objects provide a way to access the dictionary's elements without explicitly creating a new list or tuple. They are particularly useful when you want to iterate over or perform operations on the keys, values, or items of a dictionary."
   ]
  },
  {
   "cell_type": "code",
   "execution_count": 8,
   "id": "82d2274b-3c07-4b78-a0ab-0cd379c29e2b",
   "metadata": {},
   "outputs": [
    {
     "name": "stdout",
     "output_type": "stream",
     "text": [
      "dict_keys view object: dict_keys(['Sport', 'Teams'])\n",
      "dict_keys view object: dict_values(['Cricket', ['India', 'Australia', 'England', 'South Africa', 'Sri Lanka', 'New Zealand']])\n",
      "dict_keys view object: dict_items([('Sport', 'Cricket'), ('Teams', ['India', 'Australia', 'England', 'South Africa', 'Sri Lanka', 'New Zealand'])])\n"
     ]
    }
   ],
   "source": [
    "dict1 = {'Sport': 'Cricket' , 'Teams': ['India', 'Australia', 'England', 'South Africa', 'Sri Lanka', 'New Zealand']}\n",
    "\n",
    "# Displaying the dict_keys view object\n",
    "keys_view = dict1.keys()\n",
    "print(\"dict_keys view object:\", keys_view)\n",
    "\n",
    "# Displaying the dict_values view object\n",
    "values_view = dict1.values()\n",
    "print(\"dict_keys view object:\", values_view)\n",
    "\n",
    "# Displaying the dict_items view object\n",
    "items_view = dict1.items()\n",
    "print(\"dict_keys view object:\", items_view)"
   ]
  },
  {
   "cell_type": "code",
   "execution_count": null,
   "id": "09d49711-62e9-478d-af95-e70c6b05c71a",
   "metadata": {},
   "outputs": [],
   "source": []
  }
 ],
 "metadata": {
  "kernelspec": {
   "display_name": "Python 3.8.10 64-bit",
   "language": "python",
   "name": "python3"
  },
  "language_info": {
   "codemirror_mode": {
    "name": "ipython",
    "version": 3
   },
   "file_extension": ".py",
   "mimetype": "text/x-python",
   "name": "python",
   "nbconvert_exporter": "python",
   "pygments_lexer": "ipython3",
   "version": "3.8.10"
  },
  "vscode": {
   "interpreter": {
    "hash": "e7370f93d1d0cde622a1f8e1c04877d8463912d04d973331ad4851f04de6915a"
   }
  }
 },
 "nbformat": 4,
 "nbformat_minor": 5
}
