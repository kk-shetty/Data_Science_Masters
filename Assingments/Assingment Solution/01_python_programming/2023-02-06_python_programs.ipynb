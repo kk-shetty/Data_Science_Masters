{
 "cells": [
  {
   "cell_type": "markdown",
   "id": "19fd1a09-ef64-4ff8-8e03-f22ac0cf6b30",
   "metadata": {},
   "source": [
    "#### Q1. Create a function which will take a list as an argument and return the product of all the numbers after creating a flat list. Use the below-given list as an argument for your function. \n",
    "\n",
    "list1 = `[1,2,3,4, [44,55,66, True], False, (34,56,78,89,34), {1,2,3,3,2,1}, {1:34, \"key2\": [55, 67, 78, 89], 4: (45,\n",
    "22, 61, 34)}, [56, 'data science'], 'Machine Learning']`\n",
    "\n",
    "Note: you must extract numeric keys and values of the dictionary also."
   ]
  },
  {
   "cell_type": "code",
   "execution_count": 28,
   "id": "3870b178-90d2-4dd5-9bff-b059eae3e721",
   "metadata": {},
   "outputs": [
    {
     "name": "stdout",
     "output_type": "stream",
     "text": [
      "Product of all the numeric values of the above list: 4134711838987085478833841242112000\n"
     ]
    }
   ],
   "source": [
    "from functools import reduce\n",
    "\n",
    "def return_nums(l):\n",
    "    '''This function will flat any given list by only selecting the numerical values\n",
    "    '''\n",
    "    nums = []\n",
    "    for element in l:\n",
    "        if type(element) == int or type(element) == float:\n",
    "            nums.append(element)\n",
    "        elif type(element) == dict:\n",
    "            nums.extend(return_nums(element.keys()))\n",
    "            nums.extend(return_nums(element.values()))\n",
    "        elif type(element) == set or type(element) == tuple or type(element) == list:\n",
    "            nums.extend(return_nums(list(element)))\n",
    "    return nums\n",
    "\n",
    "# l1 = [1,2,3,4,'hi']\n",
    "list1 = [1,2,3,4, [44,55,66, True], False, (34,56,78,89,34), {1,2,3,3,2,1}, {1:34, \"key2\": [55, 67, 78, 89], 4: (45, 22, 61, 34)}, [56, 'data science'], 'Machine Learning']\n",
    "\n",
    "nums_list = return_nums(list1)\n",
    "product = reduce(lambda x,y : x*y, nums_list)\n",
    "\n",
    "print(\"Product of all the numeric values of the above list: {}\".format(product))\n",
    "\n",
    "    "
   ]
  },
  {
   "cell_type": "markdown",
   "id": "0a615395-3c12-4d76-9e24-9e5153e95f92",
   "metadata": {},
   "source": [
    "____"
   ]
  },
  {
   "cell_type": "markdown",
   "id": "35675da5-fd38-4abb-a89e-b483d5f30155",
   "metadata": {},
   "source": [
    "#### Q2. Write a python program for encrypting a message sent to you by your friend. The logic of encryption should be such that, for a the output should be z. For b, the output should be y. For c, the output should be x respectively. Also, the whitespace should be replaced with a dollar sign. Keep the punctuation marks unchanged.\n",
    "\n",
    "\n",
    "`Input Sentence: I want to become a Data Scientist.`\n",
    "\n",
    "\n",
    "Encrypt the above input sentence using the program you just created.\n",
    "\n",
    "\n",
    "Note: Convert the given input sentence into lowercase before encrypting. The final output should be lowercase."
   ]
  },
  {
   "cell_type": "code",
   "execution_count": 32,
   "id": "fbfb8203-d0fd-4dbb-8c3a-56081a5dd8a9",
   "metadata": {},
   "outputs": [],
   "source": [
    "def encode(msg):\n",
    "    '''This function will encode the given message by swapping the character in the message by it's corresponding code\n",
    "    '''\n",
    "    letters = 'abcdefghijklmnopqrstuvwxyz '\n",
    "    codes = actuals.strip()[::-1] + '$'\n",
    "    encoded_msg = ''\n",
    "    \n",
    "    for char in msg.lower():\n",
    "        if letters.find(char) == -1:\n",
    "            encoded_msg += i\n",
    "        else:\n",
    "            encoded_msg += codes[letters.find(char)]\n",
    "    \n",
    "    return encoded_msg"
   ]
  },
  {
   "cell_type": "code",
   "execution_count": 33,
   "id": "9dfaf6ac-6cd7-46f3-9f8b-81888ee1d78d",
   "metadata": {},
   "outputs": [
    {
     "name": "stdout",
     "output_type": "stream",
     "text": [
      "Message : I want to become a Data Scientist.\n",
      "Encoded : r$dzmg$gl$yvxlnv$z$wzgz$hxrvmgrhg.\n"
     ]
    }
   ],
   "source": [
    "message = 'I want to become a Data Scientist.'\n",
    "encoded = encode(message)\n",
    "print('Message : {0}\\nEncoded : {1}'.format(message,encoded))"
   ]
  },
  {
   "cell_type": "markdown",
   "id": "339582fc-77c5-4547-85a2-cc707618727d",
   "metadata": {},
   "source": [
    "___"
   ]
  }
 ],
 "metadata": {
  "kernelspec": {
   "display_name": "Python 3.8.10 64-bit",
   "language": "python",
   "name": "python3"
  },
  "language_info": {
   "codemirror_mode": {
    "name": "ipython",
    "version": 3
   },
   "file_extension": ".py",
   "mimetype": "text/x-python",
   "name": "python",
   "nbconvert_exporter": "python",
   "pygments_lexer": "ipython3",
   "version": "3.8.10"
  },
  "vscode": {
   "interpreter": {
    "hash": "e7370f93d1d0cde622a1f8e1c04877d8463912d04d973331ad4851f04de6915a"
   }
  }
 },
 "nbformat": 4,
 "nbformat_minor": 5
}
