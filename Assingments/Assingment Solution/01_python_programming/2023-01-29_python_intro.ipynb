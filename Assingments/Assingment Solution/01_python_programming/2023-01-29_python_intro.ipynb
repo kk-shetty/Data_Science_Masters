{
 "cells": [
  {
   "cell_type": "markdown",
   "id": "46409a35-76af-4b1b-bb2f-e5b08d2ff795",
   "metadata": {
    "tags": []
   },
   "source": [
    "##### 1. Who developed Python Programming Language?\n",
    ">Guido van Rossum developed the Python programming language."
   ]
  },
  {
   "cell_type": "markdown",
   "id": "4039b0ee-ddb2-43e3-99ae-71f4b7dc9a7b",
   "metadata": {},
   "source": [
    "##### 2. Which type of Programming does Python support?\n",
    ">Python supports multiple programming paradigms, including procedural, object-oriented, functional, and aspect-oriented programming."
   ]
  },
  {
   "cell_type": "markdown",
   "id": "2f1093d4-818d-433d-8438-cecc20899034",
   "metadata": {},
   "source": [
    "##### 3. Is Python case sensitive when dealing with identifiers?\n",
    ">Yes, Python is case sensitive when dealing with identifiers, such as variable names, function names, and class names. For example, the names \"foo\" and \"Foo\" would be treated as two different identifiers in Python."
   ]
  },
  {
   "cell_type": "markdown",
   "id": "32b54721-a90b-4029-b7d2-54124d7508f8",
   "metadata": {},
   "source": [
    "##### 4. What is the correct extension of the Python file?\n",
    ">The correct file extension for a Python source file is \".py\". However, the extension of python notebook such as jupyter notebook is \".ipynb\""
   ]
  },
  {
   "cell_type": "markdown",
   "id": "9d2d329a-7def-4d95-8e69-7d2c54b457dc",
   "metadata": {},
   "source": [
    "##### 5. Is Python code compiled or Interpreted?\n",
    ">Python code is interpreted, not compiled. The Python interpreter reads and executes the source code line by line, rather than compiling it into machine code and executing the compiled code."
   ]
  },
  {
   "cell_type": "markdown",
   "id": "31d1483b-0a51-4f43-b0b1-c4c6e366ce52",
   "metadata": {},
   "source": [
    "##### 6. Name a few blocks of code used to define in Python language?\n",
    ">In Python, blocks of code are defined using indentation. Some of the blocks of code used in Python include:\n",
    "> - Conditional statements: \"if\", \"elif\", and \"else\" statements\n",
    "> - Functions: defined using the \"def\" keyword\n",
    "> - Loops: \"for\" and \"while\" loops\n",
    "> - Classes: defined using the \"class\" keyword"
   ]
  },
  {
   "cell_type": "markdown",
   "id": "73d16572-fa5e-460b-a3ac-100dcf5f6361",
   "metadata": {},
   "source": [
    "##### 7. State a character used to give single- line comments in Python?\n",
    ">In Python, the symbol \"#\" is used to give single-line comments. Everything to the right of a \"#\" symbol in a line of code is ignored by the Python interpreter and is only there for human readability. For example:\n",
    "> \n",
    "> ```\n",
    ">   # This is a single-line comment in Python\n",
    ">   x = 42 # This is also a comment, inline with codeS\n",
    ">```"
   ]
  },
  {
   "cell_type": "markdown",
   "id": "75f912c6-5d8b-4aad-b560-07cf28f34fac",
   "metadata": {},
   "source": [
    "##### 8. Mention functions which can heip us to find the version of python that we are currently working on\n",
    ">There are several built-in functions in Python that can be used to determine the version of Python you are working with:\n",
    ">\n",
    ">1. sys.version: This returns a string containing the version information of the Python interpreter.\n",
    ">2. sys.version_info: This returns a named tuple of version information about the Python interpreter.\n",
    ">3. platform.python_version(): This returns a string that contains the version of the Python interpreter you are using."
   ]
  },
  {
   "cell_type": "markdown",
   "id": "52d5d6fe-c4c9-409b-8d12-415f65e8636b",
   "metadata": {},
   "source": [
    "##### 9. Python supports the creation of anonymous functions at runtime, using a construct called\n",
    ">\"lambda\". The lambda keyword is used to create anonymous functions, which are functions without a name. These functions can have any number of arguments, but can only have one expression. The expression is evaluated and returned when the function is called.\n",
    ">\n",
    ">Lambda functions are useful when you need to pass a small function as an argument to another function, or when you need to define a function in a single line. Here's an example:\n",
    ">\n",
    ">\n",
    ">``` \n",
    ">    # A simple lambda function to add two numbers\n",
    ">    add = lambda x, y: x + y\n",
    ">    print(add(3, 4)) # Output: 7S\n",
    ">```"
   ]
  },
  {
   "cell_type": "markdown",
   "id": "bca10c1e-e4c5-40c3-bb3d-21a2e32fdd67",
   "metadata": {},
   "source": [
    "##### 10. What does pip stand for python?\n",
    ">\"pip\" stands for \"Pip Installs Packages\". It is a package management system used to install and manage packages for the Python programming language. It makes it easy to install, upgrade, and remove Python packages, and it can be used to search for and download packages from the Python Package Index (PyPI).\n",
    ">\n",
    ">it can be used from the command line by typing \"pip\" followed by the desired command. For example, to install a package, you would run `pip install <package_name>`."
   ]
  },
  {
   "cell_type": "markdown",
   "id": "2a948ce0-619f-40ae-a4ac-4abdb63d22b3",
   "metadata": {},
   "source": [
    "##### 11. Mention a few built- in functions in python?\n",
    ">Here are some of the most commonly used built-in functions in Python:\n",
    ">\n",
    ">1. `print()`: used to display output on the screen.\n",
    ">2. `len()`: returns the length of an object (such as a string, list, or tuple).\n",
    ">3. `str()`: converts a value to a string."
   ]
  },
  {
   "cell_type": "markdown",
   "id": "e10447e2-78f6-418a-9ffb-4a55db8c9e34",
   "metadata": {},
   "source": [
    "##### 12. What is the maximum possible length of an identifier in Python?\n",
    ">There is no specific limit to the length of an identifier in Python. However, it is recommended to keep identifiers short and descriptive for the sake of code readability. In practice, the maximum length of an identifier is determined by the amount of memory available to the Python interpreter. In general, we should avoid using extremely long identifier names, as they can make the code difficult to read and maintain."
   ]
  },
  {
   "cell_type": "markdown",
   "id": "e3f60cda-2489-41a7-a4d5-54a831d191b1",
   "metadata": {},
   "source": [
    "##### 13. What are the benefits of using Python?\n",
    ">There are several benefits of using Python as a programming language:\n",
    ">\n",
    ">1.Easy to learn and use: Python has a simple and straightforward syntax, which makes it easy to learn and use, even for people who have no prior programming experience.\n",
    ">\n",
    ">2. Versatile: Python is a general-purpose programming language, which means it can be used for a wide range of applications, including web development, scientific computing, data analysis, artificial intelligence, and more.\n",
    ">\n",
    ">3. Large community and ecosystem: Python has a large and active community of developers, who have created a wealth of libraries and tools that make it easier to build and deploy applications.\n",
    ">\n",
    ">4. Interoperability: Python can be easily integrated with other programming languages and tools, which makes it a good choice for projects that need to integrate with existing systems.\n",
    ">\n",
    ">5. High-level language: Python is a high-level language, which means that it provides a high level of abstraction from the underlying hardware and operating system. This makes it easier to write code that is portable and reusable.\n",
    ">\n",
    ">6. Readable and maintainable code: Python has a clear and concise syntax, which makes it easier to write and maintain code, even for complex projects.\n",
    ">\n",
    ">7. Dynamic and interpreted: Python is a dynamically-typed and interpreted language, which means that you can test and run your code incrementally, without having to compile the entire program."
   ]
  },
  {
   "cell_type": "markdown",
   "id": "64bf91de-aa96-4074-b8e3-d6b82ce8f2fe",
   "metadata": {},
   "source": [
    "##### 14. How is memory managed in Python?\n",
    ">In Python, memory management is handled by the Python memory manager, which is responsible for allocating and freeing memory. The memory manager is part of the Python interpreter, and it automatically manages the memory used by Python objects.\n",
    ">\n",
    ">Python uses a garbage collector to automatically track and reclaim objects that are no longer being used. This makes it easy to write Python code that is free of memory leaks, and it reduces the risk of bugs related to memory allocation and deallocation.\n",
    ">\n",
    ">Python also provides several built-in tools for managing memory more explicitly, such as the del statement, which can be used to explicitly remove an object and free up its memory.\n",
    ">\n",
    ">Overall, Python's memory management is designed to be simple, efficient, and transparent to the programmer. This makes it a good choice for projects that require efficient and reliable memory management."
   ]
  },
  {
   "cell_type": "markdown",
   "id": "7908ddf6-5388-45fa-a39b-24271203d8fc",
   "metadata": {},
   "source": [
    "##### 15. How to install Python on Windows and set path variables?\n",
    ">Here are the steps to install Python on Windows and set the path variables:\n",
    ">\n",
    ">1. Download the Python installer: Go to the official Python website (https://www.python.org/downloads/) and download the latest version of Python for Windows.\n",
    ">\n",
    ">2. Run the installer: Double-click the installer file that you downloaded and follow the instructions to install Python. Make sure to select the option to \"Add Python to PATH\" during the installation process.\n",
    ">\n",
    ">3. Verify the installation: Open a Command Prompt window and type python. If the installation was successful, you should see the Python prompt, which indicates that Python is installed and ready to use.\n",
    ">\n",
    ">4. Set the path variables: If the \"Add Python to PATH\" option was not selected during the installation, you will need to set the path variables manually. To do this, open the System Properties, go to the Advanced System Settings, and click the Environment Variables button. Under System Variables, find the Path variable, and click the Edit button. Add the location of the Python executable to the Path variable (e.g., C:\\Python36).\n",
    ">\n",
    ">After completing these steps, Python should be installed and ready to use on your Windows machine. You should also be able to run Python scripts and use Python modules by simply typing python followed by the script name at the Command Prompt."
   ]
  },
  {
   "cell_type": "markdown",
   "id": "c62a06f6-b7cd-492d-b6ae-238106d9d4c7",
   "metadata": {},
   "source": [
    "##### 16. Is indentation required in python?\n",
    ">Yes, indentation is required in Python to define code blocks and control structures such as loops and functions. In Python, indentation is used instead of brackets or keywords to define code blocks, and it is important to ensure that your code is properly indented in order to avoid syntax errors."
   ]
  }
 ],
 "metadata": {
  "kernelspec": {
   "display_name": "Python 3.8.10 64-bit",
   "language": "python",
   "name": "python3"
  },
  "language_info": {
   "codemirror_mode": {
    "name": "ipython",
    "version": 3
   },
   "file_extension": ".py",
   "mimetype": "text/x-python",
   "name": "python",
   "nbconvert_exporter": "python",
   "pygments_lexer": "ipython3",
   "version": "3.8.10"
  },
  "vscode": {
   "interpreter": {
    "hash": "e7370f93d1d0cde622a1f8e1c04877d8463912d04d973331ad4851f04de6915a"
   }
  }
 },
 "nbformat": 4,
 "nbformat_minor": 5
}
