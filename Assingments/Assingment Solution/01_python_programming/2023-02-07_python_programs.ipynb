{
 "cells": [
  {
   "cell_type": "markdown",
   "id": "044cf7b0-08b8-4e97-ace9-3cb8f138af2f",
   "metadata": {},
   "source": [
    "#### Q1. You are writing code for a company. The requirement of the company is that you create a python function that will check whether the password entered by the user is correct or not. The function should take the password as input and return the string “Valid Password” if the entered password follows the below-given password guidelines else it should return “Invalid Password”.\n",
    "\n",
    "Note: \n",
    "1. The Password should contain at least two uppercase letters and at least two lowercase letters.\n",
    "2. The Password should contain at least a number and three special characters.\n",
    "3. The length of the password should be 10 characters long."
   ]
  },
  {
   "cell_type": "code",
   "execution_count": 16,
   "id": "dc323618-75c2-4517-88a9-9174b0fa5925",
   "metadata": {},
   "outputs": [],
   "source": [
    "def validate_password(password):\n",
    "    '''THis function will validate the entered password based on set conditions and return eather or not the password is valid.\n",
    "    Conditions\n",
    "    1. Exactly 10 characters long\n",
    "    2. Should contain at least 2 upper case characters\n",
    "    3. Should contain at least 2 lower case characters\n",
    "    4. Should contain at least 1 numerics character\n",
    "    5. Should contain exactly 3 special characters (non aplhanumeric)\n",
    "    '''\n",
    "    \n",
    "    if len(password) != 10:\n",
    "        return 'Invalid Password'\n",
    "    \n",
    "    upper_case = 0\n",
    "    lower_case = 0\n",
    "    numeric = 0\n",
    "    special = 0\n",
    "    \n",
    "    for char in password:\n",
    "        if char.isalnum():\n",
    "            if char.isalpha():\n",
    "                if char.islower():\n",
    "                    lower_case += 1\n",
    "                else:\n",
    "                    upper_case += 1\n",
    "            else:\n",
    "                numeric += 1\n",
    "        else:\n",
    "            special += 1\n",
    "    \n",
    "    if upper_case >= 2 and lower_case >= 2 and numeric >= 1 and special == 3:\n",
    "        return 'Valid Password'\n",
    "    else:\n",
    "        return 'Invalid Password'\n",
    "    "
   ]
  },
  {
   "cell_type": "code",
   "execution_count": 17,
   "id": "0dc24add-9c22-47c3-a104-84cc164a7672",
   "metadata": {},
   "outputs": [
    {
     "name": "stdout",
     "output_type": "stream",
     "text": [
      "Valid Password\n"
     ]
    }
   ],
   "source": [
    "password = 'abCD1@#$23';\n",
    "print(validate_password(password))"
   ]
  },
  {
   "cell_type": "markdown",
   "id": "43a5ddf6-70e4-414b-a351-ab291cd8ac9b",
   "metadata": {},
   "source": [
    "___"
   ]
  },
  {
   "cell_type": "markdown",
   "id": "c47c2f8b-8d6e-4891-a499-bcaa8bd349b3",
   "metadata": {},
   "source": [
    "#### Q2. Solve the below-given questions using at least one of the following:\n",
    "\n",
    "    * Lambda function\n",
    "    * Filter function\n",
    "    * Map function\n",
    "    * List Comprehension\n",
    "\n",
    "1. Check if the string starts with a particular letter.\n",
    "\n",
    "2. Check if the string is numeric.\n",
    "\n",
    "3. Sort a list of tuples having fruit names and their quantity. \n",
    "* `[(\"mango\",99),(\"orange\",80), (\"grapes\", 1000)]`\n",
    "\n",
    "4. Find the squares of numbers from 1 to 10.\n",
    "\n",
    "5. Find the cube root of numbers from 1 to 10.\n",
    "\n",
    "6. Check if a given number is even.\n",
    "\n",
    "7. Filter odd numbers from the given list.\n",
    "* `[1,2,3,4,5,6,7,8,9,10]`\n",
    "\n",
    "8. Sort a list of integers into positive and negative integers lists.\n",
    "* `[1,2,3,4,5,6,-1,-2,-3,-4,-5,0]`"
   ]
  },
  {
   "cell_type": "code",
   "execution_count": 19,
   "id": "9fe67c12-ee19-48b3-87b0-59af4963adb4",
   "metadata": {},
   "outputs": [
    {
     "data": {
      "text/plain": [
       "False"
      ]
     },
     "execution_count": 19,
     "metadata": {},
     "output_type": "execute_result"
    }
   ],
   "source": [
    "# 1. Check if the string starts with a particular letter - Using lambds function\n",
    "\n",
    "is_start = lambda s,l : s[0] == l\n",
    "is_start('hello','1')"
   ]
  },
  {
   "cell_type": "code",
   "execution_count": 24,
   "id": "44654f21-28be-41bf-bfa8-3f3fcdb2a2a1",
   "metadata": {},
   "outputs": [
    {
     "data": {
      "text/plain": [
       "True"
      ]
     },
     "execution_count": 24,
     "metadata": {},
     "output_type": "execute_result"
    }
   ],
   "source": [
    "# 2. Check if the string is numeric - using lambda function\n",
    "\n",
    "is_numeric = lambda x : x.isnumeric()\n",
    "is_numeric('1234567')"
   ]
  },
  {
   "cell_type": "code",
   "execution_count": 26,
   "id": "892fdc23-68a7-4a35-a406-ee96730efa75",
   "metadata": {},
   "outputs": [
    {
     "name": "stdout",
     "output_type": "stream",
     "text": [
      "[('grapes', 1000), ('mango', 99), ('orange', 80)]\n",
      "[('orange', 80), ('mango', 99), ('grapes', 1000)]\n"
     ]
    }
   ],
   "source": [
    "# 3. Sort a list of tuples having fruit names and their quantity - using lambda function\n",
    "\n",
    "fruits_qty = [(\"mango\",99),(\"orange\",80), (\"grapes\", 1000)]\n",
    "\n",
    "# Sorting by fruit name\n",
    "print(sorted(fruits_qty, key = lambda x : x[0]))\n",
    "\n",
    "# Sorting by quantity\n",
    "print(sorted(fruits_qty, key = lambda x : x[1]))"
   ]
  },
  {
   "cell_type": "code",
   "execution_count": 29,
   "id": "f1a0ee02-7c42-4348-8a4f-472548ec92fa",
   "metadata": {},
   "outputs": [
    {
     "name": "stdout",
     "output_type": "stream",
     "text": [
      "[1, 4, 9, 16, 25, 36, 49, 64, 81, 100]\n"
     ]
    }
   ],
   "source": [
    "# 4. Find the squares of numbers from 1 to 10 - using lambda and map functions\n",
    "\n",
    "sqr = lambda x : x**2\n",
    "sqr_nums = list(map(sqr, range(1,11)))\n",
    "print(sqr_nums)\n"
   ]
  },
  {
   "cell_type": "code",
   "execution_count": 2,
   "id": "a146a17f-bd78-4e40-bc53-4c654f7adab5",
   "metadata": {},
   "outputs": [
    {
     "name": "stdout",
     "output_type": "stream",
     "text": [
      "[1.0, 1.2599210498948732, 1.4422495703074083, 1.5874010519681994, 1.7099759466766968, 1.8171205928321397, 1.912931182772389, 2.0, 2.080083823051904, 2.154434690031884]\n"
     ]
    }
   ],
   "source": [
    "# 5. Find the cube root of numbers from 1 to 10 - using list comprehension\n",
    "\n",
    "cube_roots = [x**(1/3) for x in range(1,11)]\n",
    "print(cube_roots)"
   ]
  },
  {
   "cell_type": "code",
   "execution_count": 8,
   "id": "4af33ae3-96e7-445c-a2fa-8e1b7be7f7bc",
   "metadata": {},
   "outputs": [
    {
     "name": "stdout",
     "output_type": "stream",
     "text": [
      "True\n",
      "False\n"
     ]
    }
   ],
   "source": [
    "# 6. Check if a given number is even - using lambda function\n",
    "\n",
    "is_even = lambda x : x%2 == 0\n",
    "print(is_even(2))\n",
    "print(is_even(5))"
   ]
  },
  {
   "cell_type": "code",
   "execution_count": 13,
   "id": "e959573b-c34d-4d86-8f64-e2d19d070678",
   "metadata": {},
   "outputs": [
    {
     "name": "stdout",
     "output_type": "stream",
     "text": [
      "[1, 3, 5, 7, 9]\n"
     ]
    }
   ],
   "source": [
    "# 7. Filter odd numbers from the given list - using lambda and filter function\n",
    "\n",
    "numbers = [1,2,3,4,5,6,7,8,9,10]\n",
    "\n",
    "is_odd = lambda x : x%2 != 0\n",
    "odd_numbers = list(filter(is_odd , numbers))\n",
    "print(odd_numbers)"
   ]
  },
  {
   "cell_type": "code",
   "execution_count": 15,
   "id": "4ebf80f6-d543-442f-9c73-942446f821bb",
   "metadata": {},
   "outputs": [
    {
     "name": "stdout",
     "output_type": "stream",
     "text": [
      "List of positive integers: [1, 2, 3, 4, 5, 6]\n",
      "List of negative integers: [-5, -4, -3, -2, -1]\n"
     ]
    }
   ],
   "source": [
    "# 8. Sort a list of integers into positive and negative integers lists - using lambda and filter functions\n",
    "\n",
    "integers = [1,2,3,4,5,6,-1,-2,-3,-4,-5,0]\n",
    "\n",
    "positive_integers = sorted(list(filter(lambda x : x > 0, integers)))\n",
    "negative_integers = sorted(list(filter(lambda x : x < 0, integers)))\n",
    "\n",
    "print(\"List of positive integers: {}\".format(positive_integers))\n",
    "print(\"List of negative integers: {}\".format(negative_integers))"
   ]
  },
  {
   "cell_type": "code",
   "execution_count": null,
   "id": "19b4677f-ca91-40e8-a8fe-4e818f49f47e",
   "metadata": {},
   "outputs": [],
   "source": []
  }
 ],
 "metadata": {
  "kernelspec": {
   "display_name": "Python 3.8.10 64-bit",
   "language": "python",
   "name": "python3"
  },
  "language_info": {
   "codemirror_mode": {
    "name": "ipython",
    "version": 3
   },
   "file_extension": ".py",
   "mimetype": "text/x-python",
   "name": "python",
   "nbconvert_exporter": "python",
   "pygments_lexer": "ipython3",
   "version": "3.8.10"
  },
  "vscode": {
   "interpreter": {
    "hash": "e7370f93d1d0cde622a1f8e1c04877d8463912d04d973331ad4851f04de6915a"
   }
  }
 },
 "nbformat": 4,
 "nbformat_minor": 5
}
