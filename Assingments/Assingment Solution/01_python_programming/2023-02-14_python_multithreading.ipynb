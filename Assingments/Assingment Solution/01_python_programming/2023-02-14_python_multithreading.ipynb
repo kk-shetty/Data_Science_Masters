{
 "cells": [
  {
   "cell_type": "markdown",
   "metadata": {},
   "source": [
    "#### Q1. <span style=\"color:magenta\">What is multithreading in python? Why it is used? Name the module to handle threads in python?</span>"
   ]
  },
  {
   "cell_type": "markdown",
   "metadata": {},
   "source": [
    "* **Multithreading in Python refers to the ability of a program to execute multiple threads concurrently within a single process. A thread is a sequence of instructions that can be executed independently, allowing different parts of a program to run simultaneously.**\n",
    "\n",
    "* Multithreading is used to achieve concurrency and improve the performance of a program by utilizing the available resources efficiently\n",
    "\n",
    "* In Python, the threading module is commonly used to handle threads. This module provides a high-level interface for creating and managing threads in Python programs. "
   ]
  },
  {
   "cell_type": "markdown",
   "metadata": {},
   "source": [
    "#### Q2. <span style=\"color:magenta\">Why threading module used? Write the use of the following functions</span>\n",
    "\n",
    "<span style=\"color:magenta\">1. activeCount()</span>\n",
    "\n",
    "<span style=\"color:magenta\">2. currentThread()</span>\n",
    "\n",
    "<span style=\"color:magenta\">3. enumerate()</span>"
   ]
  },
  {
   "cell_type": "markdown",
   "metadata": {},
   "source": [
    "The threading module in Python is used to handle threads and achieve concurrent execution of multiple tasks within a single program. The threading module is used to harness the power of multithreading in Python programs, enabling concurrent execution, improved performance, and better resource utilization. It provides a convenient and high-level interface for managing threads and facilitating thread synchronization and communication.\n",
    "\n",
    "1. **`activeCount()`**: The activeCount() function is method provided by the `threading` module. It iot used to obtain the number of currently active `Thread` objects. thios function returns an integer representing the number of 'Threads`\n",
    "\n",
    "2. **`currentThread()`**: This method is used to obtain a reference to the currently executing 'Thread' object. The `currentThread()` function returns a `Thread` object representing the currently executing thread. It allows us to access and manipulate properties and methods of the current thread, such as its name, identification number, and other thread-related attributes.\n",
    "\n",
    "3. **`enumerate()`**: This is a built-in function that allows us to iterate over a sequence while also keeping track of an index or a counter. It returns an iterator of tuples, where each tuple contains both the undex and the corresponding element from the original sequence. This is commonlt used when we need to iterate over a sequnce and also requre the index or position of each element."
   ]
  },
  {
   "cell_type": "code",
   "execution_count": 19,
   "metadata": {},
   "outputs": [
    {
     "name": "stdout",
     "output_type": "stream",
     "text": [
      "Worker thread Thread-73 with ID 140427042748160 Started\n",
      "Worker thread Thread-74 with ID 140427389277952 Started\n",
      "Worker thread Thread-75 with ID 140427025962752 Started\n",
      "Worker thread Thread-76 with ID 140427407111936 Started\n",
      "Worker thread Thread-73 with ID 140427042748160 finished\n",
      "Worker thread Thread-77 with ID 140427042748160 Started\n",
      "Worker thread Thread-74 with ID 140427389277952 finished\n",
      "Active threads: 9\n",
      "Worker thread Thread-75 with ID 140427025962752 finished\n",
      "Active threads: 8\n",
      "Worker thread Thread-76 with ID 140427407111936 finished\n",
      "Active threads: 7\n",
      "Worker thread Thread-77 with ID 140427042748160 finished\n",
      "All threads have finished\n"
     ]
    }
   ],
   "source": [
    "# Examples\n",
    "\n",
    "import threading\n",
    "import time\n",
    "from functools import reduce\n",
    "\n",
    "def worker():\n",
    "    # Example for using currentThread() - to access the name of current thread\n",
    "    current_thread = threading.currentThread()\n",
    "    thread_name = current_thread.getName()\n",
    "    thread_id = current_thread.ident\n",
    "    print(f'Worker thread {thread_name} with ID {thread_id} Started')\n",
    "    time.sleep(4)\n",
    "    print(f'Worker thread {thread_name} with ID {thread_id} finished')\n",
    "\n",
    "threads = []\n",
    "for _ in range(5):\n",
    "    thread = threading.Thread(target=worker)\n",
    "    thread.start()\n",
    "    threads.append(thread)\n",
    "    time.sleep(1)\n",
    "\n",
    "while(any(list(map(lambda x : x.is_alive(), threads)))): # is_alive() is used to check if a particular thread is active\n",
    "    # Check the number of active threads\n",
    "    print(f\"Active threads: {threading.activeCount() - 1}\")\n",
    "    time.sleep(1)\n",
    "\n",
    "# print(list(map(lambda x : x.is_alive(), threads)))\n",
    "# print(any(list(map(lambda x : x.is_alive(), threads))))\n",
    "\n",
    "\n",
    "# Wait for all threads to finish\n",
    "for thread in threads:\n",
    "    thread.join()\n",
    "\n",
    "print(\"All threads have finished\")"
   ]
  },
  {
   "cell_type": "markdown",
   "metadata": {},
   "source": [
    "#### Q3. <span style=\"color:magenta\">Explain the following functions:</span>\n",
    "<span style=\"color:magenta\">1. run()</span>\n",
    "\n",
    "<span style=\"color:magenta\">2. start()</span>\n",
    "\n",
    "<span style=\"color:magenta\">3. join()</span>\n",
    "\n",
    "<span style=\"color:magenta\">4. isAlive()<span>"
   ]
  },
  {
   "cell_type": "markdown",
   "metadata": {},
   "source": [
    "1. **`run()`**: In Python's threading module, the run() function is not a standalone function, but rather a method that is called internally by the Thread class when a new thread is started. It is part of the threading mechanism and is responsible for executing the target function or method associated with the thread.\n",
    "\n",
    "2. **`start()`**: In Python's threading module, the start() function is a method provided by the Thread class. It is used to start the execution of a new thread. When the start() method is called on a Thread object, it initializes the necessary thread resources and internally calls the run() method to execute the target function or method in a separate thread.\n",
    "\n",
    "3. **`join()`**: The join() method is used to synchronize the execution of multiple threads. When called on a Thread object, it blocks the calling thread (usually the main thread) until the target thread (the thread on which join() is called) completes its execution. It allows you to ensure that certain operations or code blocks are executed only after a particular thread has finished.\n",
    "\n",
    "4. **`isAlive()`** - (Depricated) \n",
    "\n",
    "4. **`is_alive()`** - This method is used to check whether a Thread object is currently alive or running. When called on a Thread object, it returns True if the thread is currently running, and False if it has finished its execution."
   ]
  },
  {
   "cell_type": "markdown",
   "metadata": {},
   "source": [
    "#### Q4. <span style=\"color:magenta\">Write a python program to create two threads. Thread one must print the list of squares and thread two must print the list of cubes</span>"
   ]
  },
  {
   "cell_type": "code",
   "execution_count": 24,
   "metadata": {},
   "outputs": [
    {
     "name": "stdout",
     "output_type": "stream",
     "text": [
      "Square of 1 : 1\n",
      "Square of 2 : 4\n",
      "Square of 3 : 9\n",
      "Square of 4 : 16\n",
      "Square of 5 : 25\n",
      "Cube of 1 : 1\n",
      "Cube of 2 : 8\n",
      "Cube of 3 : 27\n",
      "Cube of 4 : 64\n",
      "Cube of 5 : 125\n",
      "All threads have finished.\n"
     ]
    }
   ],
   "source": [
    "def print_squares(n):\n",
    "    print(f\"Square of {n} : {n**2}\")\n",
    "\n",
    "def print_cubes(n):\n",
    "    print(f\"Cube of {n} : {n**3}\")\n",
    "\n",
    "def start_threads(threads):\n",
    "    # Method to start all the threads in a list\n",
    "    for thread in threads:\n",
    "        thread.start()\n",
    "\n",
    "def join_threads(threads):\n",
    "    for thread in threads:\n",
    "        thread.join()\n",
    "\n",
    "#Two list of threads\n",
    "threads1 = [threading.Thread(target = print_squares, args = (i,)) for i in range(1,6)]\n",
    "threads2 = [threading.Thread(target = print_cubes, args = (i,)) for i in range(1,6)]\n",
    "\n",
    "# Start all the threads\n",
    "start_threads(threads1)\n",
    "start_threads(threads2)\n",
    "\n",
    "# Wait for both threads to finish\n",
    "join_threads(threads1)\n",
    "join_threads(threads2)\n",
    "\n",
    "print(\"All threads have finished.\")"
   ]
  },
  {
   "cell_type": "markdown",
   "metadata": {},
   "source": [
    "#### Q5. <span style=\"color:magenta\">State advantages and disadvantages of multithreading</span>"
   ]
  },
  {
   "cell_type": "markdown",
   "metadata": {},
   "source": [
    "**Advantages of Multithreading**:\n",
    "\n",
    "1. Concurrency and Responsiveness: Multithreading allows tasks to execute concurrently, improving program responsiveness and reducing execution time.\n",
    "\n",
    "2. Improved Performance: Multithreading can utilize multiple CPU cores, leading to better performance in parallelizable tasks and I/O-bound operations.\n",
    "\n",
    "3. Resource Sharing: Threads can share memory space, enabling efficient data sharing and communication between threads.\n",
    "\n",
    "4. Modular Design: Multithreading helps organize code into smaller, focused units, making it more manageable and maintainable.\n",
    "\n",
    "**Disadvantages of Multithreading**:\n",
    "\n",
    "1. Complexity and Difficulty: Multithreaded programming introduces complexity, requiring careful synchronization and coordination between threads.\n",
    "\n",
    "2. Synchronization Overhead: Synchronization mechanisms introduce overhead and can impact performance.\n",
    "\n",
    "3. Increased Memory Usage: Each thread requires its own stack space, leading to increased memory consumption.\n",
    "\n",
    "4. Potential for Bugs and Issues: Multithreaded programming can be prone to subtle bugs, race conditions, deadlocks, and other thread-related issues.\n",
    "\n",
    "5. Platform Dependency: Multithreading behavior and performance can vary across different platforms, requiring consideration for portability."
   ]
  },
  {
   "cell_type": "markdown",
   "metadata": {},
   "source": [
    "#### Q6. <span style=\"color:magenta\">Explain deadlocks and race conditions.</span>"
   ]
  },
  {
   "cell_type": "markdown",
   "metadata": {},
   "source": [
    "**Deadlocks**:\n",
    "A deadlock occurs in multithreaded programming when two or more threads are blocked forever, waiting for each other to release resources they hold. In a deadlock situation, the threads are unable to proceed because the required resources are held by other threads in the deadlock chain. This can lead to a program becoming unresponsive or stuck indefinitely.\n",
    "\n",
    "Deadlocks typically occur when the following four conditions are simultaneously satisfied:\n",
    "\n",
    "1. Mutual Exclusion: The resources involved are non-sharable, meaning only one thread can use a resource at a time.\n",
    "\n",
    "2. Hold and Wait: A thread holding at least one resource is waiting to acquire additional resources held by other threads.\n",
    "\n",
    "3. No Preemption: Resources cannot be forcibly taken away from a thread; they can only be released voluntarily.\n",
    "\n",
    "4. Circular Wait: A circular chain of threads exists, where each thread in the chain is waiting for a resource held by the next thread in the chain.\n",
    "\n",
    "To prevent deadlocks, strategies like resource ordering, deadlock avoidance algorithms, or using synchronization primitives effectively can be employed.\n",
    "\n",
    "**Race Condition**\n",
    "A race condition occurs when the behavior of a program depends on the relative ordering or timing of events, particularly when multiple threads access shared data concurrently, and the outcome of their execution becomes non-deterministic. Race conditions can lead to incorrect or unpredictable results.\n",
    "\n",
    "Race conditions typically occur when the following conditions are met:\n",
    "\n",
    "1. Shared Data: Two or more threads access shared data or resources.\n",
    "\n",
    "2. Non-atomic Operations: The shared data is modified through non-atomic operations, meaning that multiple instructions are required to read or write the data.\n",
    "\n",
    "3. Unsynchronized Access: The threads do not use proper synchronization mechanisms, such as locks or mutexes, to coordinate access to the shared data.\n",
    "\n",
    "4. When race conditions occur, the outcome can vary depending on the interleaving and timing of thread execution. This can result in data corruption, inconsistent state, or unexpected behavior."
   ]
  }
 ],
 "metadata": {
  "kernelspec": {
   "display_name": "Python 3.8.10 64-bit",
   "language": "python",
   "name": "python3"
  },
  "language_info": {
   "codemirror_mode": {
    "name": "ipython",
    "version": 3
   },
   "file_extension": ".py",
   "mimetype": "text/x-python",
   "name": "python",
   "nbconvert_exporter": "python",
   "pygments_lexer": "ipython3",
   "version": "3.8.10"
  },
  "orig_nbformat": 4,
  "vscode": {
   "interpreter": {
    "hash": "e7370f93d1d0cde622a1f8e1c04877d8463912d04d973331ad4851f04de6915a"
   }
  }
 },
 "nbformat": 4,
 "nbformat_minor": 2
}
