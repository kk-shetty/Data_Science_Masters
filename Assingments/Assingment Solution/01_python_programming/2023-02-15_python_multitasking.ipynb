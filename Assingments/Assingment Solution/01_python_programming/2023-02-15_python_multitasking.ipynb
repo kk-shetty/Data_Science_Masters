{
 "cells": [
  {
   "cell_type": "markdown",
   "metadata": {},
   "source": [
    "#### Q1. <span style=\"color:magenta\">What is multiprocessing in python? Why it is used? Why it's useful?</span>"
   ]
  },
  {
   "cell_type": "markdown",
   "metadata": {},
   "source": [
    "**Multiprocessing** in Python is a module that allows us to run multiple processes concurrently, taking advantage of multiple CPU cores or processors on our machine. It provides an interface for creating and managing processes, allowing us to execute code in parallel.\n",
    "\n",
    "Multiprocessing is used in Python to achieve parallelism, which can significantly improve the performance and efficiency of certain types of tasks. It allows us to break down a problem into smaller, independent sub-tasks that can be executed simultaneously across multiple processes. This can be particularly beneficial when dealing with computationally intensive or time-consuming tasks."
   ]
  },
  {
   "cell_type": "markdown",
   "metadata": {},
   "source": [
    "#### Q2. <span style=\"color:magenta\">What are the differences between multiprocessing and multithreading?</span>"
   ]
  },
  {
   "cell_type": "markdown",
   "metadata": {},
   "source": [
    "Multiprocessing and multithreading are both techniques used for achieving concurrent execution in Python, but they differ in several key aspects:\n",
    "\n",
    "|**Multiprocessing**|**Multithreading**|\n",
    "|:------------------|:-----------------|\n",
    "|Multiprocessing enables true parallelism by running multiple processes simultaneously, utilizing multiple CPU cores or processors.|multithreading achieves concurrency by running multiple threads within a single process, sharing the same memory space.|\n",
    "|In multiprocessing, each process has its own memory space, which provides better isolation between processes. This means that data is not shared implicitly, and explicit mechanisms (like shared memory or inter-process communication) need to be used for communication and data sharing between processes.|In multithreading, threads share the same memory space, making it easier to share data between threads, but also requiring synchronization mechanisms (e.g., locks) to prevent data races and ensure thread safety.|\n",
    "|Multiprocessing typically incurs higher resource overhead compared to multithreading. Each process in multiprocessing requires its own memory space and system resources, such as file descriptors.|Multithreading incurs less resource overhead|"
   ]
  },
  {
   "cell_type": "markdown",
   "metadata": {},
   "source": [
    "#### Q3. <span style=\"color:magenta\">Write a python code to create a process using the multiprocessing module.</span>"
   ]
  },
  {
   "cell_type": "code",
   "execution_count": 5,
   "metadata": {},
   "outputs": [
    {
     "name": "stdout",
     "output_type": "stream",
     "text": [
      "Worker process executing.\n",
      "Worker process executing.\n",
      "Worker process finished\n",
      "Worker process finished\n",
      "Main process exiting.\n"
     ]
    }
   ],
   "source": [
    "import multiprocessing\n",
    "import time\n",
    "\n",
    "def worker():\n",
    "    \"\"\"Function to be executed in the process.\"\"\"\n",
    "    print(\"Worker process executing.\")\n",
    "    time.sleep(1)\n",
    "    print(\"Worker process finished\")\n",
    "\n",
    "if __name__ == '__main__':\n",
    "    # Create a process\n",
    "    process1 = multiprocessing.Process(target=worker)\n",
    "    process2 = multiprocessing.Process(target=worker)\n",
    "\n",
    "    # Start the process\n",
    "    process1.start()\n",
    "    process2.start()\n",
    "\n",
    "    # Wait for the process to finish\n",
    "    process1.join()\n",
    "    process2.join()\n",
    "\n",
    "    print(\"Main process exiting.\")\n"
   ]
  },
  {
   "cell_type": "markdown",
   "metadata": {},
   "source": [
    "#### Q4. <span style=\"color:magenta\">What is a multiprocessing pool in python? Why is it used?</span>"
   ]
  },
  {
   "cell_type": "markdown",
   "metadata": {},
   "source": [
    "\n",
    "In Python, a multiprocessing pool refers to a mechanism provided by the `multiprocessing` module that allows for efficient distribution of tasks across multiple processes. It provides a convenient way to parallelize the execution of a function across a collection of inputs by automatically assigning the workload to available processes in a pool.\n",
    "The number of worker processes in the pool can be controlled, allowing you to balance the workload based on the available CPU cores or processors.\n",
    "\n",
    "Here are some key benefits and use cases of using a multiprocessing pool:\n",
    "\n",
    "Here are some key benefits and use cases of using a multiprocessing pool:\n",
    "\n",
    "1. **Parallel Execution**: The multiprocessing pool allows you to execute multiple function calls in parallel, leveraging the power of multiple processes. This can significantly speed up the execution of CPU-bound tasks by distributing the workload across available cores or processors.\n",
    "\n",
    "2. **Efficient Resource Utilization**: The pool manages the creation and reuse of worker processes, reducing the overhead associated with process creation for each task. It helps avoid the performance cost of spawning and terminating processes repeatedly, resulting in improved efficiency.\n",
    "\n",
    "3. **Simplified Task Distribution**: With a pool, you can submit tasks to the pool using convenient methods such as apply(), map(), and imap(). These methods automatically distribute the tasks among the worker processes, abstracting away the details of process management.\n",
    "\n",
    "4. **Asynchronous and Ordered Results**: The multiprocessing pool provides both synchronous and asynchronous methods for executing tasks. You can choose between blocking until all tasks are completed (map()), obtaining results as they become available (imap()), or retrieving results in the order of task submission (imap_unordered()).\n",
    "\n",
    "5. **Graceful Termination**: The pool ensures that worker processes are terminated gracefully when the pool is closed or the program exits. This helps avoid leaving orphaned processes running in the background."
   ]
  },
  {
   "cell_type": "markdown",
   "metadata": {},
   "source": [
    "#### Q5. <span style=\"color:magenta\">How can we create a pool of worker processes in python using the multiprocessing module?</span>"
   ]
  },
  {
   "cell_type": "markdown",
   "metadata": {},
   "source": [
    "To create a pool of worker processes in Python using the multiprocessing module, we can utilize the multiprocessing.Pool class. Here's an example that demonstrates the creation of a multiprocessing pool:"
   ]
  },
  {
   "cell_type": "code",
   "execution_count": 6,
   "metadata": {},
   "outputs": [
    {
     "name": "stdout",
     "output_type": "stream",
     "text": [
      "[1, 4, 9, 16, 25]\n"
     ]
    }
   ],
   "source": [
    "import multiprocessing\n",
    "\n",
    "def worker_function(x):\n",
    "    \"\"\"Function to be executed by the worker processes.\"\"\"\n",
    "    return x * x\n",
    "\n",
    "if __name__ == '__main__':\n",
    "    # Create a multiprocessing pool with 3 worker processes\n",
    "    with multiprocessing.Pool(processes=3) as pool:\n",
    "         # Create a list of inputs\n",
    "        inputs = [1, 2, 3, 4, 5]\n",
    "\n",
    "        # Apply the worker function to the inputs using the pool\n",
    "        results = pool.map(worker_function, inputs)\n",
    "    \n",
    "    # Print the results\n",
    "    print(results)\n"
   ]
  },
  {
   "cell_type": "markdown",
   "metadata": {},
   "source": [
    "#### Q6. <span style=\"color:magenta\">Write a python program to create 4 processes, each process should print a different number using the multiprocessing module in python.</span>"
   ]
  },
  {
   "cell_type": "code",
   "execution_count": 7,
   "metadata": {},
   "outputs": [
    {
     "name": "stdout",
     "output_type": "stream",
     "text": [
      "1\n",
      "2\n",
      "3\n",
      "4\n"
     ]
    }
   ],
   "source": [
    "import multiprocessing\n",
    "\n",
    "def print_number(n):\n",
    "    '''This method prints the number it has received as an argument\n",
    "    '''\n",
    "    print(n)\n",
    "\n",
    "# Main method\n",
    "if __name__ == '__main__':\n",
    "\n",
    "    numbers = [1,2,3,4]\n",
    "    processes = []\n",
    "\n",
    "    # Creating multiple process to print each numbers\n",
    "    for number in numbers:\n",
    "        process = multiprocessing.Process(target=print_number, args=(number,))\n",
    "        processes.append(process)\n",
    "        process.start()\n",
    "    \n",
    "    for process in processes:\n",
    "        process.join()\n"
   ]
  },
  {
   "cell_type": "code",
   "execution_count": null,
   "metadata": {},
   "outputs": [],
   "source": []
  }
 ],
 "metadata": {
  "kernelspec": {
   "display_name": "Python 3.8.10 64-bit",
   "language": "python",
   "name": "python3"
  },
  "language_info": {
   "codemirror_mode": {
    "name": "ipython",
    "version": 3
   },
   "file_extension": ".py",
   "mimetype": "text/x-python",
   "name": "python",
   "nbconvert_exporter": "python",
   "pygments_lexer": "ipython3",
   "version": "3.8.10"
  },
  "orig_nbformat": 4,
  "vscode": {
   "interpreter": {
    "hash": "e7370f93d1d0cde622a1f8e1c04877d8463912d04d973331ad4851f04de6915a"
   }
  }
 },
 "nbformat": 4,
 "nbformat_minor": 2
}
