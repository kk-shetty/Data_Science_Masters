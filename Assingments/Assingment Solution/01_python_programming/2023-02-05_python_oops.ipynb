{
 "cells": [
  {
   "cell_type": "markdown",
   "id": "8c2fb0d9-87c7-47b0-999f-e433a6e4ad81",
   "metadata": {},
   "source": [
    "#### Q1. Explain Class and Object with respect to Object-Oriented Programming. Give a suitable example."
   ]
  },
  {
   "cell_type": "markdown",
   "id": "6de91cf2-1c97-4450-8388-f6b4f96dec43",
   "metadata": {},
   "source": [
    "* In Object-Oriented Programming (OOP), a **__class__** is a blueprint or a template for creating objects. It defines the properties (attributes) and behaviors (methods) that the objects of that class will possess. Think of a class as a blueprint for creating multiple objects with similar characteristics.\n",
    "\n",
    "* **An object**, on the other hand, is an instance of a class. It is a concrete entity that is created using the class definition and represents a specific realization of the class. Objects have their own unique state (attribute values) and behavior (method executions)."
   ]
  },
  {
   "cell_type": "code",
   "execution_count": 3,
   "id": "f5abd6ec-42dc-4668-821c-501c1270a2eb",
   "metadata": {},
   "outputs": [],
   "source": [
    "# Example\n",
    "\n",
    "# Creating a class - a blueprint for headphones catalogue\n",
    "class headphone:\n",
    "    \n",
    "    def __init__(self, brand, model, price):\n",
    "        self.brand = brand\n",
    "        self.model = model\n",
    "        self.price = price\n",
    "        self.total_ratings = 0\n",
    "        self.avg_rating = 0\n",
    "    \n",
    "    def review(self, rating):\n",
    "        if rating > 0 and rating <= 5:\n",
    "            self.avg_rating = ((self.avg_rating * self.total_ratings) + rating)/ (self.total_ratings + 1)\n",
    "            self.total_ratings += 1\n",
    "            print(\"Review recorded\")\n",
    "        else:\n",
    "            print(\"Please rate between 1 and 5\")\n",
    "    \n",
    "    def user_ratings(self):\n",
    "        return self.avg_rating"
   ]
  },
  {
   "cell_type": "code",
   "execution_count": 9,
   "id": "47061380-eb07-45fd-8aa5-5d8e1074246e",
   "metadata": {},
   "outputs": [
    {
     "name": "stdout",
     "output_type": "stream",
     "text": [
      "Review recorded\n",
      "Review recorded\n",
      "Review recorded\n",
      "Review recorded\n",
      "Review recorded\n"
     ]
    },
    {
     "data": {
      "text/plain": [
       "3.4"
      ]
     },
     "execution_count": 9,
     "metadata": {},
     "output_type": "execute_result"
    }
   ],
   "source": [
    "# Creating a object of class headphone\n",
    "\n",
    "b001 = headphone('boat', '001', '2300')\n",
    "b001.review(4)\n",
    "b001.brand\n",
    "b001.review(2)\n",
    "b001.review(3)\n",
    "b001.review(3)\n",
    "b001.review(5)\n",
    "b001.user_ratings()"
   ]
  },
  {
   "cell_type": "markdown",
   "id": "3094233d-9862-4245-aa45-78ea2a87b4d0",
   "metadata": {},
   "source": [
    "___"
   ]
  },
  {
   "cell_type": "markdown",
   "id": "0420cb66-0cdd-41f0-a28e-0ae837865a48",
   "metadata": {},
   "source": [
    "#### Q2. Name the four pillars of OOPs."
   ]
  },
  {
   "cell_type": "markdown",
   "id": "22995278-7ea2-4b65-b035-79680dc8dcfb",
   "metadata": {},
   "source": [
    "Four pillars of OOPs are:\n",
    "\n",
    "1. Polymorphism\n",
    "2. Encapsulation\n",
    "3. Inheritence\n",
    "4. Abstraction"
   ]
  },
  {
   "cell_type": "markdown",
   "id": "cbd5c932-9195-4d9a-82d2-8c593ea66bac",
   "metadata": {},
   "source": [
    "___"
   ]
  },
  {
   "cell_type": "markdown",
   "id": "8df2ae65-3cb5-4d00-b177-0e589059a936",
   "metadata": {},
   "source": [
    "#### Q3. Explain why the `__init__()` function is used. Give a suitable example."
   ]
  },
  {
   "cell_type": "markdown",
   "id": "c04722e8-95b9-424f-8e56-94ed736ecf94",
   "metadata": {},
   "source": [
    "`__init__()` function, also called as constructor is used to initialize the object with attributes when it's first created."
   ]
  },
  {
   "cell_type": "code",
   "execution_count": 11,
   "id": "4cecb2d2-030c-4a16-85a3-576409f68fde",
   "metadata": {},
   "outputs": [],
   "source": [
    "# Example\n",
    "\n",
    "class student:\n",
    "    \n",
    "    # When an instance of student class is created, below defined attributes will be initialized\n",
    "    def __init__(self, name, age):\n",
    "        self.name = name\n",
    "        self.age = age"
   ]
  },
  {
   "cell_type": "code",
   "execution_count": 15,
   "id": "cb335ab6-c6e2-46c3-810f-83b6015169e0",
   "metadata": {},
   "outputs": [
    {
     "data": {
      "text/plain": [
       "'Virat'"
      ]
     },
     "execution_count": 15,
     "metadata": {},
     "output_type": "execute_result"
    }
   ],
   "source": [
    "# Creating an instance of class student. We need to pass the name and age parameters while creating\n",
    "s01 = student('Virat', 18)\n",
    "s01.name"
   ]
  },
  {
   "cell_type": "markdown",
   "id": "2b132ab2-1293-476d-9971-bf4af9196280",
   "metadata": {},
   "source": [
    "___"
   ]
  },
  {
   "cell_type": "markdown",
   "id": "ade43c8d-5cec-4b01-bcba-547451144f3b",
   "metadata": {},
   "source": [
    "#### Q4. Why self is used in OOPs?"
   ]
  },
  {
   "cell_type": "markdown",
   "id": "496c0d41-6eff-4963-907a-50d730b58bae",
   "metadata": {},
   "source": [
    "`self` is used to refer to the current instance of the class.\n",
    "Though it's not a keyword, it's conventionally used to refer to the current instance of the class while accessing the attibutes or methods of the class onbject."
   ]
  },
  {
   "cell_type": "markdown",
   "id": "fbe7db63-580b-4d67-994c-c325a94cfc8b",
   "metadata": {},
   "source": [
    "___"
   ]
  },
  {
   "cell_type": "markdown",
   "id": "98445327-1395-487b-b431-43922f5da100",
   "metadata": {},
   "source": [
    "#### Q5. What is inheritance? Give an example for each type of inheritance."
   ]
  },
  {
   "cell_type": "markdown",
   "id": "c0e957be-1079-4fb0-8b06-0a7548290cc8",
   "metadata": {},
   "source": [
    "Inheritance is a fundamental concept in Object-Oriented Programming (OOP) that allows you to create new classes (derived classes) based on existing classes (base or parent classes). Inheritance promotes code reuse and enables the creation of a hierarchical relationship between classes."
   ]
  },
  {
   "cell_type": "markdown",
   "id": "71327411-40e8-4166-bac3-bb53074782c9",
   "metadata": {},
   "source": [
    "Inheritance is classified into several types based on the relationship between the base class and the derived class:\n",
    "\n",
    "1. **Single Inheritance**: Single inheritance involves a derived class inheriting from a single base class. The derived class inherits the attributes and methods of the base class and can also add its own attributes and methods."
   ]
  },
  {
   "cell_type": "code",
   "execution_count": 16,
   "id": "0daaf26f-2adb-4380-acb7-ce690078b87c",
   "metadata": {},
   "outputs": [
    {
     "name": "stdout",
     "output_type": "stream",
     "text": [
      "Buddy\n",
      "Eating...\n",
      "Barking...\n"
     ]
    }
   ],
   "source": [
    "# Example\n",
    "class Animal:\n",
    "    def __init__(self, name):\n",
    "        self.name = name\n",
    "\n",
    "    def eat(self):\n",
    "        print(\"Eating...\")\n",
    "\n",
    "class Dog(Animal):\n",
    "    def bark(self):\n",
    "        print(\"Barking...\")\n",
    "\n",
    "dog = Dog(\"Buddy\")\n",
    "print(dog.name)\n",
    "# Accessing method from base class\n",
    "dog.eat()\n",
    "# Accessing method from it's own class\n",
    "dog.bark()      "
   ]
  },
  {
   "cell_type": "markdown",
   "id": "ed11b9b2-4b92-4588-bc4f-fcb12f52f346",
   "metadata": {},
   "source": [
    "2. **Multiple Inheritance**: Multiple inheritance allows a derived class to inherit from multiple base classes. The derived class inherits attributes and methods from all the base classes."
   ]
  },
  {
   "cell_type": "code",
   "execution_count": 17,
   "id": "bc277dcb-a86d-4175-a54c-a2db9c2a143a",
   "metadata": {},
   "outputs": [
    {
     "name": "stdout",
     "output_type": "stream",
     "text": [
      "Red\n",
      "Starting...\n",
      "Driving...\n",
      "Charging...\n"
     ]
    }
   ],
   "source": [
    "# Example\n",
    "\n",
    "class Vehicle:\n",
    "    def __init__(self, color):\n",
    "        self.color = color\n",
    "\n",
    "    def start(self):\n",
    "        print(\"Starting...\")\n",
    "\n",
    "class Car(Vehicle):\n",
    "    def drive(self):\n",
    "        print(\"Driving...\")\n",
    "\n",
    "class Electric:\n",
    "    def charge(self):\n",
    "        print(\"Charging...\")\n",
    "\n",
    "class ElectricCar(Car, Electric):\n",
    "    pass\n",
    "\n",
    "electric_car = ElectricCar(\"Red\") # Accessing initialization attrribute from parent class Vehicles\n",
    "print(electric_car.color)\n",
    "# Accessing method from base Vehicle\n",
    "electric_car.start()\n",
    "# Accessing method from base Car\n",
    "electric_car.drive()\n",
    "# Accessing method from base class Electric\n",
    "electric_car.charge()\n"
   ]
  },
  {
   "cell_type": "markdown",
   "id": "566ca858-8895-4fbe-8f2f-5b37b97d604f",
   "metadata": {},
   "source": [
    "3. **Multilevel Inheritance**: Multilevel inheritance involves deriving a class from another derived class. It creates a hierarchical inheritance structure."
   ]
  },
  {
   "cell_type": "code",
   "execution_count": 19,
   "id": "591df589-6690-42e9-bc86-fcd871ab5555",
   "metadata": {},
   "outputs": [
    {
     "name": "stdout",
     "output_type": "stream",
     "text": [
      "Buddy\n",
      "Eating...\n",
      "Barking...\n",
      "Fetching...\n"
     ]
    }
   ],
   "source": [
    "# Example\n",
    "\n",
    "class Animal:\n",
    "    def __init__(self, name):\n",
    "        self.name = name\n",
    "\n",
    "    def eat(self):\n",
    "        print(\"Eating...\")\n",
    "\n",
    "class Dog(Animal):\n",
    "    def bark(self):\n",
    "        print(\"Barking...\")\n",
    "\n",
    "class Labrador(Dog):\n",
    "    def fetch(self):\n",
    "        print(\"Fetching...\")\n",
    "\n",
    "labrador = Labrador(\"Buddy\")\n",
    "print(labrador.name)\n",
    "# Accessing method from parent of it's parent class\n",
    "labrador.eat() \n",
    "# Accessing method of immediate parent class\n",
    "labrador.bark()\n",
    "# Accessing method of own class\n",
    "labrador.fetch()\n"
   ]
  },
  {
   "cell_type": "markdown",
   "id": "09d4f5b7-65b6-4704-b509-33409f6ffa1e",
   "metadata": {},
   "source": [
    "4. *Hierarchical Inheritance*: Hierarchical inheritance involves multiple derived classes inheriting from a single base class."
   ]
  },
  {
   "cell_type": "code",
   "execution_count": 20,
   "id": "ea2427d6-bfdd-44a2-bd54-9812e4dd45f8",
   "metadata": {},
   "outputs": [
    {
     "name": "stdout",
     "output_type": "stream",
     "text": [
      "Whiskers\n",
      "Eating...\n",
      "Meowing...\n",
      "Simba\n",
      "Eating...\n",
      "Roaring...\n"
     ]
    }
   ],
   "source": [
    "# Example\n",
    "class Animal:\n",
    "    def __init__(self, name):\n",
    "        self.name = name\n",
    "\n",
    "    def eat(self):\n",
    "        print(\"Eating...\")\n",
    "\n",
    "class Cat(Animal):\n",
    "    def meow(self):\n",
    "        print(\"Meowing...\")\n",
    "\n",
    "class Lion(Animal):\n",
    "    def roar(self):\n",
    "        print(\"Roaring...\")\n",
    "\n",
    "cat = Cat(\"Whiskers\")\n",
    "lion = Lion(\"Simba\")\n",
    "\n",
    "print(cat.name)\n",
    "cat.eat()      \n",
    "cat.meow()     \n",
    "\n",
    "print(lion.name)\n",
    "lion.eat()      \n",
    "lion.roar()     \n"
   ]
  },
  {
   "cell_type": "markdown",
   "id": "8bd75913-08cc-459b-9c4a-1f1a30fcc08a",
   "metadata": {},
   "source": [
    "___"
   ]
  }
 ],
 "metadata": {
  "kernelspec": {
   "display_name": "Python 3.8.10 64-bit",
   "language": "python",
   "name": "python3"
  },
  "language_info": {
   "codemirror_mode": {
    "name": "ipython",
    "version": 3
   },
   "file_extension": ".py",
   "mimetype": "text/x-python",
   "name": "python",
   "nbconvert_exporter": "python",
   "pygments_lexer": "ipython3",
   "version": "3.8.10"
  },
  "vscode": {
   "interpreter": {
    "hash": "e7370f93d1d0cde622a1f8e1c04877d8463912d04d973331ad4851f04de6915a"
   }
  }
 },
 "nbformat": 4,
 "nbformat_minor": 5
}
