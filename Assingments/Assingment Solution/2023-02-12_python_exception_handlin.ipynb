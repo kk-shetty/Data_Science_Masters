{
 "cells": [
  {
   "cell_type": "markdown",
   "metadata": {},
   "source": [
    "#### Q1. What is an Exception in python? Write the difference between Exception and Syntax Errors."
   ]
  },
  {
   "cell_type": "markdown",
   "metadata": {},
   "source": [
    "**exception** is an event that occurs during the execution of a program that disrupts the normal flow of instructions. When an exception is raised, it means that something unexpected or erroneous has happened, and the program's regular execution cannot continue without handling or addressing the issue.\n",
    "\n",
    "*Exception* differs from *Syntax Error* in following ways:\n",
    "\n",
    "|**Exception**|**Syntax Error**|\n",
    "|:-----------:|:--------------:|\n",
    "|Exceptions occur during program execution when an unexpected or erroneous situation arises|Syntax error are detected by the interpreter during the parsing phase before execution|\n",
    "|Exceptions represent runtime errors that disrupt the program's normal flow|Syntax errors indicate mistakes in the code's syntax and structure|\n",
    "|Exceptions can be caught and handled using try-except blocks to prevent the program from crashing|Syntax errors need to be fixed by correcting the code's syntax before running the program|\n",
    "|Exceptions may occur even in a syntactically correct program when encountering unforeseen circumstances or errors during execution|Syntax errors prevent the program from running until they are resolved|\n"
   ]
  },
  {
   "cell_type": "markdown",
   "metadata": {},
   "source": [
    "#### Q2. What happens when an exception is not handled? Explain with an example."
   ]
  },
  {
   "cell_type": "markdown",
   "metadata": {},
   "source": [
    "When an exception is not handled, then it will stop the excution of the program from that point. The consequnce of this depends upon the context in which it occurs.\n",
    "\n",
    "1. By default, when an unhandled exception occurs, the Python interpreter terminates the program and displays an error message\n",
    "2. If an unhandled exception occurs while the program is performing operations that involve system resources (such as file handling, database connections, or network sockets), those resources might not be properly released or closed. This can lead to resource leaks or other undesirable effects\n",
    "3. Failing to handle exceptions can make the program unstable and unreliable. Unhandled exceptions can cause the program to crash abruptly, leaving it in an inconsistent state. This can be particularly problematic in long-running or server-side applications, where a single unhandled exception could bring down the entire system."
   ]
  },
  {
   "cell_type": "code",
   "execution_count": 2,
   "metadata": {},
   "outputs": [
    {
     "name": "stdout",
     "output_type": "stream",
     "text": [
      "This program will fail abruply as I have not handled exceptions\n",
      "Tying to read a file\n"
     ]
    },
    {
     "ename": "FileNotFoundError",
     "evalue": "[Errno 2] No such file or directory: 'new_file.txt'",
     "output_type": "error",
     "traceback": [
      "\u001b[0;31m---------------------------------------------------------------------------\u001b[0m",
      "\u001b[0;31mFileNotFoundError\u001b[0m                         Traceback (most recent call last)",
      "Cell \u001b[0;32mIn[2], line 13\u001b[0m\n\u001b[1;32m     10\u001b[0m     \u001b[38;5;28;01mreturn\u001b[39;00m content\n\u001b[1;32m     12\u001b[0m \u001b[38;5;28mprint\u001b[39m(\u001b[38;5;124m\"\u001b[39m\u001b[38;5;124mThis program will fail abruply as I have not handled exceptions\u001b[39m\u001b[38;5;124m\"\u001b[39m)\n\u001b[0;32m---> 13\u001b[0m list_of_line \u001b[38;5;241m=\u001b[39m \u001b[43mread_file\u001b[49m\u001b[43m(\u001b[49m\u001b[38;5;124;43m\"\u001b[39;49m\u001b[38;5;124;43mnew_file.txt\u001b[39;49m\u001b[38;5;124;43m\"\u001b[39;49m\u001b[43m)\u001b[49m\n",
      "Cell \u001b[0;32mIn[2], line 7\u001b[0m, in \u001b[0;36mread_file\u001b[0;34m(file_name)\u001b[0m\n\u001b[1;32m      4\u001b[0m \u001b[38;5;250m\u001b[39m\u001b[38;5;124;03m'''This function read from the specified filename by line and returns the contents as a list of string\u001b[39;00m\n\u001b[1;32m      5\u001b[0m \u001b[38;5;124;03m'''\u001b[39;00m\n\u001b[1;32m      6\u001b[0m \u001b[38;5;28mprint\u001b[39m(\u001b[38;5;124m\"\u001b[39m\u001b[38;5;124mTying to read a file\u001b[39m\u001b[38;5;124m\"\u001b[39m)\n\u001b[0;32m----> 7\u001b[0m \u001b[38;5;28;01mwith\u001b[39;00m \u001b[38;5;28;43mopen\u001b[39;49m\u001b[43m(\u001b[49m\u001b[43mfile_name\u001b[49m\u001b[43m,\u001b[49m\u001b[43m \u001b[49m\u001b[38;5;124;43m\"\u001b[39;49m\u001b[38;5;124;43mr\u001b[39;49m\u001b[38;5;124;43m\"\u001b[39;49m\u001b[43m)\u001b[49m \u001b[38;5;28;01mas\u001b[39;00m file:\n\u001b[1;32m      8\u001b[0m     content \u001b[38;5;241m=\u001b[39m file\u001b[38;5;241m.\u001b[39mreadlines()\n\u001b[1;32m      9\u001b[0m \u001b[38;5;28mprint\u001b[39m(\u001b[38;5;124m\"\u001b[39m\u001b[38;5;124mFile read succesfully\u001b[39m\u001b[38;5;124m\"\u001b[39m)\n",
      "File \u001b[0;32m~/.local/lib/python3.8/site-packages/IPython/core/interactiveshell.py:284\u001b[0m, in \u001b[0;36m_modified_open\u001b[0;34m(file, *args, **kwargs)\u001b[0m\n\u001b[1;32m    277\u001b[0m \u001b[39mif\u001b[39;00m file \u001b[39min\u001b[39;00m {\u001b[39m0\u001b[39m, \u001b[39m1\u001b[39m, \u001b[39m2\u001b[39m}:\n\u001b[1;32m    278\u001b[0m     \u001b[39mraise\u001b[39;00m \u001b[39mValueError\u001b[39;00m(\n\u001b[1;32m    279\u001b[0m         \u001b[39mf\u001b[39m\u001b[39m\"\u001b[39m\u001b[39mIPython won\u001b[39m\u001b[39m'\u001b[39m\u001b[39mt let you open fd=\u001b[39m\u001b[39m{\u001b[39;00mfile\u001b[39m}\u001b[39;00m\u001b[39m by default \u001b[39m\u001b[39m\"\u001b[39m\n\u001b[1;32m    280\u001b[0m         \u001b[39m\"\u001b[39m\u001b[39mas it is likely to crash IPython. If you know what you are doing, \u001b[39m\u001b[39m\"\u001b[39m\n\u001b[1;32m    281\u001b[0m         \u001b[39m\"\u001b[39m\u001b[39myou can use builtins\u001b[39m\u001b[39m'\u001b[39m\u001b[39m open.\u001b[39m\u001b[39m\"\u001b[39m\n\u001b[1;32m    282\u001b[0m     )\n\u001b[0;32m--> 284\u001b[0m \u001b[39mreturn\u001b[39;00m io_open(file, \u001b[39m*\u001b[39;49margs, \u001b[39m*\u001b[39;49m\u001b[39m*\u001b[39;49mkwargs)\n",
      "\u001b[0;31mFileNotFoundError\u001b[0m: [Errno 2] No such file or directory: 'new_file.txt'"
     ]
    }
   ],
   "source": [
    "# Example of an unhandled exception\n",
    "\n",
    "def read_file(file_name):\n",
    "    '''This function read from the specified filename by line and returns the contents as a list of string\n",
    "    '''\n",
    "    print(\"Tying to read a file\")\n",
    "    with open(file_name, \"r\") as file:\n",
    "        content = file.readlines()\n",
    "    print(\"File read succesfully\")\n",
    "    return content\n",
    "\n",
    "print(\"This program will fail abruply as I have not handled exceptions\")\n",
    "list_of_line = read_file(\"new_file.txt\")"
   ]
  },
  {
   "cell_type": "markdown",
   "metadata": {},
   "source": [
    "#### Q3. Which python statements are used to catch and handle exception? Explain With an example?"
   ]
  },
  {
   "cell_type": "markdown",
   "metadata": {},
   "source": [
    "`try-except` block is used to catch and handle exceptions. The general syntax of a try-except block is as follows:\n",
    "\n",
    "```python\n",
    "try:\n",
    "    # Code that may raise an exception\n",
    "except ExceptionType:\n",
    "    # Code to handle the exception\n",
    "```"
   ]
  },
  {
   "cell_type": "code",
   "execution_count": null,
   "metadata": {},
   "outputs": [
    {
     "name": "stdout",
     "output_type": "stream",
     "text": [
      "12/13 = 0.9230769230769231\n"
     ]
    }
   ],
   "source": [
    "# Example \n",
    "\n",
    "try:\n",
    "    num = int(input(\"Enter a numerator: \"))\n",
    "    denom = int(input(\"Enter a denominator: \"))\n",
    "    result = num/denom\n",
    "except ValueError: # This block will handle ValueError execption that occurs if user input a non integer in the input\n",
    "    print(\"Invalid number. Please enter an Integer number!!\")\n",
    "except ZeroDivisionError:\n",
    "    print(\"Cannot divide by 0\")\n",
    "else:   # This block will excute if there was no exceptions raised in the try block\n",
    "    print(f'{num}/{denom} = {result}')"
   ]
  },
  {
   "cell_type": "markdown",
   "metadata": {},
   "source": [
    "#### Q4. Explain with an example:\n",
    "* try and else\n",
    "* finally\n",
    "* raise"
   ]
  },
  {
   "cell_type": "markdown",
   "metadata": {},
   "source": [
    "* The `try` block is used to enclose a section of code that may potentially raise an exception. The code within the try block is executed, and if an exception occurs, it can be caught and handled by the corresponding except block(s). \n",
    "* The `else` block is used in conjunction with the `try-except` block to specify a section of code that should be executed if no exceptions occur in the try block. The else block is optional and provides an alternative path of execution when no exceptions are raised."
   ]
  },
  {
   "cell_type": "code",
   "execution_count": null,
   "metadata": {},
   "outputs": [
    {
     "name": "stdout",
     "output_type": "stream",
     "text": [
      "10/12 = 0.8333333333333334\n"
     ]
    }
   ],
   "source": [
    "# Example for try and else\n",
    "try:\n",
    "    ''' Below divison operation might result in ZeroDivision Error, so this is enclosed in a try block\n",
    "    '''\n",
    "    a = 10\n",
    "    b = 12\n",
    "    result = a/b\n",
    "except ZeroDivisionError:\n",
    "    print(\"Can't divide. by zero\")\n",
    "else:\n",
    "    '''This block will be executed when there was no exceptions\n",
    "    '''\n",
    "    print(f'{a}/{b} = {result}')"
   ]
  },
  {
   "cell_type": "markdown",
   "metadata": {},
   "source": [
    "* the `finally` block is used to specify a block of code that should be executed regardless of whether an exception is raised or not. The finally block is executed after the try block and any associated except blocks, even if an exception occurs. "
   ]
  },
  {
   "cell_type": "code",
   "execution_count": null,
   "metadata": {},
   "outputs": [
    {
     "name": "stdout",
     "output_type": "stream",
     "text": [
      "10/12 = 0.8333333333333334\n",
      "Division operation over\n"
     ]
    }
   ],
   "source": [
    "# Example to demonstrate finally block\n",
    "\n",
    "try:\n",
    "    a = 10\n",
    "    b = 12\n",
    "    result = a/b\n",
    "except ZeroDivisionError:\n",
    "    print(\"Can't divide. by zero\")\n",
    "else:\n",
    "    print(f'{a}/{b} = {result}')\n",
    "finally:\n",
    "    '''THis block will be executed regardless of any exception is raised or not\n",
    "    '''\n",
    "    print(\"Division operation over\")\n"
   ]
  },
  {
   "cell_type": "markdown",
   "metadata": {},
   "source": [
    "* The `raise` statement is used to explicitly raise an exception. It allows you to create and raise your own exceptions or propagate built-in exceptions. The raise statement is often used when certain conditions or requirements are not met, and you want to indicate an exceptional situation."
   ]
  },
  {
   "cell_type": "code",
   "execution_count": null,
   "metadata": {},
   "outputs": [
    {
     "name": "stdout",
     "output_type": "stream",
     "text": [
      "Average score1 : 46.38461538461539\n",
      "unsupported operand type(s) for +: 'int' and 'str'\n",
      "Average score2 : None\n",
      "Empty list of scores provided\n"
     ]
    }
   ],
   "source": [
    "# Example to demonstrate raise\n",
    "\n",
    "def calculate_average(scores):\n",
    "    '''Method to calculate average of list of numbers\n",
    "    '''\n",
    "    if not scores:\n",
    "        '''Raise a ValueError exception when the list is empty\n",
    "        '''\n",
    "        raise ValueError(\"Empty list of scores provided\")\n",
    "    else:\n",
    "        try:\n",
    "            total = sum(scores)\n",
    "            average = total/len(scores)\n",
    "        except TypeError as e:\n",
    "            print(e)\n",
    "        else:\n",
    "            return average\n",
    "\n",
    "try:\n",
    "    scores1 = [87, 12, 8, 15, 31, 27, 0, 42, 37, 74, 80, 112, 78]\n",
    "    print(f'Average score1 : {calculate_average(scores1)}')\n",
    "except ValueError as e:\n",
    "    print(e)\n",
    "\n",
    "try:\n",
    "    scores1 = [87, 12, 8, '15', 31, 27, 0, '42', 37, 74, 80, 112, 78]\n",
    "    print(f'Average score2 : {calculate_average(scores1)}')\n",
    "except ValueError as e:\n",
    "    print(e)\n",
    "\n",
    "try:\n",
    "    scores1 = []\n",
    "    print(f'Average score3 : {calculate_average(scores1)}')\n",
    "except ValueError as e:\n",
    "    print(e)"
   ]
  },
  {
   "cell_type": "markdown",
   "metadata": {},
   "source": [
    "#### Q5. What are Custom Exceptions in python? Why do we need Custom Exception? Explain with an example."
   ]
  },
  {
   "cell_type": "markdown",
   "metadata": {},
   "source": [
    "**Custom exceptions** are user-defined exceptions that extend the functionality of the built-in exception classes. They allow us to create our own exception hierarchy to handle specific exceptional situations in our code. Custom exceptions are defined by creating a new class that inherits from the base Exception class or any of its subclasses.\n",
    "\n",
    "Custom exceptions allow us to define and handle specific error scenarios in our code. By creating custom exception classes, we can differentiate between various exceptional cases and handle them appropriately, providing more informative error messages to users or developers."
   ]
  },
  {
   "cell_type": "code",
   "execution_count": null,
   "metadata": {},
   "outputs": [
    {
     "name": "stdout",
     "output_type": "stream",
     "text": [
      "Valid username: emma01\n",
      "Error: Invalid input: 'john' is not allowed.\n",
      "Invalid input: john\n"
     ]
    }
   ],
   "source": [
    "class InvalidInputException(Exception):\n",
    "    def __init__(self, input_value):\n",
    "        self.input_value = input_value\n",
    "        super().__init__(\"Invalid input: '{}' is not allowed.\".format(input_value))\n",
    "\n",
    "def check_username(username):\n",
    "    if len(username) < 5:\n",
    "        raise InvalidInputException(username)\n",
    "    # Perform further validation or processing\n",
    "    print(\"Valid username:\", username)\n",
    "\n",
    "try:\n",
    "    check_username(\"emma01\")\n",
    "    check_username(\"john\")\n",
    "    check_username(\"a\")\n",
    "except InvalidInputException as e:\n",
    "    print(\"Error:\", str(e))\n",
    "    print(\"Invalid input:\", e.input_value)\n"
   ]
  },
  {
   "cell_type": "markdown",
   "metadata": {},
   "source": [
    "#### Q6. Create a Custom Exception class. Use this class to handle an exception."
   ]
  },
  {
   "cell_type": "code",
   "execution_count": null,
   "metadata": {},
   "outputs": [],
   "source": [
    "# Example to demonstrate the use of Custome Exception\n",
    "\n",
    "# Defining a custome Exception as a class that inherits Exception class\n",
    "class InSufficientFundError(Exception):\n",
    "    '''This exceptio will be raised when user tries to withdraw more than their account balance\n",
    "    '''\n",
    "    def __init__(self, message):\n",
    "        self.display_message = message"
   ]
  },
  {
   "cell_type": "code",
   "execution_count": null,
   "metadata": {},
   "outputs": [],
   "source": [
    "\n",
    "# Creating an account class for bank transaction operations\n",
    "class account:\n",
    "    \n",
    "    def __init__(self, name, cust_id, balance = 0):\n",
    "        self.__name = name\n",
    "        self.__cust_id = cust_id\n",
    "        if balance < 0:\n",
    "            raise ValueError(\"ERROR: Initial deposit cannot be negatice\")\n",
    "        else:\n",
    "            self.__balance = balance\n",
    "        print(\"Account Created Succesfully\")\n",
    "    \n",
    "    def deposit(self, amount):\n",
    "        try:\n",
    "            if(float(amount) <= 0):\n",
    "                raise ValueError(\"ERROR: Deposit amount should be more than 0\")\n",
    "            else:\n",
    "                self.__balance += float(amount)\n",
    "                print(\"Amount Deposited Succesfully\")\n",
    "        except ValueError:\n",
    "            print(\"ERROR: Please enter amount in numbers\")\n",
    "    \n",
    "    def withdraw(self, amount):\n",
    "        try:\n",
    "            if(float(amount) > self.__balance):\n",
    "                raise InSufficientFundError(f\"Sorry, you have insufficient balance to withdraw Rs. {amount}\")\n",
    "            else:\n",
    "                self.__balance -= float(amount)\n",
    "                print(\"Amount withdrwan from your account succesfully\")\n",
    "        except ValueError:\n",
    "            print(\"ERROR: Please enter amount in numbers\")\n",
    "    \n",
    "    def balance(self):\n",
    "        return(self.__balance)"
   ]
  },
  {
   "cell_type": "code",
   "execution_count": null,
   "metadata": {},
   "outputs": [
    {
     "name": "stdout",
     "output_type": "stream",
     "text": [
      "Account Created Succesfully\n",
      "Current balance: 1000\n",
      "Amount Deposited Succesfully\n",
      "Current balance: 26000.0\n",
      "Sorry, you have insufficient balance to withdraw Rs. 30000\n",
      "Current balance: 26000.0\n"
     ]
    },
    {
     "data": {
      "text/plain": [
       "26000.0"
      ]
     },
     "execution_count": 52,
     "metadata": {},
     "output_type": "execute_result"
    }
   ],
   "source": [
    "# Creating an instance of account class\n",
    "try:\n",
    "    account1 = account('Karthik', 'C001', 1000)\n",
    "    print(f\"Current balance: {account1.balance()}\")\n",
    "except Exception as e:\n",
    "    print(e)\n",
    "\n",
    "# Performing a deposit\n",
    "try:\n",
    "    account1.deposit(input(\"Enter the amount to deposit: \"))\n",
    "except ValueError as e:\n",
    "    print(e)\n",
    "finally:\n",
    "    print(f\"Current balance: {account1.balance()}\")\n",
    "\n",
    "# Performing a withdraw\n",
    "try:\n",
    "    account1.withdraw(input(\"Enter the amount to withdraw: \")) \n",
    "except ValueError as e:\n",
    "    print(e)\n",
    "except InSufficientFundError as e:\n",
    "    print(e)\n",
    "finally:\n",
    "    print(f\"Current balance: {account1.balance()}\")\n",
    "\n",
    "# Chcking baklance\n",
    "account1.balance()\n"
   ]
  },
  {
   "cell_type": "markdown",
   "metadata": {},
   "source": [
    "___"
   ]
  }
 ],
 "metadata": {
  "kernelspec": {
   "display_name": "Python 3.8.10 64-bit",
   "language": "python",
   "name": "python3"
  },
  "language_info": {
   "codemirror_mode": {
    "name": "ipython",
    "version": 3
   },
   "file_extension": ".py",
   "mimetype": "text/x-python",
   "name": "python",
   "nbconvert_exporter": "python",
   "pygments_lexer": "ipython3",
   "version": "3.8.10"
  },
  "orig_nbformat": 4,
  "vscode": {
   "interpreter": {
    "hash": "e7370f93d1d0cde622a1f8e1c04877d8463912d04d973331ad4851f04de6915a"
   }
  }
 },
 "nbformat": 4,
 "nbformat_minor": 2
}
