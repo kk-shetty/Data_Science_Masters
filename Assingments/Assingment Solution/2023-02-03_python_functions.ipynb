{
 "cells": [
  {
   "cell_type": "markdown",
   "id": "c0e8a31b-7970-4dfd-8179-9ec1c3f1ebc7",
   "metadata": {},
   "source": [
    "#### Q1. Which keyword is used to create a function? Create a function to return a list of odd numbers in the range of 1 to 25."
   ]
  },
  {
   "cell_type": "markdown",
   "id": "820a16b8-2cf7-4ccb-b3a5-c3b966a33b8f",
   "metadata": {},
   "source": [
    "`def` keyword is used to create a function."
   ]
  },
  {
   "cell_type": "code",
   "execution_count": 12,
   "id": "70c84abc-4800-464b-a931-7ec02d4e133c",
   "metadata": {},
   "outputs": [],
   "source": [
    "# Function to return a list of odd numbers in the range of 1 to 25 - Using normal flow\n",
    "def oddNumbers(n):\n",
    "    odds = []\n",
    "    for i in range(n):\n",
    "        if i%2 == 1:\n",
    "            odds.append(i)\n",
    "    return odds"
   ]
  },
  {
   "cell_type": "code",
   "execution_count": 13,
   "id": "3191787e-7ff4-43a0-884b-28e059b6578a",
   "metadata": {},
   "outputs": [
    {
     "name": "stdout",
     "output_type": "stream",
     "text": [
      "[1, 3, 5, 7, 9, 11, 13, 15, 17, 19, 21, 23]\n"
     ]
    }
   ],
   "source": [
    "print(oddNumbers(25))"
   ]
  },
  {
   "cell_type": "code",
   "execution_count": 16,
   "id": "1773d95c-04b4-4bb8-8133-2f2203ba408d",
   "metadata": {},
   "outputs": [],
   "source": [
    "# Function to return a list of odd numbers in the range of 1 to 25 - Using list comprehension\n",
    "def oddNumbers2(n):\n",
    "    return [i for i in range(n) if i%2==1]"
   ]
  },
  {
   "cell_type": "code",
   "execution_count": 17,
   "id": "8dedb7ae-94bc-4e85-a854-68487612c869",
   "metadata": {},
   "outputs": [
    {
     "name": "stdout",
     "output_type": "stream",
     "text": [
      "[1, 3, 5, 7, 9, 11, 13, 15, 17, 19, 21, 23]\n"
     ]
    }
   ],
   "source": [
    "print(oddNumbers2(25))"
   ]
  },
  {
   "cell_type": "markdown",
   "id": "e9a1bbd4-39d6-4585-8b2e-9e372a6e6565",
   "metadata": {},
   "source": [
    "___"
   ]
  },
  {
   "cell_type": "markdown",
   "id": "455955b4-12bc-4d93-9a95-21a1efdc7d97",
   "metadata": {},
   "source": [
    "#### Q2. Why *args and **kwargs is used in some functions? Create a function each for *args and **kwargs to demonstrate their use."
   ]
  },
  {
   "cell_type": "markdown",
   "id": "76bd6b7f-29b4-42f6-8077-b856e9515c94",
   "metadata": {},
   "source": [
    "`*args` and `**kwargs` are used in Python functions to handle a variable number of arguments.\n",
    "\n",
    "The `*args` syntax allows a function to accept a variable number of non-keyword arguments. It allows you to pass any number of positional arguments to the function. The `*args` parameter collects these arguments into a tuple within the function, which can be accessed like a regular tuple."
   ]
  },
  {
   "cell_type": "code",
   "execution_count": 18,
   "id": "ed213f9e-f5f8-4bcc-a5b4-783827be4227",
   "metadata": {},
   "outputs": [],
   "source": [
    "# Exapmle to demonstrating the use of *args\n",
    "def sum_of_numbers(*args):\n",
    "    '''This function takes any number of arguments and return their sum\n",
    "    '''\n",
    "    total = 0\n",
    "    for num in args:\n",
    "        total += num\n",
    "    return total"
   ]
  },
  {
   "cell_type": "code",
   "execution_count": 19,
   "id": "d9523967-5eb7-414b-b0dd-3ae33085da16",
   "metadata": {},
   "outputs": [
    {
     "name": "stdout",
     "output_type": "stream",
     "text": [
      "3\n"
     ]
    }
   ],
   "source": [
    "result = sum_of_numbers(1,2)\n",
    "print(result)"
   ]
  },
  {
   "cell_type": "code",
   "execution_count": 20,
   "id": "73af9377-67c2-474e-bf08-a9c50589458b",
   "metadata": {},
   "outputs": [
    {
     "name": "stdout",
     "output_type": "stream",
     "text": [
      "51\n"
     ]
    }
   ],
   "source": [
    "result = sum_of_numbers(1,9,4,2,6,4,12,3,1,9)\n",
    "print(result)"
   ]
  },
  {
   "cell_type": "markdown",
   "id": "642d0766-2511-49b1-8879-6f5897ab141a",
   "metadata": {},
   "source": [
    "`**kwargs` allows a function to accept a variable number of keyword arguments. It allows you to pass any number of keyword arguments to the function. The `**kwargs` parameter collects these arguments into a dictionary within the function, where the keys are the argument names and the values are the corresponding values."
   ]
  },
  {
   "cell_type": "code",
   "execution_count": 22,
   "id": "e221bcba-0dbe-447d-bcae-ee3be4e4298b",
   "metadata": {},
   "outputs": [],
   "source": [
    "# Exapmle to demonstrating the use of **kwargs\n",
    "def print_details(**kwargs):\n",
    "    for key,value in kwargs.items():\n",
    "        print('{} : {}'.format(key,value))"
   ]
  },
  {
   "cell_type": "code",
   "execution_count": 23,
   "id": "ca49a81c-a4be-4389-aea7-273c1ee07f4c",
   "metadata": {},
   "outputs": [
    {
     "name": "stdout",
     "output_type": "stream",
     "text": [
      "name : Karthik\n",
      "age : 30\n",
      "place : Bengaluru\n"
     ]
    }
   ],
   "source": [
    "print_details(name='Karthik', age=30,place='Bengaluru')"
   ]
  },
  {
   "cell_type": "code",
   "execution_count": 24,
   "id": "1767e0be-9ec4-4a35-bdad-8147c7d12c3d",
   "metadata": {},
   "outputs": [
    {
     "name": "stdout",
     "output_type": "stream",
     "text": [
      "Hotel : Marriot\n",
      "rating : 3.8\n",
      "cost : 5000\n",
      "city : Bengaluru\n"
     ]
    }
   ],
   "source": [
    "print_details(Hotel='Marriot', rating = 3.8, cost=5000, city='Bengaluru', )"
   ]
  },
  {
   "cell_type": "markdown",
   "id": "5f632999-d19d-4065-a9d3-399011af0341",
   "metadata": {},
   "source": [
    "___"
   ]
  },
  {
   "cell_type": "markdown",
   "id": "a9d04b9b-d729-4214-8053-935beca1c676",
   "metadata": {},
   "source": [
    "#### Q3. What is an iterator in python? Name the method used to initialise the iterator object and the method used for iteration. Use these methods to print the first five elements of the given list [2, 4, 6, 8, 10, 12, 14, 16,18, 20]."
   ]
  },
  {
   "cell_type": "markdown",
   "id": "9b57542e-e3a0-4ef8-9ba6-4b0cf4c73e0a",
   "metadata": {},
   "source": [
    "In Python, an iterator is an object used to traverse or iterate over a sequence of elements one at a time, allowing sequential access to the elements.\n",
    "An iterable is any object that can be looped over, such as lists, tuples, strings, and dictionaries. When an iterable object is looped over using a for loop, it automatically creates an iterator.\n",
    "The method used to initialize the iterator object is` __iter__()`, and the method used for iteration is `__next__()`."
   ]
  },
  {
   "cell_type": "code",
   "execution_count": 35,
   "id": "d6303301-fc62-49e3-b1f0-519fd009ac62",
   "metadata": {},
   "outputs": [
    {
     "name": "stdout",
     "output_type": "stream",
     "text": [
      "2\n",
      "4\n",
      "6\n",
      "8\n",
      "10\n"
     ]
    }
   ],
   "source": [
    "# To print the first five elements of the given list [2, 4, 6, 8, 10, 12, 14, 16, 18, 20] using the iterator protocol, you can create a custom iterator class. \n",
    "# Here's an example:\n",
    "\n",
    "class ListIterator:\n",
    "    def __init__(self, data_list, num_elements):\n",
    "        self.data_list = data_list\n",
    "        self.num_elements = num_elements\n",
    "        self.index = 0\n",
    "\n",
    "    def __iter__(self):\n",
    "        return self\n",
    "\n",
    "    def __next__(self):\n",
    "        if self.index >= self.num_elements:\n",
    "            raise StopIteration\n",
    "        else:\n",
    "            element = self.data_list[self.index]\n",
    "            self.index += 1\n",
    "            return element\n",
    "\n",
    "\n",
    "# Create an instance of the iterator\n",
    "my_list = [2, 4, 6, 8, 10, 12, 14, 16, 18, 20]\n",
    "iterator = ListIterator(my_list, 5)\n",
    "\n",
    "# Iterate over the iterator and print the elements\n",
    "for element in iterator:\n",
    "    print(element)\n"
   ]
  },
  {
   "cell_type": "markdown",
   "id": "b3b42b1e-0343-42d4-815e-64f5f15cb81b",
   "metadata": {},
   "source": [
    "___"
   ]
  },
  {
   "cell_type": "markdown",
   "id": "40f80857-84f1-4a70-8ce8-ed671472a90d",
   "metadata": {},
   "source": [
    "#### Q4. What is a generator function in python? Why yield keyword is used? Give an example of a generator function."
   ]
  },
  {
   "cell_type": "markdown",
   "id": "93c432ec-210b-48a5-b8a1-02df4156666d",
   "metadata": {},
   "source": [
    "A **generator** is a concise way of to construct a new iterable object. Gerator function return a sequence of multiple results lazily, pausing after each one untill the next one is required."
   ]
  },
  {
   "cell_type": "markdown",
   "id": "b3a5183b-b448-40d2-a6f2-a8b0deab9629",
   "metadata": {},
   "source": [
    "`yield` keyword is used to get values one at a time, instead of returning a single value like a regular function."
   ]
  },
  {
   "cell_type": "code",
   "execution_count": 37,
   "id": "c8c16d74-8075-4b87-a16b-cec2a404d207",
   "metadata": {},
   "outputs": [
    {
     "name": "stdout",
     "output_type": "stream",
     "text": [
      "2\n",
      "4\n",
      "6\n",
      "8\n",
      "10\n"
     ]
    }
   ],
   "source": [
    "# Example of generator function\n",
    "def even_numbers(start, end):\n",
    "    current = start\n",
    "    while current <= end:\n",
    "        if current % 2 == 0:\n",
    "            yield current\n",
    "        current += 1\n",
    "\n",
    "# Create an instance of the generator\n",
    "even_gen = even_numbers(1, 10)\n",
    "\n",
    "# Iterate over the generator and print the even numbers\n",
    "for number in even_gen:\n",
    "    print(number)\n"
   ]
  },
  {
   "cell_type": "markdown",
   "id": "6c910d42-2642-4b06-b331-0580b74aac52",
   "metadata": {},
   "source": [
    "___"
   ]
  },
  {
   "cell_type": "markdown",
   "id": "b59d5918-52c0-4043-8d19-fd8e0df0939a",
   "metadata": {},
   "source": [
    "#### Q5. Create a generator function for prime numbers less than 1000. Use the next() method to print the first 20 prime numbers."
   ]
  },
  {
   "cell_type": "code",
   "execution_count": 76,
   "id": "8c99014f-729d-4e66-a1e8-8ffdf592e173",
   "metadata": {},
   "outputs": [
    {
     "name": "stdout",
     "output_type": "stream",
     "text": [
      "2\n",
      "3\n",
      "5\n",
      "7\n",
      "11\n",
      "13\n",
      "17\n",
      "19\n",
      "23\n",
      "29\n",
      "31\n",
      "37\n",
      "41\n",
      "43\n",
      "47\n",
      "53\n",
      "59\n",
      "61\n",
      "67\n",
      "71\n"
     ]
    }
   ],
   "source": [
    "import math\n",
    "\n",
    "def is_prime(num):\n",
    "    for divider in range (2, math.ceil(math.sqrt(num)) + 1):\n",
    "        if num%divider == 0 and divider < num:\n",
    "            return False\n",
    "    return True\n",
    "\n",
    "def prime_numbers(num, limit):\n",
    "    current_number = 2\n",
    "    count = 0\n",
    "    \n",
    "    while count <= limit:\n",
    "        while not is_prime(current_number) and current_number < num:\n",
    "            current_number +=1\n",
    "        yield current_number\n",
    "        count += 1\n",
    "        current_number +=1\n",
    "\n",
    " # Create an instance of the prime number generator\n",
    "prime_gen = prime_numbers(1000, 20)\n",
    "\n",
    "# Print the first 20 prime numbers using the next() method\n",
    "for _ in range(20):\n",
    "    prime_number = next(prime_gen)\n",
    "    print(prime_number)"
   ]
  },
  {
   "cell_type": "code",
   "execution_count": null,
   "id": "1aaeb9af-a2ec-41f3-8292-8b323a276ac2",
   "metadata": {},
   "outputs": [],
   "source": []
  }
 ],
 "metadata": {
  "kernelspec": {
   "display_name": "Python 3.8.10 64-bit",
   "language": "python",
   "name": "python3"
  },
  "language_info": {
   "codemirror_mode": {
    "name": "ipython",
    "version": 3
   },
   "file_extension": ".py",
   "mimetype": "text/x-python",
   "name": "python",
   "nbconvert_exporter": "python",
   "pygments_lexer": "ipython3",
   "version": "3.8.10"
  },
  "vscode": {
   "interpreter": {
    "hash": "e7370f93d1d0cde622a1f8e1c04877d8463912d04d973331ad4851f04de6915a"
   }
  }
 },
 "nbformat": 4,
 "nbformat_minor": 5
}
