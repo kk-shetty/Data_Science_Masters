{
 "cells": [
  {
   "cell_type": "markdown",
   "metadata": {},
   "source": [
    "#### Q1. What is the Probability density function?\n",
    "\n",
    "**Probability Density Function (pdf)** is the probability distribution of **continuous variable**. \n",
    "\n",
    "* For a continuous random variable, the probability of it taking on any specific point value is immeasurably small, as there are infinitely many possible values within any interval. \n",
    "* Instead, we look at the probability of the random variable falling within a range of values. \n",
    "* The PDF provides the relative likelihood of the random variable being within a particular range.\n",
    "\n",
    "* Mathematically, the PDF of a continuous random variable *`X`* is denoted as *`f(x)`* and satisfies the following properties:\n",
    "\n",
    "1. *Non-negativity*: `f(x) ≥ 0` for all x in the range of X.\n",
    "2. *Normalization*: The integral of the PDF over the entire range of X is equal to 1: `∫ f(x) dx = 1`.\n",
    "3. The probability that X lies within the interval [a, b] is calculated by integrating the PDF over that range:\n",
    "    `P(a ≤ X ≤ b) = ∫[a to b] f(x) dx`\n",
    "____\n",
    "\n",
    "#### Q2. What are the types of Probability distribution?\n",
    "\n",
    "The two main categories of probability distributions are:\n",
    "\n",
    "1. **Discrete Probability Distribution**:\n",
    "    1. *Bernoulli Distribution*: Represents a random variable with two possible outcomes, usually labeled as success(1) and Failiure(0)\n",
    "    2. *Binomial Distribution*: Represents the number of success in a fixed number of independent Bernoulli trials\n",
    "    3. *Poisson Distribution*: A Poisson distribution is a discrete probability distribution. It gives the probability of an event happening a certain number of times (k) within a given interval of time or space.\n",
    "2. **Continuous Probability Distribution**:\n",
    "    1. *Uniform Distribution*: Provides equal probability over a specific range, resulting in a constant probability density.\n",
    "    2. *Normal Distribution (Gaussian Distribution)*: One of the most common distributions, often occurring naturally. It is characterized by its bell-shaped curve and is fully defined by its mean and standard deviation.\n",
    "\n",
    "___\n"
   ]
  },
  {
   "cell_type": "markdown",
   "metadata": {},
   "source": [
    "\n",
    "#### Q3. Write a Python function to calculate the probability density function of a normal distribution with given mean and standard deviation at a given point.\n"
   ]
  },
  {
   "cell_type": "code",
   "execution_count": null,
   "metadata": {},
   "outputs": [],
   "source": [
    "# For a normal distribution the probability at a given point x is :\n",
    "# f(x) = (1 / (σ * sqrt(2 * π))) * exp(-(x - π)^2 / (2 * σ^2))\n",
    "\n",
    "import math\n",
    "\n",
    "def normal_pdf(mean, std_dev, x):\n",
    "    coefficient = 1 / (std_dev * math.sqrt(2 * math.pi))\n",
    "    exponent = -((x - mean) ** 2) / (2 * (std_dev ** 2))\n",
    "    pdf = coefficient * math.exp(exponent)\n",
    "    return pdf"
   ]
  },
  {
   "cell_type": "code",
   "execution_count": null,
   "metadata": {},
   "outputs": [
    {
     "name": "stdout",
     "output_type": "stream",
     "text": [
      "The PDF at x=27 is 0.010296813435998737\n"
     ]
    }
   ],
   "source": [
    "mean = 20\n",
    "std_dev = 4\n",
    "x_value = 27\n",
    "pdf_at_x = normal_pdf(x_value, mean, std_dev)\n",
    "print(f\"The PDF at x={x_value} is {pdf_at_x}\")"
   ]
  },
  {
   "cell_type": "markdown",
   "metadata": {},
   "source": [
    "___\n",
    "\n",
    "#### Q4. What are the properties of Binomial distribution? Give two examples of events where binomial distribution can be applied.\n",
    "\n",
    "**Binomial Distribution** is the Discrete Probability Distribution that describes the number of success in a fixed number of independent Bernoulli trials, where each trials has only two possible outcomes.\n",
    "The properties of the Binomial distribution are as follows:\n",
    "1. **Probability Mass Function (PMF)**: The probability mass function of the binomial distribution is given by:\n",
    "    `P(X = k) = C(n, k) * p^k * (1-p)^(n-k)`\n",
    "2. **Cumulative Distribution Function (CDF)**: The cumulative distribution function of the binomial distribution gives the probability of obtaining at most k successes in n trials and is obtained by summing up the probabilities from 0 to k:\n",
    "    `F(k) = Σ P(X=i) for i=0 to k`\n",
    "2. **Mean (Expected Value)**: The mean or expected value of the binomial distribution is given by:\n",
    "    `E(X) = n * p`\n",
    "It represents the average number of successes in the given number of trials.\n",
    "3. **Variance**: The variance of the binomial distribution is given by:\n",
    "    `Var(X) = n * p * (1-p)`\n",
    "4. **Independence**: The trials in the binomial distribution are assumed to be independent, meaning the outcome of one trial does not affect the outcome of any other trial.\n",
    "\n",
    "**Examples**:\n",
    "1. **Quality Control Management**: Binomial distribution can be applied to quality control processes in manufacturing. Suppose a company is producing a large number of items, and each item can be classified as either defective or non-defective. The company may choose a random sample of items and inspect them for defects. The probability of a single item being defective is represented by p. By applying the binomial distribution, the company can estimate the probability of finding a specific number of defective items in the sample, helping them assess the overall quality of the production process.\n",
    "2. **Medical Testing**: Binomial distribution is commonly used in medical testing scenarios, especially when dealing with binary outcomes like positive/negative results. For example, consider a medical test designed to detect a particular disease. Patients are tested, and the test has a certain sensitivity (probability of a positive result given the patient has the disease) and specificity (probability of a negative result given the patient does not have the disease). The binomial distribution can be used to calculate the probabilities of obtaining a specific number of true positive, true negative, false positive, or false negative results in a given sample of patients, which is valuable for evaluating the test's accuracy and reliability.\n",
    "___\n",
    "\n",
    "#### Q5. Generate a random sample of size 1000 from a binomial distribution with probability of success 0.4 and plot a histogram of the results using matplotlib.\n"
   ]
  },
  {
   "cell_type": "code",
   "execution_count": null,
   "metadata": {},
   "outputs": [
    {
     "data": {
      "image/png": "[encoded data removed]",
      "text/plain": [
       "<Figure size 640x480 with 1 Axes>"
      ]
     },
     "metadata": {},
     "output_type": "display_data"
    }
   ],
   "source": [
    "import numpy as np\n",
    "import matplotlib.pyplot as plt\n",
    "\n",
    "# set the parameters\n",
    "sample_size = 1000\n",
    "probability_of_success = 0.4\n",
    "\n",
    "# Generate the series using numpy\n",
    "random_sample = np.random.binomial(1, probability_of_success, sample_size)\n",
    "\n",
    "# print(random_sample)\n",
    "\n",
    "# Plot the histogram\n",
    "plt.hist(random_sample, bins=[0, 0.5, 1], align='mid', edgecolor='black')\n",
    "plt.xticks([0, 1], ['Failure', 'Success'])\n",
    "plt.xlabel('Outcome')\n",
    "plt.ylabel('Frequency')\n",
    "plt.title('Binomial Distribution Sample')\n",
    "plt.show()"
   ]
  },
  {
   "cell_type": "markdown",
   "metadata": {},
   "source": [
    "___\n",
    "#### Q6. Write a Python function to calculate the cumulative distribution function of a Poisson distribution with given mean at a given point."
   ]
  },
  {
   "cell_type": "code",
   "execution_count": null,
   "metadata": {},
   "outputs": [
    {
     "name": "stdout",
     "output_type": "stream",
     "text": [
      "CDF at point 3: 0.5152\n"
     ]
    }
   ],
   "source": [
    "import math\n",
    "\n",
    "def poisson_cdf(mean, k):\n",
    "    \"\"\"\n",
    "    CDF of a Poisoon distribution is calculated as:\n",
    "        CDF(k) = Σ (e^(-λ) * λ^i) / i!\n",
    "    \"\"\"\n",
    "\n",
    "    if mean <= 0:\n",
    "        raise ValueError(\"Mean (lambda) of the Poisson distribution must be positive:\")\n",
    "\n",
    "    if k <= 0:\n",
    "        return 0.0\n",
    "    \n",
    "    cdf = 0.0\n",
    "    for i in range(0, k+1):\n",
    "        cdf += (math.exp(-mean) * (mean ** i)) / math.factorial(i)\n",
    "    \n",
    "    return cdf\n",
    "\n",
    "# Example Usage\n",
    "mean = 3.6\n",
    "k = 3\n",
    "cdf_value = poisson_cdf(mean, k)\n",
    "print(f\"CDF at point {k}: {cdf_value:.4f}\")"
   ]
  },
  {
   "cell_type": "markdown",
   "metadata": {},
   "source": [
    "___\n",
    "### Q7. How Binomial distribution different from Poisson distribution?\n",
    "\n",
    "Even though both **Binomial Distribution** and **Poisson Distribution** are a *Discrete Probability Distribution* there are key differences among them:\n",
    "\n",
    "|Binomial Distribution|Poisson Distribution|\n",
    "|:-------------------:|:------------------:|\n",
    "|The binomial distribution is used to model the number of successes (or events with a specific outcome) in a fixed number of independent trials, where each trial can have only two outcomes: success or failure.|The Poisson distribution, on the other hand, is used to model the number of rare events occurring in a fixed interval of time or space, given the average rate at which these events occur.|\n",
    "|The trials in the binomial distribution are independent and identical, meaning the outcome of one trial does not affect the outcome of any other trial. Each trial has a fixed probability of success (p) and failure (1-p).|The Poisson distribution is used for events that occur randomly and independently of the time since the last event. The events are rare and can be treated as a Poisson process.|\n",
    "|The binomial distribution is characterized by two parameters: the number of trials (n) and the probability of success in each trial (p).|The Poisson distribution is characterized by a single parameter: the average rate of events (lambda, denoted as λ) in the fixed interval.|\n",
    "|The outcomes in the binomial distribution are discrete and finite, ranging from 0 to n (the number of trials). The number of successes (k) can only take integer values within this range.|The outcomes in the Poisson distribution are also discrete but can range from 0 to infinity. The number of rare events (k) can take any non-negative integer value.|\n",
    "\n",
    "___\n",
    "\n",
    "#### Q8.  Generate a random sample of size 1000 from a Poisson distribution with mean 5 and calculate the sample mean and variance.\n"
   ]
  },
  {
   "cell_type": "code",
   "execution_count": null,
   "metadata": {},
   "outputs": [
    {
     "name": "stdout",
     "output_type": "stream",
     "text": [
      "Sample Mean: 0.527\n",
      "Sample Variance: 0.5217927927927928\n"
     ]
    }
   ],
   "source": [
    "import numpy as np\n",
    "\n",
    "# set the parameters\n",
    "sample_size = 1000\n",
    "lamda = 0.5\n",
    "\n",
    "# Generate the series using numpy\n",
    "random_sample = np.random.poisson(lamda, sample_size)\n",
    "\n",
    "# Calculate the sample mean and variance\n",
    "sample_mean = np.mean(random_sample)\n",
    "sample_variance = np.var(random_sample, ddof=1)\n",
    "\n",
    "# Print the results\n",
    "print(\"Sample Mean:\", sample_mean)\n",
    "print(\"Sample Variance:\", sample_variance)"
   ]
  },
  {
   "cell_type": "markdown",
   "metadata": {},
   "source": [
    "___\n",
    "#### Q9. How mean and variance are related in Binomial distribution and Poisson distribution?\n",
    "In the Binomial distribution, the variance depends on both the number of trials (n) and the probability of success (p). In contrast, in the Poisson distribution, the variance is equal to the mean and is solely determined by the average rate of events (λ).\n",
    "\n",
    "1. **Binomila Disribution**: The relationship between mean and variance shows that as the probability of success (p) increases, both the mean and variance will increase, and vice versa.\n",
    "* `Mean (μ) = n * p`\n",
    "* `Variance (σ^2) = n * p * (1 - p)`\n",
    "2. **Poisson DIstribution**: The mean (λ) represents the average rate of events in the fixed interval, and the variance is equal to the mean. \n",
    "* `Mean (λ) = Variance (σ^2)`\n",
    "\n",
    "___\n",
    "\n",
    "#### Q10. In normal distribution with respect to mean position, where does the least frequent data appear?\n",
    "In a normal distribution, also known as a Gaussian distribution, the data is symmetrically distributed around the mean. The mean is the center of the distribution, and the shape of the curve is determined by the mean and standard deviation.\n",
    "\n",
    "In a symmetric normal distribution, the least frequent data points appear in the tails of the distribution, farthest away from the mean. As we move away from the mean towards the tails, the frequency of data points decreases. The tails of the normal distribution extend infinitely in both directions, but the probability of observing data points far away from the mean becomes extremely low.\n",
    "\n",
    "More precisely:\n",
    "\n",
    "* Data points close to the mean have a high frequency.\n",
    "* Data points in the vicinity of the mean have moderate frequency.\n",
    "* Data points in the tails, both to the left and right of the mean, have low frequency.\n",
    "___"
   ]
  }
 ],
 "metadata": {
  "kernelspec": {
   "display_name": "Python 3",
   "language": "python",
   "name": "python3"
  },
  "language_info": {
   "codemirror_mode": {
    "name": "ipython",
    "version": 3
   },
   "file_extension": ".py",
   "mimetype": "text/x-python",
   "name": "python",
   "nbconvert_exporter": "python",
   "pygments_lexer": "ipython3",
   "version": "3.11.4"
  },
  "orig_nbformat": 4
 },
 "nbformat": 4,
 "nbformat_minor": 2
}
