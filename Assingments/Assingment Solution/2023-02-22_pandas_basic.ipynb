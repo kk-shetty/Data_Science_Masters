{
 "cells": [
  {
   "cell_type": "markdown",
   "id": "b135a115-03f8-4e23-8da1-f91492853cca",
   "metadata": {},
   "source": [
    "#### Q1. Create a Pandas Series that contains the following data: 4, 8, 15, 16, 23, and 42. Then, print the series."
   ]
  },
  {
   "cell_type": "code",
   "execution_count": 1,
   "id": "2d734bd1-17db-42f0-a777-2171376698ff",
   "metadata": {},
   "outputs": [],
   "source": [
    "import pandas as pd"
   ]
  },
  {
   "cell_type": "code",
   "execution_count": 5,
   "id": "e285455b-1472-4c35-adae-090e592ad460",
   "metadata": {},
   "outputs": [
    {
     "name": "stdout",
     "output_type": "stream",
     "text": [
      "0     4\n",
      "1     8\n",
      "2    15\n",
      "3    16\n",
      "4    23\n",
      "5    42\n",
      "dtype: int64\n",
      "<class 'pandas.core.series.Series'>\n"
     ]
    }
   ],
   "source": [
    "my_pd_series = pd.Series([4, 8, 15, 16, 23, 42])\n",
    "print(my_pd_series)\n",
    "print(type(my_pd_series))"
   ]
  },
  {
   "cell_type": "markdown",
   "id": "0462a84f-bd3d-4afe-ad0c-8c880230feac",
   "metadata": {},
   "source": [
    "___"
   ]
  },
  {
   "cell_type": "markdown",
   "id": "595c0ec1-dae7-44c5-b846-28206b08e38f",
   "metadata": {},
   "source": [
    "#### Q2. Create a variable of list type containing 10 elements in it, and apply pandas.Series function on the variable print it."
   ]
  },
  {
   "cell_type": "code",
   "execution_count": 9,
   "id": "dc8a7eda-b9ba-4bc7-b19d-60eaa7023ca7",
   "metadata": {},
   "outputs": [
    {
     "name": "stdout",
     "output_type": "stream",
     "text": [
      "[1, 3, 5, 7, 9, 11, 13, 15, 17, 19]\n",
      "0     1\n",
      "1     3\n",
      "2     5\n",
      "3     7\n",
      "4     9\n",
      "5    11\n",
      "6    13\n",
      "7    15\n",
      "8    17\n",
      "9    19\n",
      "dtype: int64\n"
     ]
    }
   ],
   "source": [
    "my_list = [x for x in range(1, 20, 2)]\n",
    "print(my_list)\n",
    "my_series = pd.Series(my_list)\n",
    "print(my_series)"
   ]
  },
  {
   "cell_type": "markdown",
   "id": "c3027f34-0fed-4697-baf8-ff08e7146984",
   "metadata": {},
   "source": [
    "___"
   ]
  },
  {
   "cell_type": "markdown",
   "id": "ea77815a-7af6-4f93-b90e-bf2dbce01cc9",
   "metadata": {},
   "source": [
    "#### Q3. Create a Pandas DataFrame that contains the following data:\n",
    "|Name|Age|Gender|\n",
    "|:--:|:-:|:----:|\n",
    "|Alice|25|Female|\n",
    "|Bob|30|Male|\n",
    "|Claire|27|Female|"
   ]
  },
  {
   "cell_type": "code",
   "execution_count": 12,
   "id": "31287430-59be-460f-883e-47c4576f50dd",
   "metadata": {},
   "outputs": [
    {
     "name": "stdout",
     "output_type": "stream",
     "text": [
      "     name  Age  Gender\n",
      "0   Alice   25  Female\n",
      "1     Bob   30    Male\n",
      "2  Claire   27  Female\n"
     ]
    }
   ],
   "source": [
    "user_dict = [\n",
    "    {'name' : 'Alice', 'Age' : 25, 'Gender' : 'Female'},\n",
    "    {'name' : 'Bob', 'Age' : 30, 'Gender' : 'Male'},\n",
    "    {'name' : 'Claire', 'Age' : 27, 'Gender' : 'Female'}\n",
    "]\n",
    "\n",
    "user_table = pd.DataFrame(user_dict)\n",
    "print(user_table)\n",
    "     "
   ]
  },
  {
   "cell_type": "markdown",
   "id": "e91ce947-9fd8-482c-a2ac-aa72af5e91d9",
   "metadata": {},
   "source": [
    "___"
   ]
  },
  {
   "cell_type": "markdown",
   "id": "e8a114e9-bc01-42c1-a5dd-4c7e328e8d7e",
   "metadata": {},
   "source": [
    "#### Q4. What is ‘DataFrame’ in pandas and how is it different from pandas.series? Explain with an example."
   ]
  },
  {
   "cell_type": "markdown",
   "id": "bc9f78f5-1e51-484c-ad7c-12db310c2f34",
   "metadata": {},
   "source": [
    "**DataFrame** is a two-dimensional labeled data structure that represents a table of data with rows and columns.\n",
    "A **Pandas Series**, on the other hand, is a one-dimensional labeled array that can hold data of any type. It represents a single column of data in a DataFrame."
   ]
  },
  {
   "cell_type": "code",
   "execution_count": 30,
   "id": "157964e7-85c1-421e-9160-d7cc3fffba3b",
   "metadata": {},
   "outputs": [
    {
     "name": "stdout",
     "output_type": "stream",
     "text": [
      "<class 'pandas.core.frame.DataFrame'>\n",
      "      Name  Age      City Salary\n",
      "0    Alice   25  New York   3000\n",
      "1      Bob   30    London   4900\n",
      "2  Charlie   35     Paris       \n",
      "3    David   40     Tokyo   2800\n",
      "\n",
      "<class 'pandas.core.series.Series'>\n",
      "0      Alice\n",
      "1        Bob\n",
      "2    Charlie\n",
      "3      David\n",
      "Name: Name, dtype: object\n"
     ]
    }
   ],
   "source": [
    "# Example:\n",
    "\n",
    "import pandas as pd\n",
    "\n",
    "# Creating a DataFrame\n",
    "data = {\n",
    "    'Name': ['Alice', 'Bob', 'Charlie', 'David'],\n",
    "    'Age': [25, 30, 35, 40],\n",
    "    'City': ['New York', 'London', 'Paris', 'Tokyo'],\n",
    "    'Salary' : [3000, 4900, '', 2800]\n",
    "}\n",
    "df = pd.DataFrame(data)\n",
    "\n",
    "print(f\"{type(df)}\\n{df}\")\n",
    "\n",
    "# Accessing a column as a Series\n",
    "name_series = df['Name']\n",
    "print(f\"\\n{type(name_series)}\\n{name_series}\")\n"
   ]
  },
  {
   "cell_type": "markdown",
   "id": "c78877df-19a3-4f2e-9558-14b7d39abd48",
   "metadata": {},
   "source": [
    "___"
   ]
  },
  {
   "cell_type": "markdown",
   "id": "1704f991-7f84-4540-8727-546fd7bdbfa8",
   "metadata": {},
   "source": [
    "#### Q5. What are some common functions you can use to manipulate data in a Pandas DataFrame? Can you give an example of when you might use one of these functions?"
   ]
  },
  {
   "cell_type": "markdown",
   "id": "3500513d-8b82-43b4-b238-12fbc5bc2924",
   "metadata": {},
   "source": [
    "1. `head()` and `tail()`: These functions allow you to retrieve the first few rows (`head()`) or the last few rows (`tail()`) of the DataFrame. They are useful for quickly inspecting the structure and content of the data."
   ]
  },
  {
   "cell_type": "code",
   "execution_count": 24,
   "id": "e639cf00-abf7-44b1-974d-bcef84600172",
   "metadata": {},
   "outputs": [
    {
     "data": {
      "text/html": [
       "<div>\n",
       "<style scoped>\n",
       "    .dataframe tbody tr th:only-of-type {\n",
       "        vertical-align: middle;\n",
       "    }\n",
       "\n",
       "    .dataframe tbody tr th {\n",
       "        vertical-align: top;\n",
       "    }\n",
       "\n",
       "    .dataframe thead th {\n",
       "        text-align: right;\n",
       "    }\n",
       "</style>\n",
       "<table border=\"1\" class=\"dataframe\">\n",
       "  <thead>\n",
       "    <tr style=\"text-align: right;\">\n",
       "      <th></th>\n",
       "      <th>District</th>\n",
       "      <th>Constituency No.</th>\n",
       "      <th>Constituency Name</th>\n",
       "      <th>Winner Candidate</th>\n",
       "      <th>Winner Party</th>\n",
       "      <th>Winner Votes</th>\n",
       "      <th>Winner %</th>\n",
       "      <th>Runner Up Candidate</th>\n",
       "      <th>Runner Up Party</th>\n",
       "      <th>Runner Up Votes</th>\n",
       "      <th>Runner Up %</th>\n",
       "      <th>Margin</th>\n",
       "    </tr>\n",
       "  </thead>\n",
       "  <tbody>\n",
       "    <tr>\n",
       "      <th>0</th>\n",
       "      <td>Belagavi</td>\n",
       "      <td>1</td>\n",
       "      <td>Nippani</td>\n",
       "      <td>Shashikala Jolle</td>\n",
       "      <td>BJP</td>\n",
       "      <td>73348.0</td>\n",
       "      <td>39.14</td>\n",
       "      <td>Uttam Raosaheb Patil</td>\n",
       "      <td>NCP</td>\n",
       "      <td>66056</td>\n",
       "      <td>35.25</td>\n",
       "      <td>7292</td>\n",
       "    </tr>\n",
       "    <tr>\n",
       "      <th>1</th>\n",
       "      <td>Belagavi</td>\n",
       "      <td>2</td>\n",
       "      <td>Chikkodi-Sadalga</td>\n",
       "      <td>Ganesh Hukkeri</td>\n",
       "      <td>INC</td>\n",
       "      <td>128349.0</td>\n",
       "      <td>69.82</td>\n",
       "      <td>Ramesh Katti</td>\n",
       "      <td>BJP</td>\n",
       "      <td>49840</td>\n",
       "      <td>27.11</td>\n",
       "      <td>78509</td>\n",
       "    </tr>\n",
       "    <tr>\n",
       "      <th>2</th>\n",
       "      <td>Belagavi</td>\n",
       "      <td>3</td>\n",
       "      <td>Athani</td>\n",
       "      <td>Laxman Savadi</td>\n",
       "      <td>INC</td>\n",
       "      <td>131404.0</td>\n",
       "      <td>68.34</td>\n",
       "      <td>Mahesh Kumathalli</td>\n",
       "      <td>BJP</td>\n",
       "      <td>55282</td>\n",
       "      <td>28.75</td>\n",
       "      <td>76122</td>\n",
       "    </tr>\n",
       "    <tr>\n",
       "      <th>3</th>\n",
       "      <td>Belagavi</td>\n",
       "      <td>4</td>\n",
       "      <td>Kagwad</td>\n",
       "      <td>Raju Kage</td>\n",
       "      <td>INC</td>\n",
       "      <td>83887.0</td>\n",
       "      <td>51.45</td>\n",
       "      <td>Shrimant Patil</td>\n",
       "      <td>BJP</td>\n",
       "      <td>74560</td>\n",
       "      <td>46.00</td>\n",
       "      <td>9327</td>\n",
       "    </tr>\n",
       "    <tr>\n",
       "      <th>4</th>\n",
       "      <td>Belagavi</td>\n",
       "      <td>5</td>\n",
       "      <td>Kudachi (SC)</td>\n",
       "      <td>Mahendra Tammannavar</td>\n",
       "      <td>INC</td>\n",
       "      <td>85321.0</td>\n",
       "      <td>56.87</td>\n",
       "      <td>P. Rajeev</td>\n",
       "      <td>BJP</td>\n",
       "      <td>60078</td>\n",
       "      <td>40.04</td>\n",
       "      <td>25243</td>\n",
       "    </tr>\n",
       "  </tbody>\n",
       "</table>\n",
       "</div>"
      ],
      "text/plain": [
       "   District  Constituency No. Constituency Name      Winner Candidate  \\\n",
       "0  Belagavi                 1           Nippani      Shashikala Jolle   \n",
       "1  Belagavi                 2  Chikkodi-Sadalga        Ganesh Hukkeri   \n",
       "2  Belagavi                 3            Athani         Laxman Savadi   \n",
       "3  Belagavi                 4            Kagwad             Raju Kage   \n",
       "4  Belagavi                 5      Kudachi (SC)  Mahendra Tammannavar   \n",
       "\n",
       "  Winner Party  Winner Votes  Winner %   Runner Up Candidate Runner Up Party  \\\n",
       "0          BJP       73348.0     39.14  Uttam Raosaheb Patil             NCP   \n",
       "1          INC      128349.0     69.82          Ramesh Katti             BJP   \n",
       "2          INC      131404.0     68.34     Mahesh Kumathalli             BJP   \n",
       "3          INC       83887.0     51.45        Shrimant Patil             BJP   \n",
       "4          INC       85321.0     56.87             P. Rajeev             BJP   \n",
       "\n",
       "   Runner Up Votes  Runner Up %  Margin  \n",
       "0            66056        35.25    7292  \n",
       "1            49840        27.11   78509  \n",
       "2            55282        28.75   76122  \n",
       "3            74560        46.00    9327  \n",
       "4            60078        40.04   25243  "
      ]
     },
     "execution_count": 24,
     "metadata": {},
     "output_type": "execute_result"
    }
   ],
   "source": [
    "# Example: When we are working with a large dataframes, it would be easy to understand the structure of raw data with head() and/or tail()\n",
    "\n",
    "results = pd.read_csv(\"data_files/detailed_result.csv\")\n",
    "\n",
    "# Using head() to check the structure of data.\n",
    "results.head()"
   ]
  },
  {
   "cell_type": "markdown",
   "id": "86dd1ac6-2be2-4c7a-a19d-8413f8950e46",
   "metadata": {},
   "source": [
    "2. `info()`: This function provides a summary of the DataFrame, including the column names, data types, and memory usage. It is helpful for understanding the data types and identifying any missing values."
   ]
  },
  {
   "cell_type": "code",
   "execution_count": 27,
   "id": "6c939832-f9f8-45b7-b02e-d287e58b9917",
   "metadata": {},
   "outputs": [
    {
     "data": {
      "text/plain": [
       "<bound method DataFrame.info of       Name  Age      City\n",
       "0    Alice   25  New York\n",
       "1      Bob   30    London\n",
       "2  Charlie   35     Paris\n",
       "3    David   40     Tokyo>"
      ]
     },
     "execution_count": 27,
     "metadata": {},
     "output_type": "execute_result"
    }
   ],
   "source": [
    "#Example:\n",
    "df.info"
   ]
  },
  {
   "cell_type": "markdown",
   "id": "0ce9ad41-a68d-4eca-967f-dedada208767",
   "metadata": {},
   "source": [
    "3. `describe()`: This function generates descriptive statistics of the numerical columns in the DataFrame, such as count, mean, standard deviation, minimum, maximum, and quartile values. It provides insights into the distribution and central tendencies of the data."
   ]
  },
  {
   "cell_type": "code",
   "execution_count": 26,
   "id": "f9c8ab3b-22fd-4e5d-8be5-2b651ca32316",
   "metadata": {},
   "outputs": [
    {
     "data": {
      "text/html": [
       "<div>\n",
       "<style scoped>\n",
       "    .dataframe tbody tr th:only-of-type {\n",
       "        vertical-align: middle;\n",
       "    }\n",
       "\n",
       "    .dataframe tbody tr th {\n",
       "        vertical-align: top;\n",
       "    }\n",
       "\n",
       "    .dataframe thead th {\n",
       "        text-align: right;\n",
       "    }\n",
       "</style>\n",
       "<table border=\"1\" class=\"dataframe\">\n",
       "  <thead>\n",
       "    <tr style=\"text-align: right;\">\n",
       "      <th></th>\n",
       "      <th>Constituency No.</th>\n",
       "      <th>Winner Votes</th>\n",
       "      <th>Winner %</th>\n",
       "      <th>Runner Up Votes</th>\n",
       "      <th>Runner Up %</th>\n",
       "      <th>Margin</th>\n",
       "    </tr>\n",
       "  </thead>\n",
       "  <tbody>\n",
       "    <tr>\n",
       "      <th>count</th>\n",
       "      <td>224.000000</td>\n",
       "      <td>224.000000</td>\n",
       "      <td>224.000000</td>\n",
       "      <td>224.000000</td>\n",
       "      <td>224.000000</td>\n",
       "      <td>224.000000</td>\n",
       "    </tr>\n",
       "    <tr>\n",
       "      <th>mean</th>\n",
       "      <td>112.500000</td>\n",
       "      <td>86177.926174</td>\n",
       "      <td>49.559464</td>\n",
       "      <td>65535.334821</td>\n",
       "      <td>37.547098</td>\n",
       "      <td>20979.535714</td>\n",
       "    </tr>\n",
       "    <tr>\n",
       "      <th>std</th>\n",
       "      <td>64.807407</td>\n",
       "      <td>21869.826428</td>\n",
       "      <td>7.517976</td>\n",
       "      <td>17701.285185</td>\n",
       "      <td>6.964289</td>\n",
       "      <td>17872.183975</td>\n",
       "    </tr>\n",
       "    <tr>\n",
       "      <th>min</th>\n",
       "      <td>1.000000</td>\n",
       "      <td>95.463000</td>\n",
       "      <td>29.400000</td>\n",
       "      <td>20631.000000</td>\n",
       "      <td>11.080000</td>\n",
       "      <td>16.000000</td>\n",
       "    </tr>\n",
       "    <tr>\n",
       "      <th>25%</th>\n",
       "      <td>56.750000</td>\n",
       "      <td>73311.000000</td>\n",
       "      <td>45.110000</td>\n",
       "      <td>54130.750000</td>\n",
       "      <td>32.312500</td>\n",
       "      <td>7842.500000</td>\n",
       "    </tr>\n",
       "    <tr>\n",
       "      <th>50%</th>\n",
       "      <td>112.500000</td>\n",
       "      <td>84412.500000</td>\n",
       "      <td>49.585000</td>\n",
       "      <td>64380.000000</td>\n",
       "      <td>38.415000</td>\n",
       "      <td>15968.500000</td>\n",
       "    </tr>\n",
       "    <tr>\n",
       "      <th>75%</th>\n",
       "      <td>168.250000</td>\n",
       "      <td>94654.000000</td>\n",
       "      <td>53.837500</td>\n",
       "      <td>74074.750000</td>\n",
       "      <td>43.607500</td>\n",
       "      <td>30774.500000</td>\n",
       "    </tr>\n",
       "    <tr>\n",
       "      <th>max</th>\n",
       "      <td>224.000000</td>\n",
       "      <td>196220.000000</td>\n",
       "      <td>74.580000</td>\n",
       "      <td>154031.000000</td>\n",
       "      <td>47.850000</td>\n",
       "      <td>122392.000000</td>\n",
       "    </tr>\n",
       "  </tbody>\n",
       "</table>\n",
       "</div>"
      ],
      "text/plain": [
       "       Constituency No.   Winner Votes    Winner %  Runner Up Votes  \\\n",
       "count        224.000000     224.000000  224.000000       224.000000   \n",
       "mean         112.500000   86177.926174   49.559464     65535.334821   \n",
       "std           64.807407   21869.826428    7.517976     17701.285185   \n",
       "min            1.000000      95.463000   29.400000     20631.000000   \n",
       "25%           56.750000   73311.000000   45.110000     54130.750000   \n",
       "50%          112.500000   84412.500000   49.585000     64380.000000   \n",
       "75%          168.250000   94654.000000   53.837500     74074.750000   \n",
       "max          224.000000  196220.000000   74.580000    154031.000000   \n",
       "\n",
       "       Runner Up %         Margin  \n",
       "count   224.000000     224.000000  \n",
       "mean     37.547098   20979.535714  \n",
       "std       6.964289   17872.183975  \n",
       "min      11.080000      16.000000  \n",
       "25%      32.312500    7842.500000  \n",
       "50%      38.415000   15968.500000  \n",
       "75%      43.607500   30774.500000  \n",
       "max      47.850000  122392.000000  "
      ]
     },
     "execution_count": 26,
     "metadata": {},
     "output_type": "execute_result"
    }
   ],
   "source": [
    "# Example:\n",
    "results.describe()"
   ]
  },
  {
   "cell_type": "markdown",
   "id": "16922754-aecf-4d2e-be06-560d6672652c",
   "metadata": {},
   "source": [
    "4. `fillna()`: This function is used to fill missing values in the DataFrame with a specified value or using various filling strategies such as forward fill or backward fill. It helps handle missing data effectively."
   ]
  },
  {
   "cell_type": "markdown",
   "id": "48be02c7-cb5f-4aba-9ad3-9ade4823591a",
   "metadata": {},
   "source": [
    "___"
   ]
  },
  {
   "cell_type": "markdown",
   "id": "b856f472-912e-466d-aa8c-8950bf053d4f",
   "metadata": {},
   "source": [
    "#### Q6. Which of the following is mutable in nature Series, DataFrame, Panel?\n",
    "\n",
    "Both Series and DataFrame are mutable in nature, \n",
    "\n",
    "___"
   ]
  },
  {
   "cell_type": "markdown",
   "id": "9641a99b-2a16-42d3-be4f-95671179b05b",
   "metadata": {},
   "source": [
    "#### Q7. Create a DataFrame using multiple Series. Explain with an example."
   ]
  },
  {
   "cell_type": "code",
   "execution_count": 33,
   "id": "6d8a2994-41c4-4ae9-89bf-d86d449fbe5c",
   "metadata": {},
   "outputs": [
    {
     "data": {
      "text/html": [
       "<div>\n",
       "<style scoped>\n",
       "    .dataframe tbody tr th:only-of-type {\n",
       "        vertical-align: middle;\n",
       "    }\n",
       "\n",
       "    .dataframe tbody tr th {\n",
       "        vertical-align: top;\n",
       "    }\n",
       "\n",
       "    .dataframe thead th {\n",
       "        text-align: right;\n",
       "    }\n",
       "</style>\n",
       "<table border=\"1\" class=\"dataframe\">\n",
       "  <thead>\n",
       "    <tr style=\"text-align: right;\">\n",
       "      <th></th>\n",
       "      <th>Name</th>\n",
       "      <th>Age</th>\n",
       "      <th>City</th>\n",
       "      <th>Salary</th>\n",
       "    </tr>\n",
       "  </thead>\n",
       "  <tbody>\n",
       "    <tr>\n",
       "      <th>0</th>\n",
       "      <td>Alice</td>\n",
       "      <td>25</td>\n",
       "      <td>New York</td>\n",
       "      <td>2000</td>\n",
       "    </tr>\n",
       "    <tr>\n",
       "      <th>1</th>\n",
       "      <td>Bob</td>\n",
       "      <td>30</td>\n",
       "      <td>London</td>\n",
       "      <td>2700</td>\n",
       "    </tr>\n",
       "    <tr>\n",
       "      <th>2</th>\n",
       "      <td>Charlie</td>\n",
       "      <td>35</td>\n",
       "      <td>Paris</td>\n",
       "      <td>2800</td>\n",
       "    </tr>\n",
       "    <tr>\n",
       "      <th>3</th>\n",
       "      <td>David</td>\n",
       "      <td>40</td>\n",
       "      <td>Tokyo</td>\n",
       "      <td>3000</td>\n",
       "    </tr>\n",
       "  </tbody>\n",
       "</table>\n",
       "</div>"
      ],
      "text/plain": [
       "      Name  Age      City  Salary\n",
       "0    Alice   25  New York    2000\n",
       "1      Bob   30    London    2700\n",
       "2  Charlie   35     Paris    2800\n",
       "3    David   40     Tokyo    3000"
      ]
     },
     "execution_count": 33,
     "metadata": {},
     "output_type": "execute_result"
    }
   ],
   "source": [
    "# Creating multiple Series\n",
    "name_series = pd.Series(['Alice', 'Bob', 'Charlie', 'David'])\n",
    "age_series = pd.Series([25, 30, 35, 40])\n",
    "city_series = pd.Series(['New York', 'London', 'Paris', 'Tokyo'])\n",
    "salary_series = pd.Series([2000, 2700, 2800, 3000])\n",
    "\n",
    "# Createing a Dataframe from above seires\n",
    "random_users = pd.DataFrame({\n",
    "    'Name' : name_series,\n",
    "    'Age' : age_series,\n",
    "    'City' : city_series,\n",
    "    'Salary' : salary_series\n",
    "})\n",
    "\n",
    "random_users"
   ]
  },
  {
   "cell_type": "markdown",
   "id": "86dce059-ad8d-4349-b650-59816ce7991f",
   "metadata": {},
   "source": [
    "___"
   ]
  }
 ],
 "metadata": {
  "kernelspec": {
   "display_name": "Python 3 (ipykernel)",
   "language": "python",
   "name": "python3"
  },
  "language_info": {
   "codemirror_mode": {
    "name": "ipython",
    "version": 3
   },
   "file_extension": ".py",
   "mimetype": "text/x-python",
   "name": "python",
   "nbconvert_exporter": "python",
   "pygments_lexer": "ipython3",
   "version": "3.10.8"
  }
 },
 "nbformat": 4,
 "nbformat_minor": 5
}
