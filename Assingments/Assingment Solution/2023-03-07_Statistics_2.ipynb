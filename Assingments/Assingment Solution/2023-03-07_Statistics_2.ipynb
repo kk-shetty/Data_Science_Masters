{
 "cells": [
  {
   "cell_type": "markdown",
   "metadata": {},
   "source": [
    "#### Q1.What are the three measures of central tendency?\n",
    "\n",
    "The three **measure of central tendency** are:\n",
    "1. mean\n",
    "2. median \n",
    "3. mode\n",
    "___"
   ]
  },
  {
   "cell_type": "markdown",
   "metadata": {},
   "source": [
    "#### Q2. What is the difference between the mean, median, and mode? How are they used to measure the central tendency of a dataset?\n",
    "\n",
    "|mean|median|mode|\n",
    "|:--:|:----:|:--:|\n",
    "|mean() gives the ovrall average of data|median() gives information about the middle element|mode() helps us understand which element has repeated more freaquntly|\n",
    "|mean will take all the data set so it will have highest impact by outliers|since median is only about middle element, outlier will not have much impact on it|There will be no impact on mode from outliers|\n",
    "|central tendency by average|central tendency by middle element (50%)|central tendency by freaquency of elements|\n",
    "\n",
    "___"
   ]
  },
  {
   "cell_type": "markdown",
   "metadata": {},
   "source": [
    "#### Q3. Measure the three measures of central tendency for the given height data:\n",
    "```py\n",
    "[178,177,176,177,178.2,178,175,179,180,175,178.9,176.2,177,172.5,178,176.5]\n",
    "```"
   ]
  },
  {
   "cell_type": "code",
   "execution_count": 19,
   "metadata": {},
   "outputs": [
    {
     "name": "stdout",
     "output_type": "stream",
     "text": [
      "mean() : 177.01875\n",
      "median() : 177.0\n",
      "mode() : [177.0, 178.0]\n"
     ]
    }
   ],
   "source": [
    "import pandas as pd\n",
    "arr = [178, 177, 176, 177, 178.2, 178, 175, 179, 180, 175, 178.9, 176.2, 177, 172.5, 178, 176.5]\n",
    "data = pd.Series(arr)\n",
    "mean = data.mean()\n",
    "median = data.median()\n",
    "# Since there can be multiple modes, converting datframe to list to display it properly\n",
    "mode = list(data.mode())\n",
    "\n",
    "print(f\"mean() : {mean}\\nmedian() : {median}\\nmode() : {mode}\")"
   ]
  },
  {
   "cell_type": "markdown",
   "metadata": {},
   "source": [
    "___"
   ]
  },
  {
   "cell_type": "markdown",
   "metadata": {},
   "source": [
    "#### Q4. Find the standard deviation for the given data:\n",
    "```py\n",
    "[178,177,176,177,178.2,178,175,179,180,175,178.9,176.2,177,172.5,178,176.5]\n",
    "```"
   ]
  },
  {
   "cell_type": "code",
   "execution_count": 20,
   "metadata": {},
   "outputs": [
    {
     "name": "stdout",
     "output_type": "stream",
     "text": [
      "Standard Deviation (σ) = 1.847238930584419\n"
     ]
    }
   ],
   "source": [
    "arr = [178, 177, 176, 177, 178.2, 178, 175, 179, 180, 175, 178.9, 176.2, 177, 172.5, 178, 176.5]\n",
    "data = pd.Series(arr)\n",
    "standard_dev = data.std()\n",
    "print(f\"Standard Deviation (σ) = {standard_dev}\")"
   ]
  },
  {
   "cell_type": "markdown",
   "metadata": {},
   "source": [
    "___"
   ]
  },
  {
   "cell_type": "markdown",
   "metadata": {},
   "source": [
    "#### Q5. How are measures of dispersion such as range, variance, and standard deviation used to describe the spread of a dataset? Provide an example.\n",
    "\n",
    "**Measures of dispersion**, such as `range`, `variance`, and `standard deviation`, are used to quantify the spread or dispersion of data points within a dataset. They provide valuable information about how the data values are distributed around the central tendency (mean, median, etc.) and how much they deviate from each other. These measures help us understand the variability and spread of the data, which is crucial in statistical analysis and data interpretation.\n",
    "\n",
    "1. **`range`**: The range is the simplest measure of dispersion and represents the difference between the maximum and minimum values in a dataset. It gives an idea of the spread of the data over the entire range.\n",
    "2. **`variance`**: Variance measures the average of the squared differences from the mean. It indicates how much the data points deviate from the mean value. A higher variance implies more spread or dispersion in the data.\n",
    "3. **`standard deviation`**: Standard deviation is the square root of the variance. It represents the average amount of deviation of data points from the mean. A higher standard deviation indicates more dispersion in the data.\n",
    "\n",
    "**Example**: Lets consider two planes with 20 people each. Plane A have passenger from all age groups where as plane B has professional football players. The weights of individual on both planes are like below.\n",
    "\n",
    "* plane_a = [30, 50, 10, 80, 90, 45, 60, 100, 90, 80, 40, 15, 55, 50, 75, 80, 60, 40, 95, 90]\n",
    "* plane_b = [65, 56, 74, 65, 60, 64, 75, 54, 61, 68, 61, 66, 66, 63, 56, 70, 58, 43, 56, 61]\n",
    "\n",
    "||Sum|Mean|\n",
    "|-|--|----|\n",
    "|plane A|1235|61.75|\n",
    "|plane B|1242|62.1|\n",
    "\n",
    "Eventhough the sum and mean weight of passengers on both planes are similar, the spred of weight is different. \n",
    "\n",
    "1. `range`: \n",
    "* plane A -> ``` 100 - 10 = 90 ```\n",
    "* plane B -> ``` 74 - 43 = 31 ```\n",
    "\n",
    "2. `variance`:\n",
    "* plane B -> ``` 678.1875 ```\n",
    "* plane A -> ``` 51.19 ```\n",
    "\n",
    "3. `Standard Deviation`:\n",
    "* plane B -> ``` 26.04 ```\n",
    "* plane A -> ``` 7.15 ```\n",
    "\n",
    "From the above example it's clear that wights on Plane A is spread across when compared to weights on Plane B which is more uniform.\n",
    "___\n",
    "\n"
   ]
  },
  {
   "cell_type": "markdown",
   "metadata": {},
   "source": [
    "#### Q6. What is a Venn diagram?\n",
    "\n",
    "* A **Venn diagram** is a graphical representation used to show the relationships between different sets or groups of items. \n",
    "* Venn diagrams consist of *overlapping circles* (or other shapes) that visually depict the common and unique elements among the sets being compared.\n",
    "* In a Venn diagram, each circle represents a set, and the overlapping regions represent the elements that are common to both sets. \n",
    "* The non-overlapping areas within each circle represent the elements unique to that particular set.\n",
    "___"
   ]
  },
  {
   "cell_type": "markdown",
   "metadata": {},
   "source": [
    "#### Q7. For the two given sets A = (2,3,4,5,6,7) & B = (0,2,6,8,10). Find:\n",
    "1. A ∩ B\n",
    "2. A ∪ B\n",
    "\n",
    "**Given**:\n",
    "```py\n",
    "A = (2,3,4,5,6,7)\n",
    "B = (0,2,6,8,10)\n",
    "\n",
    "A ∩ B = (2,6)\n",
    "A ∪ B = (2,3,4,5,6,7,0,8,10)\n",
    "```\n",
    "___"
   ]
  },
  {
   "cell_type": "markdown",
   "metadata": {},
   "source": [
    "#### Q8. What do you understand about skewness in data?\n",
    "\n",
    "* **Skewness** is a statistical measure that quantifies the asymmetry of the probability distribution of a dataset. It provides valuable information about the shape and symmetry of the data distribution.\n",
    "* Skewness is typically used in the context of univariate data, where we are analyzing the distribution of a single variable. \n",
    "* There are two main types of skewness:\n",
    "1. **`Positive Skewness (Right Skewness)`**:\n",
    "* In a positively skewed distribution, the tail on the right-hand side of the distribution is longer or more spread out than the left-hand side.\n",
    "* The majority of the data is concentrated on the left side, and the right tail is stretched out, resulting in a long tail on the positive side of the distribution.\n",
    "* The mean is typically larger than the median, and the mode may be the smallest value in the dataset.\n",
    "2. **`Negative Skewness (Left Skewness)`**:\n",
    "* In a negatively skewed distribution, the tail on the left-hand side of the distribution is longer than the left-hand side.\n",
    "* The majority of the data is concentrated on the right side, and the left tail is stretched out, resulting in a long tail on the negative side of the distribution.\n",
    "* The mean is typically smaller than the median, and the mode may be the largest value in the dataset.\n",
    "___\n",
    "\n"
   ]
  },
  {
   "cell_type": "markdown",
   "metadata": {},
   "source": [
    "#### Q9. If a data is right skewed then what will be the position of median with respect to mean?\n",
    "If a data is right skewed:\n",
    "* Most of the data are concentrated on the lef-hand side and the right hand side it stretched.\n",
    "* In this case **median will be less than the mean**\n",
    "___"
   ]
  },
  {
   "cell_type": "markdown",
   "metadata": {},
   "source": [
    "#### Q10. Explain the difference between covariance and correlation. How are these measures used in statistical analysis?\n",
    "\n",
    "**Covariance and correlation** are both measures that describe the relationship between two variables in a dataset. However, they have distinct properties and interpretations:\n",
    "\n",
    "|Covariance|Correlation|\n",
    "|:--------:|:---------:|\n",
    "|Covariance measures the degree to which two variables change together. It indicates the direction of the relationship |Correlation is a standardized measure of the linear relationship between two variables. It quantifies the strength and direction of the linear association between them.|\n",
    "|A positive covariance means that when one variable increases, the other tends to increase as well, and when one decreases, the other tends to decrease. A negative covariance means that when one variable increases, the other tends to decrease and vice versa.|Correlation always takes values between -1 and 1. A correlation coefficient of +1 indicates a perfect positive linear relationship, -1 indicates a perfect negative linear relationship, and 0 indicates no linear relationship.|\n",
    "|The magnitude of the covariance is not standardized, so it can take on any value.| Correlation coefficient (**r**) normalizes the covariance by dividing it by the product of the standard deviations of the two variables.|\n",
    "|``` Cov(X, Y) = Σ [(Xi - X̄) * (Yi - Ȳ)] / (n - 1) ```|```r = Cov(X, Y) / (σX * σY)```|\n",
    "\n",
    "**How they are used in statistical analysis:**\n",
    "1. **`Covariance`**:\n",
    "* Covariance is used in various statistical methods, such as calculating the variance of a linear combination of variables.\n",
    "* However, since the covariance's magnitude is not standardized, it can be challenging to compare the strength of the relationship between different pairs of variables.\n",
    "2. **`Correlation`**:\n",
    "* Correlation is widely used to understand the strength and direction of the linear relationship between two variables.\n",
    "* In data exploration, correlation matrices help identify which variables are strongly related to each other.\n",
    "* In linear regression, correlation is used to assess multicollinearity, a situation where two or more predictors are highly correlated.\n",
    "___"
   ]
  },
  {
   "cell_type": "markdown",
   "metadata": {},
   "source": [
    "#### Q11. What is the formula for calculating the sample mean? Provide an example calculation for a dataset.\n",
    "\n",
    "The **sample mean** (*x̄*) is the average value of a dataset. It is calculated by summing up all the data points in the dataset and then dividing by the number of data points. The formula for the sample mean is as follows:\n",
    "```\n",
    "Sample Mean (x̄) = (Sum of all data points) / (Number of data points)\n",
    "```\n",
    "\n",
    "**Example**:\n",
    "\n",
    "* Sample dataset : [10, 15, 20, 25, 30]\n",
    "* Sum of all data points = 100\n",
    "* Number of data points = 5\n",
    "* => **`x̄ = 100/5 = 20`**\n",
    "___"
   ]
  },
  {
   "cell_type": "markdown",
   "metadata": {},
   "source": [
    "#### Q12. For a normal distribution data what is the relationship between its measure of central tendency?\n",
    "\n",
    "* **Normal Distribution or Gaussina Distribution** is a symmetrical distribution where data is equally spread on both sides.\n",
    "* So, in a normal distribution all it's Central tendancy should be perfectly equal. i.e. `mean, median and mode should all be perfectly at the center`\n",
    "___"
   ]
  },
  {
   "cell_type": "markdown",
   "metadata": {},
   "source": [
    "#### Q13. How is covariance different from correlation?\n",
    "\n",
    "|Covariance|Correlation|\n",
    "|:--------:|:---------:|\n",
    "|Covariance measures the degree to which two variables change together. It indicates the direction of the relationship |Correlation is a standardized measure of the linear relationship between two variables. It quantifies the strength and direction of the linear association between them.|\n",
    "|A positive covariance means that when one variable increases, the other tends to increase as well, and when one decreases, the other tends to decrease. A negative covariance means that when one variable increases, the other tends to decrease and vice versa.|Correlation always takes values between -1 and 1. A correlation coefficient of +1 indicates a perfect positive linear relationship, -1 indicates a perfect negative linear relationship, and 0 indicates no linear relationship.|\n",
    "|The magnitude of the covariance is not standardized, so it can take on any value.| Correlation coefficient (**r**) normalizes the covariance by dividing it by the product of the standard deviations of the two variables.|\n",
    "|``` Cov(X, Y) = Σ [(Xi - X̄) * (Yi - Ȳ)] / (n - 1) ```|```r = Cov(X, Y) / (σX * σY)```|\n",
    "___"
   ]
  },
  {
   "cell_type": "markdown",
   "metadata": {},
   "source": [
    "#### Q14. How do outliers affect measures of central tendency and dispersion? Provide an example.\n",
    "\n",
    "**Outliers** are data points that significantly deviate from the majority of the data in a dataset. Outliers can cause these measures to be skewed or distorted, leading to potentially misleading interpretations of the data.\n",
    "\n",
    "Consider the following dataset of exam scores (out of 100) for a class of 10 students:\n",
    "\n",
    "* `[72, 78, 84, 85, 88, 92, 94, 94, 96, 98, 100]`\n",
    "\n",
    "Now, let's introduce an outlier of *150* in the dataset:\n",
    "\n",
    "* `[72, 78, 84, 85, 88, 92, 94, 94, 96, 98, 100, 150]`\n",
    "\n",
    "**`Effect on Measures of Central Tendency`:**\n",
    "\n",
    "1. **Mean**:\n",
    "* The mean is sensitive to outliers because it takes into account all data points. A single extreme value can pull the mean towards it, resulting in a value that does not represent the typical or central value of the majority of the data.\n",
    "* The mean without the outlier = `89.18`.\n",
    "* With the outlier, the mean becomes `94.25`\n",
    "\n",
    "2. **Median**:\n",
    "* The median is less affected by outliers because it is the middle value when the data is sorted.\n",
    "* Median without outlier = `92`\n",
    "* Median after outlier = `93`\n",
    "\n",
    "3. **Mode**:\n",
    "* The mode is generally not impacted by outliers since it represents the most frequently occurring value in the dataset.\n",
    "* The mode remains the same at `94` even after outlier.\n",
    "\n",
    "**`Effect on Measures of Dispersion`:**\n",
    "\n",
    "1. **Range**:\n",
    "* The range is sensitive to outliers because it is the difference between the maximum and minimum values. A single outlier can significantly increase or decrease the range.\n",
    "* Range without outlier = `28`\n",
    "* Range with outlier = `78`\n",
    "\n",
    "2. **Variance and Standard Deviation**:\n",
    "* Both variance and standard deviation are sensitive to outliers because they involve squaring the differences between data points and the mean. Outliers with large deviations from the mean can greatly influence these measures, making them larger than they would be without outliers.\n",
    "* Standard Deviation without outlier = `8.72`\n",
    "* Standard Deviation with outlier = `19.428`\n",
    "___"
   ]
  }
 ],
 "metadata": {
  "kernelspec": {
   "display_name": "Python 3",
   "language": "python",
   "name": "python3"
  },
  "language_info": {
   "codemirror_mode": {
    "name": "ipython",
    "version": 3
   },
   "file_extension": ".py",
   "mimetype": "text/x-python",
   "name": "python",
   "nbconvert_exporter": "python",
   "pygments_lexer": "ipython3",
   "version": "3.11.4"
  },
  "orig_nbformat": 4
 },
 "nbformat": 4,
 "nbformat_minor": 2
}
