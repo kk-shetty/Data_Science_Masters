{
 "cells": [
  {
   "cell_type": "markdown",
   "id": "9bd48d42-93e0-4016-ab74-03f72f75b3ed",
   "metadata": {},
   "source": [
    "#### Loging and Debug"
   ]
  },
  {
   "cell_type": "code",
   "execution_count": 4,
   "id": "b4158bb7-114c-4d17-b6ec-b3fcf4859336",
   "metadata": {},
   "outputs": [],
   "source": [
    "import logging"
   ]
  },
  {
   "cell_type": "code",
   "execution_count": 2,
   "id": "8936baf8-eabb-45d1-a966-13a8492aa6b6",
   "metadata": {},
   "outputs": [],
   "source": [
    "logging.basicConfig(filename = \"daily_log.log\", level = logging.DEBUG, format = '%(asctime)s %(message)s')"
   ]
  },
  {
   "cell_type": "code",
   "execution_count": 3,
   "id": "63359715-f800-4c1d-a61e-a852f4f95ef7",
   "metadata": {},
   "outputs": [],
   "source": [
    "logging.info(\"Testing the logs\")"
   ]
  },
  {
   "cell_type": "code",
   "execution_count": 5,
   "id": "627f2a4e-4b30-4475-ad41-9872cc2f90be",
   "metadata": {},
   "outputs": [],
   "source": [
    "logging.basicConfig(filename = \"daily_log.log\", level = logging.DEBUG, format = '%(asctime)s | %(name)s | %(levelname)s | %(message)s')"
   ]
  },
  {
   "cell_type": "code",
   "execution_count": 5,
   "id": "426d186b-7a98-4255-a1be-f45186fcf829",
   "metadata": {},
   "outputs": [],
   "source": [
    "logging.info(\"Changed logging format\")"
   ]
  },
  {
   "cell_type": "code",
   "execution_count": 6,
   "id": "eba3f058-7134-45ad-a657-f71eee0d9292",
   "metadata": {},
   "outputs": [],
   "source": [
    "logging.shutdown()"
   ]
  },
  {
   "cell_type": "code",
   "execution_count": 2,
   "id": "298d252d-ae87-4d68-aef7-a1bce5738157",
   "metadata": {},
   "outputs": [],
   "source": [
    "logging.basicConfig(filename = \"daily_log.log\", level = logging.DEBUG, format = '%(asctime)s | %(name)s | %(levelname)s | %(message)s')"
   ]
  },
  {
   "cell_type": "code",
   "execution_count": 3,
   "id": "b752e8d2-2351-43d1-9b7f-a64637090075",
   "metadata": {},
   "outputs": [],
   "source": [
    "logging.info(\"Checking logging after shutdown and restart\")"
   ]
  },
  {
   "cell_type": "markdown",
   "id": "45749458-785b-4dd5-92d5-94370c899f50",
   "metadata": {},
   "source": [
    "#### Exception handling with Try-Except"
   ]
  },
  {
   "cell_type": "code",
   "execution_count": 20,
   "id": "e4f33fea-6a39-4c70-bafa-b063d5f333a3",
   "metadata": {},
   "outputs": [],
   "source": [
    "def read_file(file_name):\n",
    "    try:\n",
    "        logging.info(\"Started reading file\")\n",
    "        with open(file_name, \"r\") as file:\n",
    "            content = file.readlines()\n",
    "    except FileNotFoundError as e:\n",
    "        logging.error(f\"{file_name} - No such file found\")\n",
    "    else:\n",
    "        logging.info(f\"{len(content)} lines read from file {file_name}\")\n",
    "        for line in content:\n",
    "            print(line)\n",
    "    finally:\n",
    "        logging.info(\"reading from file completed\")"
   ]
  },
  {
   "cell_type": "code",
   "execution_count": 21,
   "id": "862323ec-d48f-4898-9e0e-3d85b03f2e00",
   "metadata": {},
   "outputs": [],
   "source": [
    "read_file(\"sample.file\")"
   ]
  },
  {
   "cell_type": "code",
   "execution_count": 22,
   "id": "7e004600-3f81-4f8b-9bc5-27b4580c53c5",
   "metadata": {},
   "outputs": [
    {
     "name": "stdout",
     "output_type": "stream",
     "text": [
      "2023-06-25 07:05:52,265 | root | INFO | Checking logging after shutdown and restart\n",
      "\n",
      "2023-06-25 07:29:33,943 | root | INFO | Started reading file\n",
      "\n",
      "2023-06-25 07:29:33,944 | root | INFO | reading from file completed\n",
      "\n",
      "2023-06-25 07:31:03,419 | root | INFO | Started reading file\n",
      "\n",
      "2023-06-25 07:31:03,419 | root | ERROR | sample.file - No such file found\n",
      "\n",
      "2023-06-25 07:31:03,419 | root | INFO | reading from file completed\n",
      "\n",
      "2023-06-25 07:31:53,157 | root | INFO | Started reading file\n",
      "\n",
      "2023-06-25 07:31:53,158 | root | INFO | reading from file completed\n",
      "\n",
      "2023-06-25 07:32:38,764 | root | INFO | Started reading file\n",
      "\n",
      "2023-06-25 07:32:38,765 | root | INFO | reading from file completed\n",
      "\n",
      "2023-06-25 07:33:14,508 | root | INFO | Started reading file\n",
      "\n",
      "2023-06-25 07:33:14,508 | root | INFO | reading from file completed\n",
      "\n",
      "2023-06-25 07:33:43,097 | root | INFO | Started reading file\n",
      "\n",
      "2023-06-25 07:33:43,097 | root | ERROR | sample.file - No such file found\n",
      "\n",
      "2023-06-25 07:33:43,097 | root | INFO | reading from file completed\n",
      "\n",
      "2023-06-25 07:33:44,629 | root | INFO | Started reading file\n",
      "\n"
     ]
    }
   ],
   "source": [
    "read_file(\"daily_log.log\")"
   ]
  },
  {
   "cell_type": "code",
   "execution_count": 23,
   "id": "83225b96-d47e-48f5-977a-97691beaeb3e",
   "metadata": {},
   "outputs": [
    {
     "ename": "UnsupportedOperation",
     "evalue": "not writable",
     "output_type": "error",
     "traceback": [
      "\u001b[0;31m---------------------------------------------------------------------------\u001b[0m",
      "\u001b[0;31mUnsupportedOperation\u001b[0m                      Traceback (most recent call last)",
      "Cell \u001b[0;32mIn[23], line 2\u001b[0m\n\u001b[1;32m      1\u001b[0m \u001b[38;5;28;01mwith\u001b[39;00m \u001b[38;5;28mopen\u001b[39m(\u001b[38;5;124m\"\u001b[39m\u001b[38;5;124mdaily_log.log\u001b[39m\u001b[38;5;124m\"\u001b[39m, \u001b[38;5;124m\"\u001b[39m\u001b[38;5;124mr\u001b[39m\u001b[38;5;124m\"\u001b[39m) \u001b[38;5;28;01mas\u001b[39;00m file:\n\u001b[0;32m----> 2\u001b[0m     \u001b[43mfile\u001b[49m\u001b[38;5;241;43m.\u001b[39;49m\u001b[43mwrite\u001b[49m\u001b[43m(\u001b[49m\u001b[38;5;124;43m\"\u001b[39;49m\u001b[38;5;124;43mTesting to write to file opend with read mode\u001b[39;49m\u001b[38;5;124;43m\"\u001b[39;49m\u001b[43m)\u001b[49m\n",
      "\u001b[0;31mUnsupportedOperation\u001b[0m: not writable"
     ]
    }
   ],
   "source": [
    "with open(\"daily_log.log\", \"r\") as file:\n",
    "    file.write(\"Testing to write to file opend with read mode\")"
   ]
  },
  {
   "cell_type": "markdown",
   "id": "8d5c8aaf-fd06-4a66-8c9e-a931587bd407",
   "metadata": {},
   "source": [
    "#### Custom Exception"
   ]
  },
  {
   "cell_type": "code",
   "execution_count": 32,
   "id": "a2018c99-9a8f-44a5-8cf0-845ae3826c51",
   "metadata": {},
   "outputs": [],
   "source": [
    "# A custome exception can be created as a class that inherits Exception Class\n",
    "\n",
    "class InvalidAge(Exception):\n",
    "    def __init__(self, error_message):\n",
    "        self.display_message = error_message"
   ]
  },
  {
   "cell_type": "code",
   "execution_count": 33,
   "id": "b30fcef5-8871-46a4-9d84-5d965b869427",
   "metadata": {},
   "outputs": [],
   "source": [
    "def validate_age(age):\n",
    "    try:\n",
    "        if age < 0:\n",
    "            raise InvalidAge(\"Age cannot be nagative\")\n",
    "        elif age > 150:\n",
    "            raise InvalidAge(\"Age looks too high\")\n",
    "    except InvalidAge as e:\n",
    "        print(e)\n",
    "    else:\n",
    "        print(\"Valid Age\")"
   ]
  },
  {
   "cell_type": "code",
   "execution_count": 37,
   "id": "f4a39d61-bcd7-4f7e-bee2-cc4da13210dd",
   "metadata": {},
   "outputs": [
    {
     "name": "stdout",
     "output_type": "stream",
     "text": [
      "Please enter your age 18.98\n"
     ]
    },
    {
     "name": "stdout",
     "output_type": "stream",
     "text": [
      "!!Please enter age in numbers\n"
     ]
    }
   ],
   "source": [
    "try:\n",
    "    user_age = int(input(\"Please enter your age\" ))\n",
    "except ValueError as e:\n",
    "    print(\"!!Please enter age in numbers\")\n",
    "else:\n",
    "    validate_age(user_age)"
   ]
  },
  {
   "cell_type": "code",
   "execution_count": 38,
   "id": "10e81a56-4ab4-4551-ad4a-a1a5f9b2350c",
   "metadata": {},
   "outputs": [
    {
     "ename": "ValueError",
     "evalue": "invalid literal for int() with base 10: '19.8'",
     "output_type": "error",
     "traceback": [
      "\u001b[0;31m---------------------------------------------------------------------------\u001b[0m",
      "\u001b[0;31mValueError\u001b[0m                                Traceback (most recent call last)",
      "Cell \u001b[0;32mIn[38], line 1\u001b[0m\n\u001b[0;32m----> 1\u001b[0m \u001b[38;5;28;43mint\u001b[39;49m\u001b[43m(\u001b[49m\u001b[38;5;124;43m'\u001b[39;49m\u001b[38;5;124;43m19.8\u001b[39;49m\u001b[38;5;124;43m'\u001b[39;49m\u001b[43m)\u001b[49m\n",
      "\u001b[0;31mValueError\u001b[0m: invalid literal for int() with base 10: '19.8'"
     ]
    }
   ],
   "source": [
    "int('19.8')"
   ]
  },
  {
   "cell_type": "code",
   "execution_count": 41,
   "id": "a92e4178-8793-4dc3-be8f-0769dc6f0d9b",
   "metadata": {},
   "outputs": [
    {
     "data": {
      "text/plain": [
       "19"
      ]
     },
     "execution_count": 41,
     "metadata": {},
     "output_type": "execute_result"
    }
   ],
   "source": [
    "int(float('19.9'))"
   ]
  },
  {
   "cell_type": "code",
   "execution_count": 1,
   "id": "1522bced-ceb2-4d40-838b-be662e72816c",
   "metadata": {},
   "outputs": [
    {
     "ename": "NameError",
     "evalue": "name 'a' is not defined",
     "output_type": "error",
     "traceback": [
      "\u001b[0;31m---------------------------------------------------------------------------\u001b[0m",
      "\u001b[0;31mNameError\u001b[0m                                 Traceback (most recent call last)",
      "Cell \u001b[0;32mIn[1], line 1\u001b[0m\n\u001b[0;32m----> 1\u001b[0m \u001b[38;5;28mprint\u001b[39m(\u001b[43ma\u001b[49m)\n",
      "\u001b[0;31mNameError\u001b[0m: name 'a' is not defined"
     ]
    }
   ],
   "source": [
    "print(a)"
   ]
  },
  {
   "cell_type": "code",
   "execution_count": 3,
   "id": "09cb6842",
   "metadata": {},
   "outputs": [
    {
     "ename": "SyntaxError",
     "evalue": "Missing parentheses in call to 'print'. Did you mean print(\"Square=\",R)? (485528807.py, line 4)",
     "output_type": "error",
     "traceback": [
      "\u001b[0;36m  Cell \u001b[0;32mIn[3], line 4\u001b[0;36m\u001b[0m\n\u001b[0;31m    print \"Square=\",R\u001b[0m\n\u001b[0m          ^\u001b[0m\n\u001b[0;31mSyntaxError\u001b[0m\u001b[0;31m:\u001b[0m Missing parentheses in call to 'print'. Did you mean print(\"Square=\",R)?\n"
     ]
    }
   ],
   "source": [
    "X = int(input(\"Enter a Number\")) \n",
    "\n",
    "R = X*X\n",
    "print \"Square=\",R"
   ]
  },
  {
   "cell_type": "code",
   "execution_count": null,
   "id": "45ad747d",
   "metadata": {},
   "outputs": [],
   "source": []
  }
 ],
 "metadata": {
  "kernelspec": {
   "display_name": "Python 3.8.10 64-bit",
   "language": "python",
   "name": "python3"
  },
  "language_info": {
   "codemirror_mode": {
    "name": "ipython",
    "version": 3
   },
   "file_extension": ".py",
   "mimetype": "text/x-python",
   "name": "python",
   "nbconvert_exporter": "python",
   "pygments_lexer": "ipython3",
   "version": "3.8.10"
  },
  "vscode": {
   "interpreter": {
    "hash": "e7370f93d1d0cde622a1f8e1c04877d8463912d04d973331ad4851f04de6915a"
   }
  }
 },
 "nbformat": 4,
 "nbformat_minor": 5
}
