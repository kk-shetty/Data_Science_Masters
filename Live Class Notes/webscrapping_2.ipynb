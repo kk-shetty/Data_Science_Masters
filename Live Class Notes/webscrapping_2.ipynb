{
 "cells": [
  {
   "cell_type": "code",
   "execution_count": 2,
   "id": "f5b392a0-613b-4c8a-bf76-c3fa93d6380f",
   "metadata": {},
   "outputs": [
    {
     "name": "stdout",
     "output_type": "stream",
     "text": [
      "Collecting pymongo\n",
      "  Downloading pymongo-4.4.0-cp310-cp310-manylinux_2_17_x86_64.manylinux2014_x86_64.whl (648 kB)\n",
      "\u001b[2K     \u001b[90m━━━━━━━━━━━━━━━━━━━━━━━━━━━━━━━━━━━━━━\u001b[0m \u001b[32m648.9/648.9 kB\u001b[0m \u001b[31m21.1 MB/s\u001b[0m eta \u001b[36m0:00:00\u001b[0m\n",
      "\u001b[?25hCollecting dnspython<3.0.0,>=1.16.0\n",
      "  Downloading dnspython-2.3.0-py3-none-any.whl (283 kB)\n",
      "\u001b[2K     \u001b[90m━━━━━━━━━━━━━━━━━━━━━━━━━━━━━━━━━━━━━━\u001b[0m \u001b[32m283.7/283.7 kB\u001b[0m \u001b[31m38.7 MB/s\u001b[0m eta \u001b[36m0:00:00\u001b[0m\n",
      "\u001b[?25hInstalling collected packages: dnspython, pymongo\n",
      "Successfully installed dnspython-2.3.0 pymongo-4.4.0\n",
      "Note: you may need to restart the kernel to use updated packages.\n"
     ]
    }
   ],
   "source": [
    "pip install pymongo"
   ]
  },
  {
   "cell_type": "code",
   "execution_count": 6,
   "id": "b831b30c-763e-4282-8298-16b6b90d43df",
   "metadata": {},
   "outputs": [],
   "source": [
    "from urllib.request import urlopen as uReq\n",
    "from bs4 import BeautifulSoup as bs\n",
    "import json\n",
    "import pymongo\n",
    "import logging"
   ]
  },
  {
   "cell_type": "code",
   "execution_count": 7,
   "id": "40c0f4eb-19fa-4f88-9fd0-e0ca96794279",
   "metadata": {},
   "outputs": [],
   "source": [
    "logging.basicConfig(filename=\"scrapper.log\" , level=logging.INFO)"
   ]
  },
  {
   "cell_type": "code",
   "execution_count": 8,
   "id": "03063924-d4e2-40ba-9a55-8ffd72975d24",
   "metadata": {},
   "outputs": [],
   "source": [
    "# setting up url\n",
    "searchString = 'study table'\n",
    "flipkart_url = \"https://www.flipkart.com/search?q=\" + searchString.replace(\" \", \"%20\")"
   ]
  },
  {
   "cell_type": "code",
   "execution_count": 9,
   "id": "bf63cc04-3a8b-4b82-b98a-20773a7716a3",
   "metadata": {},
   "outputs": [],
   "source": [
    "# Open the url, read it into a a local variable and close the connection \n",
    "\n",
    "logging.info(f\"Trying URL Request : {flipkart_url}\")\n",
    "try:\n",
    "    uClient = uReq(flipkart_url)\n",
    "except Exception as e:\n",
    "    logging.info(f\"URL Request : {flipkart_url} - Failed : {uClient}\")\n",
    "else:\n",
    "    search_page = uClient.read()\n",
    "    uClient.close()\n",
    "    logging.info(f\"URL Request : {flipkart_url} - Read and closed succesfully\")"
   ]
  },
  {
   "cell_type": "code",
   "execution_count": 10,
   "id": "2bbdd622-c254-40f7-b0f7-a008407020c3",
   "metadata": {},
   "outputs": [],
   "source": [
    "# Parse the search page results into html parser\n",
    "search_page_html = bs(search_page, \"html.parser\")\n",
    "\n",
    "# All individual items are under div class = _4ddWXP\n",
    "search_items = search_page_html.find_all(\"div\", {\"class\" : \"_4ddWXP\"})\n",
    "# return [] if len(search_items) = 0\n",
    "logging.info(f\"{len(search_items)} items found for {searchString}\")\n",
    "\n",
    "# initialize a list to store all the item details with reviews\n",
    "products_reviews = []\n",
    "# print(len(search_items))\n",
    "\n",
    "# loop through the search items and access individual item titel and url\n",
    "for item in search_items:\n",
    "    item_dict = {}\n",
    "    \n",
    "    try:\n",
    "        item_dict['title'] = item.find_all(\"a\", {\"class\" : \"s1Q9rs\"})[0]['title']\n",
    "    except:\n",
    "        logging.info(item_dict['title'])\n",
    "    \n",
    "    try:\n",
    "        item_dict['href'] = item.find_all(\"a\", {\"class\" : \"s1Q9rs\"})[0]['href']\n",
    "    except:\n",
    "        logging.info(item_dict['href'])\n",
    "        \n",
    "    \n",
    "    # Goto the item URL\n",
    "    item_url = \"https://www.flipkart.com\" + item_dict['href']\n",
    "    try:\n",
    "        logging.info(f\"Trying URL Request : {item_url}\")\n",
    "        itemUCLient = uReq(item_url)\n",
    "    except:\n",
    "        logging.info(item_url)\n",
    "    else:\n",
    "        item_page = itemUCLient.read()\n",
    "        itemUCLient.close()\n",
    "        logging.info(f\"URL Request : {item_url} - Read and closed succesfully\")\n",
    "        \n",
    "    item_page_html = bs(item_page, \"html.parser\")\n",
    "    \n",
    "    try:\n",
    "        original_price = item_page_html.find(\"div\", {\"class\" : \"_3I9_wc _2p6lqe\"}).text\n",
    "    except:\n",
    "        logging.info(original_price)\n",
    "        \n",
    "    try:\n",
    "        selling_price = item_page_html.find(\"div\", {\"class\" : \"_30jeq3 _16Jk6d\"}).text\n",
    "    except:\n",
    "        logging.info(selling_price)\n",
    "    \n",
    "    \n",
    "    \n",
    "    item_dict['price'] = {\"original_price\" : original_price, \"selling_price\" : selling_price}\n",
    "    \n",
    "    review_box = item_page_html.find_all(\"div\", {\"class\" : \"_16PBlm\"})\n",
    "    logging.info(f\"{len(review_box)} reviews found for product - {item_dict['title']}\")\n",
    "    # print(f\"{len(review_box)} reviews\")\n",
    "    # print(review_box[0])\n",
    "    \n",
    "    reviews = []\n",
    "    for user_review in review_box:\n",
    "        try:\n",
    "            user = user_review.find(\"p\", {\"class\" : \"_2sc7ZR _2V5EHH\"}).text\n",
    "        except:\n",
    "            user\n",
    "        try:\n",
    "            rating = user_review.find(\"div\", {\"class\" : \"_3LWZlK _1BLPMq\"}).text\n",
    "        except:\n",
    "            rating\n",
    "        try:\n",
    "            title = user_review.find(\"p\", {\"class\" : \"_2-N8zT\"}).text\n",
    "        except:\n",
    "            title\n",
    "        try:\n",
    "            review = user_review.find(\"div\", {\"class\" : \"t-ZTKy\"}).div.text\n",
    "        except:\n",
    "            review\n",
    "\n",
    "        user_review_dict = {\"user\" : user, \"rating\" : rating, \"title\" : title, \"review\" : review}\n",
    "        reviews.append(user_review_dict)\n",
    "    \n",
    "    item_dict['reviews'] = reviews\n",
    "    products_reviews.append(item_dict)\n",
    "\n",
    "json_file = searchString.replace(\" \", \"_\") + \"flipkart_search\" + \".json\"\n",
    "with open(json_file, \"w\") as json_file:\n",
    "    json.dump(products_reviews, json_file)\n",
    "\n",
    "    \n",
    "\n"
   ]
  },
  {
   "cell_type": "code",
   "execution_count": null,
   "id": "7fe3444b-5487-4f19-b382-d774c6c38f22",
   "metadata": {},
   "outputs": [],
   "source": []
  }
 ],
 "metadata": {
  "kernelspec": {
   "display_name": "Python 3 (ipykernel)",
   "language": "python",
   "name": "python3"
  },
  "language_info": {
   "codemirror_mode": {
    "name": "ipython",
    "version": 3
   },
   "file_extension": ".py",
   "mimetype": "text/x-python",
   "name": "python",
   "nbconvert_exporter": "python",
   "pygments_lexer": "ipython3",
   "version": "3.10.8"
  }
 },
 "nbformat": 4,
 "nbformat_minor": 5
}
