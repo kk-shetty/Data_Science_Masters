{
 "cells": [
  {
   "cell_type": "code",
   "execution_count": 18,
   "metadata": {},
   "outputs": [],
   "source": [
    "#Import threading library\n",
    "\n",
    "import threading"
   ]
  },
  {
   "cell_type": "code",
   "execution_count": 19,
   "metadata": {},
   "outputs": [],
   "source": [
    "# Creating a simple function\n",
    "def use_thread(x):\n",
    "    for i in range(1,6):\n",
    "        print(f'Function with arg {x} : {i}')"
   ]
  },
  {
   "cell_type": "code",
   "execution_count": 20,
   "metadata": {},
   "outputs": [
    {
     "name": "stdout",
     "output_type": "stream",
     "text": [
      "Function with arg 2 : 1\n",
      "Function with arg 2 : 2\n",
      "Function with arg 2 : 3\n",
      "Function with arg 2 : 4\n",
      "Function with arg 2 : 5\n"
     ]
    }
   ],
   "source": [
    "use_thread(2)"
   ]
  },
  {
   "cell_type": "code",
   "execution_count": 21,
   "metadata": {},
   "outputs": [
    {
     "data": {
      "text/plain": [
       "[<Thread(Thread-17, initial)>,\n",
       " <Thread(Thread-18, initial)>,\n",
       " <Thread(Thread-19, initial)>]"
      ]
     },
     "execution_count": 21,
     "metadata": {},
     "output_type": "execute_result"
    }
   ],
   "source": [
    "# creating an instance of threading\n",
    "\n",
    "thread1 = [threading.Thread(target=use_thread, args = (i,)) for i in [12,18,17]]\n",
    "thread1\n"
   ]
  },
  {
   "cell_type": "code",
   "execution_count": 22,
   "metadata": {},
   "outputs": [
    {
     "name": "stdout",
     "output_type": "stream",
     "text": [
      "Function with arg 12 : 1\n",
      "Function with arg 12 : 2\n",
      "Function with arg 12 : 3\n",
      "Function with arg 12 : 4\n",
      "Function with arg 12 : 5\n",
      "Function with arg 18 : 1\n",
      "Function with arg 18 : 2\n",
      "Function with arg 18 : 3\n",
      "Function with arg 18 : 4\n",
      "Function with arg 18 : 5\n",
      "Function with arg 17 : 1\n",
      "Function with arg 17 : 2\n",
      "Function with arg 17 : 3\n",
      "Function with arg 17 : 4\n",
      "Function with arg 17 : 5\n"
     ]
    }
   ],
   "source": [
    "# Executing the thread\n",
    "for thread in thread1:\n",
    "    thread.start()"
   ]
  },
  {
   "cell_type": "code",
   "execution_count": 23,
   "metadata": {},
   "outputs": [],
   "source": [
    "# By using time.sleep, we can allow multiple thread to share resourse efectively\n",
    "import time"
   ]
  },
  {
   "cell_type": "code",
   "execution_count": 24,
   "metadata": {},
   "outputs": [],
   "source": [
    "def test_thread_with_sleep(x):\n",
    "    for i in range(1, 5):\n",
    "        print(f'Printing from function call with args {x} -> {i}')\n",
    "        time.sleep(0.5) # If the execution of current thread doesn't sleep then it will continue first before allowing other thread to start"
   ]
  },
  {
   "cell_type": "code",
   "execution_count": 25,
   "metadata": {},
   "outputs": [
    {
     "data": {
      "text/plain": [
       "[<Thread(Thread-20, initial)>,\n",
       " <Thread(Thread-21, initial)>,\n",
       " <Thread(Thread-22, initial)>]"
      ]
     },
     "execution_count": 25,
     "metadata": {},
     "output_type": "execute_result"
    }
   ],
   "source": [
    "thread2 = [threading.Thread(target = test_thread_with_sleep, args = (i,)) for i in [1, 10, 100]]\n",
    "thread2"
   ]
  },
  {
   "cell_type": "code",
   "execution_count": 26,
   "metadata": {},
   "outputs": [
    {
     "name": "stdout",
     "output_type": "stream",
     "text": [
      "Printing from function call with args 1 -> 1\n",
      "Printing from function call with args 10 -> 1\n",
      "Printing from function call with args 100 -> 1\n"
     ]
    }
   ],
   "source": [
    "for thread in thread2:\n",
    "    thread.start()"
   ]
  },
  {
   "cell_type": "code",
   "execution_count": 27,
   "metadata": {},
   "outputs": [],
   "source": [
    "# Modifying shared variables\n",
    "\n",
    "shared_var = 0\n",
    "lock_var = threading.Lock()\n",
    "\n",
    "def updates_shared_var(x):\n",
    "    global shared_var\n",
    "    with lock_var:\n",
    "        shared_var += x\n",
    "        print(f\"value of shared_var : {shared_var}\")"
   ]
  },
  {
   "cell_type": "code",
   "execution_count": 28,
   "metadata": {},
   "outputs": [
    {
     "data": {
      "text/plain": [
       "[<Thread(Thread-23, initial)>,\n",
       " <Thread(Thread-24, initial)>,\n",
       " <Thread(Thread-25, initial)>,\n",
       " <Thread(Thread-26, initial)>]"
      ]
     },
     "execution_count": 28,
     "metadata": {},
     "output_type": "execute_result"
    }
   ],
   "source": [
    "thread3 = [threading.Thread(target = updates_shared_var, args = (i,)) for i in range(1,5)]\n",
    "thread3"
   ]
  },
  {
   "cell_type": "code",
   "execution_count": 29,
   "metadata": {},
   "outputs": [
    {
     "name": "stdout",
     "output_type": "stream",
     "text": [
      "value of shared_var : 1\n",
      "value of shared_var : 3\n",
      "value of shared_var : 6\n",
      "value of shared_var : 10\n"
     ]
    }
   ],
   "source": [
    "for thread in thread3:\n",
    "    thread.start()"
   ]
  },
  {
   "cell_type": "code",
   "execution_count": 30,
   "metadata": {},
   "outputs": [],
   "source": [
    "# Fetching data from URL - import urllib.request module\n",
    "\n",
    "import urllib.request"
   ]
  },
  {
   "cell_type": "code",
   "execution_count": 31,
   "metadata": {},
   "outputs": [],
   "source": [
    "# Defining a fuction to download from url into file\n",
    "def download_to_file(url, file_name):\n",
    "    urllib.request.urlretrieve(url, file_name)"
   ]
  },
  {
   "cell_type": "code",
   "execution_count": 32,
   "metadata": {},
   "outputs": [],
   "source": [
    "url_list = ['https://www.york.ac.uk/teaching/cws/wws/webpage1.html', 'http://www.columbia.edu/~fdc/sample.html', 'https://motherfuckingwebsite.com/']\n",
    "file_name_list = ['york.txt', 'columbia.txt', 'random.txt']"
   ]
  },
  {
   "cell_type": "code",
   "execution_count": 33,
   "metadata": {},
   "outputs": [
    {
     "name": "stdout",
     "output_type": "stream",
     "text": [
      "Printing from function call with args 1 -> 2\n",
      "Printing from function call with args 10 -> 2\n",
      "Printing from function call with args 100 -> 2\n"
     ]
    },
    {
     "data": {
      "text/plain": [
       "[<Thread(Thread-27, initial)>,\n",
       " <Thread(Thread-28, initial)>,\n",
       " <Thread(Thread-29, initial)>]"
      ]
     },
     "execution_count": 33,
     "metadata": {},
     "output_type": "execute_result"
    }
   ],
   "source": [
    "thread4 = [threading.Thread(target = download_to_file, args = (url_list[i], file_name_list[i])) for i in range(len(url_list))]\n",
    "thread4"
   ]
  },
  {
   "cell_type": "code",
   "execution_count": 34,
   "metadata": {},
   "outputs": [],
   "source": [
    "for thread in thread4:\n",
    "    thread.start()"
   ]
  },
  {
   "cell_type": "code",
   "execution_count": null,
   "metadata": {},
   "outputs": [],
   "source": []
  }
 ],
 "metadata": {
  "kernelspec": {
   "display_name": "Python 3.8.10 64-bit",
   "language": "python",
   "name": "python3"
  },
  "language_info": {
   "codemirror_mode": {
    "name": "ipython",
    "version": 3
   },
   "file_extension": ".py",
   "mimetype": "text/x-python",
   "name": "python",
   "nbconvert_exporter": "python",
   "pygments_lexer": "ipython3",
   "version": "3.8.10"
  },
  "orig_nbformat": 4,
  "vscode": {
   "interpreter": {
    "hash": "e7370f93d1d0cde622a1f8e1c04877d8463912d04d973331ad4851f04de6915a"
   }
  }
 },
 "nbformat": 4,
 "nbformat_minor": 2
}
