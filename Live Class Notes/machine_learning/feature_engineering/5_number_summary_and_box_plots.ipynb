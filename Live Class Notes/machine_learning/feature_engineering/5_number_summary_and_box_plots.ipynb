{
 "cells": [
  {
   "cell_type": "markdown",
   "metadata": {},
   "source": [
    "#### 5 number summary and box plots\n",
    "* To find outliers in our data set"
   ]
  },
  {
   "cell_type": "markdown",
   "metadata": {},
   "source": [
    "1. Minimum\n",
    "2. First Quartile (25 percentile) - Q1\n",
    "3. Median\n",
    "4. Third Quartile (75 percentile) - Q3\n",
    "5. Maximum (Excluding outlier)"
   ]
  },
  {
   "cell_type": "markdown",
   "metadata": {},
   "source": [
    "##### Finding the outliers\n",
    "\n",
    "* Lower fence = Q1 - 1.5(IQR) { IQR = Inter Quartile Range}\n",
    "* Higher fence = Q3 + 1.5(IQR)\n",
    "* IQR = Q3 - Q1"
   ]
  },
  {
   "cell_type": "markdown",
   "metadata": {},
   "source": [
    "##### Internal Assingment\n",
    "Y = {-13, -12, -5, -6, 3, 4, 5, 6,7, 7, 8, 10, 10, 11, 55}"
   ]
  },
  {
   "cell_type": "markdown",
   "metadata": {},
   "source": [
    "1. Q1 = -6\n",
    "2. median = 6\n",
    "3. Q3 = 10\n",
    "\n",
    "* Lower fence = -6 - (1.5 * (10 - (-6))) = -6 - (1.5 * 16) = -6 - 24 = -30\n",
    "* Upper fence = 10 + (1.5 * (10 - (-6))) = 10 + 24 = 34\n",
    "\n",
    "* minimum = -13\n",
    "* maximum = 11"
   ]
  }
 ],
 "metadata": {
  "kernelspec": {
   "display_name": "Python 3",
   "language": "python",
   "name": "python3"
  },
  "language_info": {
   "codemirror_mode": {
    "name": "ipython",
    "version": 3
   },
   "file_extension": ".py",
   "mimetype": "text/x-python",
   "name": "python",
   "nbconvert_exporter": "python",
   "pygments_lexer": "ipython3",
   "version": "3.11.4"
  },
  "orig_nbformat": 4
 },
 "nbformat": 4,
 "nbformat_minor": 2
}
