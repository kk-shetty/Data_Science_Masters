{
 "cells": [
  {
   "cell_type": "markdown",
   "metadata": {},
   "source": [
    "#### Percentiles and Quartiles"
   ]
  },
  {
   "cell_type": "markdown",
   "metadata": {},
   "source": [
    "##### 1. Percentile:\n",
    "* A percentile is a value below which a certain percentage or observations or data points lie.\n",
    "* Example: *75 Percentile* - 75% of the entire distribution fall below the *75 percentile* value"
   ]
  },
  {
   "cell_type": "markdown",
   "metadata": {},
   "source": [
    "##### 2. Quartile\n",
    "* Q1 -> 25 percentile\n",
    "* Q2 -> Median\n",
    "* Q3 -> 75 Percentile"
   ]
  },
  {
   "cell_type": "code",
   "execution_count": null,
   "metadata": {},
   "outputs": [],
   "source": []
  }
 ],
 "metadata": {
  "language_info": {
   "name": "python"
  },
  "orig_nbformat": 4
 },
 "nbformat": 4,
 "nbformat_minor": 2
}
