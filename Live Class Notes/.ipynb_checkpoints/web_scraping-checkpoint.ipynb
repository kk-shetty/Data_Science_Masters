{
 "cells": [
  {
   "cell_type": "code",
   "execution_count": 23,
   "id": "0863d7d5-09b3-4ffb-bc22-e0e606465de7",
   "metadata": {},
   "outputs": [],
   "source": [
    "# from urllib.request import urlopen # This library is used to open a URL\n",
    "from bs4 import BeautifulSoup as bs # This library helps parse the html files \n",
    "import requests\n"
   ]
  },
  {
   "cell_type": "code",
   "execution_count": 24,
   "id": "e54d0c74-9fa0-49cb-9f3f-66a447f6d5af",
   "metadata": {},
   "outputs": [],
   "source": [
    "base_url = \"https://www.flipkart.com\"\n",
    "search = \"/search?q=mechanical%20wireless%20keyboard\""
   ]
  },
  {
   "cell_type": "code",
   "execution_count": 25,
   "id": "06a30c14-d3a5-42b2-b455-6f6f9572cafb",
   "metadata": {},
   "outputs": [],
   "source": [
    "# Define headers\n",
    "\n",
    "HEADERS = ({'User-Agent':\n",
    "            'Mozilla/5.0 (Windows NT 10.0; Win64; x64) \\\n",
    "            AppleWebKit/537.36 (KHTML, like Gecko) \\\n",
    "            Chrome/90.0.4430.212 Safari/537.36',\n",
    "            'Accept-Language': 'en-US, en;q=0.5'})"
   ]
  },
  {
   "cell_type": "code",
   "execution_count": 26,
   "id": "644b4536-a388-483d-9647-9328d6b387c6",
   "metadata": {},
   "outputs": [],
   "source": [
    "# url_client = urlopen(base_url+search, header = HEADERS)\n",
    "# search_page = url_client.read()\n",
    "\n",
    "search_page = requests.get(base_url+search, headers=HEADERS).text\n",
    "# search_page"
   ]
  },
  {
   "cell_type": "code",
   "execution_count": 27,
   "id": "0a9a21f7-6089-4e9d-9776-07c5226d612c",
   "metadata": {},
   "outputs": [],
   "source": [
    "# Parse the html file using BeautifulSoup\n",
    "search_page_html = bs(search_page, \"html.parser\")\n",
    "# print(search_page_html)"
   ]
  },
  {
   "cell_type": "code",
   "execution_count": 28,
   "id": "49d908ee-b920-4a28-bcd0-1e31db039bd7",
   "metadata": {},
   "outputs": [],
   "source": [
    "# Fetching all the listed items by using class name\n",
    "listed_items = search_page_html.find_all(\"a\", {\"class\" : \"s1Q9rs\"})\n",
    "# item_price = search_page_html.find_all(\"div\", {\"class\" : \"_30jeq3\"})\n",
    "# item_price = search_page_html.find_all(\"div\", {\"class\" : \"_30jeq3\"})"
   ]
  },
  {
   "cell_type": "code",
   "execution_count": 29,
   "id": "cce2c8d8-53d1-40c9-baa8-3e2581c75978",
   "metadata": {},
   "outputs": [],
   "source": [
    "scrap = []\n",
    "\n",
    "for item in listed_items:\n",
    "    item_dict = {'title' : item['title'], 'url' : item['href']}\n",
    "    scrap.append(item_dict)\n",
    "\n",
    "# print(scrap)"
   ]
  },
  {
   "cell_type": "code",
   "execution_count": 55,
   "id": "88c8abbb-f31b-4cd2-991e-ff3de06aa540",
   "metadata": {},
   "outputs": [],
   "source": [
    "# items_review = []\n",
    "# for url in item_url:\n",
    "#     # url_client = urlopen(base_url+url)\n",
    "#     requests.get(base_url+url, headers=HEADERS).text\n",
    "#     item_page = url_client.read()\n",
    "#     item_page_html = bs(item_page, \"html.parser\")\n",
    "#     # item_name = item_page_html.find_all(\"div\", {\"id\" : \"titleSection\"})\n",
    "#     item_name = item_page_html.find_all(\"span\", {\"id\" : \"productTitle\"})\n",
    "#     print(item_name)"
   ]
  },
  {
   "cell_type": "code",
   "execution_count": 48,
   "id": "7c6c645a-9468-4b70-80db-2e03a0cdc3ef",
   "metadata": {},
   "outputs": [
    {
     "name": "stdout",
     "output_type": "stream",
     "text": [
      "/arctic-fox-fafkeytraww00101e-wired-usb-desktop-keyboard/product-reviews/itm2186a974b3f80?pid=ACCGJZUVY2DPMZNX&lid=LSTACCGJZUVY2DPMZNXAHU7QJ&marketplace=FLIPKART\n"
     ]
    }
   ],
   "source": [
    "item_url = \"/arctic-fox-fafkeytraww00101e-wired-usb-desktop-keyboard/p/itm2186a974b3f80?pid=ACCGJZUVY2DPMZNX&lid=LSTACCGJZUVY2DPMZNXAHU7QJ&marketplace=FLIPKART&q=mechanical+keyboard&store=6bo%2Fai3%2F3oe&srno=s_1_1&otracker=AS_QueryStore_OrganicAutoSuggest_1_18_na_na_ps&otracker1=AS_QueryStore_OrganicAutoSuggest_1_18_na_na_ps&fm=search-autosuggest&iid=en_f7xEDsGjfd0gWd4FpQrOpTLoyr_fRY9Tu8y7kmU3mIwUWwWOUWPIKFxoL7K-Ek5_bB-1jE2sh2DdsamRKAGJIQ%3D%3D&ppt=sp&ppn=sp&ssid=tcb9hm9ys00000001688339785228&qH=a792c83875887481\"\n",
    "item_page = requests.get(base_url+item_url, headers=HEADERS).text\n",
    "\n",
    "# item_page\n",
    "item_page_html = bs(item_page, \"html.parser\")\n",
    "item_selling_price = item_page_html.find(\"div\", {\"class\" : \"_30jeq3 _16Jk6d\"}).text\n",
    "item_original_price = item_page_html.find(\"div\", {\"class\" : \"_3I9_wc _2p6lqe\"}).text\n",
    "\n",
    "\n",
    "review_div = item_page_html.find(\"div\", {\"class\" : \"col JOpGWq\"})\n",
    "# Since the below <a> block do not have any class name, trying to fetch it by css selector.\n",
    "a_block = item_page_html.select_one('div.col.JOpGWq > a')\n",
    "reviews_url = a_block['href']\n",
    "print(reviews_url)\n",
    "\n"
   ]
  },
  {
   "cell_type": "code",
   "execution_count": 71,
   "id": "51460896-97a7-4437-8c09-c6dcb4b17874",
   "metadata": {},
   "outputs": [
    {
     "name": "stdout",
     "output_type": "stream",
     "text": [
      "{'rating': '5', 'title': 'Must buy!', 'review': 'Nice looking', 'user': 'yogee sangee'}\n",
      "{'rating': '5', 'title': 'Must buy!', 'review': 'Nice looking', 'user': 'yogee sangee'}\n",
      "{'rating': '5', 'title': 'Must buy!', 'review': 'Nice looking', 'user': 'yogee sangee'}\n",
      "{'rating': '5', 'title': 'Worth every penny', 'review': 'Good Quality Material 👌Working Media Keys👍Nice Looking.Overall value for money product 💵', 'user': 'Harshvardhan  Baranwal'}\n",
      "{'rating': '5', 'title': 'Just wow!', 'review': 'Great product 🔥🔥', 'user': 'keshav  Prasad '}\n",
      "{'rating': '4', 'title': 'Pretty good', 'review': \"Honestly, it's smells fevicolish after opening the box and it is OK in quality, simply worth in price range.\", 'user': 'Pranab Debbarma'}\n",
      "{'rating': '4', 'title': 'Nice product', 'review': 'Lovly product and compatible to all windows or any other operating systems.', 'user': 'ANOOP KUMAR BECK'}\n",
      "{'rating': '5', 'title': 'Awesome', 'review': 'Nice beautiful product', 'user': 'Shishu Kumar '}\n",
      "{'rating': '5', 'title': 'Awesome', 'review': 'Nice beautiful product', 'user': 'Shishu Kumar '}\n",
      "{'rating': '5', 'title': 'Mind-blowing purchase', 'review': 'Looking beautiful also working 💪', 'user': 'Sandip  Batabyal'}\n",
      "{'rating': '5', 'title': 'Simply awesome', 'review': 'Nyc keyboard', 'user': 'Vikas kumar Srivastav'}\n",
      "{'rating': '5', 'title': 'Great product', 'review': 'Good product', 'user': 'Sharaschandra Pandhare'}\n",
      "{'rating': '5', 'title': 'Must buy!', 'review': 'Nice looking', 'user': 'yogee sangee'}\n",
      "{'rating': '5', 'title': 'Must buy!', 'review': 'Nice looking', 'user': 'yogee sangee'}\n"
     ]
    }
   ],
   "source": [
    "review_url = \"/arctic-fox-fafkeytraww00101e-wired-usb-desktop-keyboard/product-reviews/itm2186a974b3f80?pid=ACCGJZUVY2DPMZNX&lid=LSTACCGJZUVY2DPMZNXAHU7QJ&marketplace=FLIPKART\"\n",
    "review_page = requests.get(base_url+review_url, headers=HEADERS).text\n",
    "review_page_html = bs(review_page, \"html.parser\")\n",
    "reviews = review_page_html.find_all(\"div\", {\"class\" : \"_1AtVbE col-12-12\"})\n",
    "item_reviews = []\n",
    "\n",
    "for user_review in reviews:\n",
    "    if user_review.find(\"div\", {\"class\" : \"_3LWZlK _1BLPMq\"}):\n",
    "        review_dict = {\"rating\" : \"\", \"title\" : \"\", \"review\": \"\", \"user\" : \"\"}\n",
    "        if user_review.find(\"div\", {\"class\" : \"_3LWZlK _1BLPMq\"}):\n",
    "            review_dict[\"rating\"] = user_review.find(\"div\", {\"class\" : \"_3LWZlK _1BLPMq\"}).text\n",
    "        if user_review.find(\"p\", {\"class\" : \"_2-N8zT\"}):\n",
    "            review_dict[\"title\"] = user_review.find(\"p\", {\"class\" : \"_2-N8zT\"}).text\n",
    "        if user_review.find(\"div\", {\"class\" : \"t-ZTKy\"}):\n",
    "            if user_review.find(\"div\", {\"class\" : \"t-ZTKy\"}).div.div:\n",
    "                review_dict[\"review\"] = user_review.find(\"div\", {\"class\" : \"t-ZTKy\"}).div.div.text\n",
    "        if user_review.find(\"p\", {\"class\" : \"_2sc7ZR _2V5EHH\"}):\n",
    "            review_dict[\"user\"] = user_review.find(\"p\", {\"class\" : \"_2sc7ZR _2V5EHH\"}).text\n",
    "    \n",
    "    print(review_dict)\n",
    "\n"
   ]
  },
  {
   "cell_type": "markdown",
   "id": "f283b4a7-101b-41ef-8c9a-5b2789af623a",
   "metadata": {},
   "source": [
    "### Completed solution"
   ]
  },
  {
   "cell_type": "code",
   "execution_count": 1,
   "id": "2349a3c8-3c9f-4ec0-9ac9-1febbc022f4d",
   "metadata": {},
   "outputs": [],
   "source": [
    "from bs4 import BeautifulSoup as bs  # This library helps parse the html files \n",
    "import requests\n",
    "import json"
   ]
  },
  {
   "cell_type": "code",
   "execution_count": 4,
   "id": "f41ff2f4-b671-45f1-966a-23e75251d904",
   "metadata": {},
   "outputs": [],
   "source": [
    "def fetch_reviews(url):\n",
    "    '''This function will fetch all the comments of the given product url\n",
    "    '''\n",
    "    \n",
    "    HEADERS = ({'User-Agent':\n",
    "            'Mozilla/5.0 (Windows NT 10.0; Win64; x64) \\\n",
    "            AppleWebKit/537.36 (KHTML, like Gecko) \\\n",
    "            Chrome/90.0.4430.212 Safari/537.36',\n",
    "            'Accept-Language': 'en-US, en;q=0.5'})\n",
    "    \n",
    "    item_page = requests.get(base_url+url, headers=HEADERS).text\n",
    "    item_page_html = bs(item_page, \"html.parser\")\n",
    "    \n",
    "    item_selling_price = item_page_html.find(\"div\", {\"class\" : \"_30jeq3 _16Jk6d\"}).text\n",
    "    item_original_price = item_page_html.find(\"div\", {\"class\" : \"_3I9_wc _2p6lqe\"}).text\n",
    "    review_div = item_page_html.find(\"div\", {\"class\" : \"col JOpGWq\"})\n",
    "    \n",
    "    a_block = item_page_html.select_one('div.col.JOpGWq > a')\n",
    "    reviews_url = a_block['href']\n",
    "    review_page = requests.get(base_url+reviews_url, headers=HEADERS).text\n",
    "    review_page_html = bs(review_page, \"html.parser\")\n",
    "    reviews = review_page_html.find_all(\"div\", {\"class\" : \"_1AtVbE col-12-12\"})\n",
    "    all_reviews = []\n",
    "    \n",
    "    for user_review in reviews:\n",
    "        if user_review.find(\"div\", {\"class\" : \"_3LWZlK _1BLPMq\"}):\n",
    "            review_dict = {\"rating\" : \"\", \"title\" : \"\", \"review\": \"\", \"user\" : \"\"}\n",
    "            if user_review.find(\"div\", {\"class\" : \"_3LWZlK _1BLPMq\"}):\n",
    "                review_dict[\"rating\"] = user_review.find(\"div\", {\"class\" : \"_3LWZlK _1BLPMq\"}).text\n",
    "            if user_review.find(\"p\", {\"class\" : \"_2-N8zT\"}):\n",
    "                review_dict[\"title\"] = user_review.find(\"p\", {\"class\" : \"_2-N8zT\"}).text\n",
    "            if user_review.find(\"div\", {\"class\" : \"t-ZTKy\"}):\n",
    "                if user_review.find(\"div\", {\"class\" : \"t-ZTKy\"}).div.div:\n",
    "                    review_dict[\"review\"] = user_review.find(\"div\", {\"class\" : \"t-ZTKy\"}).div.div.text\n",
    "            if user_review.find(\"p\", {\"class\" : \"_2sc7ZR _2V5EHH\"}):\n",
    "                review_dict[\"user\"] = user_review.find(\"p\", {\"class\" : \"_2sc7ZR _2V5EHH\"}).text\n",
    "            all_reviews.append(review_dict)\n",
    "    \n",
    "    return({\"original_price\" : item_original_price, \"selling_price\" : item_selling_price}, all_reviews)"
   ]
  },
  {
   "cell_type": "code",
   "execution_count": 5,
   "id": "7e5eeebd-6323-4188-8955-78a98834011a",
   "metadata": {},
   "outputs": [
    {
     "ename": "ConnectionError",
     "evalue": "HTTPSConnectionPool(host='www.flipkart.comhttps', port=443): Max retries exceeded with url: //www.flipkart.com/etzin-pbt-108-pudding-keycaps-set-tkl-104-108-keys-mechanical-keyboard-wireless-gaming-keyboard/p/itmd86bec1373eac?pid=ACCGC3ZFFT3AGFZP&lid=LSTACCGC3ZFFT3AGFZPSL6W5C&marketplace=FLIPKART&q=mechanical+wireless+keyboard&store=search.flipkart.com&srno=s_1_1&otracker=search&fm=organic&iid=36034c79-2074-4be9-877d-0a460ca0f465.ACCGC3ZFFT3AGFZP.SEARCH&ppt=None&ppn=None&ssid=zp94u7tm1s0000001688346151332&qH=8be80e033535c7a3 (Caused by NewConnectionError('<urllib3.connection.HTTPSConnection object at 0x7f36a97e4040>: Failed to establish a new connection: [Errno -2] Name or service not known'))",
     "output_type": "error",
     "traceback": [
      "\u001b[0;31m---------------------------------------------------------------------------\u001b[0m",
      "\u001b[0;31mgaierror\u001b[0m                                  Traceback (most recent call last)",
      "File \u001b[0;32m/opt/conda/lib/python3.10/site-packages/urllib3/connection.py:174\u001b[0m, in \u001b[0;36mHTTPConnection._new_conn\u001b[0;34m(self)\u001b[0m\n\u001b[1;32m    173\u001b[0m \u001b[38;5;28;01mtry\u001b[39;00m:\n\u001b[0;32m--> 174\u001b[0m     conn \u001b[38;5;241m=\u001b[39m \u001b[43mconnection\u001b[49m\u001b[38;5;241;43m.\u001b[39;49m\u001b[43mcreate_connection\u001b[49m\u001b[43m(\u001b[49m\n\u001b[1;32m    175\u001b[0m \u001b[43m        \u001b[49m\u001b[43m(\u001b[49m\u001b[38;5;28;43mself\u001b[39;49m\u001b[38;5;241;43m.\u001b[39;49m\u001b[43m_dns_host\u001b[49m\u001b[43m,\u001b[49m\u001b[43m \u001b[49m\u001b[38;5;28;43mself\u001b[39;49m\u001b[38;5;241;43m.\u001b[39;49m\u001b[43mport\u001b[49m\u001b[43m)\u001b[49m\u001b[43m,\u001b[49m\u001b[43m \u001b[49m\u001b[38;5;28;43mself\u001b[39;49m\u001b[38;5;241;43m.\u001b[39;49m\u001b[43mtimeout\u001b[49m\u001b[43m,\u001b[49m\u001b[43m \u001b[49m\u001b[38;5;241;43m*\u001b[39;49m\u001b[38;5;241;43m*\u001b[39;49m\u001b[43mextra_kw\u001b[49m\n\u001b[1;32m    176\u001b[0m \u001b[43m    \u001b[49m\u001b[43m)\u001b[49m\n\u001b[1;32m    178\u001b[0m \u001b[38;5;28;01mexcept\u001b[39;00m SocketTimeout:\n",
      "File \u001b[0;32m/opt/conda/lib/python3.10/site-packages/urllib3/util/connection.py:72\u001b[0m, in \u001b[0;36mcreate_connection\u001b[0;34m(address, timeout, source_address, socket_options)\u001b[0m\n\u001b[1;32m     68\u001b[0m     \u001b[38;5;28;01mreturn\u001b[39;00m six\u001b[38;5;241m.\u001b[39mraise_from(\n\u001b[1;32m     69\u001b[0m         LocationParseError(\u001b[38;5;124mu\u001b[39m\u001b[38;5;124m\"\u001b[39m\u001b[38;5;124m'\u001b[39m\u001b[38;5;132;01m%s\u001b[39;00m\u001b[38;5;124m'\u001b[39m\u001b[38;5;124m, label empty or too long\u001b[39m\u001b[38;5;124m\"\u001b[39m \u001b[38;5;241m%\u001b[39m host), \u001b[38;5;28;01mNone\u001b[39;00m\n\u001b[1;32m     70\u001b[0m     )\n\u001b[0;32m---> 72\u001b[0m \u001b[38;5;28;01mfor\u001b[39;00m res \u001b[38;5;129;01min\u001b[39;00m \u001b[43msocket\u001b[49m\u001b[38;5;241;43m.\u001b[39;49m\u001b[43mgetaddrinfo\u001b[49m\u001b[43m(\u001b[49m\u001b[43mhost\u001b[49m\u001b[43m,\u001b[49m\u001b[43m \u001b[49m\u001b[43mport\u001b[49m\u001b[43m,\u001b[49m\u001b[43m \u001b[49m\u001b[43mfamily\u001b[49m\u001b[43m,\u001b[49m\u001b[43m \u001b[49m\u001b[43msocket\u001b[49m\u001b[38;5;241;43m.\u001b[39;49m\u001b[43mSOCK_STREAM\u001b[49m\u001b[43m)\u001b[49m:\n\u001b[1;32m     73\u001b[0m     af, socktype, proto, canonname, sa \u001b[38;5;241m=\u001b[39m res\n",
      "File \u001b[0;32m/opt/conda/lib/python3.10/socket.py:955\u001b[0m, in \u001b[0;36mgetaddrinfo\u001b[0;34m(host, port, family, type, proto, flags)\u001b[0m\n\u001b[1;32m    954\u001b[0m addrlist \u001b[38;5;241m=\u001b[39m []\n\u001b[0;32m--> 955\u001b[0m \u001b[38;5;28;01mfor\u001b[39;00m res \u001b[38;5;129;01min\u001b[39;00m \u001b[43m_socket\u001b[49m\u001b[38;5;241;43m.\u001b[39;49m\u001b[43mgetaddrinfo\u001b[49m\u001b[43m(\u001b[49m\u001b[43mhost\u001b[49m\u001b[43m,\u001b[49m\u001b[43m \u001b[49m\u001b[43mport\u001b[49m\u001b[43m,\u001b[49m\u001b[43m \u001b[49m\u001b[43mfamily\u001b[49m\u001b[43m,\u001b[49m\u001b[43m \u001b[49m\u001b[38;5;28;43mtype\u001b[39;49m\u001b[43m,\u001b[49m\u001b[43m \u001b[49m\u001b[43mproto\u001b[49m\u001b[43m,\u001b[49m\u001b[43m \u001b[49m\u001b[43mflags\u001b[49m\u001b[43m)\u001b[49m:\n\u001b[1;32m    956\u001b[0m     af, socktype, proto, canonname, sa \u001b[38;5;241m=\u001b[39m res\n",
      "\u001b[0;31mgaierror\u001b[0m: [Errno -2] Name or service not known",
      "\nDuring handling of the above exception, another exception occurred:\n",
      "\u001b[0;31mNewConnectionError\u001b[0m                        Traceback (most recent call last)",
      "File \u001b[0;32m/opt/conda/lib/python3.10/site-packages/urllib3/connectionpool.py:703\u001b[0m, in \u001b[0;36mHTTPConnectionPool.urlopen\u001b[0;34m(self, method, url, body, headers, retries, redirect, assert_same_host, timeout, pool_timeout, release_conn, chunked, body_pos, **response_kw)\u001b[0m\n\u001b[1;32m    702\u001b[0m \u001b[38;5;66;03m# Make the request on the httplib connection object.\u001b[39;00m\n\u001b[0;32m--> 703\u001b[0m httplib_response \u001b[38;5;241m=\u001b[39m \u001b[38;5;28;43mself\u001b[39;49m\u001b[38;5;241;43m.\u001b[39;49m\u001b[43m_make_request\u001b[49m\u001b[43m(\u001b[49m\n\u001b[1;32m    704\u001b[0m \u001b[43m    \u001b[49m\u001b[43mconn\u001b[49m\u001b[43m,\u001b[49m\n\u001b[1;32m    705\u001b[0m \u001b[43m    \u001b[49m\u001b[43mmethod\u001b[49m\u001b[43m,\u001b[49m\n\u001b[1;32m    706\u001b[0m \u001b[43m    \u001b[49m\u001b[43murl\u001b[49m\u001b[43m,\u001b[49m\n\u001b[1;32m    707\u001b[0m \u001b[43m    \u001b[49m\u001b[43mtimeout\u001b[49m\u001b[38;5;241;43m=\u001b[39;49m\u001b[43mtimeout_obj\u001b[49m\u001b[43m,\u001b[49m\n\u001b[1;32m    708\u001b[0m \u001b[43m    \u001b[49m\u001b[43mbody\u001b[49m\u001b[38;5;241;43m=\u001b[39;49m\u001b[43mbody\u001b[49m\u001b[43m,\u001b[49m\n\u001b[1;32m    709\u001b[0m \u001b[43m    \u001b[49m\u001b[43mheaders\u001b[49m\u001b[38;5;241;43m=\u001b[39;49m\u001b[43mheaders\u001b[49m\u001b[43m,\u001b[49m\n\u001b[1;32m    710\u001b[0m \u001b[43m    \u001b[49m\u001b[43mchunked\u001b[49m\u001b[38;5;241;43m=\u001b[39;49m\u001b[43mchunked\u001b[49m\u001b[43m,\u001b[49m\n\u001b[1;32m    711\u001b[0m \u001b[43m\u001b[49m\u001b[43m)\u001b[49m\n\u001b[1;32m    713\u001b[0m \u001b[38;5;66;03m# If we're going to release the connection in ``finally:``, then\u001b[39;00m\n\u001b[1;32m    714\u001b[0m \u001b[38;5;66;03m# the response doesn't need to know about the connection. Otherwise\u001b[39;00m\n\u001b[1;32m    715\u001b[0m \u001b[38;5;66;03m# it will also try to release it and we'll have a double-release\u001b[39;00m\n\u001b[1;32m    716\u001b[0m \u001b[38;5;66;03m# mess.\u001b[39;00m\n",
      "File \u001b[0;32m/opt/conda/lib/python3.10/site-packages/urllib3/connectionpool.py:386\u001b[0m, in \u001b[0;36mHTTPConnectionPool._make_request\u001b[0;34m(self, conn, method, url, timeout, chunked, **httplib_request_kw)\u001b[0m\n\u001b[1;32m    385\u001b[0m \u001b[38;5;28;01mtry\u001b[39;00m:\n\u001b[0;32m--> 386\u001b[0m     \u001b[38;5;28;43mself\u001b[39;49m\u001b[38;5;241;43m.\u001b[39;49m\u001b[43m_validate_conn\u001b[49m\u001b[43m(\u001b[49m\u001b[43mconn\u001b[49m\u001b[43m)\u001b[49m\n\u001b[1;32m    387\u001b[0m \u001b[38;5;28;01mexcept\u001b[39;00m (SocketTimeout, BaseSSLError) \u001b[38;5;28;01mas\u001b[39;00m e:\n\u001b[1;32m    388\u001b[0m     \u001b[38;5;66;03m# Py2 raises this as a BaseSSLError, Py3 raises it as socket timeout.\u001b[39;00m\n",
      "File \u001b[0;32m/opt/conda/lib/python3.10/site-packages/urllib3/connectionpool.py:1042\u001b[0m, in \u001b[0;36mHTTPSConnectionPool._validate_conn\u001b[0;34m(self, conn)\u001b[0m\n\u001b[1;32m   1041\u001b[0m \u001b[38;5;28;01mif\u001b[39;00m \u001b[38;5;129;01mnot\u001b[39;00m \u001b[38;5;28mgetattr\u001b[39m(conn, \u001b[38;5;124m\"\u001b[39m\u001b[38;5;124msock\u001b[39m\u001b[38;5;124m\"\u001b[39m, \u001b[38;5;28;01mNone\u001b[39;00m):  \u001b[38;5;66;03m# AppEngine might not have  `.sock`\u001b[39;00m\n\u001b[0;32m-> 1042\u001b[0m     \u001b[43mconn\u001b[49m\u001b[38;5;241;43m.\u001b[39;49m\u001b[43mconnect\u001b[49m\u001b[43m(\u001b[49m\u001b[43m)\u001b[49m\n\u001b[1;32m   1044\u001b[0m \u001b[38;5;28;01mif\u001b[39;00m \u001b[38;5;129;01mnot\u001b[39;00m conn\u001b[38;5;241m.\u001b[39mis_verified:\n",
      "File \u001b[0;32m/opt/conda/lib/python3.10/site-packages/urllib3/connection.py:358\u001b[0m, in \u001b[0;36mHTTPSConnection.connect\u001b[0;34m(self)\u001b[0m\n\u001b[1;32m    356\u001b[0m \u001b[38;5;28;01mdef\u001b[39;00m \u001b[38;5;21mconnect\u001b[39m(\u001b[38;5;28mself\u001b[39m):\n\u001b[1;32m    357\u001b[0m     \u001b[38;5;66;03m# Add certificate verification\u001b[39;00m\n\u001b[0;32m--> 358\u001b[0m     \u001b[38;5;28mself\u001b[39m\u001b[38;5;241m.\u001b[39msock \u001b[38;5;241m=\u001b[39m conn \u001b[38;5;241m=\u001b[39m \u001b[38;5;28;43mself\u001b[39;49m\u001b[38;5;241;43m.\u001b[39;49m\u001b[43m_new_conn\u001b[49m\u001b[43m(\u001b[49m\u001b[43m)\u001b[49m\n\u001b[1;32m    359\u001b[0m     hostname \u001b[38;5;241m=\u001b[39m \u001b[38;5;28mself\u001b[39m\u001b[38;5;241m.\u001b[39mhost\n",
      "File \u001b[0;32m/opt/conda/lib/python3.10/site-packages/urllib3/connection.py:186\u001b[0m, in \u001b[0;36mHTTPConnection._new_conn\u001b[0;34m(self)\u001b[0m\n\u001b[1;32m    185\u001b[0m \u001b[38;5;28;01mexcept\u001b[39;00m SocketError \u001b[38;5;28;01mas\u001b[39;00m e:\n\u001b[0;32m--> 186\u001b[0m     \u001b[38;5;28;01mraise\u001b[39;00m NewConnectionError(\n\u001b[1;32m    187\u001b[0m         \u001b[38;5;28mself\u001b[39m, \u001b[38;5;124m\"\u001b[39m\u001b[38;5;124mFailed to establish a new connection: \u001b[39m\u001b[38;5;132;01m%s\u001b[39;00m\u001b[38;5;124m\"\u001b[39m \u001b[38;5;241m%\u001b[39m e\n\u001b[1;32m    188\u001b[0m     )\n\u001b[1;32m    190\u001b[0m \u001b[38;5;28;01mreturn\u001b[39;00m conn\n",
      "\u001b[0;31mNewConnectionError\u001b[0m: <urllib3.connection.HTTPSConnection object at 0x7f36a97e4040>: Failed to establish a new connection: [Errno -2] Name or service not known",
      "\nDuring handling of the above exception, another exception occurred:\n",
      "\u001b[0;31mMaxRetryError\u001b[0m                             Traceback (most recent call last)",
      "File \u001b[0;32m/opt/conda/lib/python3.10/site-packages/requests/adapters.py:489\u001b[0m, in \u001b[0;36mHTTPAdapter.send\u001b[0;34m(self, request, stream, timeout, verify, cert, proxies)\u001b[0m\n\u001b[1;32m    488\u001b[0m \u001b[38;5;28;01mif\u001b[39;00m \u001b[38;5;129;01mnot\u001b[39;00m chunked:\n\u001b[0;32m--> 489\u001b[0m     resp \u001b[38;5;241m=\u001b[39m \u001b[43mconn\u001b[49m\u001b[38;5;241;43m.\u001b[39;49m\u001b[43murlopen\u001b[49m\u001b[43m(\u001b[49m\n\u001b[1;32m    490\u001b[0m \u001b[43m        \u001b[49m\u001b[43mmethod\u001b[49m\u001b[38;5;241;43m=\u001b[39;49m\u001b[43mrequest\u001b[49m\u001b[38;5;241;43m.\u001b[39;49m\u001b[43mmethod\u001b[49m\u001b[43m,\u001b[49m\n\u001b[1;32m    491\u001b[0m \u001b[43m        \u001b[49m\u001b[43murl\u001b[49m\u001b[38;5;241;43m=\u001b[39;49m\u001b[43murl\u001b[49m\u001b[43m,\u001b[49m\n\u001b[1;32m    492\u001b[0m \u001b[43m        \u001b[49m\u001b[43mbody\u001b[49m\u001b[38;5;241;43m=\u001b[39;49m\u001b[43mrequest\u001b[49m\u001b[38;5;241;43m.\u001b[39;49m\u001b[43mbody\u001b[49m\u001b[43m,\u001b[49m\n\u001b[1;32m    493\u001b[0m \u001b[43m        \u001b[49m\u001b[43mheaders\u001b[49m\u001b[38;5;241;43m=\u001b[39;49m\u001b[43mrequest\u001b[49m\u001b[38;5;241;43m.\u001b[39;49m\u001b[43mheaders\u001b[49m\u001b[43m,\u001b[49m\n\u001b[1;32m    494\u001b[0m \u001b[43m        \u001b[49m\u001b[43mredirect\u001b[49m\u001b[38;5;241;43m=\u001b[39;49m\u001b[38;5;28;43;01mFalse\u001b[39;49;00m\u001b[43m,\u001b[49m\n\u001b[1;32m    495\u001b[0m \u001b[43m        \u001b[49m\u001b[43massert_same_host\u001b[49m\u001b[38;5;241;43m=\u001b[39;49m\u001b[38;5;28;43;01mFalse\u001b[39;49;00m\u001b[43m,\u001b[49m\n\u001b[1;32m    496\u001b[0m \u001b[43m        \u001b[49m\u001b[43mpreload_content\u001b[49m\u001b[38;5;241;43m=\u001b[39;49m\u001b[38;5;28;43;01mFalse\u001b[39;49;00m\u001b[43m,\u001b[49m\n\u001b[1;32m    497\u001b[0m \u001b[43m        \u001b[49m\u001b[43mdecode_content\u001b[49m\u001b[38;5;241;43m=\u001b[39;49m\u001b[38;5;28;43;01mFalse\u001b[39;49;00m\u001b[43m,\u001b[49m\n\u001b[1;32m    498\u001b[0m \u001b[43m        \u001b[49m\u001b[43mretries\u001b[49m\u001b[38;5;241;43m=\u001b[39;49m\u001b[38;5;28;43mself\u001b[39;49m\u001b[38;5;241;43m.\u001b[39;49m\u001b[43mmax_retries\u001b[49m\u001b[43m,\u001b[49m\n\u001b[1;32m    499\u001b[0m \u001b[43m        \u001b[49m\u001b[43mtimeout\u001b[49m\u001b[38;5;241;43m=\u001b[39;49m\u001b[43mtimeout\u001b[49m\u001b[43m,\u001b[49m\n\u001b[1;32m    500\u001b[0m \u001b[43m    \u001b[49m\u001b[43m)\u001b[49m\n\u001b[1;32m    502\u001b[0m \u001b[38;5;66;03m# Send the request.\u001b[39;00m\n\u001b[1;32m    503\u001b[0m \u001b[38;5;28;01melse\u001b[39;00m:\n",
      "File \u001b[0;32m/opt/conda/lib/python3.10/site-packages/urllib3/connectionpool.py:787\u001b[0m, in \u001b[0;36mHTTPConnectionPool.urlopen\u001b[0;34m(self, method, url, body, headers, retries, redirect, assert_same_host, timeout, pool_timeout, release_conn, chunked, body_pos, **response_kw)\u001b[0m\n\u001b[1;32m    785\u001b[0m     e \u001b[38;5;241m=\u001b[39m ProtocolError(\u001b[38;5;124m\"\u001b[39m\u001b[38;5;124mConnection aborted.\u001b[39m\u001b[38;5;124m\"\u001b[39m, e)\n\u001b[0;32m--> 787\u001b[0m retries \u001b[38;5;241m=\u001b[39m \u001b[43mretries\u001b[49m\u001b[38;5;241;43m.\u001b[39;49m\u001b[43mincrement\u001b[49m\u001b[43m(\u001b[49m\n\u001b[1;32m    788\u001b[0m \u001b[43m    \u001b[49m\u001b[43mmethod\u001b[49m\u001b[43m,\u001b[49m\u001b[43m \u001b[49m\u001b[43murl\u001b[49m\u001b[43m,\u001b[49m\u001b[43m \u001b[49m\u001b[43merror\u001b[49m\u001b[38;5;241;43m=\u001b[39;49m\u001b[43me\u001b[49m\u001b[43m,\u001b[49m\u001b[43m \u001b[49m\u001b[43m_pool\u001b[49m\u001b[38;5;241;43m=\u001b[39;49m\u001b[38;5;28;43mself\u001b[39;49m\u001b[43m,\u001b[49m\u001b[43m \u001b[49m\u001b[43m_stacktrace\u001b[49m\u001b[38;5;241;43m=\u001b[39;49m\u001b[43msys\u001b[49m\u001b[38;5;241;43m.\u001b[39;49m\u001b[43mexc_info\u001b[49m\u001b[43m(\u001b[49m\u001b[43m)\u001b[49m\u001b[43m[\u001b[49m\u001b[38;5;241;43m2\u001b[39;49m\u001b[43m]\u001b[49m\n\u001b[1;32m    789\u001b[0m \u001b[43m\u001b[49m\u001b[43m)\u001b[49m\n\u001b[1;32m    790\u001b[0m retries\u001b[38;5;241m.\u001b[39msleep()\n",
      "File \u001b[0;32m/opt/conda/lib/python3.10/site-packages/urllib3/util/retry.py:592\u001b[0m, in \u001b[0;36mRetry.increment\u001b[0;34m(self, method, url, response, error, _pool, _stacktrace)\u001b[0m\n\u001b[1;32m    591\u001b[0m \u001b[38;5;28;01mif\u001b[39;00m new_retry\u001b[38;5;241m.\u001b[39mis_exhausted():\n\u001b[0;32m--> 592\u001b[0m     \u001b[38;5;28;01mraise\u001b[39;00m MaxRetryError(_pool, url, error \u001b[38;5;129;01mor\u001b[39;00m ResponseError(cause))\n\u001b[1;32m    594\u001b[0m log\u001b[38;5;241m.\u001b[39mdebug(\u001b[38;5;124m\"\u001b[39m\u001b[38;5;124mIncremented Retry for (url=\u001b[39m\u001b[38;5;124m'\u001b[39m\u001b[38;5;132;01m%s\u001b[39;00m\u001b[38;5;124m'\u001b[39m\u001b[38;5;124m): \u001b[39m\u001b[38;5;132;01m%r\u001b[39;00m\u001b[38;5;124m\"\u001b[39m, url, new_retry)\n",
      "\u001b[0;31mMaxRetryError\u001b[0m: HTTPSConnectionPool(host='www.flipkart.comhttps', port=443): Max retries exceeded with url: //www.flipkart.com/etzin-pbt-108-pudding-keycaps-set-tkl-104-108-keys-mechanical-keyboard-wireless-gaming-keyboard/p/itmd86bec1373eac?pid=ACCGC3ZFFT3AGFZP&lid=LSTACCGC3ZFFT3AGFZPSL6W5C&marketplace=FLIPKART&q=mechanical+wireless+keyboard&store=search.flipkart.com&srno=s_1_1&otracker=search&fm=organic&iid=36034c79-2074-4be9-877d-0a460ca0f465.ACCGC3ZFFT3AGFZP.SEARCH&ppt=None&ppn=None&ssid=zp94u7tm1s0000001688346151332&qH=8be80e033535c7a3 (Caused by NewConnectionError('<urllib3.connection.HTTPSConnection object at 0x7f36a97e4040>: Failed to establish a new connection: [Errno -2] Name or service not known'))",
      "\nDuring handling of the above exception, another exception occurred:\n",
      "\u001b[0;31mConnectionError\u001b[0m                           Traceback (most recent call last)",
      "Cell \u001b[0;32mIn[5], line 16\u001b[0m\n\u001b[1;32m     14\u001b[0m \u001b[38;5;28;01mfor\u001b[39;00m item \u001b[38;5;129;01min\u001b[39;00m listed_items:\n\u001b[1;32m     15\u001b[0m     item_dict \u001b[38;5;241m=\u001b[39m {\u001b[38;5;124m'\u001b[39m\u001b[38;5;124mtitle\u001b[39m\u001b[38;5;124m'\u001b[39m : item[\u001b[38;5;124m'\u001b[39m\u001b[38;5;124mtitle\u001b[39m\u001b[38;5;124m'\u001b[39m], \u001b[38;5;124m'\u001b[39m\u001b[38;5;124murl\u001b[39m\u001b[38;5;124m'\u001b[39m : item[\u001b[38;5;124m'\u001b[39m\u001b[38;5;124mhref\u001b[39m\u001b[38;5;124m'\u001b[39m]}\n\u001b[0;32m---> 16\u001b[0m     item_dict[\u001b[38;5;124m'\u001b[39m\u001b[38;5;124mitem_price\u001b[39m\u001b[38;5;124m'\u001b[39m], item_dict[\u001b[38;5;124m'\u001b[39m\u001b[38;5;124mreviews\u001b[39m\u001b[38;5;124m'\u001b[39m] \u001b[38;5;241m=\u001b[39m \u001b[43mfetch_reviews\u001b[49m\u001b[43m(\u001b[49m\u001b[43mbase_url\u001b[49m\u001b[38;5;241;43m+\u001b[39;49m\u001b[43mitem\u001b[49m\u001b[43m[\u001b[49m\u001b[38;5;124;43m'\u001b[39;49m\u001b[38;5;124;43mhref\u001b[39;49m\u001b[38;5;124;43m'\u001b[39;49m\u001b[43m]\u001b[49m\u001b[43m)\u001b[49m\n\u001b[1;32m     17\u001b[0m     scrap\u001b[38;5;241m.\u001b[39mappend(item_dict)\n\u001b[1;32m     19\u001b[0m \u001b[38;5;28;01mwith\u001b[39;00m \u001b[38;5;28mopen\u001b[39m(\u001b[38;5;124m\"\u001b[39m\u001b[38;5;124mflipkart_keyboard_reviews.json\u001b[39m\u001b[38;5;124m\"\u001b[39m, \u001b[38;5;124m\"\u001b[39m\u001b[38;5;124mw\u001b[39m\u001b[38;5;124m\"\u001b[39m) \u001b[38;5;28;01mas\u001b[39;00m json_file:\n",
      "Cell \u001b[0;32mIn[4], line 4\u001b[0m, in \u001b[0;36mfetch_reviews\u001b[0;34m(url)\u001b[0m\n\u001b[1;32m      1\u001b[0m \u001b[38;5;28;01mdef\u001b[39;00m \u001b[38;5;21mfetch_reviews\u001b[39m(url):\n\u001b[1;32m      2\u001b[0m     \u001b[38;5;124;03m'''This function will fetch all the comments of the given product url\u001b[39;00m\n\u001b[1;32m      3\u001b[0m \u001b[38;5;124;03m    '''\u001b[39;00m\n\u001b[0;32m----> 4\u001b[0m     item_page \u001b[38;5;241m=\u001b[39m \u001b[43mrequests\u001b[49m\u001b[38;5;241;43m.\u001b[39;49m\u001b[43mget\u001b[49m\u001b[43m(\u001b[49m\u001b[43mbase_url\u001b[49m\u001b[38;5;241;43m+\u001b[39;49m\u001b[43murl\u001b[49m\u001b[43m)\u001b[49m\u001b[38;5;241m.\u001b[39mtext\n\u001b[1;32m      5\u001b[0m     item_page_html \u001b[38;5;241m=\u001b[39m bs(item_page, \u001b[38;5;124m\"\u001b[39m\u001b[38;5;124mhtml.parser\u001b[39m\u001b[38;5;124m\"\u001b[39m)\n\u001b[1;32m      7\u001b[0m     item_selling_price \u001b[38;5;241m=\u001b[39m item_page_html\u001b[38;5;241m.\u001b[39mfind(\u001b[38;5;124m\"\u001b[39m\u001b[38;5;124mdiv\u001b[39m\u001b[38;5;124m\"\u001b[39m, {\u001b[38;5;124m\"\u001b[39m\u001b[38;5;124mclass\u001b[39m\u001b[38;5;124m\"\u001b[39m : \u001b[38;5;124m\"\u001b[39m\u001b[38;5;124m_30jeq3 _16Jk6d\u001b[39m\u001b[38;5;124m\"\u001b[39m})\u001b[38;5;241m.\u001b[39mtext\n",
      "File \u001b[0;32m/opt/conda/lib/python3.10/site-packages/requests/api.py:73\u001b[0m, in \u001b[0;36mget\u001b[0;34m(url, params, **kwargs)\u001b[0m\n\u001b[1;32m     62\u001b[0m \u001b[38;5;28;01mdef\u001b[39;00m \u001b[38;5;21mget\u001b[39m(url, params\u001b[38;5;241m=\u001b[39m\u001b[38;5;28;01mNone\u001b[39;00m, \u001b[38;5;241m*\u001b[39m\u001b[38;5;241m*\u001b[39mkwargs):\n\u001b[1;32m     63\u001b[0m     \u001b[38;5;124mr\u001b[39m\u001b[38;5;124;03m\"\"\"Sends a GET request.\u001b[39;00m\n\u001b[1;32m     64\u001b[0m \n\u001b[1;32m     65\u001b[0m \u001b[38;5;124;03m    :param url: URL for the new :class:`Request` object.\u001b[39;00m\n\u001b[0;32m   (...)\u001b[0m\n\u001b[1;32m     70\u001b[0m \u001b[38;5;124;03m    :rtype: requests.Response\u001b[39;00m\n\u001b[1;32m     71\u001b[0m \u001b[38;5;124;03m    \"\"\"\u001b[39;00m\n\u001b[0;32m---> 73\u001b[0m     \u001b[38;5;28;01mreturn\u001b[39;00m \u001b[43mrequest\u001b[49m\u001b[43m(\u001b[49m\u001b[38;5;124;43m\"\u001b[39;49m\u001b[38;5;124;43mget\u001b[39;49m\u001b[38;5;124;43m\"\u001b[39;49m\u001b[43m,\u001b[49m\u001b[43m \u001b[49m\u001b[43murl\u001b[49m\u001b[43m,\u001b[49m\u001b[43m \u001b[49m\u001b[43mparams\u001b[49m\u001b[38;5;241;43m=\u001b[39;49m\u001b[43mparams\u001b[49m\u001b[43m,\u001b[49m\u001b[43m \u001b[49m\u001b[38;5;241;43m*\u001b[39;49m\u001b[38;5;241;43m*\u001b[39;49m\u001b[43mkwargs\u001b[49m\u001b[43m)\u001b[49m\n",
      "File \u001b[0;32m/opt/conda/lib/python3.10/site-packages/requests/api.py:59\u001b[0m, in \u001b[0;36mrequest\u001b[0;34m(method, url, **kwargs)\u001b[0m\n\u001b[1;32m     55\u001b[0m \u001b[38;5;66;03m# By using the 'with' statement we are sure the session is closed, thus we\u001b[39;00m\n\u001b[1;32m     56\u001b[0m \u001b[38;5;66;03m# avoid leaving sockets open which can trigger a ResourceWarning in some\u001b[39;00m\n\u001b[1;32m     57\u001b[0m \u001b[38;5;66;03m# cases, and look like a memory leak in others.\u001b[39;00m\n\u001b[1;32m     58\u001b[0m \u001b[38;5;28;01mwith\u001b[39;00m sessions\u001b[38;5;241m.\u001b[39mSession() \u001b[38;5;28;01mas\u001b[39;00m session:\n\u001b[0;32m---> 59\u001b[0m     \u001b[38;5;28;01mreturn\u001b[39;00m \u001b[43msession\u001b[49m\u001b[38;5;241;43m.\u001b[39;49m\u001b[43mrequest\u001b[49m\u001b[43m(\u001b[49m\u001b[43mmethod\u001b[49m\u001b[38;5;241;43m=\u001b[39;49m\u001b[43mmethod\u001b[49m\u001b[43m,\u001b[49m\u001b[43m \u001b[49m\u001b[43murl\u001b[49m\u001b[38;5;241;43m=\u001b[39;49m\u001b[43murl\u001b[49m\u001b[43m,\u001b[49m\u001b[43m \u001b[49m\u001b[38;5;241;43m*\u001b[39;49m\u001b[38;5;241;43m*\u001b[39;49m\u001b[43mkwargs\u001b[49m\u001b[43m)\u001b[49m\n",
      "File \u001b[0;32m/opt/conda/lib/python3.10/site-packages/requests/sessions.py:587\u001b[0m, in \u001b[0;36mSession.request\u001b[0;34m(self, method, url, params, data, headers, cookies, files, auth, timeout, allow_redirects, proxies, hooks, stream, verify, cert, json)\u001b[0m\n\u001b[1;32m    582\u001b[0m send_kwargs \u001b[38;5;241m=\u001b[39m {\n\u001b[1;32m    583\u001b[0m     \u001b[38;5;124m\"\u001b[39m\u001b[38;5;124mtimeout\u001b[39m\u001b[38;5;124m\"\u001b[39m: timeout,\n\u001b[1;32m    584\u001b[0m     \u001b[38;5;124m\"\u001b[39m\u001b[38;5;124mallow_redirects\u001b[39m\u001b[38;5;124m\"\u001b[39m: allow_redirects,\n\u001b[1;32m    585\u001b[0m }\n\u001b[1;32m    586\u001b[0m send_kwargs\u001b[38;5;241m.\u001b[39mupdate(settings)\n\u001b[0;32m--> 587\u001b[0m resp \u001b[38;5;241m=\u001b[39m \u001b[38;5;28;43mself\u001b[39;49m\u001b[38;5;241;43m.\u001b[39;49m\u001b[43msend\u001b[49m\u001b[43m(\u001b[49m\u001b[43mprep\u001b[49m\u001b[43m,\u001b[49m\u001b[43m \u001b[49m\u001b[38;5;241;43m*\u001b[39;49m\u001b[38;5;241;43m*\u001b[39;49m\u001b[43msend_kwargs\u001b[49m\u001b[43m)\u001b[49m\n\u001b[1;32m    589\u001b[0m \u001b[38;5;28;01mreturn\u001b[39;00m resp\n",
      "File \u001b[0;32m/opt/conda/lib/python3.10/site-packages/requests/sessions.py:701\u001b[0m, in \u001b[0;36mSession.send\u001b[0;34m(self, request, **kwargs)\u001b[0m\n\u001b[1;32m    698\u001b[0m start \u001b[38;5;241m=\u001b[39m preferred_clock()\n\u001b[1;32m    700\u001b[0m \u001b[38;5;66;03m# Send the request\u001b[39;00m\n\u001b[0;32m--> 701\u001b[0m r \u001b[38;5;241m=\u001b[39m \u001b[43madapter\u001b[49m\u001b[38;5;241;43m.\u001b[39;49m\u001b[43msend\u001b[49m\u001b[43m(\u001b[49m\u001b[43mrequest\u001b[49m\u001b[43m,\u001b[49m\u001b[43m \u001b[49m\u001b[38;5;241;43m*\u001b[39;49m\u001b[38;5;241;43m*\u001b[39;49m\u001b[43mkwargs\u001b[49m\u001b[43m)\u001b[49m\n\u001b[1;32m    703\u001b[0m \u001b[38;5;66;03m# Total elapsed time of the request (approximately)\u001b[39;00m\n\u001b[1;32m    704\u001b[0m elapsed \u001b[38;5;241m=\u001b[39m preferred_clock() \u001b[38;5;241m-\u001b[39m start\n",
      "File \u001b[0;32m/opt/conda/lib/python3.10/site-packages/requests/adapters.py:565\u001b[0m, in \u001b[0;36mHTTPAdapter.send\u001b[0;34m(self, request, stream, timeout, verify, cert, proxies)\u001b[0m\n\u001b[1;32m    561\u001b[0m     \u001b[38;5;28;01mif\u001b[39;00m \u001b[38;5;28misinstance\u001b[39m(e\u001b[38;5;241m.\u001b[39mreason, _SSLError):\n\u001b[1;32m    562\u001b[0m         \u001b[38;5;66;03m# This branch is for urllib3 v1.22 and later.\u001b[39;00m\n\u001b[1;32m    563\u001b[0m         \u001b[38;5;28;01mraise\u001b[39;00m SSLError(e, request\u001b[38;5;241m=\u001b[39mrequest)\n\u001b[0;32m--> 565\u001b[0m     \u001b[38;5;28;01mraise\u001b[39;00m \u001b[38;5;167;01mConnectionError\u001b[39;00m(e, request\u001b[38;5;241m=\u001b[39mrequest)\n\u001b[1;32m    567\u001b[0m \u001b[38;5;28;01mexcept\u001b[39;00m ClosedPoolError \u001b[38;5;28;01mas\u001b[39;00m e:\n\u001b[1;32m    568\u001b[0m     \u001b[38;5;28;01mraise\u001b[39;00m \u001b[38;5;167;01mConnectionError\u001b[39;00m(e, request\u001b[38;5;241m=\u001b[39mrequest)\n",
      "\u001b[0;31mConnectionError\u001b[0m: HTTPSConnectionPool(host='www.flipkart.comhttps', port=443): Max retries exceeded with url: //www.flipkart.com/etzin-pbt-108-pudding-keycaps-set-tkl-104-108-keys-mechanical-keyboard-wireless-gaming-keyboard/p/itmd86bec1373eac?pid=ACCGC3ZFFT3AGFZP&lid=LSTACCGC3ZFFT3AGFZPSL6W5C&marketplace=FLIPKART&q=mechanical+wireless+keyboard&store=search.flipkart.com&srno=s_1_1&otracker=search&fm=organic&iid=36034c79-2074-4be9-877d-0a460ca0f465.ACCGC3ZFFT3AGFZP.SEARCH&ppt=None&ppn=None&ssid=zp94u7tm1s0000001688346151332&qH=8be80e033535c7a3 (Caused by NewConnectionError('<urllib3.connection.HTTPSConnection object at 0x7f36a97e4040>: Failed to establish a new connection: [Errno -2] Name or service not known'))"
     ]
    }
   ],
   "source": [
    "base_url = \"https://www.flipkart.com\"\n",
    "search = \"/search?q=mechanical%20wireless%20keyboard\"\n",
    "HEADERS = ({'User-Agent':\n",
    "            'Mozilla/5.0 (Windows NT 10.0; Win64; x64) \\\n",
    "            AppleWebKit/537.36 (KHTML, like Gecko) \\\n",
    "            Chrome/90.0.4430.212 Safari/537.36',\n",
    "            'Accept-Language': 'en-US, en;q=0.5'})\n",
    "scrap = []\n",
    "\n",
    "search_page = requests.get(base_url+search, headers=HEADERS).text\n",
    "search_page_html = bs(search_page, \"html.parser\") # Parse the html file using BeautifulSoup\n",
    "listed_items = search_page_html.find_all(\"a\", {\"class\" : \"s1Q9rs\"}) # Fetching all the listed items by using class name\n",
    "\n",
    "for item in listed_items:\n",
    "    item_dict = {'title' : item['title'], 'url' : item['href']}\n",
    "    item_dict['item_price'], item_dict['reviews'] = fetch_reviews(base_url+item['href'])\n",
    "    scrap.append(item_dict)\n",
    "\n",
    "with open(\"flipkart_keyboard_reviews.json\", \"w\") as json_file:\n",
    "    json.dump(scrap, json_file)"
   ]
  },
  {
   "cell_type": "code",
   "execution_count": null,
   "id": "6ca97b35-58e0-46a4-a38b-af422cd55565",
   "metadata": {},
   "outputs": [],
   "source": []
  }
 ],
 "metadata": {
  "kernelspec": {
   "display_name": "Python 3 (ipykernel)",
   "language": "python",
   "name": "python3"
  },
  "language_info": {
   "codemirror_mode": {
    "name": "ipython",
    "version": 3
   },
   "file_extension": ".py",
   "mimetype": "text/x-python",
   "name": "python",
   "nbconvert_exporter": "python",
   "pygments_lexer": "ipython3",
   "version": "3.10.8"
  }
 },
 "nbformat": 4,
 "nbformat_minor": 5
}
