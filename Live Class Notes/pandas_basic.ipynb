{
 "cells": [
  {
   "cell_type": "code",
   "execution_count": 1,
   "id": "ee7481d6-3ff1-41db-88ba-5cc251cb8a79",
   "metadata": {},
   "outputs": [],
   "source": [
    "import pandas as pd"
   ]
  },
  {
   "cell_type": "code",
   "execution_count": 2,
   "id": "0fc2157c-abfb-424b-9f2f-6a1fba45a8d1",
   "metadata": {},
   "outputs": [
    {
     "data": {
      "text/html": [
       "<div>\n",
       "<style scoped>\n",
       "    .dataframe tbody tr th:only-of-type {\n",
       "        vertical-align: middle;\n",
       "    }\n",
       "\n",
       "    .dataframe tbody tr th {\n",
       "        vertical-align: top;\n",
       "    }\n",
       "\n",
       "    .dataframe thead th {\n",
       "        text-align: right;\n",
       "    }\n",
       "</style>\n",
       "<table border=\"1\" class=\"dataframe\">\n",
       "  <thead>\n",
       "    <tr style=\"text-align: right;\">\n",
       "      <th></th>\n",
       "      <th>id</th>\n",
       "      <th>campaign_name</th>\n",
       "      <th>start_date</th>\n",
       "      <th>end_date</th>\n",
       "      <th>impressions</th>\n",
       "      <th>clicks</th>\n",
       "      <th>conversion_rate</th>\n",
       "      <th>revenue</th>\n",
       "    </tr>\n",
       "  </thead>\n",
       "  <tbody>\n",
       "    <tr>\n",
       "      <th>0</th>\n",
       "      <td>1</td>\n",
       "      <td>Summer Sale</td>\n",
       "      <td>2023-06-01</td>\n",
       "      <td>2023-06-30</td>\n",
       "      <td>12000</td>\n",
       "      <td>500</td>\n",
       "      <td>0.042</td>\n",
       "      <td>2000.50</td>\n",
       "    </tr>\n",
       "    <tr>\n",
       "      <th>1</th>\n",
       "      <td>2</td>\n",
       "      <td>Back to School</td>\n",
       "      <td>2023-07-15</td>\n",
       "      <td>2023-08-31</td>\n",
       "      <td>8000</td>\n",
       "      <td>400</td>\n",
       "      <td>0.055</td>\n",
       "      <td>2300.25</td>\n",
       "    </tr>\n",
       "    <tr>\n",
       "      <th>2</th>\n",
       "      <td>3</td>\n",
       "      <td>Holiday Special</td>\n",
       "      <td>2023-12-01</td>\n",
       "      <td>2023-12-31</td>\n",
       "      <td>15000</td>\n",
       "      <td>750</td>\n",
       "      <td>0.051</td>\n",
       "      <td>3000.75</td>\n",
       "    </tr>\n",
       "    <tr>\n",
       "      <th>3</th>\n",
       "      <td>4</td>\n",
       "      <td>New Year Campaign</td>\n",
       "      <td>2024-01-01</td>\n",
       "      <td>2024-01-31</td>\n",
       "      <td>9500</td>\n",
       "      <td>550</td>\n",
       "      <td>0.049</td>\n",
       "      <td>2800.00</td>\n",
       "    </tr>\n",
       "    <tr>\n",
       "      <th>4</th>\n",
       "      <td>5</td>\n",
       "      <td>Valentine's Day</td>\n",
       "      <td>2024-02-01</td>\n",
       "      <td>2024-02-14</td>\n",
       "      <td>11000</td>\n",
       "      <td>450</td>\n",
       "      <td>0.036</td>\n",
       "      <td>1500.75</td>\n",
       "    </tr>\n",
       "    <tr>\n",
       "      <th>5</th>\n",
       "      <td>6</td>\n",
       "      <td>Easter Promotions</td>\n",
       "      <td>2024-03-01</td>\n",
       "      <td>2024-03-31</td>\n",
       "      <td>10500</td>\n",
       "      <td>350</td>\n",
       "      <td>0.032</td>\n",
       "      <td>1200.00</td>\n",
       "    </tr>\n",
       "    <tr>\n",
       "      <th>6</th>\n",
       "      <td>7</td>\n",
       "      <td>Spring Clearance</td>\n",
       "      <td>2024-04-01</td>\n",
       "      <td>2024-04-30</td>\n",
       "      <td>9000</td>\n",
       "      <td>300</td>\n",
       "      <td>0.025</td>\n",
       "      <td>800.50</td>\n",
       "    </tr>\n",
       "    <tr>\n",
       "      <th>7</th>\n",
       "      <td>8</td>\n",
       "      <td>Summer Launch</td>\n",
       "      <td>2024-06-01</td>\n",
       "      <td>2024-06-30</td>\n",
       "      <td>8500</td>\n",
       "      <td>250</td>\n",
       "      <td>0.028</td>\n",
       "      <td>900.25</td>\n",
       "    </tr>\n",
       "    <tr>\n",
       "      <th>8</th>\n",
       "      <td>9</td>\n",
       "      <td>Black Friday</td>\n",
       "      <td>2024-11-01</td>\n",
       "      <td>2024-11-30</td>\n",
       "      <td>12000</td>\n",
       "      <td>450</td>\n",
       "      <td>0.039</td>\n",
       "      <td>1800.75</td>\n",
       "    </tr>\n",
       "    <tr>\n",
       "      <th>9</th>\n",
       "      <td>10</td>\n",
       "      <td>Cyber Monday</td>\n",
       "      <td>2024-11-29</td>\n",
       "      <td>2024-11-29</td>\n",
       "      <td>8000</td>\n",
       "      <td>400</td>\n",
       "      <td>0.045</td>\n",
       "      <td>2000.00</td>\n",
       "    </tr>\n",
       "  </tbody>\n",
       "</table>\n",
       "</div>"
      ],
      "text/plain": [
       "   id      campaign_name  start_date    end_date  impressions  clicks  \\\n",
       "0   1        Summer Sale  2023-06-01  2023-06-30        12000     500   \n",
       "1   2     Back to School  2023-07-15  2023-08-31         8000     400   \n",
       "2   3    Holiday Special  2023-12-01  2023-12-31        15000     750   \n",
       "3   4  New Year Campaign  2024-01-01  2024-01-31         9500     550   \n",
       "4   5    Valentine's Day  2024-02-01  2024-02-14        11000     450   \n",
       "5   6  Easter Promotions  2024-03-01  2024-03-31        10500     350   \n",
       "6   7   Spring Clearance  2024-04-01  2024-04-30         9000     300   \n",
       "7   8      Summer Launch  2024-06-01  2024-06-30         8500     250   \n",
       "8   9       Black Friday  2024-11-01  2024-11-30        12000     450   \n",
       "9  10       Cyber Monday  2024-11-29  2024-11-29         8000     400   \n",
       "\n",
       "   conversion_rate  revenue  \n",
       "0            0.042  2000.50  \n",
       "1            0.055  2300.25  \n",
       "2            0.051  3000.75  \n",
       "3            0.049  2800.00  \n",
       "4            0.036  1500.75  \n",
       "5            0.032  1200.00  \n",
       "6            0.025   800.50  \n",
       "7            0.028   900.25  \n",
       "8            0.039  1800.75  \n",
       "9            0.045  2000.00  "
      ]
     },
     "execution_count": 2,
     "metadata": {},
     "output_type": "execute_result"
    }
   ],
   "source": [
    "df = pd.read_csv(\"dumps/campaign.csv\")\n",
    "df # by default first row is considered as header"
   ]
  },
  {
   "cell_type": "code",
   "execution_count": 3,
   "id": "6d11dab6-aeba-4e8f-bd8f-16b604a2af8b",
   "metadata": {},
   "outputs": [
    {
     "data": {
      "text/html": [
       "<div>\n",
       "<style scoped>\n",
       "    .dataframe tbody tr th:only-of-type {\n",
       "        vertical-align: middle;\n",
       "    }\n",
       "\n",
       "    .dataframe tbody tr th {\n",
       "        vertical-align: top;\n",
       "    }\n",
       "\n",
       "    .dataframe thead th {\n",
       "        text-align: right;\n",
       "    }\n",
       "</style>\n",
       "<table border=\"1\" class=\"dataframe\">\n",
       "  <thead>\n",
       "    <tr style=\"text-align: right;\">\n",
       "      <th></th>\n",
       "      <th>0</th>\n",
       "      <th>1</th>\n",
       "      <th>2</th>\n",
       "      <th>3</th>\n",
       "      <th>4</th>\n",
       "      <th>5</th>\n",
       "      <th>6</th>\n",
       "      <th>7</th>\n",
       "    </tr>\n",
       "  </thead>\n",
       "  <tbody>\n",
       "    <tr>\n",
       "      <th>0</th>\n",
       "      <td>id</td>\n",
       "      <td>campaign_name</td>\n",
       "      <td>start_date</td>\n",
       "      <td>end_date</td>\n",
       "      <td>impressions</td>\n",
       "      <td>clicks</td>\n",
       "      <td>conversion_rate</td>\n",
       "      <td>revenue</td>\n",
       "    </tr>\n",
       "    <tr>\n",
       "      <th>1</th>\n",
       "      <td>1</td>\n",
       "      <td>Summer Sale</td>\n",
       "      <td>2023-06-01</td>\n",
       "      <td>2023-06-30</td>\n",
       "      <td>12000</td>\n",
       "      <td>500</td>\n",
       "      <td>0.042</td>\n",
       "      <td>2000.50</td>\n",
       "    </tr>\n",
       "    <tr>\n",
       "      <th>2</th>\n",
       "      <td>2</td>\n",
       "      <td>Back to School</td>\n",
       "      <td>2023-07-15</td>\n",
       "      <td>2023-08-31</td>\n",
       "      <td>8000</td>\n",
       "      <td>400</td>\n",
       "      <td>0.055</td>\n",
       "      <td>2300.25</td>\n",
       "    </tr>\n",
       "    <tr>\n",
       "      <th>3</th>\n",
       "      <td>3</td>\n",
       "      <td>Holiday Special</td>\n",
       "      <td>2023-12-01</td>\n",
       "      <td>2023-12-31</td>\n",
       "      <td>15000</td>\n",
       "      <td>750</td>\n",
       "      <td>0.051</td>\n",
       "      <td>3000.75</td>\n",
       "    </tr>\n",
       "    <tr>\n",
       "      <th>4</th>\n",
       "      <td>4</td>\n",
       "      <td>New Year Campaign</td>\n",
       "      <td>2024-01-01</td>\n",
       "      <td>2024-01-31</td>\n",
       "      <td>9500</td>\n",
       "      <td>550</td>\n",
       "      <td>0.049</td>\n",
       "      <td>2800.00</td>\n",
       "    </tr>\n",
       "    <tr>\n",
       "      <th>5</th>\n",
       "      <td>5</td>\n",
       "      <td>Valentine's Day</td>\n",
       "      <td>2024-02-01</td>\n",
       "      <td>2024-02-14</td>\n",
       "      <td>11000</td>\n",
       "      <td>450</td>\n",
       "      <td>0.036</td>\n",
       "      <td>1500.75</td>\n",
       "    </tr>\n",
       "    <tr>\n",
       "      <th>6</th>\n",
       "      <td>6</td>\n",
       "      <td>Easter Promotions</td>\n",
       "      <td>2024-03-01</td>\n",
       "      <td>2024-03-31</td>\n",
       "      <td>10500</td>\n",
       "      <td>350</td>\n",
       "      <td>0.032</td>\n",
       "      <td>1200.00</td>\n",
       "    </tr>\n",
       "    <tr>\n",
       "      <th>7</th>\n",
       "      <td>7</td>\n",
       "      <td>Spring Clearance</td>\n",
       "      <td>2024-04-01</td>\n",
       "      <td>2024-04-30</td>\n",
       "      <td>9000</td>\n",
       "      <td>300</td>\n",
       "      <td>0.025</td>\n",
       "      <td>800.50</td>\n",
       "    </tr>\n",
       "    <tr>\n",
       "      <th>8</th>\n",
       "      <td>8</td>\n",
       "      <td>Summer Launch</td>\n",
       "      <td>2024-06-01</td>\n",
       "      <td>2024-06-30</td>\n",
       "      <td>8500</td>\n",
       "      <td>250</td>\n",
       "      <td>0.028</td>\n",
       "      <td>900.25</td>\n",
       "    </tr>\n",
       "    <tr>\n",
       "      <th>9</th>\n",
       "      <td>9</td>\n",
       "      <td>Black Friday</td>\n",
       "      <td>2024-11-01</td>\n",
       "      <td>2024-11-30</td>\n",
       "      <td>12000</td>\n",
       "      <td>450</td>\n",
       "      <td>0.039</td>\n",
       "      <td>1800.75</td>\n",
       "    </tr>\n",
       "    <tr>\n",
       "      <th>10</th>\n",
       "      <td>10</td>\n",
       "      <td>Cyber Monday</td>\n",
       "      <td>2024-11-29</td>\n",
       "      <td>2024-11-29</td>\n",
       "      <td>8000</td>\n",
       "      <td>400</td>\n",
       "      <td>0.045</td>\n",
       "      <td>2000.00</td>\n",
       "    </tr>\n",
       "  </tbody>\n",
       "</table>\n",
       "</div>"
      ],
      "text/plain": [
       "     0                  1           2           3            4       5  \\\n",
       "0   id      campaign_name  start_date    end_date  impressions  clicks   \n",
       "1    1        Summer Sale  2023-06-01  2023-06-30        12000     500   \n",
       "2    2     Back to School  2023-07-15  2023-08-31         8000     400   \n",
       "3    3    Holiday Special  2023-12-01  2023-12-31        15000     750   \n",
       "4    4  New Year Campaign  2024-01-01  2024-01-31         9500     550   \n",
       "5    5    Valentine's Day  2024-02-01  2024-02-14        11000     450   \n",
       "6    6  Easter Promotions  2024-03-01  2024-03-31        10500     350   \n",
       "7    7   Spring Clearance  2024-04-01  2024-04-30         9000     300   \n",
       "8    8      Summer Launch  2024-06-01  2024-06-30         8500     250   \n",
       "9    9       Black Friday  2024-11-01  2024-11-30        12000     450   \n",
       "10  10       Cyber Monday  2024-11-29  2024-11-29         8000     400   \n",
       "\n",
       "                  6        7  \n",
       "0   conversion_rate  revenue  \n",
       "1             0.042  2000.50  \n",
       "2             0.055  2300.25  \n",
       "3             0.051  3000.75  \n",
       "4             0.049  2800.00  \n",
       "5             0.036  1500.75  \n",
       "6             0.032  1200.00  \n",
       "7             0.025   800.50  \n",
       "8             0.028   900.25  \n",
       "9             0.039  1800.75  \n",
       "10            0.045  2000.00  "
      ]
     },
     "execution_count": 3,
     "metadata": {},
     "output_type": "execute_result"
    }
   ],
   "source": [
    "# To override header\n",
    "df2 = pd.read_csv(\"dumps/campaign.csv\", header=None)\n",
    "df2"
   ]
  },
  {
   "cell_type": "code",
   "execution_count": 10,
   "id": "c40b0081-6334-46a2-9b4c-2bbeaa68802f",
   "metadata": {},
   "outputs": [
    {
     "data": {
      "text/plain": [
       "Index(['id', 'campaign_name', 'start_date', 'end_date', 'impressions',\n",
       "       'clicks', 'conversion_rate', 'revenue'],\n",
       "      dtype='object')"
      ]
     },
     "execution_count": 10,
     "metadata": {},
     "output_type": "execute_result"
    }
   ],
   "source": [
    "# listing all the columns\n",
    "df.columns"
   ]
  },
  {
   "cell_type": "code",
   "execution_count": 4,
   "id": "36077159-97f7-4cce-b8f6-0374b592173c",
   "metadata": {},
   "outputs": [
    {
     "data": {
      "text/plain": [
       "id                           1\n",
       "campaign_name      Summer Sale\n",
       "start_date          2023-06-01\n",
       "end_date            2023-06-30\n",
       "impressions              12000\n",
       "clicks                     500\n",
       "conversion_rate          0.042\n",
       "revenue                 2000.5\n",
       "Name: 0, dtype: object"
      ]
     },
     "execution_count": 4,
     "metadata": {},
     "output_type": "execute_result"
    }
   ],
   "source": [
    "df.loc[0]"
   ]
  },
  {
   "cell_type": "code",
   "execution_count": 11,
   "id": "98aec4e8-d2b9-4481-9f76-67d94f51a4e9",
   "metadata": {},
   "outputs": [
    {
     "data": {
      "text/plain": [
       "['id',\n",
       " 'campaign_name',\n",
       " 'start_date',\n",
       " 'end_date',\n",
       " 'impressions',\n",
       " 'clicks',\n",
       " 'conversion_rate',\n",
       " 'revenue']"
      ]
     },
     "execution_count": 11,
     "metadata": {},
     "output_type": "execute_result"
    }
   ],
   "source": [
    "# Converting it to list\n",
    "columns = list(df.columns)\n",
    "columns"
   ]
  },
  {
   "cell_type": "code",
   "execution_count": 16,
   "id": "75c22260-93e9-4188-a4b0-d1aa6ffbaf7e",
   "metadata": {},
   "outputs": [
    {
     "data": {
      "text/plain": [
       "0          Summer Sale\n",
       "1       Back to School\n",
       "2      Holiday Special\n",
       "3    New Year Campaign\n",
       "4      Valentine's Day\n",
       "5    Easter Promotions\n",
       "6     Spring Clearance\n",
       "7        Summer Launch\n",
       "8         Black Friday\n",
       "9         Cyber Monday\n",
       "Name: campaign_name, dtype: object"
      ]
     },
     "execution_count": 16,
     "metadata": {},
     "output_type": "execute_result"
    }
   ],
   "source": [
    "# Extracting a single column from df\n",
    "df['campaign_name'] # This will be of type Series\n"
   ]
  },
  {
   "cell_type": "code",
   "execution_count": 18,
   "id": "8e600c3d-1f8c-4a01-b1d4-ecae2e6bffef",
   "metadata": {},
   "outputs": [
    {
     "data": {
      "text/html": [
       "<div>\n",
       "<style scoped>\n",
       "    .dataframe tbody tr th:only-of-type {\n",
       "        vertical-align: middle;\n",
       "    }\n",
       "\n",
       "    .dataframe tbody tr th {\n",
       "        vertical-align: top;\n",
       "    }\n",
       "\n",
       "    .dataframe thead th {\n",
       "        text-align: right;\n",
       "    }\n",
       "</style>\n",
       "<table border=\"1\" class=\"dataframe\">\n",
       "  <thead>\n",
       "    <tr style=\"text-align: right;\">\n",
       "      <th></th>\n",
       "      <th>campaign_name</th>\n",
       "    </tr>\n",
       "  </thead>\n",
       "  <tbody>\n",
       "    <tr>\n",
       "      <th>0</th>\n",
       "      <td>Summer Sale</td>\n",
       "    </tr>\n",
       "    <tr>\n",
       "      <th>1</th>\n",
       "      <td>Back to School</td>\n",
       "    </tr>\n",
       "    <tr>\n",
       "      <th>2</th>\n",
       "      <td>Holiday Special</td>\n",
       "    </tr>\n",
       "    <tr>\n",
       "      <th>3</th>\n",
       "      <td>New Year Campaign</td>\n",
       "    </tr>\n",
       "    <tr>\n",
       "      <th>4</th>\n",
       "      <td>Valentine's Day</td>\n",
       "    </tr>\n",
       "    <tr>\n",
       "      <th>5</th>\n",
       "      <td>Easter Promotions</td>\n",
       "    </tr>\n",
       "    <tr>\n",
       "      <th>6</th>\n",
       "      <td>Spring Clearance</td>\n",
       "    </tr>\n",
       "    <tr>\n",
       "      <th>7</th>\n",
       "      <td>Summer Launch</td>\n",
       "    </tr>\n",
       "    <tr>\n",
       "      <th>8</th>\n",
       "      <td>Black Friday</td>\n",
       "    </tr>\n",
       "    <tr>\n",
       "      <th>9</th>\n",
       "      <td>Cyber Monday</td>\n",
       "    </tr>\n",
       "  </tbody>\n",
       "</table>\n",
       "</div>"
      ],
      "text/plain": [
       "       campaign_name\n",
       "0        Summer Sale\n",
       "1     Back to School\n",
       "2    Holiday Special\n",
       "3  New Year Campaign\n",
       "4    Valentine's Day\n",
       "5  Easter Promotions\n",
       "6   Spring Clearance\n",
       "7      Summer Launch\n",
       "8       Black Friday\n",
       "9       Cyber Monday"
      ]
     },
     "execution_count": 18,
     "metadata": {},
     "output_type": "execute_result"
    }
   ],
   "source": [
    "df[['campaign_name']] # This will be of type Dataframe"
   ]
  },
  {
   "cell_type": "code",
   "execution_count": 20,
   "id": "880d6de9-1250-4c5f-a796-0543030afb7c",
   "metadata": {},
   "outputs": [
    {
     "data": {
      "text/html": [
       "<div>\n",
       "<style scoped>\n",
       "    .dataframe tbody tr th:only-of-type {\n",
       "        vertical-align: middle;\n",
       "    }\n",
       "\n",
       "    .dataframe tbody tr th {\n",
       "        vertical-align: top;\n",
       "    }\n",
       "\n",
       "    .dataframe thead th {\n",
       "        text-align: right;\n",
       "    }\n",
       "</style>\n",
       "<table border=\"1\" class=\"dataframe\">\n",
       "  <thead>\n",
       "    <tr style=\"text-align: right;\">\n",
       "      <th></th>\n",
       "      <th>campaign_name</th>\n",
       "      <th>start_date</th>\n",
       "      <th>end_date</th>\n",
       "      <th>impressions</th>\n",
       "    </tr>\n",
       "  </thead>\n",
       "  <tbody>\n",
       "    <tr>\n",
       "      <th>0</th>\n",
       "      <td>Summer Sale</td>\n",
       "      <td>2023-06-01</td>\n",
       "      <td>2023-06-30</td>\n",
       "      <td>12000</td>\n",
       "    </tr>\n",
       "    <tr>\n",
       "      <th>1</th>\n",
       "      <td>Back to School</td>\n",
       "      <td>2023-07-15</td>\n",
       "      <td>2023-08-31</td>\n",
       "      <td>8000</td>\n",
       "    </tr>\n",
       "    <tr>\n",
       "      <th>2</th>\n",
       "      <td>Holiday Special</td>\n",
       "      <td>2023-12-01</td>\n",
       "      <td>2023-12-31</td>\n",
       "      <td>15000</td>\n",
       "    </tr>\n",
       "    <tr>\n",
       "      <th>3</th>\n",
       "      <td>New Year Campaign</td>\n",
       "      <td>2024-01-01</td>\n",
       "      <td>2024-01-31</td>\n",
       "      <td>9500</td>\n",
       "    </tr>\n",
       "    <tr>\n",
       "      <th>4</th>\n",
       "      <td>Valentine's Day</td>\n",
       "      <td>2024-02-01</td>\n",
       "      <td>2024-02-14</td>\n",
       "      <td>11000</td>\n",
       "    </tr>\n",
       "    <tr>\n",
       "      <th>5</th>\n",
       "      <td>Easter Promotions</td>\n",
       "      <td>2024-03-01</td>\n",
       "      <td>2024-03-31</td>\n",
       "      <td>10500</td>\n",
       "    </tr>\n",
       "    <tr>\n",
       "      <th>6</th>\n",
       "      <td>Spring Clearance</td>\n",
       "      <td>2024-04-01</td>\n",
       "      <td>2024-04-30</td>\n",
       "      <td>9000</td>\n",
       "    </tr>\n",
       "    <tr>\n",
       "      <th>7</th>\n",
       "      <td>Summer Launch</td>\n",
       "      <td>2024-06-01</td>\n",
       "      <td>2024-06-30</td>\n",
       "      <td>8500</td>\n",
       "    </tr>\n",
       "    <tr>\n",
       "      <th>8</th>\n",
       "      <td>Black Friday</td>\n",
       "      <td>2024-11-01</td>\n",
       "      <td>2024-11-30</td>\n",
       "      <td>12000</td>\n",
       "    </tr>\n",
       "    <tr>\n",
       "      <th>9</th>\n",
       "      <td>Cyber Monday</td>\n",
       "      <td>2024-11-29</td>\n",
       "      <td>2024-11-29</td>\n",
       "      <td>8000</td>\n",
       "    </tr>\n",
       "  </tbody>\n",
       "</table>\n",
       "</div>"
      ],
      "text/plain": [
       "       campaign_name  start_date    end_date  impressions\n",
       "0        Summer Sale  2023-06-01  2023-06-30        12000\n",
       "1     Back to School  2023-07-15  2023-08-31         8000\n",
       "2    Holiday Special  2023-12-01  2023-12-31        15000\n",
       "3  New Year Campaign  2024-01-01  2024-01-31         9500\n",
       "4    Valentine's Day  2024-02-01  2024-02-14        11000\n",
       "5  Easter Promotions  2024-03-01  2024-03-31        10500\n",
       "6   Spring Clearance  2024-04-01  2024-04-30         9000\n",
       "7      Summer Launch  2024-06-01  2024-06-30         8500\n",
       "8       Black Friday  2024-11-01  2024-11-30        12000\n",
       "9       Cyber Monday  2024-11-29  2024-11-29         8000"
      ]
     },
     "execution_count": 20,
     "metadata": {},
     "output_type": "execute_result"
    }
   ],
   "source": [
    "# Extracting a multiple columns from df - pass the column names as list\n",
    "df[['campaign_name', 'start_date', 'end_date', 'impressions']]"
   ]
  },
  {
   "cell_type": "code",
   "execution_count": 21,
   "id": "96da210e-3858-4c58-976f-5d9629474777",
   "metadata": {},
   "outputs": [],
   "source": [
    "# Writing the file\n",
    "\n",
    "df[['campaign_name', 'start_date', 'end_date', 'impressions']].to_csv(\"dumps/campaign_summary.csv\")"
   ]
  },
  {
   "cell_type": "markdown",
   "id": "d66ec87b-872f-4e73-bc2f-a0e0587a9221",
   "metadata": {},
   "source": [
    "### Loading Data from Web"
   ]
  },
  {
   "cell_type": "code",
   "execution_count": 22,
   "id": "5fe7b3ba-529e-4153-8e38-5b57e133510a",
   "metadata": {},
   "outputs": [],
   "source": [
    "# Pandas can load tables from web by passing the URL as arguments. The return type will be of list of dataframes."
   ]
  },
  {
   "cell_type": "code",
   "execution_count": 23,
   "id": "076caa22-d6a1-4a5e-9f06-334f4535ac23",
   "metadata": {},
   "outputs": [
    {
     "name": "stdout",
     "output_type": "stream",
     "text": [
      "Collecting lxml\n",
      "  Downloading lxml-4.9.3-cp310-cp310-manylinux_2_28_x86_64.whl (7.9 MB)\n",
      "\u001b[2K     \u001b[90m━━━━━━━━━━━━━━━━━━━━━━━━━━━━━━━━━━━━━━━━\u001b[0m \u001b[32m7.9/7.9 MB\u001b[0m \u001b[31m65.3 MB/s\u001b[0m eta \u001b[36m0:00:00\u001b[0m00:01\u001b[0m00:01\u001b[0m\n",
      "\u001b[?25hInstalling collected packages: lxml\n",
      "Successfully installed lxml-4.9.3\n",
      "Note: you may need to restart the kernel to use updated packages.\n"
     ]
    }
   ],
   "source": [
    "pip install lxml"
   ]
  },
  {
   "cell_type": "code",
   "execution_count": 24,
   "id": "a96a9207-bed9-436c-bc8d-f310e80eea99",
   "metadata": {},
   "outputs": [],
   "source": [
    "import lxml"
   ]
  },
  {
   "cell_type": "code",
   "execution_count": 25,
   "id": "8e11c11f-262a-4208-b246-7e3cd124e34e",
   "metadata": {},
   "outputs": [],
   "source": [
    "karnataka_election_2023 = pd.read_html(\"https://en.wikipedia.org/wiki/2023_Karnataka_Legislative_Assembly_election\")"
   ]
  },
  {
   "cell_type": "code",
   "execution_count": 26,
   "id": "0200529f-e237-4bb4-a55e-2fd5ab29c7ea",
   "metadata": {},
   "outputs": [
    {
     "data": {
      "text/plain": [
       "24"
      ]
     },
     "execution_count": 26,
     "metadata": {},
     "output_type": "execute_result"
    }
   ],
   "source": [
    "len(karnataka_election_2023)"
   ]
  },
  {
   "cell_type": "code",
   "execution_count": 31,
   "id": "0e75890e-5cb6-48c3-a3a4-2f980cb3677c",
   "metadata": {},
   "outputs": [],
   "source": [
    "result_by_district = karnataka_election_2023[18]\n",
    "detailed_result = karnataka_election_2023[19]"
   ]
  },
  {
   "cell_type": "code",
   "execution_count": 34,
   "id": "1ce60d91-a9c2-444a-89fc-d50c053376c9",
   "metadata": {},
   "outputs": [
    {
     "data": {
      "text/plain": [
       "MultiIndex([(    'District',  'District',              'Margin'),\n",
       "            ('Constituency',       'No.',  'Unnamed: 1_level_2'),\n",
       "            ('Constituency',      'Name',  'Unnamed: 2_level_2'),\n",
       "            (      'Winner', 'Candidate',  'Unnamed: 3_level_2'),\n",
       "            (      'Winner',     'Party',  'Unnamed: 4_level_2'),\n",
       "            (      'Winner',     'Party',  'Unnamed: 5_level_2'),\n",
       "            (      'Winner',     'Votes',  'Unnamed: 6_level_2'),\n",
       "            (      'Winner',         '%',  'Unnamed: 7_level_2'),\n",
       "            (   'Runner Up', 'Candidate',  'Unnamed: 8_level_2'),\n",
       "            (   'Runner Up',     'Party',  'Unnamed: 9_level_2'),\n",
       "            (   'Runner Up',     'Party', 'Unnamed: 10_level_2'),\n",
       "            (   'Runner Up',     'Votes', 'Unnamed: 11_level_2'),\n",
       "            (   'Runner Up',         '%', 'Unnamed: 12_level_2'),\n",
       "            (      'Margin',    'Margin', 'Unnamed: 13_level_2')],\n",
       "           )"
      ]
     },
     "execution_count": 34,
     "metadata": {},
     "output_type": "execute_result"
    }
   ],
   "source": [
    "detailed_result.columns"
   ]
  },
  {
   "cell_type": "code",
   "execution_count": 35,
   "id": "58c32a3d-cc58-4b25-a1ee-1d3651eb7c86",
   "metadata": {},
   "outputs": [],
   "source": [
    "result_by_district.to_csv(\"dumps/result_by_district.csv\")"
   ]
  },
  {
   "cell_type": "code",
   "execution_count": 37,
   "id": "31cd9b8e-eeae-4fcb-a8eb-1db2bcd785e7",
   "metadata": {},
   "outputs": [],
   "source": [
    "detailed_result.to_csv(\"dumps/detailed_result.csv\")"
   ]
  },
  {
   "cell_type": "code",
   "execution_count": null,
   "id": "26c5d4b8-f82b-49da-8b13-69b4eeeddb41",
   "metadata": {},
   "outputs": [],
   "source": []
  }
 ],
 "metadata": {
  "kernelspec": {
   "display_name": "Python 3 (ipykernel)",
   "language": "python",
   "name": "python3"
  },
  "language_info": {
   "codemirror_mode": {
    "name": "ipython",
    "version": 3
   },
   "file_extension": ".py",
   "mimetype": "text/x-python",
   "name": "python",
   "nbconvert_exporter": "python",
   "pygments_lexer": "ipython3",
   "version": "3.10.8"
  }
 },
 "nbformat": 4,
 "nbformat_minor": 5
}
