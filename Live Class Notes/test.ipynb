{
 "cells": [
  {
   "cell_type": "code",
   "execution_count": 2,
   "metadata": {},
   "outputs": [],
   "source": [
    "a = [1,2,[1,2,3], 1.2]\n",
    "b = ['hello', '1', 1, 2.3]"
   ]
  },
  {
   "cell_type": "code",
   "execution_count": 3,
   "metadata": {},
   "outputs": [
    {
     "data": {
      "text/plain": [
       "88"
      ]
     },
     "execution_count": 3,
     "metadata": {},
     "output_type": "execute_result"
    }
   ],
   "source": [
    "from sys import getsizeof\n",
    "\n",
    "getsizeof(a)"
   ]
  },
  {
   "cell_type": "code",
   "execution_count": 4,
   "metadata": {},
   "outputs": [
    {
     "data": {
      "text/plain": [
       "88"
      ]
     },
     "execution_count": 4,
     "metadata": {},
     "output_type": "execute_result"
    }
   ],
   "source": [
    "getsizeof(b)"
   ]
  },
  {
   "cell_type": "code",
   "execution_count": 5,
   "metadata": {},
   "outputs": [
    {
     "data": {
      "text/plain": [
       "72"
      ]
     },
     "execution_count": 5,
     "metadata": {},
     "output_type": "execute_result"
    }
   ],
   "source": [
    "c = (1,2,[1,2,3], 1.2)\n",
    "getsizeof(c)"
   ]
  },
  {
   "cell_type": "code",
   "execution_count": 7,
   "metadata": {},
   "outputs": [
    {
     "data": {
      "text/plain": [
       "{0: 12, 1: 8, 2: 3}"
      ]
     },
     "execution_count": 7,
     "metadata": {},
     "output_type": "execute_result"
    }
   ],
   "source": [
    "a = {\n",
    "    0 : 12,\n",
    "    1 : 8,\n",
    "    2 : 3\n",
    "}\n",
    "a"
   ]
  },
  {
   "cell_type": "code",
   "execution_count": 8,
   "metadata": {},
   "outputs": [
    {
     "data": {
      "text/plain": [
       "8"
      ]
     },
     "execution_count": 8,
     "metadata": {},
     "output_type": "execute_result"
    }
   ],
   "source": [
    "a[1]"
   ]
  },
  {
   "cell_type": "code",
   "execution_count": 3,
   "metadata": {},
   "outputs": [],
   "source": [
    "l1 = [2, -1, 3, 4, -3, 6]\n",
    "l2 = [2, -6, 3, 4, -5]\n",
    "l3 = [-7, -9, -3, -5]"
   ]
  },
  {
   "cell_type": "code",
   "execution_count": 16,
   "metadata": {},
   "outputs": [],
   "source": [
    "def max_sum_sub_array(numbers):\n",
    "\n",
    "    max_sum = numbers[0]\n",
    "\n",
    "    for anchor_index in range(len(numbers)):\n",
    "        iteration_sum = numbers[anchor_index]\n",
    "        max_iteration_sum = numbers[anchor_index]\n",
    "\n",
    "        for floating_index in range(anchor_index + 1, len(numbers)):\n",
    "            if iteration_sum + numbers[floating_index] < 0:\n",
    "                break\n",
    "            iteration_sum += numbers[floating_index]\n",
    "            if iteration_sum > max_iteration_sum:\n",
    "                max_iteration_sum = iteration_sum\n",
    "\n",
    "        if max_iteration_sum > max_sum:\n",
    "            max_sum = max_iteration_sum\n",
    "\n",
    "    return max_sum"
   ]
  },
  {
   "cell_type": "code",
   "execution_count": 19,
   "metadata": {},
   "outputs": [
    {
     "name": "stdout",
     "output_type": "stream",
     "text": [
      "-7\n",
      "[-7, -9]\n",
      "Max Iteration Sum = : -7\n",
      "-9\n",
      "[-9, -3]\n",
      "Max Iteration Sum = : -9\n",
      "-3\n",
      "[-3, -5]\n",
      "Max Iteration Sum = : -3\n",
      "-5\n",
      "Max Iteration Sum = : -5\n",
      "-3\n"
     ]
    }
   ],
   "source": [
    "print(max_sum_sub_array(l3))"
   ]
  },
  {
   "cell_type": "code",
   "execution_count": 1,
   "metadata": {},
   "outputs": [
    {
     "name": "stdout",
     "output_type": "stream",
     "text": [
      "[(4, 5), (6, 9), (8, 13), (11, 76)]\n"
     ]
    }
   ],
   "source": [
    "l1 = [(4,5), (6, 9), (8,13), (11,76)]\n",
    "l1.sort()\n",
    "print(l1)"
   ]
  },
  {
   "cell_type": "code",
   "execution_count": 3,
   "metadata": {},
   "outputs": [
    {
     "name": "stdout",
     "output_type": "stream",
     "text": [
      "[(11, 76), (8, 13), (6, 9), (4, 5)]\n"
     ]
    }
   ],
   "source": [
    "l1.sort(key = lambda x : x[1], reverse=True)\n",
    "print(l1)"
   ]
  },
  {
   "cell_type": "markdown",
   "metadata": {},
   "source": [
    "##### Exception Handling"
   ]
  },
  {
   "cell_type": "code",
   "execution_count": 9,
   "metadata": {},
   "outputs": [
    {
     "name": "stdout",
     "output_type": "stream",
     "text": [
      "Something went wrong : unsupported operand type(s) for +: 'int' and 'str'\n",
      "<class 'TypeError'>\n",
      "5\n"
     ]
    }
   ],
   "source": [
    "a = 5\n",
    "\n",
    "try:\n",
    "    a = a + 'abc' # type: ignore\n",
    "except Exception as e:\n",
    "    print(f\"Something went wrong : {e}\")\n",
    "    print(type(e))\n",
    "finally:\n",
    "    print(a)"
   ]
  },
  {
   "cell_type": "code",
   "execution_count": 1,
   "metadata": {},
   "outputs": [],
   "source": [
    "class InvalidAgeException(Exception):\n",
    "    def __init__(self, message=\"Invalid age\"):\n",
    "        self.message = message\n",
    "    \n",
    "    def __repr__(self):\n",
    "        return f'{self.message}'"
   ]
  },
  {
   "cell_type": "code",
   "execution_count": 2,
   "metadata": {},
   "outputs": [
    {
     "name": "stdout",
     "output_type": "stream",
     "text": [
      "\n"
     ]
    }
   ],
   "source": [
    "age = 13\n",
    "\n",
    "try:\n",
    "    if age < 18:\n",
    "        raise InvalidAgeException()\n",
    "    else:\n",
    "        print(\"Eligible to vote\")\n",
    "except InvalidAgeException as e:\n",
    "    print(e)\n"
   ]
  },
  {
   "cell_type": "code",
   "execution_count": 18,
   "metadata": {},
   "outputs": [],
   "source": [
    "class Test:\n",
    "    def __init__(self, name):\n",
    "        self.name = name\n",
    "    \n",
    "    def __repr__(self):\n",
    "        return f'This is a {self.name} test object'"
   ]
  },
  {
   "cell_type": "code",
   "execution_count": 20,
   "metadata": {},
   "outputs": [],
   "source": [
    "test1 = Test(\"First\")\n",
    "test2 = Test(\"Second\")"
   ]
  },
  {
   "cell_type": "code",
   "execution_count": 22,
   "metadata": {},
   "outputs": [
    {
     "name": "stdout",
     "output_type": "stream",
     "text": [
      "This is a First test object\n"
     ]
    }
   ],
   "source": [
    "print(test1)"
   ]
  },
  {
   "cell_type": "code",
   "execution_count": 28,
   "metadata": {},
   "outputs": [],
   "source": [
    "class Subtest(Test):\n",
    "    def __init__(self, name, sub_name):\n",
    "        self.sub_name = sub_name\n",
    "        super().__init__(name)\n",
    "    \n",
    "    def __repr__(self):\n",
    "        return f'This is {self.sub_name} sub test object of {self.name} test object'"
   ]
  },
  {
   "cell_type": "code",
   "execution_count": 29,
   "metadata": {},
   "outputs": [],
   "source": [
    "test12 = Subtest('first', 'second')"
   ]
  },
  {
   "cell_type": "code",
   "execution_count": 30,
   "metadata": {},
   "outputs": [
    {
     "name": "stdout",
     "output_type": "stream",
     "text": [
      "This is second sub test object of first test object\n"
     ]
    }
   ],
   "source": [
    "print(test12)"
   ]
  },
  {
   "cell_type": "code",
   "execution_count": 35,
   "metadata": {},
   "outputs": [],
   "source": [
    "test12_dict = test12.__dict__\n"
   ]
  },
  {
   "cell_type": "code",
   "execution_count": 36,
   "metadata": {},
   "outputs": [],
   "source": [
    "import json"
   ]
  },
  {
   "cell_type": "code",
   "execution_count": 38,
   "metadata": {},
   "outputs": [
    {
     "name": "stdout",
     "output_type": "stream",
     "text": [
      "\"{\\n    \\\"sub_name\\\": \\\"second\\\",\\n    \\\"name\\\": \\\"first\\\"\\n}\"\n"
     ]
    }
   ],
   "source": [
    "test12_dict = json.dumps(test12_dict, indent=4)\n",
    "print(test12_dict)"
   ]
  },
  {
   "cell_type": "code",
   "execution_count": 39,
   "metadata": {},
   "outputs": [],
   "source": [
    "def func(a,b):\n",
    "    # Using Global variable T\n",
    "    global T\n",
    "    # Modify T\n",
    "    T = a+b\n",
    "    # Swap a and b\n",
    "    a,b = b,a"
   ]
  },
  {
   "cell_type": "code",
   "execution_count": 40,
   "metadata": {},
   "outputs": [
    {
     "name": "stdout",
     "output_type": "stream",
     "text": [
      "Values before Calculation:\n",
      "T : 0\n",
      "a : 10\n",
      "b : 20\n",
      "Values after Calculation:\n",
      "T : 30\n",
      "a : 10\n",
      "b : 20\n"
     ]
    }
   ],
   "source": [
    "T = 0\n",
    "a = 10\n",
    "b = 20\n",
    "\n",
    "# Values before calculation\n",
    "print(f\"Values before Calculation:\\nT : {T}\\na : {a}\\nb : {b}\")\n",
    "\n",
    "# Call the func calculation\n",
    "func(a, b)\n",
    "\n",
    "# Values before calculation\n",
    "print(f\"Values after Calculation:\\nT : {T}\\na : {a}\\nb : {b}\")"
   ]
  },
  {
   "cell_type": "code",
   "execution_count": 43,
   "metadata": {},
   "outputs": [],
   "source": [
    "def sort_by_len(los):\n",
    "    return sorted(los, key=len)"
   ]
  },
  {
   "cell_type": "code",
   "execution_count": 48,
   "metadata": {},
   "outputs": [
    {
     "name": "stdout",
     "output_type": "stream",
     "text": [
      "['n', 'sjd', 'sjded', 'dxnhdhjud', 'msjeindhdjndhjdndh']\n"
     ]
    },
    {
     "ename": "IndexError",
     "evalue": "list index out of range",
     "output_type": "error",
     "traceback": [
      "\u001b[0;31m---------------------------------------------------------------------------\u001b[0m",
      "\u001b[0;31mIndexError\u001b[0m                                Traceback (most recent call last)",
      "\u001b[1;32m/Users/kkshetty/Documents/PWS_DSM/Data_Science_Masters/Live Class Notes/test.ipynb Cell 28\u001b[0m line \u001b[0;36m3\n\u001b[1;32m      <a href='vscode-notebook-cell:/Users/kkshetty/Documents/PWS_DSM/Data_Science_Masters/Live%20Class%20Notes/test.ipynb#X41sZmlsZQ%3D%3D?line=0'>1</a>\u001b[0m strings \u001b[39m=\u001b[39m [\u001b[39m'\u001b[39m\u001b[39mdxnhdhjud\u001b[39m\u001b[39m'\u001b[39m, \u001b[39m'\u001b[39m\u001b[39msjd\u001b[39m\u001b[39m'\u001b[39m, \u001b[39m'\u001b[39m\u001b[39msjded\u001b[39m\u001b[39m'\u001b[39m, \u001b[39m'\u001b[39m\u001b[39mmsjeindhdjndhjdndh\u001b[39m\u001b[39m'\u001b[39m, \u001b[39m'\u001b[39m\u001b[39mn\u001b[39m\u001b[39m'\u001b[39m]\n\u001b[1;32m      <a href='vscode-notebook-cell:/Users/kkshetty/Documents/PWS_DSM/Data_Science_Masters/Live%20Class%20Notes/test.ipynb#X41sZmlsZQ%3D%3D?line=1'>2</a>\u001b[0m \u001b[39mprint\u001b[39m(sort_by_len(strings))\n\u001b[0;32m----> <a href='vscode-notebook-cell:/Users/kkshetty/Documents/PWS_DSM/Data_Science_Masters/Live%20Class%20Notes/test.ipynb#X41sZmlsZQ%3D%3D?line=2'>3</a>\u001b[0m string7 \u001b[39m=\u001b[39m strings[\u001b[39m7\u001b[39;49m]\n",
      "\u001b[0;31mIndexError\u001b[0m: list index out of range"
     ]
    }
   ],
   "source": [
    "strings = ['dxnhdhjud', 'sjd', 'sjded', 'msjeindhdjndhjdndh', 'n']\n",
    "print(sort_by_len(strings))\n",
    "string7 = strings[7]\n"
   ]
  },
  {
   "cell_type": "code",
   "execution_count": 47,
   "metadata": {},
   "outputs": [
    {
     "ename": "IndexError",
     "evalue": "list index out of range",
     "output_type": "error",
     "traceback": [
      "\u001b[0;31m---------------------------------------------------------------------------\u001b[0m",
      "\u001b[0;31mIndexError\u001b[0m                                Traceback (most recent call last)",
      "\u001b[1;32m/Users/kkshetty/Documents/PWS_DSM/Data_Science_Masters/Live Class Notes/test.ipynb Cell 29\u001b[0m line \u001b[0;36m1\n\u001b[0;32m----> <a href='vscode-notebook-cell:/Users/kkshetty/Documents/PWS_DSM/Data_Science_Masters/Live%20Class%20Notes/test.ipynb#X43sZmlsZQ%3D%3D?line=0'>1</a>\u001b[0m string7 \u001b[39m=\u001b[39m strings[\u001b[39m7\u001b[39;49m]\n",
      "\u001b[0;31mIndexError\u001b[0m: list index out of range"
     ]
    }
   ],
   "source": [
    "string7 = strings[7]"
   ]
  },
  {
   "cell_type": "markdown",
   "metadata": {},
   "source": [
    "strings = ['dhdkjde', ]"
   ]
  },
  {
   "cell_type": "code",
   "execution_count": 45,
   "metadata": {},
   "outputs": [
    {
     "data": {
      "text/plain": [
       "['FrameSummary',\n",
       " 'StackSummary',\n",
       " 'TracebackException',\n",
       " '_Anchors',\n",
       " '_ExceptionPrintContext',\n",
       " '_RECURSIVE_CUTOFF',\n",
       " '_Sentinel',\n",
       " '__all__',\n",
       " '__builtins__',\n",
       " '__cached__',\n",
       " '__doc__',\n",
       " '__file__',\n",
       " '__loader__',\n",
       " '__name__',\n",
       " '__package__',\n",
       " '__spec__',\n",
       " '_byte_offset_to_character_offset',\n",
       " '_cause_message',\n",
       " '_context_message',\n",
       " '_extract_caret_anchors_from_line_segment',\n",
       " '_format_final_exc_line',\n",
       " '_get_code_position',\n",
       " '_parse_value_tb',\n",
       " '_safe_string',\n",
       " '_sentinel',\n",
       " '_walk_tb_with_full_positions',\n",
       " 'clear_frames',\n",
       " 'collections',\n",
       " 'extract_stack',\n",
       " 'extract_tb',\n",
       " 'format_exc',\n",
       " 'format_exception',\n",
       " 'format_exception_only',\n",
       " 'format_list',\n",
       " 'format_stack',\n",
       " 'format_tb',\n",
       " 'itertools',\n",
       " 'linecache',\n",
       " 'print_exc',\n",
       " 'print_exception',\n",
       " 'print_last',\n",
       " 'print_list',\n",
       " 'print_stack',\n",
       " 'print_tb',\n",
       " 'suppress',\n",
       " 'sys',\n",
       " 'textwrap',\n",
       " 'walk_stack',\n",
       " 'walk_tb']"
      ]
     },
     "execution_count": 45,
     "metadata": {},
     "output_type": "execute_result"
    }
   ],
   "source": [
    "import traceback\n",
    "\n",
    "dir(traceback)"
   ]
  },
  {
   "cell_type": "code",
   "execution_count": 52,
   "metadata": {},
   "outputs": [
    {
     "name": "stdout",
     "output_type": "stream",
     "text": [
      "understandable,\n"
     ]
    }
   ],
   "source": [
    "with open('dumps/article.txt', 'r') as file:\n",
    "    file_content = file.read()\n",
    "\n",
    "longest_word = max(file_content.split(), key=len)\n",
    "print(longest_word)"
   ]
  },
  {
   "cell_type": "code",
   "execution_count": 61,
   "metadata": {},
   "outputs": [
    {
     "data": {
      "text/plain": [
       "12"
      ]
     },
     "execution_count": 61,
     "metadata": {},
     "output_type": "execute_result"
    }
   ],
   "source": [
    "int('12')"
   ]
  },
  {
   "cell_type": "code",
   "execution_count": 54,
   "metadata": {},
   "outputs": [
    {
     "ename": "ZeroDivisionError",
     "evalue": "division by zero",
     "output_type": "error",
     "traceback": [
      "\u001b[0;31m---------------------------------------------------------------------------\u001b[0m",
      "\u001b[0;31mZeroDivisionError\u001b[0m                         Traceback (most recent call last)",
      "\u001b[1;32m/Users/kkshetty/Documents/PWS_DSM/Data_Science_Masters/Live Class Notes/test.ipynb Cell 34\u001b[0m line \u001b[0;36m1\n\u001b[0;32m----> <a href='vscode-notebook-cell:/Users/kkshetty/Documents/PWS_DSM/Data_Science_Masters/Live%20Class%20Notes/test.ipynb#X46sZmlsZQ%3D%3D?line=0'>1</a>\u001b[0m \u001b[39m10\u001b[39;49m\u001b[39m/\u001b[39;49m\u001b[39m0\u001b[39;49m\n",
      "\u001b[0;31mZeroDivisionError\u001b[0m: division by zero"
     ]
    }
   ],
   "source": [
    "10/0"
   ]
  },
  {
   "cell_type": "code",
   "execution_count": 63,
   "metadata": {},
   "outputs": [
    {
     "data": {
      "text/plain": [
       "-2.0"
      ]
     },
     "execution_count": 63,
     "metadata": {},
     "output_type": "execute_result"
    }
   ],
   "source": [
    "12.0//-6.0"
   ]
  },
  {
   "cell_type": "code",
   "execution_count": 66,
   "metadata": {},
   "outputs": [
    {
     "name": "stdout",
     "output_type": "stream",
     "text": [
      "Simple division excercise\n",
      "INPUT ERROR: Denominator cannot be zero\n"
     ]
    }
   ],
   "source": [
    "def devide(numerator, denomenator):\n",
    "    try:\n",
    "        result = numerator / denomenator\n",
    "        quotient = numerator // denomenator\n",
    "        remainder = numerator % denomenator\n",
    "    except ZeroDivisionError as e:\n",
    "        print(\"INPUT ERROR: Denominator cannot be zero\")\n",
    "    else:\n",
    "        print(f\"{numerator}/{denomenator} = {result}\\nQuotient = {quotient}\\nRemainder={remainder}\")\n",
    "\n",
    "# Take input from user\n",
    "print(\"Simple division excercise\")\n",
    "try:\n",
    "    num = float(input(\"Enter the value for numerator: \"))\n",
    "    denom = float(input(\"Enter the value for denominator: \"))\n",
    "except ValueError as e:\n",
    "    print(\"Value Error: Please enter only numeric values\")\n",
    "else:\n",
    "    devide(num, denom)\n"
   ]
  },
  {
   "cell_type": "code",
   "execution_count": 79,
   "metadata": {},
   "outputs": [
    {
     "name": "stdout",
     "output_type": "stream",
     "text": [
      "{\n",
      "    \"car\": {\n",
      "        \"make\": \"Toyota\",\n",
      "        \"model\": \"Camry\",\n",
      "        \"year\": 2023,\n",
      "        \"color\": \"Silver\",\n",
      "        \"fuelType\": \"Gasoline\",\n",
      "        \"transmission\": \"Automatic\",\n",
      "        \"engine\": {\n",
      "            \"type\": \"Inline-4\",\n",
      "            \"displacement\": \"2.5 liters\",\n",
      "            \"horsepower\": 203\n",
      "        },\n",
      "        \"features\": [\n",
      "            \"Bluetooth connectivity\",\n",
      "            \"Backup camera\",\n",
      "            \"Cruise control\",\n",
      "            \"Keyless entry\",\n",
      "            \"Power windows\"\n",
      "        ]\n",
      "    }\n",
      "}\n"
     ]
    }
   ],
   "source": [
    "# Import json module to load json file\n",
    "import json\n",
    "\n",
    "# Open the json file and load the json to a dictionary\n",
    "with open('dumps/camry.json', 'r') as json_file:\n",
    "    car = json.load(json_file)\n",
    "\n",
    "# Display the dictionary\n",
    "car = json.dumps(car, indent=4)\n",
    "print(car)"
   ]
  },
  {
   "cell_type": "code",
   "execution_count": 78,
   "metadata": {},
   "outputs": [
    {
     "name": "stdout",
     "output_type": "stream",
     "text": [
      "{'car': {'make': 'Toyota', 'model': 'Camry', 'year': 2023, 'color': 'Silver', 'fuelType': 'Gasoline', 'transmission': 'Automatic', 'engine': {'type': 'Inline-4', 'displacement': '2.5 liters', 'horsepower': 203}, 'features': ['Bluetooth connectivity', 'Backup camera', 'Cruise control', 'Keyless entry', 'Power windows']}}\n",
      "{\n",
      "    \"car\": {\n",
      "        \"make\": \"Toyota\",\n",
      "        \"model\": \"Camry\",\n",
      "        \"year\": 2023,\n",
      "        \"color\": \"Silver\",\n",
      "        \"fuelType\": \"Gasoline\",\n",
      "        \"transmission\": \"Automatic\",\n",
      "        \"engine\": {\n",
      "            \"type\": \"Inline-4\",\n",
      "            \"displacement\": \"2.5 liters\",\n",
      "            \"horsepower\": 203\n",
      "        },\n",
      "        \"features\": [\n",
      "            \"Bluetooth connectivity\",\n",
      "            \"Backup camera\",\n",
      "            \"Cruise control\",\n",
      "            \"Keyless entry\",\n",
      "            \"Power windows\"\n",
      "        ]\n",
      "    }\n",
      "}\n"
     ]
    }
   ],
   "source": [
    "with open('dumps/camry.json', 'r') as json_file:\n",
    "    car = json.load(json_file)\n",
    "\n",
    "# with open('dumps/car_write.json', 'w') as write_file:\n",
    "#     json.dump(car, write_file, indent=4, separators=(',', ':'))\n",
    "\n",
    "print(car)\n",
    "car = json.dumps(car, indent=4)\n",
    "print(car)"
   ]
  },
  {
   "cell_type": "code",
   "execution_count": 1,
   "metadata": {},
   "outputs": [
    {
     "name": "stdout",
     "output_type": "stream",
     "text": [
      "53524680.0\n"
     ]
    }
   ],
   "source": [
    "import math\n",
    "\n",
    "a = math.factorial(46)\n",
    "b = math.factorial(39)\n",
    "c = math.factorial(7)\n",
    "\n",
    "d = a/(b*c)\n",
    "\n",
    "print(d)"
   ]
  },
  {
   "cell_type": "code",
   "execution_count": 4,
   "metadata": {},
   "outputs": [
    {
     "name": "stdout",
     "output_type": "stream",
     "text": [
      "53524680.0\n"
     ]
    }
   ],
   "source": [
    "num = (46*45*44*43*42*41*40)\n",
    "den = (7*6*5*4*3*2*1)\n",
    "print(num/den)"
   ]
  },
  {
   "cell_type": "code",
   "execution_count": 5,
   "metadata": {},
   "outputs": [
    {
     "name": "stdout",
     "output_type": "stream",
     "text": [
      "0.07546425312584774\n"
     ]
    }
   ],
   "source": [
    "result = (math.comb(12,3) * math.comb(16,2) * math.comb(18,2)) / (math.comb(46,7))\n",
    "print(result)"
   ]
  },
  {
   "cell_type": "code",
   "execution_count": 7,
   "metadata": {},
   "outputs": [
    {
     "data": {
      "text/plain": [
       "0.031160772001108134"
      ]
     },
     "execution_count": 7,
     "metadata": {},
     "output_type": "execute_result"
    }
   ],
   "source": [
    "(math.comb(48,13)/math.comb(52,13)) * (4/39)"
   ]
  },
  {
   "cell_type": "code",
   "execution_count": null,
   "metadata": {},
   "outputs": [],
   "source": []
  },
  {
   "cell_type": "code",
   "execution_count": null,
   "metadata": {},
   "outputs": [],
   "source": []
  }
 ],
 "metadata": {
  "kernelspec": {
   "display_name": "Python 3",
   "language": "python",
   "name": "python3"
  },
  "language_info": {
   "codemirror_mode": {
    "name": "ipython",
    "version": 3
   },
   "file_extension": ".py",
   "mimetype": "text/x-python",
   "name": "python",
   "nbconvert_exporter": "python",
   "pygments_lexer": "ipython3",
   "version": "3.11.4"
  },
  "orig_nbformat": 4
 },
 "nbformat": 4,
 "nbformat_minor": 2
}
